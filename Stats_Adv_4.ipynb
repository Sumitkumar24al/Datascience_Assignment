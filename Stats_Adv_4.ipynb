{
 "cells": [
  {
   "cell_type": "markdown",
   "id": "146d9638-52ce-4272-891f-978067ab0b3d",
   "metadata": {},
   "source": [
    "### Ques 1"
   ]
  },
  {
   "cell_type": "markdown",
   "id": "16eb8799-c94d-4e5b-9db8-fac7d81373af",
   "metadata": {},
   "source": [
    "The key difference between a t-test and a z-test lies in the type of data and the sample size. Both tests are used for hypothesis testing about population means. However, the choice between t-test and z-test depends on whether the population standard deviation is known and the sample size.\n",
    "\n",
    "T-test: Used when the population standard deviation is unknown or when the sample size is small. There are two main types: one-sample t-test, independent two-sample t-test, and paired (dependent) two-sample t-test. Example: Testing whether a new drug has an effect on blood pressure in a small sample of patients.\n",
    "\n",
    "Z-test: Used when the population standard deviation is known and the sample size is large (typically above 30). Example: Testing whether the average height of a population is significantly different from a known standard height when you have a large dataset."
   ]
  },
  {
   "cell_type": "markdown",
   "id": "aa630410-12f4-4be5-bf62-0e32d41879a4",
   "metadata": {},
   "source": [
    "### Ques 2"
   ]
  },
  {
   "cell_type": "markdown",
   "id": "f5ce8ab6-062a-4af7-aa84-9d1536cac269",
   "metadata": {},
   "source": [
    "- One-tailed test: It tests the hypothesis in one direction only (greater than or less than). Example: Testing whether a new teaching method improves test scores compared to the old method.\n",
    "- Two-tailed test: It tests the hypothesis in both directions (greater than and less than). Example: Testing whether a new drug has any effect on a disease."
   ]
  },
  {
   "cell_type": "markdown",
   "id": "9d0a6458-5854-4099-99ec-118d65dbdef4",
   "metadata": {},
   "source": [
    "### Ques 3"
   ]
  },
  {
   "cell_type": "markdown",
   "id": "6f4f84c9-30af-4079-b042-a18acce77970",
   "metadata": {},
   "source": [
    "- Type 1 error (False Positive): Occurs when you reject a true null hypothesis. This is also called a \"false alarm.\" \n",
    "- Type 2 error (False Negative): Occurs when you fail to reject a false null hypothesis. This is also called a \"miss.\" \n",
    "\n",
    "An example of a Type 1 error is to conclude that there is a difference in the average test scores of group A and group B when there is actually no difference. An example of a Type 2 error is to conclude that there is no difference in the average test scores of group A and group B when there actually is a difference."
   ]
  },
  {
   "cell_type": "markdown",
   "id": "528e959e-4eb5-4a4b-af10-0666d91fcc4a",
   "metadata": {},
   "source": [
    "### Ques 4"
   ]
  },
  {
   "cell_type": "markdown",
   "id": "cfaae9fe-9455-48aa-8f3e-b982e2d9c6b2",
   "metadata": {},
   "source": [
    "Bayes's theorem is a formula that can be used to update the probability of an event based on new information.\n",
    "\n",
    "For example, let's say you know that 10% of the population has a certain disease. You also know that a test for the disease has a 90% accuracy rate. This means that if you have the disease, the test will be positive 90% of the time. And if you don't have the disease, the test will be negative 90% of the time.\n",
    "\n",
    "Now, let's say you take the test and it is positive. What is the probability that you actually have the disease?\n",
    "\n",
    "Using Bayes's theorem, we can calculate that the probability of having the disease given a positive test result is 56.25%. This is because the probability of a positive test result is 90%, and the probability of having the disease given a positive test result is 10%."
   ]
  },
  {
   "cell_type": "markdown",
   "id": "646cda19-4876-4f39-a462-63510ccbe4e8",
   "metadata": {},
   "source": [
    "### Ques 5"
   ]
  },
  {
   "cell_type": "markdown",
   "id": "768d4fe8-a372-416d-a2bd-e8fc6940b179",
   "metadata": {},
   "source": [
    "A confidence interval is a range of values that is likely to contain the true population mean. The confidence interval is calculated by taking the sample mean and adding or subtracting a margin of error.\n",
    "\n",
    "The margin of error is calculated using the following formula:\n",
    "\n",
    "margin of error = z * standard error of the mean\n",
    "where:\n",
    "\n",
    "z is the z-score for the desired confidence level\n",
    "standard error of the mean is the standard deviation of the sample divided by the square root of the sample size\n",
    "For example, let's say we want to calculate a 95% confidence interval for the average height of adult males. The z-score for a 95% confidence level is 1.96. The standard error of the mean is 2 inches.\n",
    "\n",
    "Plugging these values into the formula, we get a margin of error of 1.96 inches.\n",
    "\n",
    "The confidence interval is then calculated by taking the sample mean and adding and subtracting the margin of error. In this case, the confidence interval is 67.04 to 68.96 inches.\n",
    "\n",
    "This means that we are 95% confident that the true population mean height of adult males is within the range of 67.04 to 68.96 inches."
   ]
  },
  {
   "cell_type": "markdown",
   "id": "39ba0b72-e05a-4b53-9386-c5da2331ac27",
   "metadata": {},
   "source": [
    "### Ques 6"
   ]
  },
  {
   "cell_type": "markdown",
   "id": "4bb9ed6a-e57c-46f3-a006-f226238110ce",
   "metadata": {},
   "source": [
    "Bayes' Theorem is a fundamental concept in probability theory and statistics used to update our beliefs about the probability of an event occurring when we have new evidence. "
   ]
  },
  {
   "cell_type": "markdown",
   "id": "984c8a14-fea6-4be1-8d20-bbae52483643",
   "metadata": {},
   "source": [
    "Problem:\n",
    "\n",
    "A doctor is testing a new blood test for cancer. The blood test is 90% accurate in detecting cancer when a person actually has cancer. However, the blood test is also 10% accurate in detecting cancer when a person does not actually have cancer.\n",
    "\n",
    "The doctor knows that 1% of the population has cancer. If the blood test for a patient is positive, what is the probability that the patient actually has cancer?\n",
    "\n",
    "Solution:\n",
    "\n",
    "We can use Bayes' Theorem to calculate the probability that the patient actually has cancer given that the blood test is positive. Bayes' Theorem states that the probability of event A occurring given event B is equal to the probability of event A and event B occurring divided by the probability of event B occurring.\n",
    "\n",
    "In this case, event A is the patient having cancer and event B is the blood test being positive.\n",
    "\n",
    "The probability of event A and event B occurring is equal to the probability of the blood test being positive given that the patient has cancer times the probability of the patient having cancer.\n",
    "\n",
    "The probability of the blood test being positive given that the patient has cancer is 90%.\n",
    "\n",
    "The probability of the patient having cancer is 1%.\n",
    "The probability of event B occurring is equal to the probability of the blood test being positive given that the patient does not have cancer plus the probability of the blood test being positive given that the patient does have cancer.\n",
    "\n",
    "The probability of the blood test being positive given that the patient does not have cancer is 10%.\n",
    "\n",
    "The probability of the blood test being positive given that the patient does have cancer is 90%.\n",
    "\n",
    "Therefore, the probability of the patient actually having cancer given that the blood test is positive is equal to (90% * 1%) / (90% * 1% + 10% * 99%) = 9%.\n",
    "\n",
    "In other words, there is a 9% chance that the patient actually has cancer if the blood test is positive."
   ]
  },
  {
   "cell_type": "markdown",
   "id": "4c63f71a-e7a8-4cf7-8be1-896283e09bca",
   "metadata": {},
   "source": [
    "### Ques 7"
   ]
  },
  {
   "cell_type": "code",
   "execution_count": 1,
   "id": "df7ffe10-966b-4898-86f3-a63cd8cc9409",
   "metadata": {},
   "outputs": [
    {
     "name": "stdout",
     "output_type": "stream",
     "text": [
      "(40.200180077299734, 59.799819922700266)\n"
     ]
    }
   ],
   "source": [
    "import numpy as np\n",
    "import scipy.stats as stats\n",
    "\n",
    "mean=50\n",
    "std=5\n",
    "confidence_level=0.95\n",
    "\n",
    "z_score = stats.norm.ppf(1 - (1 - confidence_level) / 2)\n",
    "\n",
    "confidance_interval=(mean-z_score*std,mean+z_score*std)\n",
    "\n",
    "print(confidance_interval)"
   ]
  },
  {
   "cell_type": "markdown",
   "id": "029849fb-9be9-4db5-a304-37c8c874511d",
   "metadata": {},
   "source": [
    "### Ques 8"
   ]
  },
  {
   "cell_type": "markdown",
   "id": "9298a99e-3394-4446-9dbd-f508ffd85112",
   "metadata": {},
   "source": [
    "\n",
    "The margin of error in a confidence interval is the amount of uncertainty that is associated with the estimate. It is calculated by taking the standard deviation of the sample and multiplying it by the z-score for the desired confidence level.\n",
    "\n",
    "The sample size affects the margin of error in a way that is inversely proportional. This means that as the sample size increases, the margin of error decreases."
   ]
  },
  {
   "cell_type": "code",
   "execution_count": 2,
   "id": "a2222e5d-2107-4fa4-803b-10f22bd3bf77",
   "metadata": {},
   "outputs": [
    {
     "name": "stdout",
     "output_type": "stream",
     "text": [
      "Margin of error for sample size of 100: 1.9599639845400538\n",
      "Margin of error for sample size of 300: 1.1315857340761715\n"
     ]
    }
   ],
   "source": [
    "import numpy as np\n",
    "import scipy.stats as st\n",
    "\n",
    "mean=50\n",
    "std=10\n",
    "CI=0.95\n",
    "\n",
    "MOE_100=st.norm.ppf(1 - (1 -CI) / 2)*std/np.sqrt(100)\n",
    "MOE_300=st.norm.ppf(1-(1-CI)/2)*std/np.sqrt(300)\n",
    "\n",
    "print(\"Margin of error for sample size of 100:\", MOE_100)\n",
    "print(\"Margin of error for sample size of 300:\", MOE_300)\n"
   ]
  },
  {
   "cell_type": "markdown",
   "id": "7dfbbda2-b176-4081-87e6-6678e463fcee",
   "metadata": {},
   "source": [
    "### Ques 9"
   ]
  },
  {
   "cell_type": "code",
   "execution_count": 3,
   "id": "ab027914-1716-4576-8f0b-a52ba6952baf",
   "metadata": {},
   "outputs": [
    {
     "name": "stdout",
     "output_type": "stream",
     "text": [
      "Z_score for data point with a value of 75 is 1.0\n"
     ]
    }
   ],
   "source": [
    "import numpy as np\n",
    "import scipy.stats as st\n",
    "\n",
    "data_point=75\n",
    "p_mean=70\n",
    "p_std=5\n",
    "Z_scr=(data_point-p_mean)/p_std\n",
    "print('Z_score for data point with a value of 75 is',Z_scr)"
   ]
  },
  {
   "cell_type": "markdown",
   "id": "e7f0d65c-3f78-4983-a3cf-600ad3dd91af",
   "metadata": {},
   "source": [
    "Interpretation:\n",
    "The calculated z-score is 1. This means that the data point with a value of 75 is 1 standard deviation above the population mean of 70. In other words, it is one \"standard deviation unit\" away from the mean. This information helps us to understand the relative position of the data point within the population's distribution.\n",
    "\n",
    "A positive z-score indicates that the data point is above the mean, while a negative z-score would indicate that the data point is below the mean. The magnitude of the z-score tells us how many standard deviations the data point is away from the mean. In this case, a z-score of 1 means the data point is 1 standard deviation above the mean."
   ]
  },
  {
   "cell_type": "markdown",
   "id": "6895274e-433f-465c-8402-041e76dba9f2",
   "metadata": {},
   "source": [
    "### Ques 10"
   ]
  },
  {
   "cell_type": "markdown",
   "id": "1867131e-e9fa-423d-a9f9-56114fa6ef92",
   "metadata": {},
   "source": [
    "Hypothesis test for the effectiveness of the new weight loss drug:\n",
    "\n",
    "1. Hypothesis:\n",
    "The null hypothesis is that the drug is not effective. mean =0\n",
    "The alternative hypothesis is that the drug is effective. mean !=0\n",
    "\n",
    "2. Significance level:\n",
    "\n",
    "The significance level is 0.05, which means that we are 95% confident in our results.\n",
    "\n",
    "3. Test statistic:\n",
    "\n",
    "The t-statistic is calculated as the difference between the sample mean and the hypothesized population mean, divided by the standard deviation of the sample.\n",
    "\n",
    "t = (sample mean - hypothesized population mean) / (standard deviation of the sample)"
   ]
  },
  {
   "cell_type": "code",
   "execution_count": 4,
   "id": "f27d393c-e03c-4872-bd0e-2b1a174247a3",
   "metadata": {},
   "outputs": [
    {
     "name": "stdout",
     "output_type": "stream",
     "text": [
      "t statistic: 16.970562748477143\n"
     ]
    }
   ],
   "source": [
    "import numpy as np\n",
    "import scipy.stats as st\n",
    "\n",
    "sample_size=50\n",
    "sample_mean=6\n",
    "sample_std=2.5\n",
    "CI=.95\n",
    "hypothesized_mean=0\n",
    "\n",
    "t=(sample_mean-hypothesized_mean)/(sample_std/np.sqrt(sample_size))\n",
    "print('t statistic:',t)"
   ]
  },
  {
   "cell_type": "markdown",
   "id": "b66e61e6-c026-4b24-9e61-b4158dc33495",
   "metadata": {},
   "source": [
    "4. Critical value:\n",
    "\n",
    "The critical value is the value of the t-statistic that we need to exceed in order to reject the null hypothesis. The critical value is calculated using the significance level and the degrees of freedom."
   ]
  },
  {
   "cell_type": "code",
   "execution_count": 5,
   "id": "7ac03b6c-63ac-4ed1-97f2-cfd9383e0d2a",
   "metadata": {},
   "outputs": [],
   "source": [
    "critical_value=st.t.ppf((1-(1-CI)/2),df=sample_size-1)"
   ]
  },
  {
   "cell_type": "code",
   "execution_count": 6,
   "id": "4c52d2f9-edc3-41ec-bbdb-bfe6b7c4ded1",
   "metadata": {},
   "outputs": [
    {
     "data": {
      "text/plain": [
       "2.009575234489209"
      ]
     },
     "execution_count": 6,
     "metadata": {},
     "output_type": "execute_result"
    }
   ],
   "source": [
    "critical_value"
   ]
  },
  {
   "cell_type": "markdown",
   "id": "9d849997-2239-4b52-9482-8084f7f61ed1",
   "metadata": {},
   "source": [
    "5. Decision rule:\n",
    "\n",
    "We reject the null hypothesis if the t-statistic is greater than the critical value. In this case, the t-statistic (16.97) is greater than the critical value (2.009), so we reject the null hypothesis."
   ]
  },
  {
   "cell_type": "code",
   "execution_count": 7,
   "id": "ee49a80a-4f9b-4c9a-9eb9-555107bb99d1",
   "metadata": {},
   "outputs": [
    {
     "name": "stdout",
     "output_type": "stream",
     "text": [
      "Reject the null hypothesis\n"
     ]
    }
   ],
   "source": [
    "# Make the decision\n",
    "if t > critical_value:\n",
    "  print(\"Reject the null hypothesis\")\n",
    "else:\n",
    "  print(\"Fail to reject the null hypothesis\")"
   ]
  },
  {
   "cell_type": "markdown",
   "id": "54ef1ec2-7216-4e4c-a2a2-987db8cc72d2",
   "metadata": {},
   "source": [
    "6. Conclusion:\n",
    "\n",
    "We can conclude that the drug is significantly effective at a 95% confidence level."
   ]
  },
  {
   "cell_type": "markdown",
   "id": "7561339f-f7b5-4024-b1f7-241280d702fe",
   "metadata": {},
   "source": [
    "### Ques 11"
   ]
  },
  {
   "cell_type": "markdown",
   "id": "215ffed6-c8fa-41f7-8a78-8ee6a7507c50",
   "metadata": {},
   "source": [
    "To calculate the 95% confidence interval for the true proportion of people who are satisfied with their job:\n",
    "\n",
    "1. Calculate the critical value \\(Z\\) for a 95% confidence interval (standard normal distribution), which is approximately 1.96.\n",
    "\n",
    "2. Calculate the standard error (SE):\n",
    "   - SE = \\(\\sqrt{\\frac{0.65 \\times (1 - 0.65)}{500}}\\)\n",
    "\n",
    "3. Calculate the margin of error (ME):\n",
    "   - ME = \\(Z \\times SE\\)\n",
    "\n",
    "4. Calculate the lower and upper bounds of the confidence interval:\n",
    "   - Lower Bound = \\(\\hat{p} - ME\\)\n",
    "   - Upper Bound = \\(\\hat{p} + ME\\)\n",
    "\n",
    "Let's perform the calculations:\n",
    "\n",
    "- \\(Z = 1.96\\) (for a 95% confidence interval).\n",
    "- \\(SE = \\sqrt{\\frac{0.65 \\times (1 - 0.65)}{500}} \\approx 0.021\\).\n",
    "- \\(ME = 1.96 \\times 0.021 \\approx 0.0418\\).\n",
    "\n",
    "Now, calculate the confidence interval:\n",
    "\n",
    "- Lower Bound = \\(0.65 - 0.0418 \\approx 0.6082\\) (or 60.82%)\n",
    "- Upper Bound = \\(0.65 + 0.0418 \\approx 0.6918\\) (or 69.18%)\n",
    "\n",
    "So, the 95% confidence interval for the true proportion of people who are satisfied with their job is approximately 60.82 to 69.18%.\n"
   ]
  },
  {
   "cell_type": "code",
   "execution_count": 8,
   "id": "d5aaf090-b4d2-4af8-8270-3b93e67e4648",
   "metadata": {},
   "outputs": [
    {
     "name": "stdout",
     "output_type": "stream",
     "text": [
      "Lower Bound: 0.6082 (or 60.82%)\n",
      "Upper Bound: 0.6918 (or 69.18%)\n"
     ]
    }
   ],
   "source": [
    "import scipy.stats as stats\n",
    "import numpy as np\n",
    "\n",
    "sample_proportion=0.65\n",
    "sample_size=500\n",
    "\n",
    "CI=0.95\n",
    "\n",
    "z_critical=stats.norm.ppf(1-(1-CI)/2)\n",
    "\n",
    "standard_error=np.sqrt((sample_proportion*(1-sample_proportion))/sample_size)\n",
    "\n",
    "moe=z_critical*standard_error\n",
    "\n",
    "lower_bound=sample_proportion-moe\n",
    "upper_bound=sample_proportion+moe\n",
    "\n",
    "print(f\"Lower Bound: {lower_bound:.4f} (or {lower_bound * 100:.2f}%)\")\n",
    "print(f\"Upper Bound: {upper_bound:.4f} (or {upper_bound * 100:.2f}%)\")"
   ]
  },
  {
   "cell_type": "markdown",
   "id": "17c90d62-6aab-4b6f-95b7-2900770f54b5",
   "metadata": {},
   "source": [
    "### Ques 12"
   ]
  },
  {
   "cell_type": "markdown",
   "id": "e9e0d6e4-dd24-485c-abbc-c5785b10e884",
   "metadata": {},
   "source": [
    "#### Step 1: Define the Hypotheses\n",
    "\n",
    "- **Null Hypothesis (H0):** The two teaching methods have no significant difference in student performance. (μ1 - μ2 = 0)\n",
    "- **Alternative Hypothesis (Ha):** The two teaching methods do have a significant difference in student performance. (μ1 - μ2 ≠ 0)\n"
   ]
  },
  {
   "cell_type": "code",
   "execution_count": 9,
   "id": "5b14c1f7-438f-4666-b556-1b025ee770f5",
   "metadata": {},
   "outputs": [],
   "source": [
    "# Define hypotheses\n",
    "null_hypothesis = \"The two teaching methods have no significant difference in student performance.\"\n",
    "alternative_hypothesis = \"The two teaching methods do have a significant difference in student performance.\""
   ]
  },
  {
   "cell_type": "markdown",
   "id": "efd7bb08-5fb9-428f-a048-11c1f38d6d9a",
   "metadata": {},
   "source": [
    "#### Step 2: Set the Significance Level\n",
    "\n",
    "- Significance level (α) = 0.01\n"
   ]
  },
  {
   "cell_type": "code",
   "execution_count": 10,
   "id": "df1de94d-e019-42d5-801f-b7966c4021e0",
   "metadata": {},
   "outputs": [],
   "source": [
    "alpha = 0.01"
   ]
  },
  {
   "cell_type": "markdown",
   "id": "ed3cd8f9-ede7-49a4-b06f-f9d2890be4a1",
   "metadata": {},
   "source": [
    "#### Step 3: Collect and Prepare Data\n",
    "\n",
    "- Sample A: Mean score (x̄1) = 85, Standard Deviation (σ1) = 6\n",
    "- Sample B: Mean score (x̄2) = 82, Standard Deviation (σ2) = 5\n",
    "- sample_size=30 (Assume)"
   ]
  },
  {
   "cell_type": "code",
   "execution_count": 11,
   "id": "d60107fe-4db0-40ab-8cfd-83601f304f42",
   "metadata": {},
   "outputs": [],
   "source": [
    "# sample data\n",
    "mean_A=85\n",
    "std_A=6\n",
    "mean_B=82\n",
    "std_B=5\n",
    "n1=n2=30"
   ]
  },
  {
   "cell_type": "markdown",
   "id": "b4c07659-8d88-41c6-8631-1ce65ddb3690",
   "metadata": {},
   "source": [
    "#### Step 4: Calculate the Test Statistic\n",
    "- The formula for the two-sample t-test is given as:\n",
    "- t = (x̄1 - x̄2) / sqrt((s1^2/n1) + (s2^2/n2))\n",
    "- Where s1 and s2 are the sample standard deviations, n1 and n2 are the sample sizes, x̄1 and x̄2 are the sample means."
   ]
  },
  {
   "cell_type": "code",
   "execution_count": 12,
   "id": "5df908b7-07e2-49bf-931b-1fa88371aa03",
   "metadata": {},
   "outputs": [
    {
     "data": {
      "text/plain": [
       "2.1038606199548298"
      ]
     },
     "execution_count": 12,
     "metadata": {},
     "output_type": "execute_result"
    }
   ],
   "source": [
    "t_stats=(mean_A-mean_B)/np.sqrt((std_A**2/n1)+(std_B**2/n2))\n",
    "t_stats"
   ]
  },
  {
   "cell_type": "markdown",
   "id": "3732d88b-8568-44ea-be2b-577db3ed95dc",
   "metadata": {},
   "source": [
    "#### Step 5: Determine the Critical Value\n",
    "\n",
    "- Degrees of freedom (df) = n1 + n2 - 2\n",
    "- Using a t-table or a statistical calculator, find the critical t-value for a two-tailed test with α/2 = 0.005 and df degrees of freedom.\n"
   ]
  },
  {
   "cell_type": "code",
   "execution_count": 13,
   "id": "97b082ac-8222-410a-aa15-0aac9b242942",
   "metadata": {},
   "outputs": [
    {
     "data": {
      "text/plain": [
       "2.6632869538098674"
      ]
     },
     "execution_count": 13,
     "metadata": {},
     "output_type": "execute_result"
    }
   ],
   "source": [
    "dof=n1+n2-2\n",
    "critical_t=stats.t.ppf(1-alpha/2,dof)\n",
    "critical_t"
   ]
  },
  {
   "cell_type": "markdown",
   "id": "004ef644-ffb1-4107-9c57-7f968bc91b27",
   "metadata": {},
   "source": [
    "#### Step 6: Compare the Test Statistic and Critical Value\n",
    "- Compare the test statistic and critical value"
   ]
  },
  {
   "cell_type": "code",
   "execution_count": 14,
   "id": "dc453e3a-1e33-41ed-bc2a-4a34ad5699d7",
   "metadata": {},
   "outputs": [
    {
     "data": {
      "text/plain": [
       "'Fail to reject null hypothesis'"
      ]
     },
     "execution_count": 14,
     "metadata": {},
     "output_type": "execute_result"
    }
   ],
   "source": [
    "if abs(t_stats)>critical_t:\n",
    "    decision=\"Reject null hypothesis\"\n",
    "else:\n",
    "    decision=\"Fail to reject null hypothesis\"\n",
    "decision"
   ]
  },
  {
   "cell_type": "markdown",
   "id": "da5f27d3-0313-470d-a512-299095b4c738",
   "metadata": {},
   "source": [
    "#### Step 7: Calculate the p-value\n",
    "\n",
    "- Using a t-table or a statistical calculator, find the p-value associated with the calculated t statistic.\n"
   ]
  },
  {
   "cell_type": "code",
   "execution_count": 15,
   "id": "631c9809-54e4-4c1c-9f2f-bc4ffe501df3",
   "metadata": {},
   "outputs": [
    {
     "name": "stdout",
     "output_type": "stream",
     "text": [
      "Decision: Fail to reject null hypothesis\n",
      "P-Value: 0.0397\n"
     ]
    }
   ],
   "source": [
    "p_value = 2 * (1 - stats.t.cdf(abs(t_stats), dof))\n",
    "\n",
    "# Display the decision and p-value\n",
    "print(f\"Decision: {decision}\")\n",
    "print(f\"P-Value: {p_value:.4f}\")"
   ]
  },
  {
   "cell_type": "markdown",
   "id": "5d027f87-9f20-494d-908a-abf1970011ea",
   "metadata": {},
   "source": [
    "#### Step 8: Make a Decision\n",
    "- Determine whether to reject the null hypothesis based on the p-value"
   ]
  },
  {
   "cell_type": "code",
   "execution_count": 16,
   "id": "c3677035-b30a-4799-85c9-88af21b081d1",
   "metadata": {},
   "outputs": [],
   "source": [
    "if p_value <alpha:\n",
    "    decision = \"Reject null hypothesis\"\n",
    "else:\n",
    "    decision = \"Fail to reject null hypothesis\""
   ]
  },
  {
   "cell_type": "markdown",
   "id": "1380edea-5770-4767-ad7a-3ac363d122b5",
   "metadata": {},
   "source": [
    "#### Step 9: Interpret the Results\n",
    "- Provide an interpretation based on the decision\n"
   ]
  },
  {
   "cell_type": "code",
   "execution_count": 17,
   "id": "eb2b5bf3-d953-45f7-aca3-64133b6eef1a",
   "metadata": {},
   "outputs": [
    {
     "name": "stdout",
     "output_type": "stream",
     "text": [
      "Decision: Fail to reject null hypothesis\n",
      "Interpretation: There is no significant difference in student performance between the two teaching methods.\n"
     ]
    }
   ],
   "source": [
    "if decision == \"Reject null hypothesis\":\n",
    "    interpretation = \"There is a significant difference in student performance between the two teaching methods.\"\n",
    "else:\n",
    "    interpretation = \"There is no significant difference in student performance between the two teaching methods.\"\n",
    "\n",
    "# Display the final decision and interpretation\n",
    "print(f\"Decision: {decision}\")\n",
    "print(f\"Interpretation: {interpretation}\")"
   ]
  },
  {
   "cell_type": "markdown",
   "id": "3086ecf7-9547-44f3-88cf-9fef9077eaa2",
   "metadata": {},
   "source": [
    "### Ques 13"
   ]
  },
  {
   "cell_type": "code",
   "execution_count": 18,
   "id": "82abc7d1-b02a-4e18-9a04-81e7704915d4",
   "metadata": {},
   "outputs": [
    {
     "name": "stdout",
     "output_type": "stream",
     "text": [
      "Confidence Interval: (63.14, 66.86)\n"
     ]
    }
   ],
   "source": [
    "import scipy.stats as stats\n",
    "import math\n",
    "\n",
    "# Sample data\n",
    "sample_mean = 65\n",
    "sample_std_dev = 8\n",
    "sample_size = 50\n",
    "confidence_level = 0.90\n",
    "\n",
    "# Step 1: Calculate the critical value (Z) for a 90% confidence interval\n",
    "alpha = 1 - confidence_level\n",
    "critical_value = stats.norm.ppf(1 - alpha / 2)  # Two-tailed test\n",
    "\n",
    "# Step 2: Calculate the confidence interval\n",
    "margin_of_error = critical_value * (sample_std_dev / math.sqrt(sample_size))\n",
    "lower_bound = sample_mean - margin_of_error\n",
    "upper_bound = sample_mean + margin_of_error\n",
    "\n",
    "# Display the confidence interval\n",
    "print(f\"Confidence Interval: ({lower_bound:.2f}, {upper_bound:.2f})\")\n"
   ]
  },
  {
   "cell_type": "markdown",
   "id": "6349f0fb-1be1-44ce-96ef-0eb5b09d71f3",
   "metadata": {},
   "source": [
    "### Step 1: Define the Hypotheses\n",
    "\n",
    "- **Null Hypothesis (H0):** Caffeine has no significant effect on reaction time. (μ = μ0, where μ0 is the hypothesized population mean)\n",
    "- **Alternative Hypothesis (Ha):** Caffeine has a significant effect on reaction time. (μ ≠ μ0)\n"
   ]
  },
  {
   "cell_type": "markdown",
   "id": "d3767d9c-4739-4ad3-bdde-e2dd2f7c4f2e",
   "metadata": {},
   "source": [
    "### Step 2: Set the Significance Level\n",
    "\n",
    "- Significance level (α) = 0.10 (for a 90% confidence level)\n"
   ]
  },
  {
   "cell_type": "code",
   "execution_count": 19,
   "id": "7f7da27a-14e0-448f-af41-2e5424e732d2",
   "metadata": {},
   "outputs": [],
   "source": [
    "significance_level = 0.10"
   ]
  },
  {
   "cell_type": "markdown",
   "id": "be5a3f74-968d-43a4-9463-23817c6b7273",
   "metadata": {},
   "source": [
    "### Step 3: Collect and Prepare Data\n",
    "\n",
    "- Sample mean (x̄) = 0.25 seconds\n",
    "- Sample standard deviation (s) = 0.05 seconds\n",
    "- Sample size (n) = 30\n"
   ]
  },
  {
   "cell_type": "code",
   "execution_count": 20,
   "id": "88432795-018a-4d51-ad84-8954254ff7f4",
   "metadata": {},
   "outputs": [],
   "source": [
    "sample_mean = 0.25\n",
    "sample_std_dev = 0.05\n",
    "sample_size = 30"
   ]
  },
  {
   "cell_type": "markdown",
   "id": "43687362-1d1e-42ca-b372-1484a2856655",
   "metadata": {},
   "source": [
    "### Step 4: Calculate the Test Statistic\n",
    "\n",
    "- The formula for the one-sample t-test is given as:\n",
    "  - t = \\(\\frac{x̄ - μ0}{\\frac{s}{\\sqrt{n}}}\\)\n",
    "  - Where \\(x̄\\) is the sample mean, μ0 is the hypothesized population mean, s is the sample standard deviation, and n is the sample size.\n"
   ]
  },
  {
   "cell_type": "code",
   "execution_count": 21,
   "id": "bde7a58d-567d-47c8-ba60-113ef7418dc3",
   "metadata": {},
   "outputs": [
    {
     "name": "stdout",
     "output_type": "stream",
     "text": [
      "Test Statistic: -1.0954\n"
     ]
    }
   ],
   "source": [
    "hypothesized_mean = 0.26  \n",
    "t_statistic = (sample_mean - hypothesized_mean) / (sample_std_dev / (sample_size**0.5))\n",
    "\n",
    "print(f\"Test Statistic: {t_statistic:.4f}\")\n"
   ]
  },
  {
   "cell_type": "markdown",
   "id": "57fc0e42-3493-4f51-bc3c-7a379603a630",
   "metadata": {},
   "source": [
    "### Step 5: Determine the Critical Value\n",
    "\n",
    "- Degrees of freedom (df) = n - 1 (for a one-sample t-test)\n",
    "- Using a t-table or a statistical calculator, find the critical t-value for a two-tailed test with \\(\\frac{α}{2}\\) = 0.05 and df degrees of freedom.\n"
   ]
  },
  {
   "cell_type": "code",
   "execution_count": 22,
   "id": "504f9665-2fa4-4654-80be-679793fda24d",
   "metadata": {},
   "outputs": [
    {
     "name": "stdout",
     "output_type": "stream",
     "text": [
      "Critical t-Value: 1.6991\n"
     ]
    }
   ],
   "source": [
    "degrees_of_freedom = sample_size - 1\n",
    "\n",
    "alpha_over_2 = significance_level / 2\n",
    "critical_t_value = stats.t.ppf(1 - alpha_over_2, degrees_of_freedom)\n",
    "\n",
    "print(f\"Critical t-Value: {critical_t_value:.4f}\")\n"
   ]
  },
  {
   "cell_type": "markdown",
   "id": "6ec2d29a-a0b9-48aa-b91c-5310a6ba102a",
   "metadata": {},
   "source": [
    "### Step 6: Compare the Test Statistic and Critical Value\n",
    "\n",
    "- If |t| > critical t-value, reject the null hypothesis (H0).\n",
    "- If |t| ≤ critical t-value, fail to reject the null hypothesis (H0).\n",
    "\n",
    "### Step 7: Calculate the p-value\n",
    "\n",
    "- Using a t-table or a statistical calculator, find the p-value associated with the calculated t statistic.\n"
   ]
  },
  {
   "cell_type": "code",
   "execution_count": 23,
   "id": "dd2792a9-cb8a-45bf-a894-c1c62588adb3",
   "metadata": {},
   "outputs": [
    {
     "name": "stdout",
     "output_type": "stream",
     "text": [
      "Decision: Fail to reject null hypothesis\n",
      "P-Value: 0.2823\n"
     ]
    }
   ],
   "source": [
    "if abs(t_statistic) > critical_t_value:\n",
    "    decision = \"Reject null hypothesis\"\n",
    "else:\n",
    "    decision = \"Fail to reject null hypothesis\"\n",
    "\n",
    "p_value = 2 * (1 - stats.t.cdf(abs(t_statistic), degrees_of_freedom))\n",
    "\n",
    "print(f\"Decision: {decision}\")\n",
    "print(f\"P-Value: {p_value:.4f}\")"
   ]
  },
  {
   "cell_type": "markdown",
   "id": "3b3b5efe-a0c6-4ada-a677-f4d4e690c305",
   "metadata": {},
   "source": [
    "### Step 8: Make a Decision\n",
    "\n",
    "- If p-value < α, reject the null hypothesis (H0).\n",
    "- If p-value ≥ α, fail to reject the null hypothesis (H0).\n",
    "\n",
    "### Step 9: Interpret the Results\n",
    "\n",
    "- Provide an interpretation based on the decision.\n"
   ]
  },
  {
   "cell_type": "code",
   "execution_count": 24,
   "id": "bc6b3b79-da78-402b-bb95-17112ada400f",
   "metadata": {},
   "outputs": [
    {
     "name": "stdout",
     "output_type": "stream",
     "text": [
      "Decision: Fail to reject null hypothesis\n",
      "Interpretation: There is no significant effect of caffeine on reaction time.\n"
     ]
    }
   ],
   "source": [
    "\n",
    "if p_value < significance_level:\n",
    "    decision = \"Reject null hypothesis\"\n",
    "else:\n",
    "    decision = \"Fail to reject null hypothesis\"\n",
    "\n",
    "if decision == \"Reject null hypothesis\":\n",
    "    interpretation = \"Caffeine has a significant effect on reaction time.\"\n",
    "else:\n",
    "    interpretation = \"There is no significant effect of caffeine on reaction time.\"\n",
    "\n",
    "print(f\"Decision: {decision}\")\n",
    "print(f\"Interpretation: {interpretation}\")\n"
   ]
  },
  {
   "cell_type": "code",
   "execution_count": null,
   "id": "82edd0ec-704d-46ac-b356-21c14dcc9ef8",
   "metadata": {},
   "outputs": [],
   "source": []
  }
 ],
 "metadata": {
  "kernelspec": {
   "display_name": "Python 3 (ipykernel)",
   "language": "python",
   "name": "python3"
  },
  "language_info": {
   "codemirror_mode": {
    "name": "ipython",
    "version": 3
   },
   "file_extension": ".py",
   "mimetype": "text/x-python",
   "name": "python",
   "nbconvert_exporter": "python",
   "pygments_lexer": "ipython3",
   "version": "3.10.8"
  }
 },
 "nbformat": 4,
 "nbformat_minor": 5
}
