{
 "cells": [
  {
   "cell_type": "markdown",
   "id": "17f2169b-7d9e-44b8-b28e-3bdcf8bb79dd",
   "metadata": {},
   "source": [
    "Ques 1"
   ]
  },
  {
   "cell_type": "code",
   "execution_count": 1,
   "id": "d556f9e8-4319-46c2-bdf7-62e9a00787df",
   "metadata": {},
   "outputs": [
    {
     "name": "stdout",
     "output_type": "stream",
     "text": [
      "Requirement already satisfied: pandas in /opt/conda/lib/python3.10/site-packages (1.5.2)\n",
      "Requirement already satisfied: python-dateutil>=2.8.1 in /opt/conda/lib/python3.10/site-packages (from pandas) (2.8.2)\n",
      "Requirement already satisfied: pytz>=2020.1 in /opt/conda/lib/python3.10/site-packages (from pandas) (2022.6)\n",
      "Requirement already satisfied: numpy>=1.21.0 in /opt/conda/lib/python3.10/site-packages (from pandas) (1.23.5)\n",
      "Requirement already satisfied: six>=1.5 in /opt/conda/lib/python3.10/site-packages (from python-dateutil>=2.8.1->pandas) (1.16.0)\n",
      "Note: you may need to restart the kernel to use updated packages.\n"
     ]
    }
   ],
   "source": [
    "pip install pandas"
   ]
  },
  {
   "cell_type": "code",
   "execution_count": 2,
   "id": "5fe16ced-f713-4ca0-8d2f-3cbfa239ae08",
   "metadata": {},
   "outputs": [],
   "source": [
    "import pandas as pd"
   ]
  },
  {
   "cell_type": "markdown",
   "id": "bcad951c-58e9-4b33-9cc6-039899da1fd3",
   "metadata": {},
   "source": [
    "Here are five commonly used functions in the pandas library along with their execution:"
   ]
  },
  {
   "cell_type": "markdown",
   "id": "1bb76f75-647c-4209-80aa-d9c26191dea8",
   "metadata": {},
   "source": [
    "1. read_csv() :This function is used to read data from a CSV file and create a DataFrame."
   ]
  },
  {
   "cell_type": "code",
   "execution_count": 3,
   "id": "50381ed1-7f19-4928-a11d-7330a7598e4f",
   "metadata": {},
   "outputs": [],
   "source": [
    "df=pd.read_csv( \"https://raw.githubusercontent.com/datasciencedojo/datasets/master/titanic.csv\")"
   ]
  },
  {
   "cell_type": "markdown",
   "id": "b6d01a04-df11-46c7-a22e-6b6d09ca600b",
   "metadata": {},
   "source": [
    "2. head(): This function is used to display the first few rows of a DataFrame."
   ]
  },
  {
   "cell_type": "code",
   "execution_count": 4,
   "id": "83c666ca-4b60-4c13-a2bf-d0cd8fd83c31",
   "metadata": {},
   "outputs": [
    {
     "data": {
      "text/html": [
       "<div>\n",
       "<style scoped>\n",
       "    .dataframe tbody tr th:only-of-type {\n",
       "        vertical-align: middle;\n",
       "    }\n",
       "\n",
       "    .dataframe tbody tr th {\n",
       "        vertical-align: top;\n",
       "    }\n",
       "\n",
       "    .dataframe thead th {\n",
       "        text-align: right;\n",
       "    }\n",
       "</style>\n",
       "<table border=\"1\" class=\"dataframe\">\n",
       "  <thead>\n",
       "    <tr style=\"text-align: right;\">\n",
       "      <th></th>\n",
       "      <th>PassengerId</th>\n",
       "      <th>Survived</th>\n",
       "      <th>Pclass</th>\n",
       "      <th>Name</th>\n",
       "      <th>Sex</th>\n",
       "      <th>Age</th>\n",
       "      <th>SibSp</th>\n",
       "      <th>Parch</th>\n",
       "      <th>Ticket</th>\n",
       "      <th>Fare</th>\n",
       "      <th>Cabin</th>\n",
       "      <th>Embarked</th>\n",
       "    </tr>\n",
       "  </thead>\n",
       "  <tbody>\n",
       "    <tr>\n",
       "      <th>0</th>\n",
       "      <td>1</td>\n",
       "      <td>0</td>\n",
       "      <td>3</td>\n",
       "      <td>Braund, Mr. Owen Harris</td>\n",
       "      <td>male</td>\n",
       "      <td>22.0</td>\n",
       "      <td>1</td>\n",
       "      <td>0</td>\n",
       "      <td>A/5 21171</td>\n",
       "      <td>7.2500</td>\n",
       "      <td>NaN</td>\n",
       "      <td>S</td>\n",
       "    </tr>\n",
       "    <tr>\n",
       "      <th>1</th>\n",
       "      <td>2</td>\n",
       "      <td>1</td>\n",
       "      <td>1</td>\n",
       "      <td>Cumings, Mrs. John Bradley (Florence Briggs Th...</td>\n",
       "      <td>female</td>\n",
       "      <td>38.0</td>\n",
       "      <td>1</td>\n",
       "      <td>0</td>\n",
       "      <td>PC 17599</td>\n",
       "      <td>71.2833</td>\n",
       "      <td>C85</td>\n",
       "      <td>C</td>\n",
       "    </tr>\n",
       "    <tr>\n",
       "      <th>2</th>\n",
       "      <td>3</td>\n",
       "      <td>1</td>\n",
       "      <td>3</td>\n",
       "      <td>Heikkinen, Miss. Laina</td>\n",
       "      <td>female</td>\n",
       "      <td>26.0</td>\n",
       "      <td>0</td>\n",
       "      <td>0</td>\n",
       "      <td>STON/O2. 3101282</td>\n",
       "      <td>7.9250</td>\n",
       "      <td>NaN</td>\n",
       "      <td>S</td>\n",
       "    </tr>\n",
       "    <tr>\n",
       "      <th>3</th>\n",
       "      <td>4</td>\n",
       "      <td>1</td>\n",
       "      <td>1</td>\n",
       "      <td>Futrelle, Mrs. Jacques Heath (Lily May Peel)</td>\n",
       "      <td>female</td>\n",
       "      <td>35.0</td>\n",
       "      <td>1</td>\n",
       "      <td>0</td>\n",
       "      <td>113803</td>\n",
       "      <td>53.1000</td>\n",
       "      <td>C123</td>\n",
       "      <td>S</td>\n",
       "    </tr>\n",
       "    <tr>\n",
       "      <th>4</th>\n",
       "      <td>5</td>\n",
       "      <td>0</td>\n",
       "      <td>3</td>\n",
       "      <td>Allen, Mr. William Henry</td>\n",
       "      <td>male</td>\n",
       "      <td>35.0</td>\n",
       "      <td>0</td>\n",
       "      <td>0</td>\n",
       "      <td>373450</td>\n",
       "      <td>8.0500</td>\n",
       "      <td>NaN</td>\n",
       "      <td>S</td>\n",
       "    </tr>\n",
       "  </tbody>\n",
       "</table>\n",
       "</div>"
      ],
      "text/plain": [
       "   PassengerId  Survived  Pclass  \\\n",
       "0            1         0       3   \n",
       "1            2         1       1   \n",
       "2            3         1       3   \n",
       "3            4         1       1   \n",
       "4            5         0       3   \n",
       "\n",
       "                                                Name     Sex   Age  SibSp  \\\n",
       "0                            Braund, Mr. Owen Harris    male  22.0      1   \n",
       "1  Cumings, Mrs. John Bradley (Florence Briggs Th...  female  38.0      1   \n",
       "2                             Heikkinen, Miss. Laina  female  26.0      0   \n",
       "3       Futrelle, Mrs. Jacques Heath (Lily May Peel)  female  35.0      1   \n",
       "4                           Allen, Mr. William Henry    male  35.0      0   \n",
       "\n",
       "   Parch            Ticket     Fare Cabin Embarked  \n",
       "0      0         A/5 21171   7.2500   NaN        S  \n",
       "1      0          PC 17599  71.2833   C85        C  \n",
       "2      0  STON/O2. 3101282   7.9250   NaN        S  \n",
       "3      0            113803  53.1000  C123        S  \n",
       "4      0            373450   8.0500   NaN        S  "
      ]
     },
     "execution_count": 4,
     "metadata": {},
     "output_type": "execute_result"
    }
   ],
   "source": [
    "df.head()"
   ]
  },
  {
   "cell_type": "markdown",
   "id": "9bfc8311-26d3-4f03-a911-bf4ae60e325c",
   "metadata": {},
   "source": [
    "3. describe(): This function provides descriptive statistics of the DataFrame, such as count, mean, standard deviation, minimum, maximum, and quartiles."
   ]
  },
  {
   "cell_type": "code",
   "execution_count": 5,
   "id": "c297949c-4753-4ae4-a91d-026c47d41ce9",
   "metadata": {},
   "outputs": [
    {
     "data": {
      "text/html": [
       "<div>\n",
       "<style scoped>\n",
       "    .dataframe tbody tr th:only-of-type {\n",
       "        vertical-align: middle;\n",
       "    }\n",
       "\n",
       "    .dataframe tbody tr th {\n",
       "        vertical-align: top;\n",
       "    }\n",
       "\n",
       "    .dataframe thead th {\n",
       "        text-align: right;\n",
       "    }\n",
       "</style>\n",
       "<table border=\"1\" class=\"dataframe\">\n",
       "  <thead>\n",
       "    <tr style=\"text-align: right;\">\n",
       "      <th></th>\n",
       "      <th>PassengerId</th>\n",
       "      <th>Survived</th>\n",
       "      <th>Pclass</th>\n",
       "      <th>Age</th>\n",
       "      <th>SibSp</th>\n",
       "      <th>Parch</th>\n",
       "      <th>Fare</th>\n",
       "    </tr>\n",
       "  </thead>\n",
       "  <tbody>\n",
       "    <tr>\n",
       "      <th>count</th>\n",
       "      <td>891.000000</td>\n",
       "      <td>891.000000</td>\n",
       "      <td>891.000000</td>\n",
       "      <td>714.000000</td>\n",
       "      <td>891.000000</td>\n",
       "      <td>891.000000</td>\n",
       "      <td>891.000000</td>\n",
       "    </tr>\n",
       "    <tr>\n",
       "      <th>mean</th>\n",
       "      <td>446.000000</td>\n",
       "      <td>0.383838</td>\n",
       "      <td>2.308642</td>\n",
       "      <td>29.699118</td>\n",
       "      <td>0.523008</td>\n",
       "      <td>0.381594</td>\n",
       "      <td>32.204208</td>\n",
       "    </tr>\n",
       "    <tr>\n",
       "      <th>std</th>\n",
       "      <td>257.353842</td>\n",
       "      <td>0.486592</td>\n",
       "      <td>0.836071</td>\n",
       "      <td>14.526497</td>\n",
       "      <td>1.102743</td>\n",
       "      <td>0.806057</td>\n",
       "      <td>49.693429</td>\n",
       "    </tr>\n",
       "    <tr>\n",
       "      <th>min</th>\n",
       "      <td>1.000000</td>\n",
       "      <td>0.000000</td>\n",
       "      <td>1.000000</td>\n",
       "      <td>0.420000</td>\n",
       "      <td>0.000000</td>\n",
       "      <td>0.000000</td>\n",
       "      <td>0.000000</td>\n",
       "    </tr>\n",
       "    <tr>\n",
       "      <th>25%</th>\n",
       "      <td>223.500000</td>\n",
       "      <td>0.000000</td>\n",
       "      <td>2.000000</td>\n",
       "      <td>20.125000</td>\n",
       "      <td>0.000000</td>\n",
       "      <td>0.000000</td>\n",
       "      <td>7.910400</td>\n",
       "    </tr>\n",
       "    <tr>\n",
       "      <th>50%</th>\n",
       "      <td>446.000000</td>\n",
       "      <td>0.000000</td>\n",
       "      <td>3.000000</td>\n",
       "      <td>28.000000</td>\n",
       "      <td>0.000000</td>\n",
       "      <td>0.000000</td>\n",
       "      <td>14.454200</td>\n",
       "    </tr>\n",
       "    <tr>\n",
       "      <th>75%</th>\n",
       "      <td>668.500000</td>\n",
       "      <td>1.000000</td>\n",
       "      <td>3.000000</td>\n",
       "      <td>38.000000</td>\n",
       "      <td>1.000000</td>\n",
       "      <td>0.000000</td>\n",
       "      <td>31.000000</td>\n",
       "    </tr>\n",
       "    <tr>\n",
       "      <th>max</th>\n",
       "      <td>891.000000</td>\n",
       "      <td>1.000000</td>\n",
       "      <td>3.000000</td>\n",
       "      <td>80.000000</td>\n",
       "      <td>8.000000</td>\n",
       "      <td>6.000000</td>\n",
       "      <td>512.329200</td>\n",
       "    </tr>\n",
       "  </tbody>\n",
       "</table>\n",
       "</div>"
      ],
      "text/plain": [
       "       PassengerId    Survived      Pclass         Age       SibSp  \\\n",
       "count   891.000000  891.000000  891.000000  714.000000  891.000000   \n",
       "mean    446.000000    0.383838    2.308642   29.699118    0.523008   \n",
       "std     257.353842    0.486592    0.836071   14.526497    1.102743   \n",
       "min       1.000000    0.000000    1.000000    0.420000    0.000000   \n",
       "25%     223.500000    0.000000    2.000000   20.125000    0.000000   \n",
       "50%     446.000000    0.000000    3.000000   28.000000    0.000000   \n",
       "75%     668.500000    1.000000    3.000000   38.000000    1.000000   \n",
       "max     891.000000    1.000000    3.000000   80.000000    8.000000   \n",
       "\n",
       "            Parch        Fare  \n",
       "count  891.000000  891.000000  \n",
       "mean     0.381594   32.204208  \n",
       "std      0.806057   49.693429  \n",
       "min      0.000000    0.000000  \n",
       "25%      0.000000    7.910400  \n",
       "50%      0.000000   14.454200  \n",
       "75%      0.000000   31.000000  \n",
       "max      6.000000  512.329200  "
      ]
     },
     "execution_count": 5,
     "metadata": {},
     "output_type": "execute_result"
    }
   ],
   "source": [
    "df.describe()"
   ]
  },
  {
   "cell_type": "markdown",
   "id": "150a9c21-c2ac-4114-94c5-76ab11c89e4f",
   "metadata": {},
   "source": [
    "4. groupby(): This function is used to group data based on one or more columns and perform aggregations on the grouped data."
   ]
  },
  {
   "cell_type": "code",
   "execution_count": 6,
   "id": "265f5b17-9704-421d-924a-19f154f70caf",
   "metadata": {},
   "outputs": [],
   "source": [
    "grouped_data=df.groupby('Survived')"
   ]
  },
  {
   "cell_type": "code",
   "execution_count": 7,
   "id": "262141bf-9825-4941-ad62-308574de1986",
   "metadata": {},
   "outputs": [
    {
     "name": "stderr",
     "output_type": "stream",
     "text": [
      "/tmp/ipykernel_5108/2092897760.py:1: FutureWarning: The default value of numeric_only in DataFrameGroupBy.sum is deprecated. In a future version, numeric_only will default to False. Either specify numeric_only or select only columns which should be valid for the function.\n",
      "  grouped_data.sum()\n"
     ]
    },
    {
     "data": {
      "text/html": [
       "<div>\n",
       "<style scoped>\n",
       "    .dataframe tbody tr th:only-of-type {\n",
       "        vertical-align: middle;\n",
       "    }\n",
       "\n",
       "    .dataframe tbody tr th {\n",
       "        vertical-align: top;\n",
       "    }\n",
       "\n",
       "    .dataframe thead th {\n",
       "        text-align: right;\n",
       "    }\n",
       "</style>\n",
       "<table border=\"1\" class=\"dataframe\">\n",
       "  <thead>\n",
       "    <tr style=\"text-align: right;\">\n",
       "      <th></th>\n",
       "      <th>PassengerId</th>\n",
       "      <th>Pclass</th>\n",
       "      <th>Age</th>\n",
       "      <th>SibSp</th>\n",
       "      <th>Parch</th>\n",
       "      <th>Fare</th>\n",
       "    </tr>\n",
       "    <tr>\n",
       "      <th>Survived</th>\n",
       "      <th></th>\n",
       "      <th></th>\n",
       "      <th></th>\n",
       "      <th></th>\n",
       "      <th></th>\n",
       "      <th></th>\n",
       "    </tr>\n",
       "  </thead>\n",
       "  <tbody>\n",
       "    <tr>\n",
       "      <th>0</th>\n",
       "      <td>245412</td>\n",
       "      <td>1390</td>\n",
       "      <td>12985.50</td>\n",
       "      <td>304</td>\n",
       "      <td>181</td>\n",
       "      <td>12142.7199</td>\n",
       "    </tr>\n",
       "    <tr>\n",
       "      <th>1</th>\n",
       "      <td>151974</td>\n",
       "      <td>667</td>\n",
       "      <td>8219.67</td>\n",
       "      <td>162</td>\n",
       "      <td>159</td>\n",
       "      <td>16551.2294</td>\n",
       "    </tr>\n",
       "  </tbody>\n",
       "</table>\n",
       "</div>"
      ],
      "text/plain": [
       "          PassengerId  Pclass       Age  SibSp  Parch        Fare\n",
       "Survived                                                         \n",
       "0              245412    1390  12985.50    304    181  12142.7199\n",
       "1              151974     667   8219.67    162    159  16551.2294"
      ]
     },
     "execution_count": 7,
     "metadata": {},
     "output_type": "execute_result"
    }
   ],
   "source": [
    "grouped_data.sum()"
   ]
  },
  {
   "cell_type": "markdown",
   "id": "c06e2ee3-0859-4ba3-a7c7-f1abc2cfb05f",
   "metadata": {},
   "source": [
    "5. merge() : function in pandas is used to combine two or more DataFrames based on a common column or index. It performs database-style join operations on the DataFrames."
   ]
  },
  {
   "cell_type": "code",
   "execution_count": 8,
   "id": "2e98d3db-f3d1-46cc-8702-d80959899c5e",
   "metadata": {},
   "outputs": [],
   "source": [
    "df1 = pd.DataFrame({'ID': [1, 2, 3, 4],\n",
    "                    'Name': ['Sumit', 'Amit', 'Nidhi', 'Alka']})\n",
    "\n",
    "df2 = pd.DataFrame({'ID': [2, 3, 4, 5],\n",
    "                    'Age': [25, 30, 27, 35]})\n"
   ]
  },
  {
   "cell_type": "code",
   "execution_count": 9,
   "id": "1dffba49-ff77-4ace-8c1c-8ba4d135a371",
   "metadata": {},
   "outputs": [
    {
     "data": {
      "text/html": [
       "<div>\n",
       "<style scoped>\n",
       "    .dataframe tbody tr th:only-of-type {\n",
       "        vertical-align: middle;\n",
       "    }\n",
       "\n",
       "    .dataframe tbody tr th {\n",
       "        vertical-align: top;\n",
       "    }\n",
       "\n",
       "    .dataframe thead th {\n",
       "        text-align: right;\n",
       "    }\n",
       "</style>\n",
       "<table border=\"1\" class=\"dataframe\">\n",
       "  <thead>\n",
       "    <tr style=\"text-align: right;\">\n",
       "      <th></th>\n",
       "      <th>ID</th>\n",
       "      <th>Name</th>\n",
       "      <th>Age</th>\n",
       "    </tr>\n",
       "  </thead>\n",
       "  <tbody>\n",
       "    <tr>\n",
       "      <th>0</th>\n",
       "      <td>2</td>\n",
       "      <td>Amit</td>\n",
       "      <td>25</td>\n",
       "    </tr>\n",
       "    <tr>\n",
       "      <th>1</th>\n",
       "      <td>3</td>\n",
       "      <td>Nidhi</td>\n",
       "      <td>30</td>\n",
       "    </tr>\n",
       "    <tr>\n",
       "      <th>2</th>\n",
       "      <td>4</td>\n",
       "      <td>Alka</td>\n",
       "      <td>27</td>\n",
       "    </tr>\n",
       "  </tbody>\n",
       "</table>\n",
       "</div>"
      ],
      "text/plain": [
       "   ID   Name  Age\n",
       "0   2   Amit   25\n",
       "1   3  Nidhi   30\n",
       "2   4   Alka   27"
      ]
     },
     "execution_count": 9,
     "metadata": {},
     "output_type": "execute_result"
    }
   ],
   "source": [
    "pd.merge(df1,df2)"
   ]
  },
  {
   "cell_type": "markdown",
   "id": "1962640c-8db1-4a97-ad2e-6e8cfd47b4c1",
   "metadata": {},
   "source": [
    "Ques 2"
   ]
  },
  {
   "cell_type": "code",
   "execution_count": 10,
   "id": "c9f104cf-6c6e-4a0d-bd6b-5e5176f5f509",
   "metadata": {},
   "outputs": [],
   "source": [
    "def reindex(df):\n",
    "    new_index = pd.RangeIndex(start=1, stop=len(df)*2, step=2)\n",
    "    df.index = new_index\n",
    "    return df"
   ]
  },
  {
   "cell_type": "code",
   "execution_count": 11,
   "id": "ba3ba63f-97dc-4968-97c9-3f86f41e973f",
   "metadata": {},
   "outputs": [],
   "source": [
    "df_ori = pd.DataFrame({'A': [1, 2, 3, 4, 5, 6, 7, 8, 9, 10],\n",
    "                   'B': [2, 4, 6, 8, 10, 12, 14, 16, 18, 20],\n",
    "                   'C': [3, 6, 9, 12, 15, 18, 21, 24, 27, 30]\n",
    "                  })"
   ]
  },
  {
   "cell_type": "code",
   "execution_count": 12,
   "id": "0540ce0d-f366-457e-9d0f-fca997f5b2d5",
   "metadata": {},
   "outputs": [
    {
     "data": {
      "text/html": [
       "<div>\n",
       "<style scoped>\n",
       "    .dataframe tbody tr th:only-of-type {\n",
       "        vertical-align: middle;\n",
       "    }\n",
       "\n",
       "    .dataframe tbody tr th {\n",
       "        vertical-align: top;\n",
       "    }\n",
       "\n",
       "    .dataframe thead th {\n",
       "        text-align: right;\n",
       "    }\n",
       "</style>\n",
       "<table border=\"1\" class=\"dataframe\">\n",
       "  <thead>\n",
       "    <tr style=\"text-align: right;\">\n",
       "      <th></th>\n",
       "      <th>A</th>\n",
       "      <th>B</th>\n",
       "      <th>C</th>\n",
       "    </tr>\n",
       "  </thead>\n",
       "  <tbody>\n",
       "    <tr>\n",
       "      <th>1</th>\n",
       "      <td>1</td>\n",
       "      <td>2</td>\n",
       "      <td>3</td>\n",
       "    </tr>\n",
       "    <tr>\n",
       "      <th>3</th>\n",
       "      <td>2</td>\n",
       "      <td>4</td>\n",
       "      <td>6</td>\n",
       "    </tr>\n",
       "    <tr>\n",
       "      <th>5</th>\n",
       "      <td>3</td>\n",
       "      <td>6</td>\n",
       "      <td>9</td>\n",
       "    </tr>\n",
       "    <tr>\n",
       "      <th>7</th>\n",
       "      <td>4</td>\n",
       "      <td>8</td>\n",
       "      <td>12</td>\n",
       "    </tr>\n",
       "    <tr>\n",
       "      <th>9</th>\n",
       "      <td>5</td>\n",
       "      <td>10</td>\n",
       "      <td>15</td>\n",
       "    </tr>\n",
       "    <tr>\n",
       "      <th>11</th>\n",
       "      <td>6</td>\n",
       "      <td>12</td>\n",
       "      <td>18</td>\n",
       "    </tr>\n",
       "    <tr>\n",
       "      <th>13</th>\n",
       "      <td>7</td>\n",
       "      <td>14</td>\n",
       "      <td>21</td>\n",
       "    </tr>\n",
       "    <tr>\n",
       "      <th>15</th>\n",
       "      <td>8</td>\n",
       "      <td>16</td>\n",
       "      <td>24</td>\n",
       "    </tr>\n",
       "    <tr>\n",
       "      <th>17</th>\n",
       "      <td>9</td>\n",
       "      <td>18</td>\n",
       "      <td>27</td>\n",
       "    </tr>\n",
       "    <tr>\n",
       "      <th>19</th>\n",
       "      <td>10</td>\n",
       "      <td>20</td>\n",
       "      <td>30</td>\n",
       "    </tr>\n",
       "  </tbody>\n",
       "</table>\n",
       "</div>"
      ],
      "text/plain": [
       "     A   B   C\n",
       "1    1   2   3\n",
       "3    2   4   6\n",
       "5    3   6   9\n",
       "7    4   8  12\n",
       "9    5  10  15\n",
       "11   6  12  18\n",
       "13   7  14  21\n",
       "15   8  16  24\n",
       "17   9  18  27\n",
       "19  10  20  30"
      ]
     },
     "execution_count": 12,
     "metadata": {},
     "output_type": "execute_result"
    }
   ],
   "source": [
    " reindex(df_ori)"
   ]
  },
  {
   "cell_type": "markdown",
   "id": "91b22607-f39f-4758-8d2a-7c164100c739",
   "metadata": {},
   "source": [
    "Ques 3"
   ]
  },
  {
   "cell_type": "code",
   "execution_count": 13,
   "id": "9e973055-773a-41d3-852f-612b20dc0ca6",
   "metadata": {},
   "outputs": [],
   "source": [
    "def cal_sum(df):\n",
    "    values_col=df['Values']\n",
    "    Sum_values=values_col[:3].sum()\n",
    "    return Sum_values"
   ]
  },
  {
   "cell_type": "code",
   "execution_count": 14,
   "id": "4f912efa-da32-4205-bca5-403681b8260d",
   "metadata": {},
   "outputs": [],
   "source": [
    "data=pd.DataFrame({'Values': [10,20,30,40,50]})"
   ]
  },
  {
   "cell_type": "code",
   "execution_count": 15,
   "id": "1d07b31d-29f8-48b9-93ee-e3dcc97849e7",
   "metadata": {},
   "outputs": [
    {
     "data": {
      "text/plain": [
       "60"
      ]
     },
     "execution_count": 15,
     "metadata": {},
     "output_type": "execute_result"
    }
   ],
   "source": [
    "cal_sum(data)"
   ]
  },
  {
   "cell_type": "markdown",
   "id": "b3535e0e-c95f-4b2a-8b9d-fac6af13e33f",
   "metadata": {},
   "source": [
    "Ques 4"
   ]
  },
  {
   "cell_type": "code",
   "execution_count": 16,
   "id": "ca52e8d1-4e88-458a-a6cf-bb6699af8eb2",
   "metadata": {},
   "outputs": [],
   "source": [
    "df=pd.DataFrame({'Text':['Reading data from GitHub', 'ensure you read from the raw URL.',' For example', 'in the above', 'if you try loading the data directly from',' https://github.com/datasciencedojo/datasets/blob/master/titanic.csv',' the download process will fail.',' When you land in such a URL',' open raw content using the “Raw” button at the top of the DataFrame then you will have the correct URL like the one we used in the above example.']})"
   ]
  },
  {
   "cell_type": "code",
   "execution_count": 17,
   "id": "3c1a2e5f-4432-49dd-8b52-c8335f70aeae",
   "metadata": {},
   "outputs": [],
   "source": [
    "df['Word_Count']=df['Text'].apply(len)"
   ]
  },
  {
   "cell_type": "code",
   "execution_count": 18,
   "id": "ecc8b999-107c-4325-a41a-30fc22aee100",
   "metadata": {},
   "outputs": [
    {
     "data": {
      "text/html": [
       "<div>\n",
       "<style scoped>\n",
       "    .dataframe tbody tr th:only-of-type {\n",
       "        vertical-align: middle;\n",
       "    }\n",
       "\n",
       "    .dataframe tbody tr th {\n",
       "        vertical-align: top;\n",
       "    }\n",
       "\n",
       "    .dataframe thead th {\n",
       "        text-align: right;\n",
       "    }\n",
       "</style>\n",
       "<table border=\"1\" class=\"dataframe\">\n",
       "  <thead>\n",
       "    <tr style=\"text-align: right;\">\n",
       "      <th></th>\n",
       "      <th>Text</th>\n",
       "      <th>Word_Count</th>\n",
       "    </tr>\n",
       "  </thead>\n",
       "  <tbody>\n",
       "    <tr>\n",
       "      <th>0</th>\n",
       "      <td>Reading data from GitHub</td>\n",
       "      <td>24</td>\n",
       "    </tr>\n",
       "    <tr>\n",
       "      <th>1</th>\n",
       "      <td>ensure you read from the raw URL.</td>\n",
       "      <td>33</td>\n",
       "    </tr>\n",
       "    <tr>\n",
       "      <th>2</th>\n",
       "      <td>For example</td>\n",
       "      <td>12</td>\n",
       "    </tr>\n",
       "    <tr>\n",
       "      <th>3</th>\n",
       "      <td>in the above</td>\n",
       "      <td>12</td>\n",
       "    </tr>\n",
       "    <tr>\n",
       "      <th>4</th>\n",
       "      <td>if you try loading the data directly from</td>\n",
       "      <td>41</td>\n",
       "    </tr>\n",
       "    <tr>\n",
       "      <th>5</th>\n",
       "      <td>https://github.com/datasciencedojo/datasets/b...</td>\n",
       "      <td>68</td>\n",
       "    </tr>\n",
       "    <tr>\n",
       "      <th>6</th>\n",
       "      <td>the download process will fail.</td>\n",
       "      <td>32</td>\n",
       "    </tr>\n",
       "    <tr>\n",
       "      <th>7</th>\n",
       "      <td>When you land in such a URL</td>\n",
       "      <td>28</td>\n",
       "    </tr>\n",
       "    <tr>\n",
       "      <th>8</th>\n",
       "      <td>open raw content using the “Raw” button at th...</td>\n",
       "      <td>146</td>\n",
       "    </tr>\n",
       "  </tbody>\n",
       "</table>\n",
       "</div>"
      ],
      "text/plain": [
       "                                                Text  Word_Count\n",
       "0                           Reading data from GitHub          24\n",
       "1                  ensure you read from the raw URL.          33\n",
       "2                                        For example          12\n",
       "3                                       in the above          12\n",
       "4          if you try loading the data directly from          41\n",
       "5   https://github.com/datasciencedojo/datasets/b...          68\n",
       "6                    the download process will fail.          32\n",
       "7                        When you land in such a URL          28\n",
       "8   open raw content using the “Raw” button at th...         146"
      ]
     },
     "execution_count": 18,
     "metadata": {},
     "output_type": "execute_result"
    }
   ],
   "source": [
    "df"
   ]
  },
  {
   "cell_type": "markdown",
   "id": "c682d045-dd16-4190-a411-bd3e55ae265a",
   "metadata": {},
   "source": [
    "Ques 5"
   ]
  },
  {
   "cell_type": "markdown",
   "id": "54ad9cb1-d259-4c7f-a9af-2ea63560e75e",
   "metadata": {},
   "source": [
    "DataFrame.size: It returns the total number of elements in the DataFrame. It is calculated as the product of the number of rows and columns in the DataFrame. In other words, it represents the total number of cells or entries in the DataFrame.\n",
    "\n",
    "DataFrame.shape: It returns a tuple representing the dimensions of the DataFrame, i.e., the number of rows and columns. The shape attribute is commonly used to check the dimensions of the DataFrame and is often used to access the number of rows or columns individually using indexing ."
   ]
  },
  {
   "cell_type": "code",
   "execution_count": 19,
   "id": "780d6fbc-fdf5-4f51-80fd-b4ea408b806d",
   "metadata": {},
   "outputs": [],
   "source": [
    "datas=pd.DataFrame({'A': [1, 2, 3,4,5,6], 'B': [4, 5, 6,7,8,9]})"
   ]
  },
  {
   "cell_type": "code",
   "execution_count": 20,
   "id": "80ec3021-e838-40d1-b0e9-d9f53c50403a",
   "metadata": {},
   "outputs": [
    {
     "data": {
      "text/plain": [
       "12"
      ]
     },
     "execution_count": 20,
     "metadata": {},
     "output_type": "execute_result"
    }
   ],
   "source": [
    "datas.size"
   ]
  },
  {
   "cell_type": "code",
   "execution_count": 21,
   "id": "af47dc36-3ef7-4ddd-b073-8a9194151a58",
   "metadata": {},
   "outputs": [
    {
     "data": {
      "text/plain": [
       "(6, 2)"
      ]
     },
     "execution_count": 21,
     "metadata": {},
     "output_type": "execute_result"
    }
   ],
   "source": [
    "datas.shape"
   ]
  },
  {
   "cell_type": "markdown",
   "id": "d2ee154f-bf1d-431b-81f3-9808b8652c24",
   "metadata": {},
   "source": [
    "Ques 6"
   ]
  },
  {
   "cell_type": "markdown",
   "id": "7cddac54-6214-4303-8b61-e30f3025158a",
   "metadata": {},
   "source": [
    "The function used to read an Excel file in pandas is pd.read_excel(). This function allows you to read data from an Excel file and create a DataFrame in pandas."
   ]
  },
  {
   "cell_type": "markdown",
   "id": "dc8ac90b-00e7-4536-bb1e-bed84215f89c",
   "metadata": {},
   "source": [
    "df = pd.read_excel('path/to/file.xlsx',sheet_name='Sheet1')"
   ]
  },
  {
   "cell_type": "markdown",
   "id": "edea45c5-9ec9-4d8a-b885-e0c4ffeee928",
   "metadata": {},
   "source": [
    "Ques 7"
   ]
  },
  {
   "cell_type": "code",
   "execution_count": 22,
   "id": "95952ac8-266a-4b71-bf81-a537e8d85dbd",
   "metadata": {},
   "outputs": [],
   "source": [
    "def extract_username(email):\n",
    "    return email.split('@')[0]\n",
    "def user_name(df):\n",
    "    df['Username']=df['Email'].apply(extract_username)\n",
    "    return df"
   ]
  },
  {
   "cell_type": "code",
   "execution_count": 23,
   "id": "4d90e151-fe93-41fa-be6c-06f7b9c54876",
   "metadata": {},
   "outputs": [],
   "source": [
    "df=pd.DataFrame({'Email':['Sumit.Kumar@gmail.com','Amit.Kumar@gmail.com','Nidhi.Kumari@gamil.com']})"
   ]
  },
  {
   "cell_type": "code",
   "execution_count": 24,
   "id": "b1c3e270-0cb0-43c5-9ea5-df03877f73f8",
   "metadata": {},
   "outputs": [
    {
     "data": {
      "text/html": [
       "<div>\n",
       "<style scoped>\n",
       "    .dataframe tbody tr th:only-of-type {\n",
       "        vertical-align: middle;\n",
       "    }\n",
       "\n",
       "    .dataframe tbody tr th {\n",
       "        vertical-align: top;\n",
       "    }\n",
       "\n",
       "    .dataframe thead th {\n",
       "        text-align: right;\n",
       "    }\n",
       "</style>\n",
       "<table border=\"1\" class=\"dataframe\">\n",
       "  <thead>\n",
       "    <tr style=\"text-align: right;\">\n",
       "      <th></th>\n",
       "      <th>Email</th>\n",
       "      <th>Username</th>\n",
       "    </tr>\n",
       "  </thead>\n",
       "  <tbody>\n",
       "    <tr>\n",
       "      <th>0</th>\n",
       "      <td>Sumit.Kumar@gmail.com</td>\n",
       "      <td>Sumit.Kumar</td>\n",
       "    </tr>\n",
       "    <tr>\n",
       "      <th>1</th>\n",
       "      <td>Amit.Kumar@gmail.com</td>\n",
       "      <td>Amit.Kumar</td>\n",
       "    </tr>\n",
       "    <tr>\n",
       "      <th>2</th>\n",
       "      <td>Nidhi.Kumari@gamil.com</td>\n",
       "      <td>Nidhi.Kumari</td>\n",
       "    </tr>\n",
       "  </tbody>\n",
       "</table>\n",
       "</div>"
      ],
      "text/plain": [
       "                    Email      Username\n",
       "0   Sumit.Kumar@gmail.com   Sumit.Kumar\n",
       "1    Amit.Kumar@gmail.com    Amit.Kumar\n",
       "2  Nidhi.Kumari@gamil.com  Nidhi.Kumari"
      ]
     },
     "execution_count": 24,
     "metadata": {},
     "output_type": "execute_result"
    }
   ],
   "source": [
    "user_name(df)"
   ]
  },
  {
   "cell_type": "markdown",
   "id": "ee0a4188-9976-4a2e-a7b4-6e5070629dbc",
   "metadata": {},
   "source": [
    "Ques 8"
   ]
  },
  {
   "cell_type": "code",
   "execution_count": 58,
   "id": "dcdc44ad-9d44-470d-886d-c3a3d882ce87",
   "metadata": {},
   "outputs": [],
   "source": [
    "def select_rows(df):\n",
    "    selected_rows=df.loc[(df['A']>5) & (df['B']<10)]\n",
    "    return selected_rows"
   ]
  },
  {
   "cell_type": "code",
   "execution_count": 59,
   "id": "3218daf6-2ae1-4dc6-aa3d-96eb336b1a15",
   "metadata": {},
   "outputs": [],
   "source": [
    "df=pd.DataFrame({'A':[3,8,6,2,9],\n",
    "                 'B':[5,2,9,3,1],\n",
    "                 'C':[1,7,4,5,2]})\n",
    "selected_df=select_rows(df)"
   ]
  },
  {
   "cell_type": "code",
   "execution_count": 60,
   "id": "629b910d-08c4-48c3-bd1a-695ab4c09975",
   "metadata": {},
   "outputs": [
    {
     "data": {
      "text/html": [
       "<div>\n",
       "<style scoped>\n",
       "    .dataframe tbody tr th:only-of-type {\n",
       "        vertical-align: middle;\n",
       "    }\n",
       "\n",
       "    .dataframe tbody tr th {\n",
       "        vertical-align: top;\n",
       "    }\n",
       "\n",
       "    .dataframe thead th {\n",
       "        text-align: right;\n",
       "    }\n",
       "</style>\n",
       "<table border=\"1\" class=\"dataframe\">\n",
       "  <thead>\n",
       "    <tr style=\"text-align: right;\">\n",
       "      <th></th>\n",
       "      <th>A</th>\n",
       "      <th>B</th>\n",
       "      <th>C</th>\n",
       "    </tr>\n",
       "  </thead>\n",
       "  <tbody>\n",
       "    <tr>\n",
       "      <th>1</th>\n",
       "      <td>8</td>\n",
       "      <td>2</td>\n",
       "      <td>7</td>\n",
       "    </tr>\n",
       "    <tr>\n",
       "      <th>2</th>\n",
       "      <td>6</td>\n",
       "      <td>9</td>\n",
       "      <td>4</td>\n",
       "    </tr>\n",
       "    <tr>\n",
       "      <th>4</th>\n",
       "      <td>9</td>\n",
       "      <td>1</td>\n",
       "      <td>2</td>\n",
       "    </tr>\n",
       "  </tbody>\n",
       "</table>\n",
       "</div>"
      ],
      "text/plain": [
       "   A  B  C\n",
       "1  8  2  7\n",
       "2  6  9  4\n",
       "4  9  1  2"
      ]
     },
     "execution_count": 60,
     "metadata": {},
     "output_type": "execute_result"
    }
   ],
   "source": [
    "selected_df"
   ]
  },
  {
   "cell_type": "markdown",
   "id": "4780d2c2-a2e2-4a10-ba14-b68fd48c0051",
   "metadata": {},
   "source": [
    "Ques 9"
   ]
  },
  {
   "cell_type": "code",
   "execution_count": 75,
   "id": "89759081-7469-4e4d-b392-cb79840b2b24",
   "metadata": {},
   "outputs": [
    {
     "name": "stdout",
     "output_type": "stream",
     "text": [
      "Mean: 5.111111111111111\n",
      "Median: 5.0\n",
      "Standard Deviation: 2.6666666666666665\n"
     ]
    }
   ],
   "source": [
    "df_val=pd.DataFrame({'Values':[1,2,4,4,5,6,7,8,9]})\n",
    "mean_value = df_val['Values'].mean()\n",
    "median_value = df_val['Values'].median()\n",
    "std_value = df_val['Values'].std()\n",
    "\n",
    "\n",
    "print(\"Mean:\", mean_value)\n",
    "print(\"Median:\", median_value)\n",
    "print(\"Standard Deviation:\", std_value)"
   ]
  },
  {
   "cell_type": "markdown",
   "id": "3ca44e17-efdc-4f2c-8310-22a025a32dc1",
   "metadata": {},
   "source": [
    "Ques 10"
   ]
  },
  {
   "cell_type": "code",
   "execution_count": 85,
   "id": "f8d1af1f-fdb3-4bb2-ae5f-d0c6a320562a",
   "metadata": {},
   "outputs": [],
   "source": [
    "import datetime\n",
    "\n",
    "data = {'Date': [(datetime.datetime.now().date() + datetime.timedelta(days=i)).strftime('%Y-%m-%d') for i in range(15)],\n",
    "        'Sales': [10, 15, 8, 12, 20, 18, 16, 11, 9, 14, 13, 17, 22, 19, 21]}\n"
   ]
  },
  {
   "cell_type": "code",
   "execution_count": 86,
   "id": "af2ccb3c-7caa-46e1-a548-e9d635166397",
   "metadata": {},
   "outputs": [
    {
     "data": {
      "text/plain": [
       "{'Date': ['2023-07-06',\n",
       "  '2023-07-07',\n",
       "  '2023-07-08',\n",
       "  '2023-07-09',\n",
       "  '2023-07-10',\n",
       "  '2023-07-11',\n",
       "  '2023-07-12',\n",
       "  '2023-07-13',\n",
       "  '2023-07-14',\n",
       "  '2023-07-15',\n",
       "  '2023-07-16',\n",
       "  '2023-07-17',\n",
       "  '2023-07-18',\n",
       "  '2023-07-19',\n",
       "  '2023-07-20'],\n",
       " 'Sales': [10, 15, 8, 12, 20, 18, 16, 11, 9, 14, 13, 17, 22, 19, 21]}"
      ]
     },
     "execution_count": 86,
     "metadata": {},
     "output_type": "execute_result"
    }
   ],
   "source": [
    "data"
   ]
  },
  {
   "cell_type": "code",
   "execution_count": 87,
   "id": "4aa9b412-07b9-405d-8678-8a3ad8b9f7be",
   "metadata": {},
   "outputs": [],
   "source": [
    "def moving_avg(df):\n",
    "    df['Date'] = pd.to_datetime(df['Date'])\n",
    "    df.sort_values(by='Date', inplace=True)\n",
    "    df['MovingAverage'] = df['Sales'].rolling(window=7, min_periods=1).mean()\n",
    "    return df\n"
   ]
  },
  {
   "cell_type": "code",
   "execution_count": 90,
   "id": "56ab6a3d-f1fa-43ab-9706-d2cc69fa64ad",
   "metadata": {},
   "outputs": [
    {
     "data": {
      "text/html": [
       "<div>\n",
       "<style scoped>\n",
       "    .dataframe tbody tr th:only-of-type {\n",
       "        vertical-align: middle;\n",
       "    }\n",
       "\n",
       "    .dataframe tbody tr th {\n",
       "        vertical-align: top;\n",
       "    }\n",
       "\n",
       "    .dataframe thead th {\n",
       "        text-align: right;\n",
       "    }\n",
       "</style>\n",
       "<table border=\"1\" class=\"dataframe\">\n",
       "  <thead>\n",
       "    <tr style=\"text-align: right;\">\n",
       "      <th></th>\n",
       "      <th>Date</th>\n",
       "      <th>Sales</th>\n",
       "      <th>MovingAverage</th>\n",
       "    </tr>\n",
       "  </thead>\n",
       "  <tbody>\n",
       "    <tr>\n",
       "      <th>0</th>\n",
       "      <td>2023-07-06</td>\n",
       "      <td>10</td>\n",
       "      <td>10.000000</td>\n",
       "    </tr>\n",
       "    <tr>\n",
       "      <th>1</th>\n",
       "      <td>2023-07-07</td>\n",
       "      <td>15</td>\n",
       "      <td>12.500000</td>\n",
       "    </tr>\n",
       "    <tr>\n",
       "      <th>2</th>\n",
       "      <td>2023-07-08</td>\n",
       "      <td>8</td>\n",
       "      <td>11.000000</td>\n",
       "    </tr>\n",
       "    <tr>\n",
       "      <th>3</th>\n",
       "      <td>2023-07-09</td>\n",
       "      <td>12</td>\n",
       "      <td>11.250000</td>\n",
       "    </tr>\n",
       "    <tr>\n",
       "      <th>4</th>\n",
       "      <td>2023-07-10</td>\n",
       "      <td>20</td>\n",
       "      <td>13.000000</td>\n",
       "    </tr>\n",
       "    <tr>\n",
       "      <th>5</th>\n",
       "      <td>2023-07-11</td>\n",
       "      <td>18</td>\n",
       "      <td>13.833333</td>\n",
       "    </tr>\n",
       "    <tr>\n",
       "      <th>6</th>\n",
       "      <td>2023-07-12</td>\n",
       "      <td>16</td>\n",
       "      <td>14.142857</td>\n",
       "    </tr>\n",
       "    <tr>\n",
       "      <th>7</th>\n",
       "      <td>2023-07-13</td>\n",
       "      <td>11</td>\n",
       "      <td>14.285714</td>\n",
       "    </tr>\n",
       "    <tr>\n",
       "      <th>8</th>\n",
       "      <td>2023-07-14</td>\n",
       "      <td>9</td>\n",
       "      <td>13.428571</td>\n",
       "    </tr>\n",
       "    <tr>\n",
       "      <th>9</th>\n",
       "      <td>2023-07-15</td>\n",
       "      <td>14</td>\n",
       "      <td>14.285714</td>\n",
       "    </tr>\n",
       "    <tr>\n",
       "      <th>10</th>\n",
       "      <td>2023-07-16</td>\n",
       "      <td>13</td>\n",
       "      <td>14.428571</td>\n",
       "    </tr>\n",
       "    <tr>\n",
       "      <th>11</th>\n",
       "      <td>2023-07-17</td>\n",
       "      <td>17</td>\n",
       "      <td>14.000000</td>\n",
       "    </tr>\n",
       "    <tr>\n",
       "      <th>12</th>\n",
       "      <td>2023-07-18</td>\n",
       "      <td>22</td>\n",
       "      <td>14.571429</td>\n",
       "    </tr>\n",
       "    <tr>\n",
       "      <th>13</th>\n",
       "      <td>2023-07-19</td>\n",
       "      <td>19</td>\n",
       "      <td>15.000000</td>\n",
       "    </tr>\n",
       "    <tr>\n",
       "      <th>14</th>\n",
       "      <td>2023-07-20</td>\n",
       "      <td>21</td>\n",
       "      <td>16.428571</td>\n",
       "    </tr>\n",
       "  </tbody>\n",
       "</table>\n",
       "</div>"
      ],
      "text/plain": [
       "         Date  Sales  MovingAverage\n",
       "0  2023-07-06     10      10.000000\n",
       "1  2023-07-07     15      12.500000\n",
       "2  2023-07-08      8      11.000000\n",
       "3  2023-07-09     12      11.250000\n",
       "4  2023-07-10     20      13.000000\n",
       "5  2023-07-11     18      13.833333\n",
       "6  2023-07-12     16      14.142857\n",
       "7  2023-07-13     11      14.285714\n",
       "8  2023-07-14      9      13.428571\n",
       "9  2023-07-15     14      14.285714\n",
       "10 2023-07-16     13      14.428571\n",
       "11 2023-07-17     17      14.000000\n",
       "12 2023-07-18     22      14.571429\n",
       "13 2023-07-19     19      15.000000\n",
       "14 2023-07-20     21      16.428571"
      ]
     },
     "execution_count": 90,
     "metadata": {},
     "output_type": "execute_result"
    }
   ],
   "source": [
    "data_avg=pd.DataFrame(data)\n",
    "moving_avg(data_avg)"
   ]
  },
  {
   "cell_type": "markdown",
   "id": "5f1c4d4c-2cef-44bf-b1b6-4e85912c3ad4",
   "metadata": {},
   "source": [
    "Ques 11"
   ]
  },
  {
   "cell_type": "code",
   "execution_count": 92,
   "id": "daad70db-b4ca-4206-b2fc-a93542a535f6",
   "metadata": {},
   "outputs": [],
   "source": [
    "df_weekday=pd.DataFrame({'Date':['2023-01-01','2023-01-02','2023-01-03','2023-01-04','2023-01-05']})"
   ]
  },
  {
   "cell_type": "code",
   "execution_count": 97,
   "id": "ebd05d5f-ddc0-40d0-b024-5c1b940fdda0",
   "metadata": {},
   "outputs": [],
   "source": [
    "def weekday(df):\n",
    "    df['Weekday']=pd.to_datetime(df['Date']).dt.day_name()\n",
    "    return df"
   ]
  },
  {
   "cell_type": "code",
   "execution_count": 99,
   "id": "434148a4-d673-4d20-9abe-1ca9fca68cfb",
   "metadata": {},
   "outputs": [
    {
     "data": {
      "text/html": [
       "<div>\n",
       "<style scoped>\n",
       "    .dataframe tbody tr th:only-of-type {\n",
       "        vertical-align: middle;\n",
       "    }\n",
       "\n",
       "    .dataframe tbody tr th {\n",
       "        vertical-align: top;\n",
       "    }\n",
       "\n",
       "    .dataframe thead th {\n",
       "        text-align: right;\n",
       "    }\n",
       "</style>\n",
       "<table border=\"1\" class=\"dataframe\">\n",
       "  <thead>\n",
       "    <tr style=\"text-align: right;\">\n",
       "      <th></th>\n",
       "      <th>Date</th>\n",
       "      <th>Weekday</th>\n",
       "    </tr>\n",
       "  </thead>\n",
       "  <tbody>\n",
       "    <tr>\n",
       "      <th>0</th>\n",
       "      <td>2023-01-01</td>\n",
       "      <td>Sunday</td>\n",
       "    </tr>\n",
       "    <tr>\n",
       "      <th>1</th>\n",
       "      <td>2023-01-02</td>\n",
       "      <td>Monday</td>\n",
       "    </tr>\n",
       "    <tr>\n",
       "      <th>2</th>\n",
       "      <td>2023-01-03</td>\n",
       "      <td>Tuesday</td>\n",
       "    </tr>\n",
       "    <tr>\n",
       "      <th>3</th>\n",
       "      <td>2023-01-04</td>\n",
       "      <td>Wednesday</td>\n",
       "    </tr>\n",
       "    <tr>\n",
       "      <th>4</th>\n",
       "      <td>2023-01-05</td>\n",
       "      <td>Thursday</td>\n",
       "    </tr>\n",
       "  </tbody>\n",
       "</table>\n",
       "</div>"
      ],
      "text/plain": [
       "         Date    Weekday\n",
       "0  2023-01-01     Sunday\n",
       "1  2023-01-02     Monday\n",
       "2  2023-01-03    Tuesday\n",
       "3  2023-01-04  Wednesday\n",
       "4  2023-01-05   Thursday"
      ]
     },
     "execution_count": 99,
     "metadata": {},
     "output_type": "execute_result"
    }
   ],
   "source": [
    "weekday(df_weekday)"
   ]
  },
  {
   "cell_type": "markdown",
   "id": "40b35c18-86c4-4457-b437-c0f026c1a5a2",
   "metadata": {},
   "source": [
    "Ques 12"
   ]
  },
  {
   "cell_type": "code",
   "execution_count": 110,
   "id": "c3b6e604-1622-4fa0-9f3e-2911f7466a79",
   "metadata": {},
   "outputs": [],
   "source": [
    "data = {'Date': ['2023-01-02', '2023-01-15', '2023-01-25', '2023-02-05', '2023-03-10'],\n",
    "        'Value': [10, 20, 30, 40, 50]}\n",
    "df = pd.DataFrame(data)"
   ]
  },
  {
   "cell_type": "code",
   "execution_count": 111,
   "id": "950aa045-2580-426d-9bd9-c73c556c9260",
   "metadata": {},
   "outputs": [],
   "source": [
    "def rows_date(df):\n",
    "    df['Date'] = pd.to_datetime(df['Date'])  # Convert 'Date' column to datetime if not already\n",
    "    start_date = pd.to_datetime('2023-01-01')\n",
    "    end_date = pd.to_datetime('2023-01-31')\n",
    "    selected_rows = df[(df['Date'] >= start_date) & (df['Date'] <= end_date)]\n",
    "    return selected_rows\n"
   ]
  },
  {
   "cell_type": "code",
   "execution_count": 112,
   "id": "6d4d322d-9642-4e32-8ad0-2aa23d3fe1d6",
   "metadata": {},
   "outputs": [
    {
     "data": {
      "text/html": [
       "<div>\n",
       "<style scoped>\n",
       "    .dataframe tbody tr th:only-of-type {\n",
       "        vertical-align: middle;\n",
       "    }\n",
       "\n",
       "    .dataframe tbody tr th {\n",
       "        vertical-align: top;\n",
       "    }\n",
       "\n",
       "    .dataframe thead th {\n",
       "        text-align: right;\n",
       "    }\n",
       "</style>\n",
       "<table border=\"1\" class=\"dataframe\">\n",
       "  <thead>\n",
       "    <tr style=\"text-align: right;\">\n",
       "      <th></th>\n",
       "      <th>Date</th>\n",
       "      <th>Value</th>\n",
       "    </tr>\n",
       "  </thead>\n",
       "  <tbody>\n",
       "    <tr>\n",
       "      <th>0</th>\n",
       "      <td>2023-01-02</td>\n",
       "      <td>10</td>\n",
       "    </tr>\n",
       "    <tr>\n",
       "      <th>1</th>\n",
       "      <td>2023-01-15</td>\n",
       "      <td>20</td>\n",
       "    </tr>\n",
       "    <tr>\n",
       "      <th>2</th>\n",
       "      <td>2023-01-25</td>\n",
       "      <td>30</td>\n",
       "    </tr>\n",
       "  </tbody>\n",
       "</table>\n",
       "</div>"
      ],
      "text/plain": [
       "        Date  Value\n",
       "0 2023-01-02     10\n",
       "1 2023-01-15     20\n",
       "2 2023-01-25     30"
      ]
     },
     "execution_count": 112,
     "metadata": {},
     "output_type": "execute_result"
    }
   ],
   "source": [
    "rows_date(df)"
   ]
  },
  {
   "cell_type": "markdown",
   "id": "946c28c0-641a-455f-8f9c-64dd5e888b11",
   "metadata": {},
   "source": [
    "Ques 13"
   ]
  },
  {
   "cell_type": "markdown",
   "id": "b0bfae36-9b3d-4576-adc7-f164410edd22",
   "metadata": {},
   "source": [
    "The first and foremost library that needs to be imported to use the basic functions of pandas is the pandas library itself. It is the primary library for data manipulation and analysis in Python. To import pandas, you can use the following import statement:"
   ]
  },
  {
   "cell_type": "code",
   "execution_count": 113,
   "id": "012d38a6-dd54-40a1-bcbc-bebbab55d72c",
   "metadata": {},
   "outputs": [],
   "source": [
    "import pandas as pd"
   ]
  },
  {
   "cell_type": "code",
   "execution_count": null,
   "id": "65316375-88fb-4f35-9523-f86ccf80fdb2",
   "metadata": {},
   "outputs": [],
   "source": []
  }
 ],
 "metadata": {
  "kernelspec": {
   "display_name": "Python 3 (ipykernel)",
   "language": "python",
   "name": "python3"
  },
  "language_info": {
   "codemirror_mode": {
    "name": "ipython",
    "version": 3
   },
   "file_extension": ".py",
   "mimetype": "text/x-python",
   "name": "python",
   "nbconvert_exporter": "python",
   "pygments_lexer": "ipython3",
   "version": "3.10.8"
  }
 },
 "nbformat": 4,
 "nbformat_minor": 5
}
