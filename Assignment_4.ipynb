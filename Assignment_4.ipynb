{
 "cells": [
  {
   "cell_type": "code",
   "execution_count": 1,
   "id": "109c4a99-d93e-42ad-984f-afca4de0c004",
   "metadata": {},
   "outputs": [],
   "source": [
    "# ques 1"
   ]
  },
  {
   "cell_type": "code",
   "execution_count": 2,
   "id": "f1322b9f-177e-4607-a54a-e313bacbeb2c",
   "metadata": {},
   "outputs": [],
   "source": [
    "t=[('Sachin Tendulkar', 34357), ('Ricky Ponting', 27483), ('Jack Kallis', 25534), ('Virat Kohli', 24936)]"
   ]
  },
  {
   "cell_type": "code",
   "execution_count": 3,
   "id": "7e3c6b70-a4af-4001-b12f-fb79ec41efe4",
   "metadata": {},
   "outputs": [],
   "source": [
    "sorted_data=sorted(t,key=lambda x:x[1])"
   ]
  },
  {
   "cell_type": "code",
   "execution_count": 4,
   "id": "2d4c11fc-63d4-449a-9687-6507901cc069",
   "metadata": {},
   "outputs": [
    {
     "name": "stdout",
     "output_type": "stream",
     "text": [
      "('Virat Kohli', 24936)\n",
      "('Jack Kallis', 25534)\n",
      "('Ricky Ponting', 27483)\n",
      "('Sachin Tendulkar', 34357)\n"
     ]
    }
   ],
   "source": [
    "for i in sorted_data:\n",
    "    print(i)"
   ]
  },
  {
   "cell_type": "code",
   "execution_count": 5,
   "id": "017f2a43-a591-4fc6-bc04-0619272aba0d",
   "metadata": {},
   "outputs": [],
   "source": [
    "# ques 2"
   ]
  },
  {
   "cell_type": "code",
   "execution_count": 6,
   "id": "08b2f892-afe0-46c7-a957-9629c46a7054",
   "metadata": {},
   "outputs": [],
   "source": [
    "inte=[1, 2, 3, 4, 5, 6, 7, 8, 9, 10]"
   ]
  },
  {
   "cell_type": "code",
   "execution_count": 7,
   "id": "418b7876-6bc0-4e51-b35f-c04e4fd0ccc5",
   "metadata": {},
   "outputs": [
    {
     "data": {
      "text/plain": [
       "[1, 4, 9, 16, 25, 36, 49, 64, 81, 100]"
      ]
     },
     "execution_count": 7,
     "metadata": {},
     "output_type": "execute_result"
    }
   ],
   "source": [
    "list(map(lambda x:x**2,inte))"
   ]
  },
  {
   "cell_type": "code",
   "execution_count": 8,
   "id": "35f320a1-9a05-463a-ae81-fce8341ee942",
   "metadata": {},
   "outputs": [],
   "source": [
    "# ques 3"
   ]
  },
  {
   "cell_type": "code",
   "execution_count": 9,
   "id": "93bb529f-6cba-42c0-a8e0-81be226f5153",
   "metadata": {},
   "outputs": [],
   "source": [
    "Given=[1, 2, 3, 4, 5, 6, 7, 8, 9, 10]"
   ]
  },
  {
   "cell_type": "code",
   "execution_count": 10,
   "id": "0acfeddd-93b5-4b12-8bff-7887a30333ce",
   "metadata": {},
   "outputs": [
    {
     "data": {
      "text/plain": [
       "('1', '2', '3', '4', '5', '6', '7', '8', '9', '10')"
      ]
     },
     "execution_count": 10,
     "metadata": {},
     "output_type": "execute_result"
    }
   ],
   "source": [
    "tuple(map(lambda x:str(x),Given))"
   ]
  },
  {
   "cell_type": "code",
   "execution_count": 11,
   "id": "1f8e1529-b494-4ed9-9264-c6512398c293",
   "metadata": {},
   "outputs": [],
   "source": [
    "#ques 4"
   ]
  },
  {
   "cell_type": "code",
   "execution_count": 12,
   "id": "998fe191-b8f1-4e04-8d8b-3ab9d38a511f",
   "metadata": {},
   "outputs": [],
   "source": [
    "nu=list(range(1,25))"
   ]
  },
  {
   "cell_type": "code",
   "execution_count": 13,
   "id": "beae1d11-07de-452e-8ef1-9419d05f46e3",
   "metadata": {},
   "outputs": [
    {
     "data": {
      "text/plain": [
       "620448401733239439360000"
      ]
     },
     "execution_count": 13,
     "metadata": {},
     "output_type": "execute_result"
    }
   ],
   "source": [
    "from functools import reduce\n",
    "reduce(lambda x,y:x*y,nu)"
   ]
  },
  {
   "cell_type": "code",
   "execution_count": 14,
   "id": "38a89c99-a864-4ea9-b565-06a9450eb176",
   "metadata": {},
   "outputs": [],
   "source": [
    "# ques 5"
   ]
  },
  {
   "cell_type": "code",
   "execution_count": 15,
   "id": "3f65f7af-93c6-49bb-91b2-438d41a178d2",
   "metadata": {},
   "outputs": [],
   "source": [
    "numb=[2, 3, 6, 9, 27, 60, 90, 120, 55, 46]"
   ]
  },
  {
   "cell_type": "code",
   "execution_count": 16,
   "id": "6e083f2e-7501-4255-8fd8-5a7e12f3d584",
   "metadata": {},
   "outputs": [
    {
     "data": {
      "text/plain": [
       "[6, 60, 90, 120]"
      ]
     },
     "execution_count": 16,
     "metadata": {},
     "output_type": "execute_result"
    }
   ],
   "source": [
    "list(filter(lambda x:(x%2==0 and x%3==0) ,numb))"
   ]
  },
  {
   "cell_type": "code",
   "execution_count": 17,
   "id": "3eb590a8-85a4-491e-b1f9-db2cb9b92dd8",
   "metadata": {},
   "outputs": [],
   "source": [
    "# ques 6"
   ]
  },
  {
   "cell_type": "code",
   "execution_count": 18,
   "id": "863703e9-deb4-45de-865a-1d35e8d2b652",
   "metadata": {},
   "outputs": [
    {
     "data": {
      "text/plain": [
       "['php', 'aba', 'radar', 'level']"
      ]
     },
     "execution_count": 18,
     "metadata": {},
     "output_type": "execute_result"
    }
   ],
   "source": [
    "pal=['python', 'php', 'aba', 'radar', 'level']\n",
    "list(filter(lambda x:x[::]==x[::-1],pal))"
   ]
  },
  {
   "cell_type": "code",
   "execution_count": null,
   "id": "407b03b3-fc9a-4f56-bdb4-1c825bb63ee3",
   "metadata": {},
   "outputs": [],
   "source": []
  }
 ],
 "metadata": {
  "kernelspec": {
   "display_name": "Python 3 (ipykernel)",
   "language": "python",
   "name": "python3"
  },
  "language_info": {
   "codemirror_mode": {
    "name": "ipython",
    "version": 3
   },
   "file_extension": ".py",
   "mimetype": "text/x-python",
   "name": "python",
   "nbconvert_exporter": "python",
   "pygments_lexer": "ipython3",
   "version": "3.10.8"
  }
 },
 "nbformat": 4,
 "nbformat_minor": 5
}
