{
 "cells": [
  {
   "cell_type": "code",
   "execution_count": 39,
   "id": "109c4a99-d93e-42ad-984f-afca4de0c004",
   "metadata": {},
   "outputs": [],
   "source": [
    "# ques 1"
   ]
  },
  {
   "cell_type": "code",
   "execution_count": 40,
   "id": "f1322b9f-177e-4607-a54a-e313bacbeb2c",
   "metadata": {},
   "outputs": [],
   "source": [
    "t=[('Sachin Tendulkar', 34357), ('Ricky Ponting', 27483), ('Jack Kallis', 25534), ('Virat Kohli', 24936)]"
   ]
  },
  {
   "cell_type": "code",
   "execution_count": 41,
   "id": "7e3c6b70-a4af-4001-b12f-fb79ec41efe4",
   "metadata": {},
   "outputs": [],
   "source": [
    "sorted_data=sorted(t,key=lambda x:x[1])"
   ]
  },
  {
   "cell_type": "code",
   "execution_count": 42,
   "id": "2d4c11fc-63d4-449a-9687-6507901cc069",
   "metadata": {},
   "outputs": [
    {
     "name": "stdout",
     "output_type": "stream",
     "text": [
      "('Virat Kohli', 24936)\n",
      "('Jack Kallis', 25534)\n",
      "('Ricky Ponting', 27483)\n",
      "('Sachin Tendulkar', 34357)\n"
     ]
    }
   ],
   "source": [
    "for i in sorted_data:\n",
    "    print(i)"
   ]
  },
  {
   "cell_type": "code",
   "execution_count": 43,
   "id": "017f2a43-a591-4fc6-bc04-0619272aba0d",
   "metadata": {},
   "outputs": [],
   "source": [
    "# ques 2"
   ]
  },
  {
   "cell_type": "code",
   "execution_count": 44,
   "id": "08b2f892-afe0-46c7-a957-9629c46a7054",
   "metadata": {},
   "outputs": [],
   "source": [
    "inte=[1, 2, 3, 4, 5, 6, 7, 8, 9, 10]"
   ]
  },
  {
   "cell_type": "code",
   "execution_count": 45,
   "id": "418b7876-6bc0-4e51-b35f-c04e4fd0ccc5",
   "metadata": {},
   "outputs": [
    {
     "data": {
      "text/plain": [
       "[1, 4, 9, 16, 25, 36, 49, 64, 81, 100]"
      ]
     },
     "execution_count": 45,
     "metadata": {},
     "output_type": "execute_result"
    }
   ],
   "source": [
    "list(map(lambda x:x**2,inte))"
   ]
  },
  {
   "cell_type": "code",
   "execution_count": 46,
   "id": "35f320a1-9a05-463a-ae81-fce8341ee942",
   "metadata": {},
   "outputs": [],
   "source": [
    "# ques 3"
   ]
  },
  {
   "cell_type": "code",
   "execution_count": 47,
   "id": "93bb529f-6cba-42c0-a8e0-81be226f5153",
   "metadata": {},
   "outputs": [],
   "source": [
    "Given=[1, 2, 3, 4, 5, 6, 7, 8, 9, 10]"
   ]
  },
  {
   "cell_type": "code",
   "execution_count": 48,
   "id": "0acfeddd-93b5-4b12-8bff-7887a30333ce",
   "metadata": {},
   "outputs": [
    {
     "data": {
      "text/plain": [
       "('1', '2', '3', '4', '5', '6', '7', '8', '9', '10')"
      ]
     },
     "execution_count": 48,
     "metadata": {},
     "output_type": "execute_result"
    }
   ],
   "source": [
    "tuple(map(lambda x:str(x),Given))"
   ]
  },
  {
   "cell_type": "code",
   "execution_count": 49,
   "id": "1f8e1529-b494-4ed9-9264-c6512398c293",
   "metadata": {},
   "outputs": [],
   "source": [
    "#ques 4"
   ]
  },
  {
   "cell_type": "code",
   "execution_count": 50,
   "id": "998fe191-b8f1-4e04-8d8b-3ab9d38a511f",
   "metadata": {},
   "outputs": [],
   "source": [
    "nu=list(range(1,25))"
   ]
  },
  {
   "cell_type": "code",
   "execution_count": 51,
   "id": "beae1d11-07de-452e-8ef1-9419d05f46e3",
   "metadata": {},
   "outputs": [
    {
     "data": {
      "text/plain": [
       "620448401733239439360000"
      ]
     },
     "execution_count": 51,
     "metadata": {},
     "output_type": "execute_result"
    }
   ],
   "source": [
    "from functools import reduce\n",
    "reduce(lambda x,y:x*y,nu)"
   ]
  },
  {
   "cell_type": "code",
   "execution_count": 52,
   "id": "38a89c99-a864-4ea9-b565-06a9450eb176",
   "metadata": {},
   "outputs": [],
   "source": [
    "# ques 5"
   ]
  },
  {
   "cell_type": "code",
   "execution_count": 53,
   "id": "3f65f7af-93c6-49bb-91b2-438d41a178d2",
   "metadata": {},
   "outputs": [],
   "source": [
    "numb=[2, 3, 6, 9, 27, 60, 90, 120, 55, 46]"
   ]
  },
  {
   "cell_type": "code",
   "execution_count": 54,
   "id": "6e083f2e-7501-4255-8fd8-5a7e12f3d584",
   "metadata": {},
   "outputs": [
    {
     "data": {
      "text/plain": [
       "[6, 60, 90, 120]"
      ]
     },
     "execution_count": 54,
     "metadata": {},
     "output_type": "execute_result"
    }
   ],
   "source": [
    "list(filter(lambda x:(x%2==0 and x%3==0) ,numb))"
   ]
  },
  {
   "cell_type": "code",
   "execution_count": 55,
   "id": "3eb590a8-85a4-491e-b1f9-db2cb9b92dd8",
   "metadata": {},
   "outputs": [],
   "source": [
    "# ques 6"
   ]
  },
  {
   "cell_type": "code",
   "execution_count": 56,
   "id": "863703e9-deb4-45de-865a-1d35e8d2b652",
   "metadata": {},
   "outputs": [
    {
     "ename": "AttributeError",
     "evalue": "'str' object has no attribute 'reverse'",
     "output_type": "error",
     "traceback": [
      "\u001b[0;31m---------------------------------------------------------------------------\u001b[0m",
      "\u001b[0;31mAttributeError\u001b[0m                            Traceback (most recent call last)",
      "Cell \u001b[0;32mIn[56], line 2\u001b[0m\n\u001b[1;32m      1\u001b[0m pal\u001b[38;5;241m=\u001b[39m[\u001b[38;5;124m'\u001b[39m\u001b[38;5;124mpython\u001b[39m\u001b[38;5;124m'\u001b[39m, \u001b[38;5;124m'\u001b[39m\u001b[38;5;124mphp\u001b[39m\u001b[38;5;124m'\u001b[39m, \u001b[38;5;124m'\u001b[39m\u001b[38;5;124maba\u001b[39m\u001b[38;5;124m'\u001b[39m, \u001b[38;5;124m'\u001b[39m\u001b[38;5;124mradar\u001b[39m\u001b[38;5;124m'\u001b[39m, \u001b[38;5;124m'\u001b[39m\u001b[38;5;124mlevel\u001b[39m\u001b[38;5;124m'\u001b[39m]\n\u001b[0;32m----> 2\u001b[0m \u001b[38;5;28;43mlist\u001b[39;49m\u001b[43m(\u001b[49m\u001b[38;5;28;43mfilter\u001b[39;49m\u001b[43m(\u001b[49m\u001b[38;5;28;43;01mlambda\u001b[39;49;00m\u001b[43m \u001b[49m\u001b[43mx\u001b[49m\u001b[43m:\u001b[49m\u001b[43mx\u001b[49m\u001b[38;5;241;43m==\u001b[39;49m\u001b[43mx\u001b[49m\u001b[38;5;241;43m.\u001b[39;49m\u001b[43mreverse\u001b[49m\u001b[43m,\u001b[49m\u001b[43mpal\u001b[49m\u001b[43m)\u001b[49m\u001b[43m)\u001b[49m\n",
      "Cell \u001b[0;32mIn[56], line 2\u001b[0m, in \u001b[0;36m<lambda>\u001b[0;34m(x)\u001b[0m\n\u001b[1;32m      1\u001b[0m pal\u001b[38;5;241m=\u001b[39m[\u001b[38;5;124m'\u001b[39m\u001b[38;5;124mpython\u001b[39m\u001b[38;5;124m'\u001b[39m, \u001b[38;5;124m'\u001b[39m\u001b[38;5;124mphp\u001b[39m\u001b[38;5;124m'\u001b[39m, \u001b[38;5;124m'\u001b[39m\u001b[38;5;124maba\u001b[39m\u001b[38;5;124m'\u001b[39m, \u001b[38;5;124m'\u001b[39m\u001b[38;5;124mradar\u001b[39m\u001b[38;5;124m'\u001b[39m, \u001b[38;5;124m'\u001b[39m\u001b[38;5;124mlevel\u001b[39m\u001b[38;5;124m'\u001b[39m]\n\u001b[0;32m----> 2\u001b[0m \u001b[38;5;28mlist\u001b[39m(\u001b[38;5;28mfilter\u001b[39m(\u001b[38;5;28;01mlambda\u001b[39;00m x:x\u001b[38;5;241m==\u001b[39m\u001b[43mx\u001b[49m\u001b[38;5;241;43m.\u001b[39;49m\u001b[43mreverse\u001b[49m,pal))\n",
      "\u001b[0;31mAttributeError\u001b[0m: 'str' object has no attribute 'reverse'"
     ]
    }
   ],
   "source": [
    "pal=['python', 'php', 'aba', 'radar', 'level']\n",
    "list(filter(lambda x:x==x.reverse,pal))"
   ]
  },
  {
   "cell_type": "code",
   "execution_count": 57,
   "id": "cce2a122-703f-411f-9026-1c972601f5d7",
   "metadata": {},
   "outputs": [],
   "source": [
    "x='aba'"
   ]
  },
  {
   "cell_type": "code",
   "execution_count": 58,
   "id": "6cb9599b-7130-49b1-8c70-ca8c1fbd9202",
   "metadata": {},
   "outputs": [
    {
     "data": {
      "text/plain": [
       "'aba'"
      ]
     },
     "execution_count": 58,
     "metadata": {},
     "output_type": "execute_result"
    }
   ],
   "source": [
    "x[::]"
   ]
  },
  {
   "cell_type": "code",
   "execution_count": null,
   "id": "69b7eaa7-6e35-42c1-9218-b594fe6cd0ff",
   "metadata": {},
   "outputs": [],
   "source": [
    "x[::"
   ]
  }
 ],
 "metadata": {
  "kernelspec": {
   "display_name": "Python 3 (ipykernel)",
   "language": "python",
   "name": "python3"
  },
  "language_info": {
   "codemirror_mode": {
    "name": "ipython",
    "version": 3
   },
   "file_extension": ".py",
   "mimetype": "text/x-python",
   "name": "python",
   "nbconvert_exporter": "python",
   "pygments_lexer": "ipython3",
   "version": "3.10.8"
  }
 },
 "nbformat": 4,
 "nbformat_minor": 5
}
