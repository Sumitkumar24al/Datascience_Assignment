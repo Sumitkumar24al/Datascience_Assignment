{
 "cells": [
  {
   "cell_type": "code",
   "execution_count": 1,
   "id": "5380fa4f-f01f-427b-a97f-2f39cdd69a0e",
   "metadata": {},
   "outputs": [],
   "source": [
    "#ques 1\n"
   ]
  },
  {
   "cell_type": "code",
   "execution_count": 2,
   "id": "c731bc7b-1c50-42d5-a558-f7433e5ed07a",
   "metadata": {},
   "outputs": [
    {
     "name": "stdout",
     "output_type": "stream",
     "text": [
      "Requirement already satisfied: pandas in /opt/conda/lib/python3.10/site-packages (1.5.2)\n",
      "Requirement already satisfied: python-dateutil>=2.8.1 in /opt/conda/lib/python3.10/site-packages (from pandas) (2.8.2)\n",
      "Requirement already satisfied: pytz>=2020.1 in /opt/conda/lib/python3.10/site-packages (from pandas) (2022.6)\n",
      "Requirement already satisfied: numpy>=1.21.0 in /opt/conda/lib/python3.10/site-packages (from pandas) (1.23.5)\n",
      "Requirement already satisfied: six>=1.5 in /opt/conda/lib/python3.10/site-packages (from python-dateutil>=2.8.1->pandas) (1.16.0)\n",
      "Note: you may need to restart the kernel to use updated packages.\n"
     ]
    }
   ],
   "source": [
    "pip install pandas"
   ]
  },
  {
   "cell_type": "code",
   "execution_count": 3,
   "id": "967efb67-b4b2-4c2f-ba66-e879052f28ad",
   "metadata": {},
   "outputs": [],
   "source": [
    "import pandas as pd\n",
    "import logging\n",
    "\n",
    "logging.basicConfig(filename='Pandas.txt',level=logging.DEBUG,format='%(asctime)s %(levelname)s %(message)s')\n",
    "def create_series(data):\n",
    "    try:\n",
    "        series=pd.Series(data)\n",
    "        logging.info(\"Series created\")\n",
    "        return series\n",
    "    except Exception as e:\n",
    "        logging.error(f'Error occured while creating series : {str(e)}')\n",
    "        return None\n",
    "    "
   ]
  },
  {
   "cell_type": "code",
   "execution_count": 4,
   "id": "4a523ec9-74d0-4b12-8f37-0155131aa3df",
   "metadata": {},
   "outputs": [
    {
     "data": {
      "text/plain": [
       "0     4\n",
       "1     8\n",
       "2    15\n",
       "3    16\n",
       "4    23\n",
       "5    42\n",
       "dtype: int64"
      ]
     },
     "execution_count": 4,
     "metadata": {},
     "output_type": "execute_result"
    }
   ],
   "source": [
    "data = [4, 8, 15, 16, 23, 42]\n",
    "create_series(data)"
   ]
  },
  {
   "cell_type": "code",
   "execution_count": 5,
   "id": "8f1b745e-3b47-417f-8784-144d2c303467",
   "metadata": {},
   "outputs": [],
   "source": [
    "#ques 2"
   ]
  },
  {
   "cell_type": "code",
   "execution_count": 6,
   "id": "c157cb85-b592-47df-a323-a56d8f91e483",
   "metadata": {},
   "outputs": [
    {
     "name": "stdout",
     "output_type": "stream",
     "text": [
      "0     4\n",
      "1     8\n",
      "2    15\n",
      "3    16\n",
      "4    23\n",
      "5    42\n",
      "dtype: int64\n"
     ]
    }
   ],
   "source": [
    "\n",
    "data1 = [1, 2, 3, 4, 5, 6, 7, 8, 9, 10] # List of 10 elements\n",
    "series = pd.Series(data)\n",
    "logging.info(series)\n",
    "print( series)"
   ]
  },
  {
   "cell_type": "code",
   "execution_count": 7,
   "id": "2c11444f-1215-4b9a-86ee-692b8492c67b",
   "metadata": {},
   "outputs": [],
   "source": [
    "#ques 3"
   ]
  },
  {
   "cell_type": "code",
   "execution_count": 8,
   "id": "488df30b-b572-4ea7-a1c1-5ab17e247ee9",
   "metadata": {},
   "outputs": [],
   "source": [
    "data2={'Name':['Alice','Bob','Claire'],\n",
    "        'Age':[25, 30,27],\n",
    "        'Gender':['Female','Male','Female']\n",
    "       }\n",
    "df=pd.DataFrame(data2)\n",
    "logging.info(df)"
   ]
  },
  {
   "cell_type": "code",
   "execution_count": 9,
   "id": "20e51427-12da-4422-b551-a5a61ebf79cc",
   "metadata": {},
   "outputs": [
    {
     "data": {
      "text/html": [
       "<div>\n",
       "<style scoped>\n",
       "    .dataframe tbody tr th:only-of-type {\n",
       "        vertical-align: middle;\n",
       "    }\n",
       "\n",
       "    .dataframe tbody tr th {\n",
       "        vertical-align: top;\n",
       "    }\n",
       "\n",
       "    .dataframe thead th {\n",
       "        text-align: right;\n",
       "    }\n",
       "</style>\n",
       "<table border=\"1\" class=\"dataframe\">\n",
       "  <thead>\n",
       "    <tr style=\"text-align: right;\">\n",
       "      <th></th>\n",
       "      <th>Name</th>\n",
       "      <th>Age</th>\n",
       "      <th>Gender</th>\n",
       "    </tr>\n",
       "  </thead>\n",
       "  <tbody>\n",
       "    <tr>\n",
       "      <th>0</th>\n",
       "      <td>Alice</td>\n",
       "      <td>25</td>\n",
       "      <td>Female</td>\n",
       "    </tr>\n",
       "    <tr>\n",
       "      <th>1</th>\n",
       "      <td>Bob</td>\n",
       "      <td>30</td>\n",
       "      <td>Male</td>\n",
       "    </tr>\n",
       "    <tr>\n",
       "      <th>2</th>\n",
       "      <td>Claire</td>\n",
       "      <td>27</td>\n",
       "      <td>Female</td>\n",
       "    </tr>\n",
       "  </tbody>\n",
       "</table>\n",
       "</div>"
      ],
      "text/plain": [
       "     Name  Age  Gender\n",
       "0   Alice   25  Female\n",
       "1     Bob   30    Male\n",
       "2  Claire   27  Female"
      ]
     },
     "execution_count": 9,
     "metadata": {},
     "output_type": "execute_result"
    }
   ],
   "source": [
    "df"
   ]
  },
  {
   "cell_type": "markdown",
   "id": "da9d6668-5652-45d7-9d42-77bc6ef9229d",
   "metadata": {},
   "source": [
    "Alternative"
   ]
  },
  {
   "cell_type": "code",
   "execution_count": 10,
   "id": "a5b37f3c-5bb3-45ac-a1e8-73af9c77dfea",
   "metadata": {},
   "outputs": [
    {
     "name": "stdout",
     "output_type": "stream",
     "text": [
      "     Name  Age  Gender\n",
      "0   Alice   25  Female\n",
      "1     Bob   30    Male\n",
      "2  Claire   27  Female\n"
     ]
    }
   ],
   "source": [
    "df1 = pd.DataFrame({'Name': ['Alice', 'Bob', 'Claire'],\n",
    "                    'Age': [25, 30, 27],\n",
    "                    'Gender': ['Female', 'Male', 'Female']\n",
    "                   })\n",
    "\n",
    "print(df1)"
   ]
  },
  {
   "cell_type": "code",
   "execution_count": 11,
   "id": "56f1e82d-6c47-4286-b596-85060387d5b0",
   "metadata": {},
   "outputs": [],
   "source": [
    "#ques 4"
   ]
  },
  {
   "cell_type": "markdown",
   "id": "0938cf7d-0e12-4be1-b0d3-be6b30b097c6",
   "metadata": {},
   "source": [
    "In pandas, a DataFrame is a two-dimensional data structure that represents tabular data. It consists of rows and columns, similar to a spreadsheet or a SQL table. Each column in a DataFrame represents a variable or a feature, while each row represents a data point or an observation.\n",
    "\n",
    "A DataFrame can be thought of as a collection of Pandas Series objects, where each Series represents a column of the DataFrame. The key difference between a DataFrame and a Series is that a DataFrame can hold multiple columns of different data types, whereas a Series represents a single column with homogeneous data."
   ]
  },
  {
   "cell_type": "code",
   "execution_count": 12,
   "id": "0cd1af84-4f29-4723-87ce-b4723a525805",
   "metadata": {},
   "outputs": [],
   "source": [
    "\n",
    "ser = pd.Series([1, 2, 3, 4, 5])\n",
    "logging.info(\"Series:\")\n",
    "logging.info(ser)\n",
    "\n",
    "\n",
    "df = pd.DataFrame({'A': [1, 2, 3, 4, 5], 'B': ['a', 'b', 'c', 'd', 'e']},index=['i', 'ii', 'iii', 'iv', 'v'])\n",
    "logging.info(\"\\nDataFrame:\")\n",
    "logging.info(df)"
   ]
  },
  {
   "cell_type": "code",
   "execution_count": 13,
   "id": "0da505a3-7a63-449d-844a-aa211808e28a",
   "metadata": {},
   "outputs": [
    {
     "data": {
      "text/html": [
       "<div>\n",
       "<style scoped>\n",
       "    .dataframe tbody tr th:only-of-type {\n",
       "        vertical-align: middle;\n",
       "    }\n",
       "\n",
       "    .dataframe tbody tr th {\n",
       "        vertical-align: top;\n",
       "    }\n",
       "\n",
       "    .dataframe thead th {\n",
       "        text-align: right;\n",
       "    }\n",
       "</style>\n",
       "<table border=\"1\" class=\"dataframe\">\n",
       "  <thead>\n",
       "    <tr style=\"text-align: right;\">\n",
       "      <th></th>\n",
       "      <th>A</th>\n",
       "      <th>B</th>\n",
       "    </tr>\n",
       "  </thead>\n",
       "  <tbody>\n",
       "    <tr>\n",
       "      <th>i</th>\n",
       "      <td>1</td>\n",
       "      <td>a</td>\n",
       "    </tr>\n",
       "    <tr>\n",
       "      <th>ii</th>\n",
       "      <td>2</td>\n",
       "      <td>b</td>\n",
       "    </tr>\n",
       "    <tr>\n",
       "      <th>iii</th>\n",
       "      <td>3</td>\n",
       "      <td>c</td>\n",
       "    </tr>\n",
       "    <tr>\n",
       "      <th>iv</th>\n",
       "      <td>4</td>\n",
       "      <td>d</td>\n",
       "    </tr>\n",
       "    <tr>\n",
       "      <th>v</th>\n",
       "      <td>5</td>\n",
       "      <td>e</td>\n",
       "    </tr>\n",
       "  </tbody>\n",
       "</table>\n",
       "</div>"
      ],
      "text/plain": [
       "     A  B\n",
       "i    1  a\n",
       "ii   2  b\n",
       "iii  3  c\n",
       "iv   4  d\n",
       "v    5  e"
      ]
     },
     "execution_count": 13,
     "metadata": {},
     "output_type": "execute_result"
    }
   ],
   "source": [
    "df"
   ]
  },
  {
   "cell_type": "code",
   "execution_count": 14,
   "id": "a088a5b0-93fe-4223-82c3-7399cfd2e59e",
   "metadata": {},
   "outputs": [],
   "source": [
    "#ques 5"
   ]
  },
  {
   "cell_type": "markdown",
   "id": "6e313448-a609-4e3d-9d55-08a99af31d9e",
   "metadata": {},
   "source": [
    "Pandas provides a wide range of functions for data manipulation in a DataFrame. Here are some common functions:\n",
    "\n",
    "head() - Returns the first n rows of the DataFrame.\n",
    "Example: df.head(5) returns the first 5 rows of the DataFrame.\n"
   ]
  },
  {
   "cell_type": "code",
   "execution_count": 15,
   "id": "5a1f7b2a-6329-4ae3-b625-44c52bb6297d",
   "metadata": {},
   "outputs": [
    {
     "data": {
      "text/html": [
       "<div>\n",
       "<style scoped>\n",
       "    .dataframe tbody tr th:only-of-type {\n",
       "        vertical-align: middle;\n",
       "    }\n",
       "\n",
       "    .dataframe tbody tr th {\n",
       "        vertical-align: top;\n",
       "    }\n",
       "\n",
       "    .dataframe thead th {\n",
       "        text-align: right;\n",
       "    }\n",
       "</style>\n",
       "<table border=\"1\" class=\"dataframe\">\n",
       "  <thead>\n",
       "    <tr style=\"text-align: right;\">\n",
       "      <th></th>\n",
       "      <th>A</th>\n",
       "      <th>B</th>\n",
       "    </tr>\n",
       "  </thead>\n",
       "  <tbody>\n",
       "    <tr>\n",
       "      <th>i</th>\n",
       "      <td>1</td>\n",
       "      <td>a</td>\n",
       "    </tr>\n",
       "    <tr>\n",
       "      <th>ii</th>\n",
       "      <td>2</td>\n",
       "      <td>b</td>\n",
       "    </tr>\n",
       "    <tr>\n",
       "      <th>iii</th>\n",
       "      <td>3</td>\n",
       "      <td>c</td>\n",
       "    </tr>\n",
       "    <tr>\n",
       "      <th>iv</th>\n",
       "      <td>4</td>\n",
       "      <td>d</td>\n",
       "    </tr>\n",
       "    <tr>\n",
       "      <th>v</th>\n",
       "      <td>5</td>\n",
       "      <td>e</td>\n",
       "    </tr>\n",
       "  </tbody>\n",
       "</table>\n",
       "</div>"
      ],
      "text/plain": [
       "     A  B\n",
       "i    1  a\n",
       "ii   2  b\n",
       "iii  3  c\n",
       "iv   4  d\n",
       "v    5  e"
      ]
     },
     "execution_count": 15,
     "metadata": {},
     "output_type": "execute_result"
    }
   ],
   "source": [
    "df.head()"
   ]
  },
  {
   "cell_type": "markdown",
   "id": "c62a7e68-575b-4c8a-9a55-088556349731",
   "metadata": {},
   "source": [
    "tail() - Returns the last n rows of the DataFrame.\n",
    "Example: df.tail(5) returns the last 5 rows of the DataFrame."
   ]
  },
  {
   "cell_type": "code",
   "execution_count": 16,
   "id": "cafb8ca6-91d8-43ad-ab36-1985a7c25afe",
   "metadata": {},
   "outputs": [
    {
     "data": {
      "text/html": [
       "<div>\n",
       "<style scoped>\n",
       "    .dataframe tbody tr th:only-of-type {\n",
       "        vertical-align: middle;\n",
       "    }\n",
       "\n",
       "    .dataframe tbody tr th {\n",
       "        vertical-align: top;\n",
       "    }\n",
       "\n",
       "    .dataframe thead th {\n",
       "        text-align: right;\n",
       "    }\n",
       "</style>\n",
       "<table border=\"1\" class=\"dataframe\">\n",
       "  <thead>\n",
       "    <tr style=\"text-align: right;\">\n",
       "      <th></th>\n",
       "      <th>A</th>\n",
       "      <th>B</th>\n",
       "    </tr>\n",
       "  </thead>\n",
       "  <tbody>\n",
       "    <tr>\n",
       "      <th>i</th>\n",
       "      <td>1</td>\n",
       "      <td>a</td>\n",
       "    </tr>\n",
       "    <tr>\n",
       "      <th>ii</th>\n",
       "      <td>2</td>\n",
       "      <td>b</td>\n",
       "    </tr>\n",
       "    <tr>\n",
       "      <th>iii</th>\n",
       "      <td>3</td>\n",
       "      <td>c</td>\n",
       "    </tr>\n",
       "    <tr>\n",
       "      <th>iv</th>\n",
       "      <td>4</td>\n",
       "      <td>d</td>\n",
       "    </tr>\n",
       "    <tr>\n",
       "      <th>v</th>\n",
       "      <td>5</td>\n",
       "      <td>e</td>\n",
       "    </tr>\n",
       "  </tbody>\n",
       "</table>\n",
       "</div>"
      ],
      "text/plain": [
       "     A  B\n",
       "i    1  a\n",
       "ii   2  b\n",
       "iii  3  c\n",
       "iv   4  d\n",
       "v    5  e"
      ]
     },
     "execution_count": 16,
     "metadata": {},
     "output_type": "execute_result"
    }
   ],
   "source": [
    "df.tail()"
   ]
  },
  {
   "cell_type": "markdown",
   "id": "39bdd8ac-3b5f-4daa-8f4f-b10aa0004d2d",
   "metadata": {},
   "source": [
    "info() - Provides information about the DataFrame, including the data types, column names, and memory usage.\n",
    "Example: df.info() provides information about the DataFrame."
   ]
  },
  {
   "cell_type": "code",
   "execution_count": 17,
   "id": "e68a36ad-e20d-4a56-81ae-861fa1f71c00",
   "metadata": {},
   "outputs": [
    {
     "name": "stdout",
     "output_type": "stream",
     "text": [
      "<class 'pandas.core.frame.DataFrame'>\n",
      "Index: 5 entries, i to v\n",
      "Data columns (total 2 columns):\n",
      " #   Column  Non-Null Count  Dtype \n",
      "---  ------  --------------  ----- \n",
      " 0   A       5 non-null      int64 \n",
      " 1   B       5 non-null      object\n",
      "dtypes: int64(1), object(1)\n",
      "memory usage: 120.0+ bytes\n"
     ]
    }
   ],
   "source": [
    "df.info()"
   ]
  },
  {
   "cell_type": "markdown",
   "id": "4d222541-33a2-4593-881e-6a8a53f13c2d",
   "metadata": {},
   "source": [
    "describe() - Generates descriptive statistics of the DataFrame, including count, mean, min, max, etc., for each numerical column.\n",
    "Example: df.describe() provides descriptive statistics of the DataFrame."
   ]
  },
  {
   "cell_type": "code",
   "execution_count": 18,
   "id": "4f870456-db7d-4772-a81a-a782ea9e96c1",
   "metadata": {},
   "outputs": [
    {
     "data": {
      "text/html": [
       "<div>\n",
       "<style scoped>\n",
       "    .dataframe tbody tr th:only-of-type {\n",
       "        vertical-align: middle;\n",
       "    }\n",
       "\n",
       "    .dataframe tbody tr th {\n",
       "        vertical-align: top;\n",
       "    }\n",
       "\n",
       "    .dataframe thead th {\n",
       "        text-align: right;\n",
       "    }\n",
       "</style>\n",
       "<table border=\"1\" class=\"dataframe\">\n",
       "  <thead>\n",
       "    <tr style=\"text-align: right;\">\n",
       "      <th></th>\n",
       "      <th>A</th>\n",
       "    </tr>\n",
       "  </thead>\n",
       "  <tbody>\n",
       "    <tr>\n",
       "      <th>count</th>\n",
       "      <td>5.000000</td>\n",
       "    </tr>\n",
       "    <tr>\n",
       "      <th>mean</th>\n",
       "      <td>3.000000</td>\n",
       "    </tr>\n",
       "    <tr>\n",
       "      <th>std</th>\n",
       "      <td>1.581139</td>\n",
       "    </tr>\n",
       "    <tr>\n",
       "      <th>min</th>\n",
       "      <td>1.000000</td>\n",
       "    </tr>\n",
       "    <tr>\n",
       "      <th>25%</th>\n",
       "      <td>2.000000</td>\n",
       "    </tr>\n",
       "    <tr>\n",
       "      <th>50%</th>\n",
       "      <td>3.000000</td>\n",
       "    </tr>\n",
       "    <tr>\n",
       "      <th>75%</th>\n",
       "      <td>4.000000</td>\n",
       "    </tr>\n",
       "    <tr>\n",
       "      <th>max</th>\n",
       "      <td>5.000000</td>\n",
       "    </tr>\n",
       "  </tbody>\n",
       "</table>\n",
       "</div>"
      ],
      "text/plain": [
       "              A\n",
       "count  5.000000\n",
       "mean   3.000000\n",
       "std    1.581139\n",
       "min    1.000000\n",
       "25%    2.000000\n",
       "50%    3.000000\n",
       "75%    4.000000\n",
       "max    5.000000"
      ]
     },
     "execution_count": 18,
     "metadata": {},
     "output_type": "execute_result"
    }
   ],
   "source": [
    "df.describe()"
   ]
  },
  {
   "cell_type": "markdown",
   "id": "7a142723-5ea6-4405-94db-769f38fa78eb",
   "metadata": {},
   "source": [
    "shape - Returns the dimensions of the DataFrame (number of rows, number of columns).\n",
    "Example: df.shape returns the shape of the DataFrame."
   ]
  },
  {
   "cell_type": "markdown",
   "id": "ff32101c-8fb1-45fe-b702-d1cdb5090999",
   "metadata": {},
   "source": [
    "drop() - Drops specified rows or columns from the DataFrame.\n",
    "Example: df.drop('column_name', axis=1) drops the specified column from the DataFrame."
   ]
  },
  {
   "cell_type": "code",
   "execution_count": 19,
   "id": "ebfe4536-7c2a-4738-817d-7dd3220aa4ad",
   "metadata": {},
   "outputs": [
    {
     "data": {
      "text/html": [
       "<div>\n",
       "<style scoped>\n",
       "    .dataframe tbody tr th:only-of-type {\n",
       "        vertical-align: middle;\n",
       "    }\n",
       "\n",
       "    .dataframe tbody tr th {\n",
       "        vertical-align: top;\n",
       "    }\n",
       "\n",
       "    .dataframe thead th {\n",
       "        text-align: right;\n",
       "    }\n",
       "</style>\n",
       "<table border=\"1\" class=\"dataframe\">\n",
       "  <thead>\n",
       "    <tr style=\"text-align: right;\">\n",
       "      <th></th>\n",
       "      <th>B</th>\n",
       "    </tr>\n",
       "  </thead>\n",
       "  <tbody>\n",
       "    <tr>\n",
       "      <th>i</th>\n",
       "      <td>a</td>\n",
       "    </tr>\n",
       "    <tr>\n",
       "      <th>ii</th>\n",
       "      <td>b</td>\n",
       "    </tr>\n",
       "    <tr>\n",
       "      <th>iii</th>\n",
       "      <td>c</td>\n",
       "    </tr>\n",
       "    <tr>\n",
       "      <th>iv</th>\n",
       "      <td>d</td>\n",
       "    </tr>\n",
       "    <tr>\n",
       "      <th>v</th>\n",
       "      <td>e</td>\n",
       "    </tr>\n",
       "  </tbody>\n",
       "</table>\n",
       "</div>"
      ],
      "text/plain": [
       "     B\n",
       "i    a\n",
       "ii   b\n",
       "iii  c\n",
       "iv   d\n",
       "v    e"
      ]
     },
     "execution_count": 19,
     "metadata": {},
     "output_type": "execute_result"
    }
   ],
   "source": [
    "df.drop('A',axis=1)"
   ]
  },
  {
   "cell_type": "markdown",
   "id": "bbd3722b-0f26-4c04-80e2-0ede2ff51a1e",
   "metadata": {},
   "source": [
    "groupby() - Groups the data based on one or more columns and allows performing aggregations on the grouped data.\n",
    "Example: df.groupby('column_name').mean() calculates the mean value for each group based on the column_name."
   ]
  },
  {
   "cell_type": "code",
   "execution_count": 20,
   "id": "66eab2d2-b26f-463e-9e05-66915ae3df3f",
   "metadata": {},
   "outputs": [
    {
     "data": {
      "text/plain": [
       "<pandas.core.groupby.generic.DataFrameGroupBy object at 0x7fd2fa3189d0>"
      ]
     },
     "execution_count": 20,
     "metadata": {},
     "output_type": "execute_result"
    }
   ],
   "source": [
    "df.groupby('A')"
   ]
  },
  {
   "cell_type": "markdown",
   "id": "26b54473-af43-4314-aca4-86ace1ba368a",
   "metadata": {},
   "source": [
    "sort_values() - Sorts the DataFrame based on one or more columns.\n",
    "Example: df.sort_values('column_name', ascending=False) sorts the DataFrame in descending order based on the column_name."
   ]
  },
  {
   "cell_type": "code",
   "execution_count": 21,
   "id": "a822d9ae-d650-4a02-9d68-60ff9bd3030e",
   "metadata": {},
   "outputs": [
    {
     "data": {
      "text/html": [
       "<div>\n",
       "<style scoped>\n",
       "    .dataframe tbody tr th:only-of-type {\n",
       "        vertical-align: middle;\n",
       "    }\n",
       "\n",
       "    .dataframe tbody tr th {\n",
       "        vertical-align: top;\n",
       "    }\n",
       "\n",
       "    .dataframe thead th {\n",
       "        text-align: right;\n",
       "    }\n",
       "</style>\n",
       "<table border=\"1\" class=\"dataframe\">\n",
       "  <thead>\n",
       "    <tr style=\"text-align: right;\">\n",
       "      <th></th>\n",
       "      <th>A</th>\n",
       "      <th>B</th>\n",
       "    </tr>\n",
       "  </thead>\n",
       "  <tbody>\n",
       "    <tr>\n",
       "      <th>v</th>\n",
       "      <td>5</td>\n",
       "      <td>e</td>\n",
       "    </tr>\n",
       "    <tr>\n",
       "      <th>iv</th>\n",
       "      <td>4</td>\n",
       "      <td>d</td>\n",
       "    </tr>\n",
       "    <tr>\n",
       "      <th>iii</th>\n",
       "      <td>3</td>\n",
       "      <td>c</td>\n",
       "    </tr>\n",
       "    <tr>\n",
       "      <th>ii</th>\n",
       "      <td>2</td>\n",
       "      <td>b</td>\n",
       "    </tr>\n",
       "    <tr>\n",
       "      <th>i</th>\n",
       "      <td>1</td>\n",
       "      <td>a</td>\n",
       "    </tr>\n",
       "  </tbody>\n",
       "</table>\n",
       "</div>"
      ],
      "text/plain": [
       "     A  B\n",
       "v    5  e\n",
       "iv   4  d\n",
       "iii  3  c\n",
       "ii   2  b\n",
       "i    1  a"
      ]
     },
     "execution_count": 21,
     "metadata": {},
     "output_type": "execute_result"
    }
   ],
   "source": [
    "df.sort_values('A',ascending=False)"
   ]
  },
  {
   "cell_type": "code",
   "execution_count": 22,
   "id": "de33020c-5cdf-4d7b-a16e-b0fa3ff212b8",
   "metadata": {},
   "outputs": [
    {
     "data": {
      "text/plain": [
       "pandas.core.frame.DataFrame"
      ]
     },
     "execution_count": 22,
     "metadata": {},
     "output_type": "execute_result"
    }
   ],
   "source": [
    "type(df)"
   ]
  },
  {
   "cell_type": "code",
   "execution_count": 23,
   "id": "a7efb641-9f24-414d-9355-f366f252b2c5",
   "metadata": {},
   "outputs": [],
   "source": [
    "#ques 6"
   ]
  },
  {
   "cell_type": "markdown",
   "id": "b2f8afb1-4c53-4db5-927a-855ec12fe607",
   "metadata": {},
   "source": [
    "DataFrame is mutable, which means it can be modified after creation. We can add, delete, or modify rows or columns in a DataFrame.\n",
    "This allows for flexible data manipulation and updating of the underlying data structure.\n",
    "\n",
    "On the other hand, Series and Panel are immutable in nature. Once created, you cannot modify them directly.\n",
    "If we need to make changes, we would typically create a new Series or Panel with the desired modifications."
   ]
  },
  {
   "cell_type": "code",
   "execution_count": 24,
   "id": "dff04f25-3352-408c-a9e9-30151aa4eca6",
   "metadata": {},
   "outputs": [],
   "source": [
    "#ques 7"
   ]
  },
  {
   "cell_type": "code",
   "execution_count": 25,
   "id": "3bb4e155-0b95-4eef-b69e-fd0b23baecaa",
   "metadata": {},
   "outputs": [],
   "source": [
    "series1=pd.Series([1,2,3,4,5])\n",
    "series2=pd.Series([2,4,6,8,10])\n",
    "series3=pd.Series([3,6,9,12,15])\n",
    "series4=pd.Series(['a','b','c','d','e'])"
   ]
  },
  {
   "cell_type": "code",
   "execution_count": 26,
   "id": "2cf88b03-1fe0-4601-9a71-683c1a3a512b",
   "metadata": {},
   "outputs": [],
   "source": [
    "data_frame=pd.DataFrame({'Key1':series1,\n",
    "                         'Key2':series2,\n",
    "                         'Key3':series3,\n",
    "                         'Key4':series4\n",
    "                        })"
   ]
  },
  {
   "cell_type": "code",
   "execution_count": 27,
   "id": "99fb42e6-5e76-4ae8-aa83-18dff2735d62",
   "metadata": {},
   "outputs": [
    {
     "name": "stdout",
     "output_type": "stream",
     "text": [
      "   Key1  Key2  Key3 Key4\n",
      "0     1     2     3    a\n",
      "1     2     4     6    b\n",
      "2     3     6     9    c\n",
      "3     4     8    12    d\n",
      "4     5    10    15    e\n"
     ]
    }
   ],
   "source": [
    "logging.info(\"\\ndate_frame:\")\n",
    "logging.info(data_frame)\n",
    "print(data_frame)"
   ]
  }
 ],
 "metadata": {
  "kernelspec": {
   "display_name": "Python 3 (ipykernel)",
   "language": "python",
   "name": "python3"
  },
  "language_info": {
   "codemirror_mode": {
    "name": "ipython",
    "version": 3
   },
   "file_extension": ".py",
   "mimetype": "text/x-python",
   "name": "python",
   "nbconvert_exporter": "python",
   "pygments_lexer": "ipython3",
   "version": "3.10.8"
  }
 },
 "nbformat": 4,
 "nbformat_minor": 5
}
