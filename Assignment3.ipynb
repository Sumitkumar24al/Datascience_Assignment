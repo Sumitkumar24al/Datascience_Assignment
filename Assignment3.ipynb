{
 "cells": [
  {
   "cell_type": "code",
   "execution_count": 1,
   "id": "9590740e-cea7-4fbd-9d24-21c92a90ce47",
   "metadata": {},
   "outputs": [],
   "source": [
    "#ques1"
   ]
  },
  {
   "cell_type": "code",
   "execution_count": 2,
   "id": "0d72c94b-203f-483d-a343-f3669e1810e7",
   "metadata": {},
   "outputs": [],
   "source": [
    "def test():\n",
    "    pass # def is used tocreate a function"
   ]
  },
  {
   "cell_type": "code",
   "execution_count": 3,
   "id": "853a06b9-9743-463b-ab63-0926ef3016e6",
   "metadata": {},
   "outputs": [],
   "source": [
    "def odd_numbers(l):\n",
    "    odd_num=[]\n",
    "    for i in l:\n",
    "        if i<=25:\n",
    "            if i%2!=0:\n",
    "                odd_num.append(i)\n",
    "    return odd_num\n",
    "    "
   ]
  },
  {
   "cell_type": "code",
   "execution_count": 4,
   "id": "e655cf7e-96a3-49fd-af12-68144944d9a2",
   "metadata": {},
   "outputs": [],
   "source": [
    "numbers=list(range(40))"
   ]
  },
  {
   "cell_type": "code",
   "execution_count": 5,
   "id": "429e8ed3-867d-4b5c-90b5-65fd18632912",
   "metadata": {},
   "outputs": [
    {
     "data": {
      "text/plain": [
       "[1, 3, 5, 7, 9, 11, 13, 15, 17, 19, 21, 23, 25]"
      ]
     },
     "execution_count": 5,
     "metadata": {},
     "output_type": "execute_result"
    }
   ],
   "source": [
    "odd_numbers(numbers)"
   ]
  },
  {
   "cell_type": "code",
   "execution_count": null,
   "id": "a55958b9-ab7f-49b4-b536-a41742c9e5fd",
   "metadata": {},
   "outputs": [],
   "source": []
  },
  {
   "cell_type": "code",
   "execution_count": 6,
   "id": "ac4bd051-ea21-42b0-8c46-a9c6e088ab0c",
   "metadata": {},
   "outputs": [],
   "source": [
    "# ques 2"
   ]
  },
  {
   "cell_type": "code",
   "execution_count": 7,
   "id": "17a3eef0-dd58-4a17-abb9-317d79f1b9de",
   "metadata": {},
   "outputs": [],
   "source": [
    "# args and kwargs used in function to pass any no of arguments and keywords arguments\n"
   ]
  },
  {
   "cell_type": "code",
   "execution_count": 8,
   "id": "5c99f756-f796-4768-81c0-a0704f65579d",
   "metadata": {},
   "outputs": [],
   "source": [
    "def argument(*args):\n",
    "    l1=[]\n",
    "    for i in args:\n",
    "        l1.append(i**2)\n",
    "    return l1"
   ]
  },
  {
   "cell_type": "code",
   "execution_count": 9,
   "id": "d2aec821-6489-4d7a-b568-969989f3bded",
   "metadata": {},
   "outputs": [
    {
     "data": {
      "text/plain": [
       "[1, 4, 9, 16, 25]"
      ]
     },
     "execution_count": 9,
     "metadata": {},
     "output_type": "execute_result"
    }
   ],
   "source": [
    "argument(1,2,3,4,5)"
   ]
  },
  {
   "cell_type": "code",
   "execution_count": 10,
   "id": "f7730e14-7b32-4747-a540-06004ea53994",
   "metadata": {},
   "outputs": [],
   "source": [
    "#kwargs"
   ]
  },
  {
   "cell_type": "code",
   "execution_count": 11,
   "id": "1f2f83ae-6163-4aba-b4f5-ed8c14ce17c6",
   "metadata": {},
   "outputs": [],
   "source": [
    "def keywords_arg(**kwargs):\n",
    "    for key,value in kwargs.items():\n",
    "        print('%s=%s'%(key,value))"
   ]
  },
  {
   "cell_type": "code",
   "execution_count": 12,
   "id": "fb9afe03-7e68-4254-a763-f15ff296556d",
   "metadata": {},
   "outputs": [
    {
     "name": "stdout",
     "output_type": "stream",
     "text": [
      "name=Sumit\n",
      "age=25\n"
     ]
    }
   ],
   "source": [
    "keywords_arg(name='Sumit',age=25)"
   ]
  },
  {
   "cell_type": "code",
   "execution_count": 13,
   "id": "05cbb25b-49ff-4cb2-a866-a7838f30bb8f",
   "metadata": {},
   "outputs": [],
   "source": [
    "# ques 3"
   ]
  },
  {
   "cell_type": "code",
   "execution_count": 14,
   "id": "1b248d2a-7f1a-4bea-a936-2f7e8bc5e6ca",
   "metadata": {},
   "outputs": [],
   "source": [
    "#iterator is an object used to iterate over data"
   ]
  },
  {
   "cell_type": "code",
   "execution_count": 15,
   "id": "4d5c3b51-bbd6-4868-8cc4-b4717e02cf25",
   "metadata": {},
   "outputs": [],
   "source": [
    "# method used to initialioze iterator object is iter() and the method used for iteration is next()"
   ]
  },
  {
   "cell_type": "code",
   "execution_count": 16,
   "id": "828de378-5ea5-4efe-9d14-b3debbed2b75",
   "metadata": {},
   "outputs": [],
   "source": [
    "l=[2,4,6,8,10,12,14,16,18,20]"
   ]
  },
  {
   "cell_type": "code",
   "execution_count": 17,
   "id": "3b3b2522-796e-41f4-83a3-fe579f518fa9",
   "metadata": {},
   "outputs": [],
   "source": [
    "l1=iter(l)"
   ]
  },
  {
   "cell_type": "code",
   "execution_count": 18,
   "id": "3f00e3ad-d11c-4585-b42b-01fe434b2fce",
   "metadata": {},
   "outputs": [
    {
     "name": "stdout",
     "output_type": "stream",
     "text": [
      "2\n",
      "4\n",
      "6\n",
      "8\n",
      "10\n"
     ]
    }
   ],
   "source": [
    "for i in range(5):\n",
    "    print(next(l1))"
   ]
  },
  {
   "cell_type": "code",
   "execution_count": 19,
   "id": "442211b1-bb20-4a4b-8752-d161177ecb33",
   "metadata": {},
   "outputs": [],
   "source": [
    "# ques 4"
   ]
  },
  {
   "cell_type": "code",
   "execution_count": 20,
   "id": "6e0f1204-1891-475a-a312-757da3a3dda5",
   "metadata": {},
   "outputs": [],
   "source": [
    "# Generator function returns an iterator when called."
   ]
  },
  {
   "cell_type": "code",
   "execution_count": 21,
   "id": "40b59d13-1d8a-4feb-912d-7b566ce7d19d",
   "metadata": {},
   "outputs": [],
   "source": [
    "# generator uses yield keyword to generate a sequence of values dynamically, producing each value once at a time requested."
   ]
  },
  {
   "cell_type": "code",
   "execution_count": 22,
   "id": "5371cd6f-0c3c-417b-861c-a034d4bbed05",
   "metadata": {},
   "outputs": [],
   "source": [
    "def num_gen(n):\n",
    "    for i in range(n):\n",
    "        yield i"
   ]
  },
  {
   "cell_type": "code",
   "execution_count": 23,
   "id": "2bb29382-acf7-45e6-9f39-0da01b1841ad",
   "metadata": {},
   "outputs": [
    {
     "name": "stdout",
     "output_type": "stream",
     "text": [
      "0\n",
      "1\n",
      "2\n",
      "3\n",
      "4\n",
      "5\n",
      "6\n",
      "7\n",
      "8\n",
      "9\n"
     ]
    }
   ],
   "source": [
    "my_num=num_gen(10)\n",
    "for i in my_num:\n",
    "    print(i)"
   ]
  },
  {
   "cell_type": "code",
   "execution_count": 24,
   "id": "65d03fa1-51a7-4195-9836-b4767c1db8e9",
   "metadata": {},
   "outputs": [],
   "source": [
    "# ques 5\n",
    "def is_prime(n):\n",
    "    if n<2:\n",
    "        return False\n",
    "    for i in range(2,int(n**0.5)+1):\n",
    "        if n%i==0:\n",
    "            return False\n",
    "    return True\n",
    "                    \n",
    "                    "
   ]
  },
  {
   "cell_type": "code",
   "execution_count": 25,
   "id": "1233cd37-8a5c-4d1e-a71a-feb19e9d9574",
   "metadata": {},
   "outputs": [],
   "source": [
    "def prime_number():\n",
    "    \n",
    "    for i in range(1000):\n",
    "        if is_prime(i):\n",
    "            yield i"
   ]
  },
  {
   "cell_type": "code",
   "execution_count": 26,
   "id": "a6a8dce3-b7f1-4e43-a370-023a36924838",
   "metadata": {},
   "outputs": [
    {
     "name": "stdout",
     "output_type": "stream",
     "text": [
      "2\n",
      "3\n",
      "5\n",
      "7\n",
      "11\n",
      "13\n",
      "17\n",
      "19\n",
      "23\n",
      "29\n",
      "31\n",
      "37\n",
      "41\n",
      "43\n",
      "47\n",
      "53\n",
      "59\n",
      "61\n",
      "67\n",
      "71\n"
     ]
    }
   ],
   "source": [
    "pr_num=prime_number()\n",
    "for i in range(20):\n",
    "    print(next(pr_num))"
   ]
  },
  {
   "cell_type": "code",
   "execution_count": 27,
   "id": "7137e4c0-7b96-4016-9020-8be3b900ed17",
   "metadata": {},
   "outputs": [],
   "source": [
    "# ques 6"
   ]
  },
  {
   "cell_type": "code",
   "execution_count": 28,
   "id": "4234b82a-9a68-4efd-bf0a-81ce84a794f9",
   "metadata": {},
   "outputs": [],
   "source": [
    "def fib_num():\n",
    "    a,b=0,1\n",
    "    while True:\n",
    "        yield a\n",
    "        a,b=b,a+b"
   ]
  },
  {
   "cell_type": "code",
   "execution_count": 29,
   "id": "2b1367ee-d82e-4437-afd1-14f8b2921173",
   "metadata": {},
   "outputs": [
    {
     "name": "stdout",
     "output_type": "stream",
     "text": [
      "0\n",
      "1\n",
      "1\n",
      "2\n",
      "3\n",
      "5\n",
      "8\n",
      "13\n",
      "21\n",
      "34\n"
     ]
    }
   ],
   "source": [
    "fibonacci_num=fib_num()\n",
    "for i in range(10):\n",
    "    print(next(fibonacci_num))"
   ]
  },
  {
   "cell_type": "code",
   "execution_count": 30,
   "id": "52632675-f2b7-4902-8e9d-78f1b5630caf",
   "metadata": {},
   "outputs": [],
   "source": [
    "# ques 7"
   ]
  },
  {
   "cell_type": "code",
   "execution_count": 31,
   "id": "de1eabe4-7f61-4564-bfce-394b8624d846",
   "metadata": {},
   "outputs": [],
   "source": [
    "st='pwskills'"
   ]
  },
  {
   "cell_type": "code",
   "execution_count": 32,
   "id": "920c14ef-ff30-44c5-bfaf-ae048bb60158",
   "metadata": {},
   "outputs": [
    {
     "name": "stdout",
     "output_type": "stream",
     "text": [
      "['p', 'w', 's', 'k', 'i', 'l', 'l', 's']\n"
     ]
    }
   ],
   "source": [
    "strn=[pwskills for pwskills in st]\n",
    "print(strn)"
   ]
  },
  {
   "cell_type": "code",
   "execution_count": 40,
   "id": "5cdb513e-23f5-456d-833e-fcc4a9f28876",
   "metadata": {},
   "outputs": [],
   "source": [
    "# ques 8"
   ]
  },
  {
   "cell_type": "code",
   "execution_count": 41,
   "id": "c7ed0335-4532-4dae-be15-54370bf38589",
   "metadata": {},
   "outputs": [],
   "source": [
    "def is_palindrome(n):\n",
    "    l = str(n)\n",
    "    rev = l[::-1]\n",
    "    len_str=len(l)\n",
    "    i=0\n",
    "    while i<len_str//2:\n",
    "        if l[i] == rev[i]:\n",
    "            print('The number is a palindrome')\n",
    "            return\n",
    "        i+=1\n",
    "    print('The number is not a palindrome')\n",
    "\n"
   ]
  },
  {
   "cell_type": "code",
   "execution_count": 42,
   "id": "6526aff0-494f-419a-bc5d-93b8646e4557",
   "metadata": {},
   "outputs": [
    {
     "name": "stdout",
     "output_type": "stream",
     "text": [
      "The number is not a palindrome\n"
     ]
    }
   ],
   "source": [
    "# Testing the function\n",
    "number = 1232556\n",
    "is_palindrome(number)"
   ]
  },
  {
   "cell_type": "code",
   "execution_count": 43,
   "id": "5bfa649f-e34a-4262-810a-806572a757d2",
   "metadata": {},
   "outputs": [],
   "source": [
    "# ques 9"
   ]
  },
  {
   "cell_type": "code",
   "execution_count": 46,
   "id": "fb256a42-320d-4879-a500-444e5c70fb3b",
   "metadata": {},
   "outputs": [],
   "source": [
    "number=[num for num in range(1,101)]"
   ]
  },
  {
   "cell_type": "code",
   "execution_count": 47,
   "id": "b558521c-deca-4716-ac46-fbaff196cdbc",
   "metadata": {},
   "outputs": [
    {
     "name": "stdout",
     "output_type": "stream",
     "text": [
      "[1, 2, 3, 4, 5, 6, 7, 8, 9, 10, 11, 12, 13, 14, 15, 16, 17, 18, 19, 20, 21, 22, 23, 24, 25, 26, 27, 28, 29, 30, 31, 32, 33, 34, 35, 36, 37, 38, 39, 40, 41, 42, 43, 44, 45, 46, 47, 48, 49, 50, 51, 52, 53, 54, 55, 56, 57, 58, 59, 60, 61, 62, 63, 64, 65, 66, 67, 68, 69, 70, 71, 72, 73, 74, 75, 76, 77, 78, 79, 80, 81, 82, 83, 84, 85, 86, 87, 88, 89, 90, 91, 92, 93, 94, 95, 96, 97, 98, 99, 100]\n"
     ]
    }
   ],
   "source": [
    "print(number)"
   ]
  },
  {
   "cell_type": "code",
   "execution_count": 48,
   "id": "a1f6b937-eaa9-481b-ba2d-cefb9a63060f",
   "metadata": {},
   "outputs": [
    {
     "ename": "TypeError",
     "evalue": "unsupported operand type(s) for %: 'list' and 'int'",
     "output_type": "error",
     "traceback": [
      "\u001b[0;31m---------------------------------------------------------------------------\u001b[0m",
      "\u001b[0;31mTypeError\u001b[0m                                 Traceback (most recent call last)",
      "Cell \u001b[0;32mIn[48], line 1\u001b[0m\n\u001b[0;32m----> 1\u001b[0m ood_number\u001b[38;5;241m=\u001b[39m[odd \u001b[38;5;28;01mfor\u001b[39;00m odd \u001b[38;5;129;01min\u001b[39;00m number \u001b[38;5;28;01mif\u001b[39;00m number\u001b[38;5;241m%\u001b[39m\u001b[38;5;241m2\u001b[39m\u001b[38;5;241m!=\u001b[39m\u001b[38;5;241m0\u001b[39m]\n",
      "Cell \u001b[0;32mIn[48], line 1\u001b[0m, in \u001b[0;36m<listcomp>\u001b[0;34m(.0)\u001b[0m\n\u001b[0;32m----> 1\u001b[0m ood_number\u001b[38;5;241m=\u001b[39m[odd \u001b[38;5;28;01mfor\u001b[39;00m odd \u001b[38;5;129;01min\u001b[39;00m number \u001b[38;5;28;01mif\u001b[39;00m \u001b[43mnumber\u001b[49m\u001b[38;5;241;43m%\u001b[39;49m\u001b[38;5;241;43m2\u001b[39;49m\u001b[38;5;241m!=\u001b[39m\u001b[38;5;241m0\u001b[39m]\n",
      "\u001b[0;31mTypeError\u001b[0m: unsupported operand type(s) for %: 'list' and 'int'"
     ]
    }
   ],
   "source": [
    "ood_number=[odd for odd in number if number%2!=0]"
   ]
  },
  {
   "cell_type": "code",
   "execution_count": null,
   "id": "c8089d0f-2a4b-4554-bf47-486a1561a097",
   "metadata": {},
   "outputs": [],
   "source": [
    "p[::-1]"
   ]
  },
  {
   "cell_type": "code",
   "execution_count": null,
   "id": "6192fc50-00f6-4862-b6c8-f5bb6b251646",
   "metadata": {},
   "outputs": [],
   "source": []
  }
 ],
 "metadata": {
  "kernelspec": {
   "display_name": "Python 3 (ipykernel)",
   "language": "python",
   "name": "python3"
  },
  "language_info": {
   "codemirror_mode": {
    "name": "ipython",
    "version": 3
   },
   "file_extension": ".py",
   "mimetype": "text/x-python",
   "name": "python",
   "nbconvert_exporter": "python",
   "pygments_lexer": "ipython3",
   "version": "3.10.8"
  }
 },
 "nbformat": 4,
 "nbformat_minor": 5
}
