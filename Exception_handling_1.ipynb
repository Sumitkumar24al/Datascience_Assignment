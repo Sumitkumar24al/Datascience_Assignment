{
 "cells": [
  {
   "cell_type": "code",
   "execution_count": 1,
   "id": "cb7e9b70-fc48-461a-b738-548095594797",
   "metadata": {},
   "outputs": [],
   "source": [
    "#ques1"
   ]
  },
  {
   "cell_type": "code",
   "execution_count": 2,
   "id": "1cf3f88d-42ce-4d9f-afcc-f840e2a0502d",
   "metadata": {},
   "outputs": [
    {
     "data": {
      "text/plain": [
       "'In Python, an exception is a condition that occurs during the execution of a program that disrupts the normal flow of code. \\nWhen an exception occurs, it typically indicates an error or an exceptional situation that needs to be handled.\\nCommon types of exceptions in Python include TypeError, ValueError, FileNotFoundError, and ZeroDivisionError. \\ntry-except statement is used to catch and handle exceptions in Python.\\nIt allows you to specify a block of code to be executed in the event that an exception is raised, along with specific actions to be taken to handle the exception.'"
      ]
     },
     "execution_count": 2,
     "metadata": {},
     "output_type": "execute_result"
    }
   ],
   "source": [
    "'''In Python, an exception is a condition that occurs during the execution of a program that disrupts the normal flow of code. \n",
    "When an exception occurs, it typically indicates an error or an exceptional situation that needs to be handled.\n",
    "Common types of exceptions in Python include TypeError, ValueError, FileNotFoundError, and ZeroDivisionError. \n",
    "try-except statement is used to catch and handle exceptions in Python.\n",
    "It allows you to specify a block of code to be executed in the event that an exception is raised, along with specific actions to be taken to handle the exception.'''"
   ]
  },
  {
   "cell_type": "code",
   "execution_count": 3,
   "id": "7d86c6dd-7346-46e4-ae7f-b3226f3f1877",
   "metadata": {},
   "outputs": [],
   "source": [
    "# example for exception"
   ]
  },
  {
   "cell_type": "code",
   "execution_count": 4,
   "id": "f0b34c60-0ac9-4af4-80bd-838c7eba611d",
   "metadata": {},
   "outputs": [
    {
     "name": "stdin",
     "output_type": "stream",
     "text": [
      "Enter a number:  56\n"
     ]
    }
   ],
   "source": [
    "import logging\n",
    "\n",
    "# Configure the logger\n",
    "logging.basicConfig(filename='test.txt', level=logging.DEBUG, format='%(levelname)s %(message)s')\n",
    "\n",
    "\n",
    "try:\n",
    "    num = int(input('Enter a number: '))\n",
    "    result = 10 / num\n",
    "    logging.info('Result: %s', result)\n",
    "except ZeroDivisionError:\n",
    "    logging.error('Cannot divide by zero')\n",
    "except ValueError:\n",
    "    logging.error('Invalid input. Please enter a valid number')\n",
    "logging.shutdown()"
   ]
  },
  {
   "cell_type": "code",
   "execution_count": 5,
   "id": "e61b09ab-3075-4675-a777-94fea6ff840e",
   "metadata": {},
   "outputs": [
    {
     "data": {
      "text/plain": [
       "\"Exceptions and syntax errors are two types of errors in programming.\\nIt occur during the execution of a program when an unexpected event or condition is encountered, and they can be caught and handled using try-except blocks. \\nExamples include ZeroDivisionError and FileNotFoundError. \\nSyntax errors occur during the parsing phase before the code is executed and indicate violations of the language's syntax rules.\\nThey need to be fixed by correcting the code to adhere to the language's grammar rules.\\nExamples include missing parentheses or misspelled keywords.\""
      ]
     },
     "execution_count": 5,
     "metadata": {},
     "output_type": "execute_result"
    }
   ],
   "source": [
    "'''Exceptions and syntax errors are two types of errors in programming.\n",
    "It occur during the execution of a program when an unexpected event or condition is encountered, and they can be caught and handled using try-except blocks. \n",
    "Examples include ZeroDivisionError and FileNotFoundError. \n",
    "Syntax errors occur during the parsing phase before the code is executed and indicate violations of the language's syntax rules.\n",
    "They need to be fixed by correcting the code to adhere to the language's grammar rules.\n",
    "Examples include missing parentheses or misspelled keywords.'''"
   ]
  },
  {
   "cell_type": "code",
   "execution_count": 6,
   "id": "24b53e33-fe50-47bf-957f-23b5e007cc12",
   "metadata": {},
   "outputs": [],
   "source": [
    "# ques 2"
   ]
  },
  {
   "cell_type": "code",
   "execution_count": 7,
   "id": "44d489d2-7425-405a-93e4-44b973dff579",
   "metadata": {},
   "outputs": [
    {
     "data": {
      "text/plain": [
       "'When an exception is not handled. In such cases, the default behavior of the program is to terminate abruptly, and an error message is displayed to the user. \\nThe error message typically includes information about the type of exception, the line of code where the exception occurred, and a traceback.\\nThe termination of the program due to an unhandled exception halts the normal execution flow, and any remaining code after the point of the exception is not executed.\\nThis can lead to incomplete or incorrect results and potential data loss, especially if the exception occurred during critical operations or resource handling.'"
      ]
     },
     "execution_count": 7,
     "metadata": {},
     "output_type": "execute_result"
    }
   ],
   "source": [
    "'''When an exception is not handled. In such cases, the default behavior of the program is to terminate abruptly, and an error message is displayed to the user. \n",
    "The error message typically includes information about the type of exception, the line of code where the exception occurred, and a traceback.\n",
    "The termination of the program due to an unhandled exception halts the normal execution flow, and any remaining code after the point of the exception is not executed.\n",
    "This can lead to incomplete or incorrect results and potential data loss, especially if the exception occurred during critical operations or resource handling.'''"
   ]
  },
  {
   "cell_type": "code",
   "execution_count": 8,
   "id": "6be4d2ae-13c5-41af-b10c-7c65125b4067",
   "metadata": {},
   "outputs": [],
   "source": [
    "# File processing without excaption handling"
   ]
  },
  {
   "cell_type": "code",
   "execution_count": 9,
   "id": "7b7495cd-b207-432a-b780-314207203436",
   "metadata": {},
   "outputs": [],
   "source": [
    "# exception not handled\n",
    "def divide(a,b):\n",
    "    result=a/b\n",
    "    return result\n"
   ]
  },
  {
   "cell_type": "code",
   "execution_count": 10,
   "id": "8461a189-a1f9-4032-a6a3-cd69a863f6cd",
   "metadata": {},
   "outputs": [
    {
     "ename": "ZeroDivisionError",
     "evalue": "division by zero",
     "output_type": "error",
     "traceback": [
      "\u001b[0;31m---------------------------------------------------------------------------\u001b[0m",
      "\u001b[0;31mZeroDivisionError\u001b[0m                         Traceback (most recent call last)",
      "Cell \u001b[0;32mIn[10], line 1\u001b[0m\n\u001b[0;32m----> 1\u001b[0m x\u001b[38;5;241m=\u001b[39m\u001b[43mdivide\u001b[49m\u001b[43m(\u001b[49m\u001b[38;5;241;43m10\u001b[39;49m\u001b[43m,\u001b[49m\u001b[38;5;241;43m0\u001b[39;49m\u001b[43m)\u001b[49m\n\u001b[1;32m      2\u001b[0m \u001b[38;5;28mprint\u001b[39m(\u001b[38;5;124m'\u001b[39m\u001b[38;5;124mResult:\u001b[39m\u001b[38;5;124m'\u001b[39m,x)\n",
      "Cell \u001b[0;32mIn[9], line 3\u001b[0m, in \u001b[0;36mdivide\u001b[0;34m(a, b)\u001b[0m\n\u001b[1;32m      2\u001b[0m \u001b[38;5;28;01mdef\u001b[39;00m \u001b[38;5;21mdivide\u001b[39m(a,b):\n\u001b[0;32m----> 3\u001b[0m     result\u001b[38;5;241m=\u001b[39m\u001b[43ma\u001b[49m\u001b[38;5;241;43m/\u001b[39;49m\u001b[43mb\u001b[49m\n\u001b[1;32m      4\u001b[0m     \u001b[38;5;28;01mreturn\u001b[39;00m result\n",
      "\u001b[0;31mZeroDivisionError\u001b[0m: division by zero"
     ]
    }
   ],
   "source": [
    "x=divide(10,0)\n",
    "print('Result:',x)"
   ]
  },
  {
   "cell_type": "code",
   "execution_count": 11,
   "id": "49ad8972-a78c-4551-a356-0102631255df",
   "metadata": {},
   "outputs": [],
   "source": [
    "# Exception is handled\n",
    "import logging\n",
    "logging.basicConfig(filename='ques2.txt',level=logging.INFO)\n",
    "\n",
    "\n",
    "def divide(a, b):\n",
    "    try:\n",
    "        result = a / b\n",
    "        return result\n",
    "    except ZeroDivisionError as e:\n",
    "        logging.info('Error: Division by zero is not allowed.')\n",
    "        return None\n",
    "\n",
    "\n",
    "\n"
   ]
  },
  {
   "cell_type": "code",
   "execution_count": 12,
   "id": "a4f9e348-0fc0-42fd-97b5-47b6daba9126",
   "metadata": {},
   "outputs": [],
   "source": [
    "x=divide(10,0)\n",
    "if x is not None:\n",
    "    logging.info('Result:',x)"
   ]
  },
  {
   "cell_type": "code",
   "execution_count": 13,
   "id": "99cee675-e368-4917-afe6-3b663d7406d4",
   "metadata": {},
   "outputs": [],
   "source": [
    "logging.shutdown()\n",
    "        \n"
   ]
  },
  {
   "cell_type": "code",
   "execution_count": 14,
   "id": "2620e123-ceb5-4231-9504-e3b4284e7a65",
   "metadata": {},
   "outputs": [],
   "source": [
    "# ques 3\n"
   ]
  },
  {
   "cell_type": "code",
   "execution_count": 15,
   "id": "136b0d29-6742-4738-86c7-e77c5f3dfdc4",
   "metadata": {},
   "outputs": [
    {
     "data": {
      "text/plain": [
       "'try-except; statement is statement is used to catch and handle exceptions.'"
      ]
     },
     "execution_count": 15,
     "metadata": {},
     "output_type": "execute_result"
    }
   ],
   "source": [
    "'''try-except; statement is statement is used to catch and handle exceptions.'''"
   ]
  },
  {
   "cell_type": "code",
   "execution_count": 16,
   "id": "abad5920-cc19-46ed-b708-a209c595f8cf",
   "metadata": {},
   "outputs": [],
   "source": [
    "# file processing"
   ]
  },
  {
   "cell_type": "code",
   "execution_count": 17,
   "id": "f92400f3-706d-4ee3-8650-6a874dfbe993",
   "metadata": {},
   "outputs": [],
   "source": [
    "import logging\n",
    "\n",
    "logging.basicConfig(filename='ques3.txt', level=logging.INFO, format='%(name)s %(levelname)s %(message)s')\n",
    "\n",
    "def file_process(file_path):\n",
    "    try:\n",
    "        with open(file_path, 'r') as f:\n",
    "            data = f.read()\n",
    "    except FileNotFoundError as e:\n",
    "        logging.info(f\"Error: File '{file_path}' not found.\")\n",
    "    except ValueError:\n",
    "        logging.info(f\"Error: Invalid data format in file '{file_path}'.\")\n",
    "    except Exception as e:\n",
    "        logging.info(\"Error: An unexpected error occurred: %s\", str(e))\n",
    "        \n",
    "\n",
    "\n",
    "                \n",
    "        "
   ]
  },
  {
   "cell_type": "code",
   "execution_count": 18,
   "id": "649b6029-7ba7-4332-8d4e-e03aea0719c9",
   "metadata": {},
   "outputs": [],
   "source": [
    "file_process('data.txt')"
   ]
  },
  {
   "cell_type": "code",
   "execution_count": 19,
   "id": "f9b6b1c7-ae62-4b5c-9c0d-6bbacca201b0",
   "metadata": {},
   "outputs": [],
   "source": [
    "logging.shutdown()"
   ]
  },
  {
   "cell_type": "code",
   "execution_count": 20,
   "id": "07fc11ef-562e-414d-b6d1-19e7c601065e",
   "metadata": {},
   "outputs": [],
   "source": [
    "# QUES 4"
   ]
  },
  {
   "cell_type": "code",
   "execution_count": 21,
   "id": "ddf8d63b-c47f-4e65-995d-0364aacd7b43",
   "metadata": {},
   "outputs": [],
   "source": [
    "# try except"
   ]
  },
  {
   "cell_type": "code",
   "execution_count": 22,
   "id": "0ed23cbb-e8c8-44bb-a5c4-4dcb2a1a2d24",
   "metadata": {},
   "outputs": [],
   "source": [
    "import csv\n",
    "def parse_validate(file_path):\n",
    "    try:\n",
    "        with open(file_path,'r') as f:\n",
    "            reader=csv.reader(file)\n",
    "            header=next(reader)\n",
    "        len_parse=int(input('Enter the expected number of fields:'))   \n",
    "        if len(header)!=len_parse:\n",
    "            raise ValueError('Invalid header:  Expected 3 fields.')\n",
    "            \n",
    "        for row in reader:\n",
    "            if len(row)!=len_parse:\n",
    "                raise ValueError(f\"Invalid row: {row}. Expected 3 fields.\")\n",
    "    except FileNotFoundError:\n",
    "        print(f\"Error: File '{file_path}' not found.\")\n",
    "    except csv.Error as e:\n",
    "        print(f\"CSV file parsing error: {str(e)}\")\n",
    "    except ValueError as e:\n",
    "        print(str(e))\n",
    "    except Exception as e:\n",
    "        print(f\"An unexpected error occurred: {str(e)}\")\n",
    "        \n",
    "            "
   ]
  },
  {
   "cell_type": "code",
   "execution_count": 23,
   "id": "7dd24ad2-b13d-4e03-9427-60e4094e6acc",
   "metadata": {},
   "outputs": [],
   "source": [
    "file_path='data.csv'"
   ]
  },
  {
   "cell_type": "code",
   "execution_count": 24,
   "id": "32f723b6-086c-4600-ba0c-d6e41b07982a",
   "metadata": {},
   "outputs": [
    {
     "name": "stdout",
     "output_type": "stream",
     "text": [
      "Error: File 'data.csv' not found.\n"
     ]
    }
   ],
   "source": [
    "parse_validate(file_path)"
   ]
  },
  {
   "cell_type": "code",
   "execution_count": 25,
   "id": "d711b324-7df6-43be-b454-7ad3af45f50e",
   "metadata": {},
   "outputs": [],
   "source": [
    "# finally block"
   ]
  },
  {
   "cell_type": "code",
   "execution_count": 26,
   "id": "b28ccb70-8649-4829-901f-75990661bc46",
   "metadata": {},
   "outputs": [],
   "source": [
    "import logging\n",
    "\n",
    "logging.basicConfig(filename='ques4.txt', level=logging.DEBUG, format='%(levelname)s %(message)s')\n",
    "\n",
    "\n",
    "class Tense_str:\n",
    "    def __init__(self):\n",
    "        self.elements = []\n",
    "\n",
    "    def add_element(self, element):\n",
    "        self.elements.append(element)\n",
    "\n",
    "    def simulate(self):\n",
    "        try:\n",
    "            for element in self.elements:\n",
    "                element.apply_force()\n",
    "                element.update_position()\n",
    "\n",
    "        except Exception as e:\n",
    "            logging.error(f\"Simulation error: {str(e)}\")\n",
    "\n",
    "        finally:\n",
    "            self.cleanup()\n",
    "\n",
    "    def cleanup(self):\n",
    "        try:\n",
    "            # Perform cleanup operations here\n",
    "            logging.info('Simulation complete. Cleaning up resources.')\n",
    "        except Exception as e:\n",
    "            logging.error(f\"Cleanup error: {str(e)}\")\n",
    "\n",
    "\n",
    "class Element:\n",
    "    def __init__(self, name):\n",
    "        self.name = name\n",
    "\n",
    "    def apply_force(self):\n",
    "        # Apply force calculations here\n",
    "        logging.debug(f\"Applying forces on element {self.name}\")\n",
    "\n",
    "    def update_position(self):\n",
    "        # Update position calculations here\n",
    "        logging.debug(f\"Updating position of element {self.name}\")\n",
    "\n",
    "\n",
    "\n",
    "\n"
   ]
  },
  {
   "cell_type": "code",
   "execution_count": 27,
   "id": "1ee918eb-4e09-46e1-94f7-7c775314a8e6",
   "metadata": {},
   "outputs": [],
   "source": [
    "# Create a Tense_str instance\n",
    "tensegrity = Tense_str()\n",
    "\n",
    "# Create and add elements to the tensegrity structure\n",
    "element1 = Element('Element 1')\n",
    "element2 = Element('Element 2')\n",
    "element3 = Element('Element 3')\n",
    "tensegrity.add_element(element1)\n",
    "tensegrity.add_element(element2)\n",
    "tensegrity.add_element(element3)\n",
    "\n",
    "# Simulate the tensegrity structure\n",
    "tensegrity.simulate()"
   ]
  },
  {
   "cell_type": "code",
   "execution_count": 28,
   "id": "d574d72b-b8ab-4a04-910c-8357e3dbfe27",
   "metadata": {},
   "outputs": [],
   "source": [
    "logging.shutdown()"
   ]
  },
  {
   "cell_type": "code",
   "execution_count": 29,
   "id": "2fff9019-e268-46dc-bb67-5da9a8fa682c",
   "metadata": {},
   "outputs": [],
   "source": [
    "# raise"
   ]
  },
  {
   "cell_type": "code",
   "execution_count": 48,
   "id": "e9c72c04-b2e9-4d9f-ba82-dccf79ee33de",
   "metadata": {},
   "outputs": [
    {
     "name": "stdin",
     "output_type": "stream",
     "text": [
      "Enter a number: 67\n"
     ]
    },
    {
     "name": "stdout",
     "output_type": "stream",
     "text": [
      "square root: 8.18535277187245\n"
     ]
    }
   ],
   "source": [
    "def square_root(number):\n",
    "    if number<0:\n",
    "        raise ValueError('Cannot calculate square roots of a negative number')\n",
    "    else:\n",
    "        return number**0.5\n",
    "try:\n",
    "    number=float(input('Enter a number:'))\n",
    "    result=square_root(number)\n",
    "    print('square root:' ,result)\n",
    "except ValueError as e:\n",
    "     print('Error:' , str(e))"
   ]
  },
  {
   "cell_type": "code",
   "execution_count": 49,
   "id": "9dc8837c-fe53-4a8b-99b2-f39ba77bb3cc",
   "metadata": {},
   "outputs": [],
   "source": [
    "# ques 5"
   ]
  },
  {
   "cell_type": "code",
   "execution_count": 51,
   "id": "fb057362-0afd-4c0b-9ab8-5f1c9c69adc8",
   "metadata": {},
   "outputs": [
    {
     "data": {
      "text/plain": [
       "'Custom exceptions in Python are user-defined exceptions that allow developers to create their own specific exception types. \\nWhile Python provides a set of built-in exceptions like ValueError, TypeError, and FileNotFoundError, custom exceptions provide\\na way to handle application-specific errors or exceptional scenarios that are not covered by the built-in exceptions.'"
      ]
     },
     "execution_count": 51,
     "metadata": {},
     "output_type": "execute_result"
    }
   ],
   "source": [
    "'''Custom exceptions in Python are user-defined exceptions that allow developers to create their own specific exception types. \n",
    "While Python provides a set of built-in exceptions like ValueError, TypeError, and FileNotFoundError, custom exceptions provide\n",
    "a way to handle application-specific errors or exceptional scenarios that are not covered by the built-in exceptions.'''"
   ]
  },
  {
   "cell_type": "code",
   "execution_count": 52,
   "id": "1e172805-7f51-48a2-a65c-d43afa3b312b",
   "metadata": {},
   "outputs": [
    {
     "data": {
      "text/plain": [
       "' We need custom exceptions as it llow developers to define and handle errors that are specific to their application domain.\\n It can organize our code in a more modular and structured manner. Custom exceptions can be defined in separate modules or classes,\\n making it easier to locate and handle specific types of errors. \\n It  can raise and handle the same custom exception in different sections of our codebase, promoting code reuse and reducing redundancy.'"
      ]
     },
     "execution_count": 52,
     "metadata": {},
     "output_type": "execute_result"
    }
   ],
   "source": [
    "''' We need custom exceptions as it llow developers to define and handle errors that are specific to their application domain.\n",
    " It can organize our code in a more modular and structured manner. Custom exceptions can be defined in separate modules or classes,\n",
    " making it easier to locate and handle specific types of errors. \n",
    " It  can raise and handle the same custom exception in different sections of our codebase, promoting code reuse and reducing redundancy.'''"
   ]
  },
  {
   "cell_type": "code",
   "execution_count": 53,
   "id": "1dce565c-fc64-4658-bbd4-86ef1c215849",
   "metadata": {},
   "outputs": [],
   "source": [
    "class TenseSimulationError(Exception):\n",
    "    def __init__(self,msg):\n",
    "        self.msg=msg\n",
    "    \n",
    "\n",
    "class TenseStructures:\n",
    "    def __init__(self):\n",
    "        self.elements=[]\n",
    "        \n",
    "    def add_element(self,element):\n",
    "        self.elements.append(element)\n",
    "        \n",
    "    def simulate(self):\n",
    "        try:\n",
    "            for element in self.elements:\n",
    "                element.force()\n",
    "                element.position()\n",
    "        except Exception as e:\n",
    "                raise TenseSimulationError('Error occured during tensegrity simulation ') from e\n",
    "        finally:\n",
    "            self.cleanup()\n",
    "            \n",
    "    def cleanup(self):\n",
    "        print(\"Simulation complete. Cleaning up resources.\")\n",
    "class Element:\n",
    "    def __init__(self, name):\n",
    "        self.name = name\n",
    "\n",
    "    def force(self):\n",
    "        print(f\"Forcing {self.name}\")\n",
    "\n",
    "    def position(self):\n",
    "        print(f\"Updating position of {self.name}\")\n"
   ]
  },
  {
   "cell_type": "code",
   "execution_count": 56,
   "id": "66683ab6-69f0-4bf6-b980-35e60b8f918c",
   "metadata": {},
   "outputs": [],
   "source": [
    "structure=TenseStructures()"
   ]
  },
  {
   "cell_type": "code",
   "execution_count": 57,
   "id": "f2e43069-4cb4-487b-9c12-4527f4ae2133",
   "metadata": {},
   "outputs": [],
   "source": [
    "element1 = Element(\"Element 1\")\n",
    "element2 = Element(\"Element 2\")"
   ]
  },
  {
   "cell_type": "code",
   "execution_count": 58,
   "id": "018ed752-2990-4106-9cb1-be0e3f68dbbe",
   "metadata": {},
   "outputs": [],
   "source": [
    "structure.add_element(element1)"
   ]
  },
  {
   "cell_type": "code",
   "execution_count": 59,
   "id": "e16fbbb3-a634-4761-85b6-fa22dbb525c3",
   "metadata": {},
   "outputs": [],
   "source": [
    "structure.add_element(element2)"
   ]
  },
  {
   "cell_type": "code",
   "execution_count": 60,
   "id": "480f9b73-121e-45be-95d7-9c3058f609b7",
   "metadata": {},
   "outputs": [
    {
     "name": "stdout",
     "output_type": "stream",
     "text": [
      "Forcing Element 1\n",
      "Updating position of Element 1\n",
      "Forcing Element 2\n",
      "Updating position of Element 2\n",
      "Simulation complete. Cleaning up resources.\n"
     ]
    }
   ],
   "source": [
    "structure.simulate()"
   ]
  },
  {
   "cell_type": "code",
   "execution_count": 61,
   "id": "e009881d-50c7-480f-86da-0cd1d29e6531",
   "metadata": {},
   "outputs": [],
   "source": [
    " # ques 6"
   ]
  },
  {
   "cell_type": "code",
   "execution_count": 63,
   "id": "078a6efc-db8c-4411-bd2f-dbc8689a2675",
   "metadata": {},
   "outputs": [],
   "source": [
    "class TensegrityFormError(Exception):\n",
    "    def __init__(self, message):\n",
    "        self.message = message\n",
    "\n",
    "class TensegrityElement:\n",
    "    def __init__(self, name):\n",
    "        self.name = name\n",
    "        self.position = None\n",
    "\n",
    "    def set_position(self, position):\n",
    "        self.position = position\n",
    "        print(f\"Setting position of {self.name} to {self.position}\")\n",
    "\n",
    "class TensegrityStructure:\n",
    "    def __init__(self):\n",
    "        self.elements = []\n",
    "\n",
    "    def add_element(self, element):\n",
    "        self.elements.append(element)\n",
    "\n",
    "    def form_find(self):\n",
    "        for element in self.elements:\n",
    "            if element.position is None:\n",
    "                raise TensegrityFormError(f\"Position not set for element {element.name}\")\n",
    "\n",
    "        print(\"Form finding complete. Tensegrity structure formed.\")"
   ]
  },
  {
   "cell_type": "code",
   "execution_count": 64,
   "id": "4cc97366-3c74-4f00-a7e7-2725560d93a3",
   "metadata": {},
   "outputs": [],
   "source": [
    "structure = TensegrityStructure()"
   ]
  },
  {
   "cell_type": "code",
   "execution_count": 65,
   "id": "97e6e85f-919d-412a-bbc1-fe2822c49579",
   "metadata": {},
   "outputs": [],
   "source": [
    "element1 = TensegrityElement(\"Element 1\")\n",
    "element2 = TensegrityElement(\"Element 2\")\n",
    "element3 = TensegrityElement(\"Element 3\")"
   ]
  },
  {
   "cell_type": "code",
   "execution_count": 66,
   "id": "a9d931c2-c078-4e2c-a48d-b157537c5317",
   "metadata": {},
   "outputs": [],
   "source": [
    "structure.add_element(element1)"
   ]
  },
  {
   "cell_type": "code",
   "execution_count": 67,
   "id": "2907397b-828e-4d57-b0d4-6be75ccdee9b",
   "metadata": {},
   "outputs": [],
   "source": [
    "structure.add_element(element2)"
   ]
  },
  {
   "cell_type": "code",
   "execution_count": 69,
   "id": "861af8a0-6a32-4e25-a01e-d0193f1f37aa",
   "metadata": {},
   "outputs": [],
   "source": [
    "structure.add_element(element3)"
   ]
  },
  {
   "cell_type": "code",
   "execution_count": 70,
   "id": "2e4be903-384c-4df7-9661-ea55c5b80973",
   "metadata": {},
   "outputs": [
    {
     "name": "stdout",
     "output_type": "stream",
     "text": [
      "Setting position of Element 1 to (0, 0, 0)\n"
     ]
    }
   ],
   "source": [
    "element1.set_position((0,0,0))"
   ]
  },
  {
   "cell_type": "code",
   "execution_count": 71,
   "id": "c815ffbd-4443-40a5-9827-600224236782",
   "metadata": {},
   "outputs": [
    {
     "name": "stdout",
     "output_type": "stream",
     "text": [
      "Setting position of Element 2 to (1, 1, 1)\n"
     ]
    }
   ],
   "source": [
    "element2.set_position((1,1,1))"
   ]
  },
  {
   "cell_type": "code",
   "execution_count": 72,
   "id": "60f56290-2a25-41d4-96db-c4ed542549b7",
   "metadata": {},
   "outputs": [
    {
     "name": "stdout",
     "output_type": "stream",
     "text": [
      "Setting position of Element 3 to (2, 2, 2)\n"
     ]
    }
   ],
   "source": [
    "element3.set_position((2,2,2))"
   ]
  },
  {
   "cell_type": "code",
   "execution_count": 73,
   "id": "26cdb64e-e593-4eec-aee7-4981fb4dc2b4",
   "metadata": {},
   "outputs": [
    {
     "name": "stdout",
     "output_type": "stream",
     "text": [
      "Form finding complete. Tensegrity structure formed.\n"
     ]
    }
   ],
   "source": [
    "try:\n",
    "    structure.form_find()\n",
    "except TensegrityFormFindingError as e:\n",
    "    print(f\"Form finding error: {str(e)}\")"
   ]
  },
  {
   "cell_type": "code",
   "execution_count": null,
   "id": "766e494b-93a1-48a4-bdf7-23dbd7cb516f",
   "metadata": {},
   "outputs": [],
   "source": []
  }
 ],
 "metadata": {
  "kernelspec": {
   "display_name": "Python 3 (ipykernel)",
   "language": "python",
   "name": "python3"
  },
  "language_info": {
   "codemirror_mode": {
    "name": "ipython",
    "version": 3
   },
   "file_extension": ".py",
   "mimetype": "text/x-python",
   "name": "python",
   "nbconvert_exporter": "python",
   "pygments_lexer": "ipython3",
   "version": "3.10.8"
  }
 },
 "nbformat": 4,
 "nbformat_minor": 5
}
