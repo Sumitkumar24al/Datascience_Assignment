{
 "cells": [
  {
   "cell_type": "markdown",
   "id": "a0080203-e105-4c90-a3bd-5f58a623b32e",
   "metadata": {},
   "source": [
    "Ques 1"
   ]
  },
  {
   "cell_type": "code",
   "execution_count": 1,
   "id": "15bf84ce-888c-4341-ab43-5690faa97448",
   "metadata": {},
   "outputs": [],
   "source": [
    "import numpy as np\n",
    "list_=['1','2','3','4','5']\n",
    "array_list=np.array(object=list_)"
   ]
  },
  {
   "cell_type": "markdown",
   "id": "e658793d-14b4-492d-b0e7-5678291434ac",
   "metadata": {},
   "source": [
    "Yes, there is a difference in the datatype of variables list_ and array_list. The list_ variable is a python list, and the array_list variable is a Numpy array. The elements in the list_ are strings , whereas the elements in the array_list are integers, as Numpy NumPy automatically infers the data type when creating an array from a list of strings."
   ]
  },
  {
   "cell_type": "code",
   "execution_count": 2,
   "id": "a8546b35-cf45-4572-a72f-4509582d2664",
   "metadata": {},
   "outputs": [
    {
     "name": "stdout",
     "output_type": "stream",
     "text": [
      "Data type of list_ : <class 'list'>\n",
      "Data type of array_list: <class 'numpy.ndarray'>\n"
     ]
    }
   ],
   "source": [
    "print('Data type of list_ :', type(list_))\n",
    "print('Data type of array_list:',type(array_list))"
   ]
  },
  {
   "cell_type": "markdown",
   "id": "89571b36-47c7-4126-8c38-b7b08503e054",
   "metadata": {},
   "source": [
    "Ques 2"
   ]
  },
  {
   "cell_type": "code",
   "execution_count": 3,
   "id": "b4640c3e-96c8-4650-aee4-eba620d54d65",
   "metadata": {},
   "outputs": [
    {
     "name": "stdout",
     "output_type": "stream",
     "text": [
      "Data type of elements in list_ :\n",
      "<class 'str'>\n",
      "<class 'str'>\n",
      "<class 'str'>\n",
      "<class 'str'>\n",
      "<class 'str'>\n"
     ]
    }
   ],
   "source": [
    "print('Data type of elements in list_ :')\n",
    "for i in list_:\n",
    "    print(type(i))"
   ]
  },
  {
   "cell_type": "code",
   "execution_count": 4,
   "id": "0e556775-26ff-4930-abd5-1943595ff319",
   "metadata": {},
   "outputs": [
    {
     "name": "stdout",
     "output_type": "stream",
     "text": [
      "\n",
      "Data types of elements in 'array_list':\n",
      "<class 'numpy.str_'>\n",
      "<class 'numpy.str_'>\n",
      "<class 'numpy.str_'>\n",
      "<class 'numpy.str_'>\n",
      "<class 'numpy.str_'>\n"
     ]
    }
   ],
   "source": [
    "print(\"\\nData types of elements in 'array_list':\")\n",
    "for element in array_list:\n",
    "    print(type(element))\n"
   ]
  },
  {
   "cell_type": "markdown",
   "id": "87076ef7-2f6f-46e9-99ca-9009262cafa3",
   "metadata": {},
   "source": [
    "Ques 3"
   ]
  },
  {
   "cell_type": "markdown",
   "id": "cfaaf87e-5ed9-4580-a912-89ec874ce39d",
   "metadata": {},
   "source": [
    "No, there will be a difference in the data type of the elements present in list_ and array_list after the change.  The list_ variable is a python list, and the array_list variable is a Numpy array. However the every elements datatype of array_list will be converted to integers."
   ]
  },
  {
   "cell_type": "code",
   "execution_count": 5,
   "id": "0caa8627-2b85-4185-b422-eba5bae01bde",
   "metadata": {},
   "outputs": [
    {
     "name": "stdout",
     "output_type": "stream",
     "text": [
      "Data type of list_ : <class 'list'>\n",
      "Data type of array_list: <class 'numpy.ndarray'>\n"
     ]
    }
   ],
   "source": [
    "array_list=np.array(object=list_,dtype=int)\n",
    "print('Data type of list_ :', type(list_))\n",
    "print('Data type of array_list:',type(array_list))"
   ]
  },
  {
   "cell_type": "code",
   "execution_count": 6,
   "id": "b6492850-c91a-4bba-ae18-ebf6faaf5b01",
   "metadata": {},
   "outputs": [
    {
     "name": "stdout",
     "output_type": "stream",
     "text": [
      "\n",
      "Data types of elements in 'array_list':\n",
      "<class 'numpy.int64'>\n",
      "<class 'numpy.int64'>\n",
      "<class 'numpy.int64'>\n",
      "<class 'numpy.int64'>\n",
      "<class 'numpy.int64'>\n"
     ]
    }
   ],
   "source": [
    "print(\"\\nData types of elements in 'array_list':\")\n",
    "for element in array_list:\n",
    "    print(type(element))"
   ]
  },
  {
   "cell_type": "markdown",
   "id": "a6559320-b67b-4236-bbec-4d9c2b6442a3",
   "metadata": {},
   "source": [
    "Ques 4"
   ]
  },
  {
   "cell_type": "code",
   "execution_count": 7,
   "id": "cb13a1d8-e9e2-49cd-aa9e-8b6ab7c15cd7",
   "metadata": {},
   "outputs": [],
   "source": [
    "import numpy as np\n",
    "num_list=[[1,2,3],[4,5,6]]\n",
    "num_array=np.array(object=num_list)"
   ]
  },
  {
   "cell_type": "code",
   "execution_count": 8,
   "id": "8a8da248-c353-4fb7-b4df-9d5c32a9bc7c",
   "metadata": {},
   "outputs": [
    {
     "name": "stdout",
     "output_type": "stream",
     "text": [
      "Size of the array: 6\n"
     ]
    }
   ],
   "source": [
    "array_size=num_array.size\n",
    "print('Size of the array:',array_size)"
   ]
  },
  {
   "cell_type": "code",
   "execution_count": 9,
   "id": "3cdc3766-9c9f-4e7d-8035-cba312695ef8",
   "metadata": {},
   "outputs": [
    {
     "name": "stdout",
     "output_type": "stream",
     "text": [
      "Shape of the array: (2, 3)\n"
     ]
    }
   ],
   "source": [
    "array_shape=num_array.shape\n",
    "print('Shape of the array:', array_shape)"
   ]
  },
  {
   "cell_type": "markdown",
   "id": "0725e12c-8b6e-408f-9f7f-baa05e379c7c",
   "metadata": {},
   "source": [
    "Ques 5"
   ]
  },
  {
   "cell_type": "code",
   "execution_count": 10,
   "id": "e03a699e-a280-444b-9f87-513012e15208",
   "metadata": {},
   "outputs": [
    {
     "name": "stdout",
     "output_type": "stream",
     "text": [
      "Matrix: [[0. 0. 0.]\n",
      " [0. 0. 0.]\n",
      " [0. 0. 0.]]\n",
      "Matrix size: 9\n",
      "Matrix shape: (3, 3)\n"
     ]
    }
   ],
   "source": [
    "mat_3=np.zeros((3,3))\n",
    "print('Matrix:',mat_3)\n",
    "print('Matrix size:',mat_3.size)\n",
    "print('Matrix shape:',mat_3.shape)"
   ]
  },
  {
   "cell_type": "markdown",
   "id": "6f7991af-47e4-4bde-8dc7-9998826acd17",
   "metadata": {},
   "source": [
    "Ques 6"
   ]
  },
  {
   "cell_type": "code",
   "execution_count": 11,
   "id": "afab769b-7215-4fab-84d7-ccd975dff0d0",
   "metadata": {},
   "outputs": [
    {
     "name": "stdout",
     "output_type": "stream",
     "text": [
      "Identity matrix: [[1. 0. 0. 0. 0.]\n",
      " [0. 1. 0. 0. 0.]\n",
      " [0. 0. 1. 0. 0.]\n",
      " [0. 0. 0. 1. 0.]\n",
      " [0. 0. 0. 0. 1.]]\n"
     ]
    }
   ],
   "source": [
    "Idn_mat=np.eye(5)\n",
    "print('Identity matrix:',Idn_mat)"
   ]
  },
  {
   "cell_type": "code",
   "execution_count": null,
   "id": "1ea6a559-84bd-4dd8-bad1-56ab7d3ea61f",
   "metadata": {},
   "outputs": [],
   "source": []
  }
 ],
 "metadata": {
  "kernelspec": {
   "display_name": "Python 3 (ipykernel)",
   "language": "python",
   "name": "python3"
  },
  "language_info": {
   "codemirror_mode": {
    "name": "ipython",
    "version": 3
   },
   "file_extension": ".py",
   "mimetype": "text/x-python",
   "name": "python",
   "nbconvert_exporter": "python",
   "pygments_lexer": "ipython3",
   "version": "3.10.8"
  }
 },
 "nbformat": 4,
 "nbformat_minor": 5
}
