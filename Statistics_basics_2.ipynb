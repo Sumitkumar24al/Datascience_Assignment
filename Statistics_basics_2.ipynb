{
 "cells": [
  {
   "cell_type": "markdown",
   "id": "e9ab8c4a-f8ad-4c7d-8ba3-20f56c6e4e7b",
   "metadata": {},
   "source": [
    "Ques1"
   ]
  },
  {
   "cell_type": "markdown",
   "id": "33d75940-61ef-42ce-9b4a-5e61e173f05e",
   "metadata": {},
   "source": [
    "The three measures of central tendency are:\n",
    "\n",
    "1. Mean: \n",
    "The mean, also known as the average, is calculated by adding up all the values in a dataset and then dividing by the total number of values. It represents the typical or central value of the data.\n",
    "\n",
    "2. Median: \n",
    "The median is the middle value in a dataset when the values are arranged in ascending or descending order. If the dataset has an odd number of values, the median is the middle value. If the dataset has an even number of values, the median is the average of the two middle values.\n",
    "\n",
    "3. Mode: \n",
    "The mode is the value that appears most frequently in a dataset. A dataset can have one mode (unimodal) or multiple modes (bimodal, trimodal, etc.), or it can be multimodal, where several values appear with the same highest frequency."
   ]
  },
  {
   "cell_type": "markdown",
   "id": "cf3a7da2-3d3c-46bd-be68-881ebbfe2ba4",
   "metadata": {},
   "source": [
    "Ques 2"
   ]
  },
  {
   "cell_type": "markdown",
   "id": "0c0abf67-a50b-4cbd-a17f-3fabf19d80de",
   "metadata": {},
   "source": [
    "The three measures of central tendency, namely mean, median, and mode, each play a crucial role in summarizing and understanding a dataset. \n",
    "The mean, also known as the average, is obtained by adding up all the values and dividing by the total number of terms. It is particularly useful for data that follows a normal distribution. \n",
    "                                          On the other hand, the median represents the middle value in a sorted dataset, making it well-suited for skewed data as it is less influenced by extreme values. To find the median, one arranges all values in ascending or descending order and takes the middle value, or the average of the two middle values in case of an even number of observations.\n",
    "\n",
    "                             The mode, on the other hand, is the value that occurs most frequently in a dataset. It is best utilized for categorical or nominal data, where it helps identify the most common category or value. It is essential to note that a dataset can have one mode, multiple modes, or none at all if all values occur with equal frequency. Understanding the characteristics of the dataset, such as its distribution and type, helps in choosing the appropriate measure of central tendency.\n",
    "\n",
    "When to use each measure:\n",
    "\n",
    "Use the mean when you have a normal distribution or symmetrical data and you want to find the overall average.\n",
    "Use the median when your data has extreme values or is skewed, and you want a measure that is not influenced by outliers.\n",
    "Use the mode when dealing with categorical data or when you want to identify the most frequent value or category in your dataset.\n"
   ]
  },
  {
   "cell_type": "markdown",
   "id": "125b517d-296c-410d-a015-7fbc9e6f0369",
   "metadata": {},
   "source": [
    "Ques 3"
   ]
  },
  {
   "cell_type": "code",
   "execution_count": 1,
   "id": "4e7a176a-6d7d-4fac-9052-71ede753848b",
   "metadata": {},
   "outputs": [],
   "source": [
    "height_data = [178, 177, 176, 177, 178.2, 178, 175, 179, 180, 175, 178.9, 176.2, 177, 172.5, 178, 176.5]\n"
   ]
  },
  {
   "cell_type": "code",
   "execution_count": 2,
   "id": "0b8f9047-9092-4b78-b7b1-d2a3f92a5ec1",
   "metadata": {},
   "outputs": [
    {
     "name": "stdout",
     "output_type": "stream",
     "text": [
      "Mean Height: 177.01875\n"
     ]
    }
   ],
   "source": [
    "# Mean\n",
    "mean_height=sum(height_data)/len(height_data)\n",
    "print('Mean Height:',mean_height)\n"
   ]
  },
  {
   "cell_type": "code",
   "execution_count": 3,
   "id": "1616f69b-421e-474f-bb87-4149e59864b6",
   "metadata": {},
   "outputs": [
    {
     "data": {
      "text/plain": [
       "177.01875"
      ]
     },
     "execution_count": 3,
     "metadata": {},
     "output_type": "execute_result"
    }
   ],
   "source": [
    "import numpy as np\n",
    "np.mean(mean_height)"
   ]
  },
  {
   "cell_type": "code",
   "execution_count": 4,
   "id": "665d62a6-e4be-491c-a73d-7ade374e7707",
   "metadata": {},
   "outputs": [
    {
     "name": "stdout",
     "output_type": "stream",
     "text": [
      "Median Height: 177.0\n"
     ]
    }
   ],
   "source": [
    "# Median\n",
    "sorted_height=sorted(height_data)\n",
    "n=len(sorted_height)\n",
    "if n%2==0:\n",
    "    median=(sorted_height[n//2-1]+sorted_height[n//2])/2\n",
    "else:\n",
    "    median=sorted_height[n//2]\n",
    "print('Median Height:',median)"
   ]
  },
  {
   "cell_type": "code",
   "execution_count": 5,
   "id": "cd240fae-6a54-4fc0-9daf-1d14a6d0165d",
   "metadata": {},
   "outputs": [
    {
     "data": {
      "text/plain": [
       "177.0"
      ]
     },
     "execution_count": 5,
     "metadata": {},
     "output_type": "execute_result"
    }
   ],
   "source": [
    "np.median(height_data)"
   ]
  },
  {
   "cell_type": "code",
   "execution_count": 6,
   "id": "96f1c50b-5da2-4945-8b43-102fc923bd81",
   "metadata": {},
   "outputs": [
    {
     "name": "stdout",
     "output_type": "stream",
     "text": [
      "Mode Height: [178, 177]\n"
     ]
    }
   ],
   "source": [
    "# Mode\n",
    "def calculate_mode(data):\n",
    "    counts={}\n",
    "    for item in data:\n",
    "        counts[item]=counts.get(item,0)+1\n",
    "    max_count = max(counts.values())\n",
    "    mode = [item for item, count in counts.items() if count == max_count]\n",
    "\n",
    "    return mode\n",
    "\n",
    "mode_height=calculate_mode(height_data)\n",
    "print(\"Mode Height:\", mode_height)\n"
   ]
  },
  {
   "cell_type": "code",
   "execution_count": 7,
   "id": "99755943-89e8-4262-b414-789bbc3a09b2",
   "metadata": {},
   "outputs": [
    {
     "name": "stdout",
     "output_type": "stream",
     "text": [
      "Mode: ModeResult(mode=array([177.]), count=array([3]))\n"
     ]
    },
    {
     "name": "stderr",
     "output_type": "stream",
     "text": [
      "/tmp/ipykernel_1901/949998188.py:3: FutureWarning: Unlike other reduction functions (e.g. `skew`, `kurtosis`), the default behavior of `mode` typically preserves the axis it acts along. In SciPy 1.11.0, this behavior will change: the default value of `keepdims` will become False, the `axis` over which the statistic is taken will be eliminated, and the value None will no longer be accepted. Set `keepdims` to True or False to avoid this warning.\n",
      "  mode_value = stats.mode(height_data)\n"
     ]
    }
   ],
   "source": [
    "import scipy.stats as stats\n",
    "\n",
    "mode_value = stats.mode(height_data)\n",
    "print(\"Mode:\", mode_value)\n"
   ]
  },
  {
   "cell_type": "markdown",
   "id": "132f6043-90d9-4cd4-8430-c42aa686d530",
   "metadata": {},
   "source": [
    "Ques 4"
   ]
  },
  {
   "cell_type": "code",
   "execution_count": 8,
   "id": "da550785-b514-4ac5-8a50-b0d923ad8710",
   "metadata": {},
   "outputs": [
    {
     "name": "stdout",
     "output_type": "stream",
     "text": [
      "Standard deviation: 1.7885814036548633\n"
     ]
    }
   ],
   "source": [
    "data = [178, 177, 176, 177, 178.2, 178, 175, 179, 180, 175, 178.9, 176.2, 177, 172.5, 178, 176.5]\n",
    "\n",
    "# standard deviation\n",
    "mean_value=sum(data)/len(data)\n",
    "squared_diff=sum((x-mean_value)**2 for x in data)\n",
    "stand_deviation=(squared_diff/len(data))**0.5\n",
    "print( 'Standard deviation:', stand_deviation)"
   ]
  },
  {
   "cell_type": "code",
   "execution_count": 9,
   "id": "e06fadfe-f403-45e9-8ab7-35d0c1f01072",
   "metadata": {},
   "outputs": [
    {
     "name": "stdout",
     "output_type": "stream",
     "text": [
      "Standard deviation: 1.7885814036548633\n"
     ]
    }
   ],
   "source": [
    "std_data=np.std(data)\n",
    "print( 'Standard deviation:', std_data)"
   ]
  },
  {
   "cell_type": "markdown",
   "id": "2a454b55-ed3d-40bb-9d99-ae60c0b5e396",
   "metadata": {},
   "source": [
    " Ques 5"
   ]
  },
  {
   "cell_type": "markdown",
   "id": "1eb32258-734a-4eda-8653-f98d215260bf",
   "metadata": {},
   "source": [
    "Measures of dispersion, such as range, variance, and standard deviation, are used to describe how spread out or dispersed the data points are in a dataset. They provide information about the variability or scatter of data values around the central tendency (mean or median) of the dataset. A larger value of dispersion indicates more variability, while a smaller value indicates less variability or a more clustered dataset.\n",
    "\n",
    "1. Range:\n",
    "The range is the simplest measure of dispersion, representing the difference between the maximum and minimum values in the dataset. It gives an idea of the total spread of the data.\n",
    "\n",
    "Example: Consider the following dataset representing the daily temperatures (in degrees Celsius) in a city for a week: [25, 27, 22, 30, 28, 24, 26]. \n",
    "\n",
    "The range of temperatures is calculated as follows:\n",
    "Range = Maximum temperature - Minimum temperature = 30 - 22 = 8\n",
    "\n",
    "The range in this case is 8 degrees Celsius, indicating that the temperatures varied by 8 degrees over the week."
   ]
  },
  {
   "cell_type": "code",
   "execution_count": 10,
   "id": "2b8335e0-6dd1-48f9-af9a-ab3dad31cc7c",
   "metadata": {},
   "outputs": [
    {
     "name": "stdout",
     "output_type": "stream",
     "text": [
      "Range: 8\n"
     ]
    }
   ],
   "source": [
    "temp=[25, 27, 22, 30, 28, 24, 26]\n",
    "Range=max(temp)-min(temp)\n",
    "print('Range:',Range)"
   ]
  },
  {
   "cell_type": "markdown",
   "id": "f306c31c-385a-4a3a-bd3a-0a46880a3ea8",
   "metadata": {},
   "source": [
    "2. Variance:\n",
    "Variance is the average of the squared differences between each data point and the mean of the dataset. It measures the average distance of data points from the mean, providing a more comprehensive measure of dispersion.\n",
    "\n",
    "Example: Consider the same dataset of daily temperatures. The mean temperature can be calculated as (25 + 27 + 22 + 30 + 28 + 24 + 26) / 7 = 26. The variance can be calculated as follows:\n",
    "\n",
    "Variance = [(25 - 26)^2 + (27 - 26)^2 + (22 - 26)^2 + (30 - 26)^2 + (28 - 26)^2 + (24 - 26)^2 + (26 - 26)^2] / 7\n",
    "Variance = 6.00\n",
    "\n",
    "A higher variance indicates that the temperatures were more spread out from the mean."
   ]
  },
  {
   "cell_type": "code",
   "execution_count": 11,
   "id": "5ee34cb6-885d-4491-b6a9-38f237e8248a",
   "metadata": {},
   "outputs": [
    {
     "name": "stdout",
     "output_type": "stream",
     "text": [
      "Variance: 6.0\n"
     ]
    }
   ],
   "source": [
    "import numpy as np\n",
    "temp=[25, 27, 22, 30, 28, 24, 26]\n",
    "var_temp=np.var(temp)\n",
    "print('Variance:',var_temp)\n"
   ]
  },
  {
   "cell_type": "markdown",
   "id": "54ba4de5-4a4c-475d-9972-a5a2c65b3f87",
   "metadata": {},
   "source": [
    "\n",
    "3. Standard Deviation:\n",
    "The standard deviation is the square root of the variance. It provides a more interpretable measure of dispersion compared to variance as it is in the same units as the original data.\n",
    "\n",
    "Example: Continuing with the temperature dataset, the standard deviation can be calculated as follows:\n",
    "\n",
    "Standard Deviation ≈ √6.00 ≈ 2.44\n",
    "\n",
    "The standard deviation of approximately 2.57 degrees Celsius indicates that the daily temperatures, on average, deviated from the mean temperature by around 2.57 degrees."
   ]
  },
  {
   "cell_type": "code",
   "execution_count": 12,
   "id": "42282f23-ba49-406c-a7c3-c4146060d787",
   "metadata": {},
   "outputs": [
    {
     "name": "stdout",
     "output_type": "stream",
     "text": [
      "Standard deviation: 2.449489742783178\n"
     ]
    }
   ],
   "source": [
    "std_dev=np.std(temp)\n",
    "print('Standard deviation:', std_dev)"
   ]
  },
  {
   "cell_type": "markdown",
   "id": "4ccda151-2fda-44d6-91c4-d2dd1e1d920c",
   "metadata": {},
   "source": [
    "Ques 6"
   ]
  },
  {
   "cell_type": "markdown",
   "id": "ba5d0a46-2d87-4256-affc-543d57be8912",
   "metadata": {},
   "source": [
    "A Venn diagram is a graphical tool used to visualize the relationships and intersections between different sets or groups of data. Each set is represented by a circle, and the overlapping regions between circles indicate the elements that are shared between the sets. The non-overlapping regions represent the elements unique to each set. Venn diagrams are commonly used in various fields, including mathematics, logic, statistics, and data analysis, to illustrate concepts like set operations (union, intersection, complement) and logical relationships. They provide an intuitive way to understand the presence and absence of elements within sets and to compare datasets with distinct categories. Venn diagrams offer a simple and effective means to convey complex relationships and are an essential tool in organizing, analyzing, and presenting data."
   ]
  },
  {
   "cell_type": "markdown",
   "id": "626546b5-cd1e-4795-89aa-a02e9a70ca0a",
   "metadata": {},
   "source": [
    "Ques 7"
   ]
  },
  {
   "cell_type": "markdown",
   "id": "d88f51b6-a79d-454e-b4f6-ef6a9f1e30fe",
   "metadata": {},
   "source": [
    "Given:\n",
    "A = {2, 3, 4, 5, 6, 7}\n",
    "B = {0, 2, 6, 8, 10}\n",
    "(i) A ∩ B (Intersection) ={2, 6} \n",
    "The elements 2 and 6 are present in both sets A and B."
   ]
  },
  {
   "cell_type": "code",
   "execution_count": 13,
   "id": "d7d6c3a9-b127-4c4f-acdb-a70687cd24e9",
   "metadata": {},
   "outputs": [
    {
     "name": "stdout",
     "output_type": "stream",
     "text": [
      "Intersection of A and B: {2, 6}\n"
     ]
    }
   ],
   "source": [
    "A = {2, 3, 4, 5, 6, 7}\n",
    "B = {0, 2, 6, 8, 10}\n",
    "intersection_set=A.intersection(B)\n",
    "print('Intersection of A and B:',intersection_set)"
   ]
  },
  {
   "cell_type": "markdown",
   "id": "cbc55908-2d9b-43f5-a5bf-f794021ae2e2",
   "metadata": {},
   "source": [
    "(ii) A ⋃ B (Union)= {0, 2, 3, 4, 5, 6, 7, 8, 10}\n",
    "The union of sets A and B includes all elements from both sets, excluding duplicates."
   ]
  },
  {
   "cell_type": "code",
   "execution_count": 14,
   "id": "abdbefe5-25f1-4302-b8d1-4bb6ea8524b2",
   "metadata": {},
   "outputs": [
    {
     "name": "stdout",
     "output_type": "stream",
     "text": [
      "Union of A and B: {0, 2, 3, 4, 5, 6, 7, 8, 10}\n"
     ]
    }
   ],
   "source": [
    "Union_set=A.union(B)\n",
    "print('Union of A and B:',Union_set)"
   ]
  },
  {
   "cell_type": "markdown",
   "id": "c44c3f7e-33ae-4516-a8b2-bae25d09ea16",
   "metadata": {},
   "source": [
    "Ques 8"
   ]
  },
  {
   "cell_type": "markdown",
   "id": "e4f6904c-602e-429f-a046-144d2578c137",
   "metadata": {},
   "source": [
    "Skewness in data refers to the asymmetry or lack of symmetry in the distribution of data points around the mean of a dataset. It is a measure that helps to understand the shape of the distribution. Skewness can be positive, negative, or zero, depending on the direction and degree of the asymmetry.\n",
    "Skewness is an essential measure in statistics and data analysis because it helps to understand the patterns and characteristics of the data distribution. It can influence the choice of appropriate statistical methods and models for analysis."
   ]
  },
  {
   "cell_type": "markdown",
   "id": "8707a6c3-32fd-4993-9459-774bc5a79f2e",
   "metadata": {},
   "source": [
    "Ques 9"
   ]
  },
  {
   "cell_type": "markdown",
   "id": "1ab7ec3c-ac49-4509-900b-e4979ca6ef7a",
   "metadata": {},
   "source": [
    "If a data distribution is right-skewed, it means that the tail of the distribution extends towards the right side, and there are relatively few extreme values on the right side compared to the left side. In this scenario:\n",
    "\n",
    "Mean: The mean will be greater than the median.\n",
    "\n",
    "Median: The median will be closer to the left side (lower values) of the distribution than the mean."
   ]
  },
  {
   "cell_type": "code",
   "execution_count": 15,
   "id": "9d5a8c95-fd2b-4bba-922f-2cbf9ec89a40",
   "metadata": {},
   "outputs": [
    {
     "data": {
      "image/png": "[encoded data removed]",
      "text/plain": [
       "<Figure size 640x480 with 1 Axes>"
      ]
     },
     "metadata": {},
     "output_type": "display_data"
    }
   ],
   "source": [
    "import numpy as np\n",
    "import matplotlib.pyplot as plt\n",
    "\n",
    "np.random.seed(42)\n",
    "data=np.random.exponential(scale=20,size=1000)\n",
    "\n",
    "mean=np.mean(data)\n",
    "median=np.median(data)\n",
    "\n",
    "plt.hist(data,bins=10, alpha=0.8)\n",
    "plt.axvline(x=mean,color='red',linewidth=2,label='Mean')\n",
    "plt.axvline(x=median,color='black',linewidth=2,label='Median')\n",
    "plt.legend()\n",
    "plt.xlabel('Data')\n",
    "plt.ylabel('Frequency')\n",
    "plt.title('Right-skewed Data Distribution')\n",
    "plt.show()"
   ]
  },
  {
   "cell_type": "markdown",
   "id": "815c7350-936b-4bd7-a3de-0e3d2d37cc61",
   "metadata": {},
   "source": [
    "Ques 10"
   ]
  },
  {
   "cell_type": "markdown",
   "id": "0038f08b-b899-44e6-98c2-0f5121432f20",
   "metadata": {},
   "source": [
    "Covariance and correlation are essential statistical measures used to explore the relationship between two variables in data analysis. Covariance quantifies the extent to which two variables change together, indicating the direction (positive or negative) of the linear relationship between them. However, covariance does not provide a standardized measure of the strength of the relationship, making it less interpretable when comparing different pairs of variables. On the other hand, correlation offers a more comprehensive and standardized approach to measure the linear relationship. By scaling the covariance between -1 and 1, correlation not only indicates the direction but also provides a clear understanding of the strength of the association. A correlation of +1 indicates a perfect positive linear relationship, -1 denotes a perfect negative linear relationship, and 0 indicates no linear relationship. Due to its standardized nature, correlation is widely used in various statistical analyses, including regression, time series analysis, and data visualization, to assess and compare relationships between different pairs of variables. \n",
    "\n",
    "These measures are used in statistical analysis as follows:\n",
    "Covariance: Covariance is used to understand the direction of the relationship between two variables. Positive covariance indicates that the variables tend to move in the same direction, while negative covariance indicates that they move in opposite directions. However, it does not provide a measure of the strength of the relationship.\n",
    "\n",
    "Correlation: Correlation is used to measure both the direction and the strength of the linear relationship between two variables. It is particularly useful when comparing different pairs of variables since it is standardized and ranges from -1 to 1. Correlation is widely used in regression analysis, time series analysis, and data visualization to identify and quantify the association between variables."
   ]
  },
  {
   "cell_type": "markdown",
   "id": "2ce46575-8533-4f13-a113-b37b974cbe94",
   "metadata": {},
   "source": [
    "Ques 11"
   ]
  },
  {
   "cell_type": "markdown",
   "id": "8c5ca925-a5f8-484b-ad55-6ddbf20e830d",
   "metadata": {},
   "source": [
    "The formula for calculating the sample mean (also known as the arithmetic mean) of a dataset is as follows:\n",
    "\n",
    "Sample Mean = (Sum of all data points) / (Number of data points)"
   ]
  },
  {
   "cell_type": "code",
   "execution_count": 16,
   "id": "72b467a0-f2a1-49d7-be26-e8e21f25a7e8",
   "metadata": {},
   "outputs": [
    {
     "name": "stdout",
     "output_type": "stream",
     "text": [
      "Sample Mean: 30.0\n"
     ]
    }
   ],
   "source": [
    "data=[10,20,30,40,50]\n",
    "sample_mean=sum(data)/len(data)\n",
    "print('Sample Mean:',sample_mean)"
   ]
  },
  {
   "cell_type": "markdown",
   "id": "20c9005c-5798-47f0-957b-cef54b1cb7ef",
   "metadata": {},
   "source": [
    "Ques 12"
   ]
  },
  {
   "cell_type": "markdown",
   "id": "89360590-bd1c-49e0-82f3-405e610c2a3d",
   "metadata": {},
   "source": [
    "For a normal distribution, the three measures of central tendency—mean, median, and mode—share a special relationship:\n",
    "\n",
    "Mean: In a normal distribution, the mean is equal to the median. This is one of the defining characteristics of a symmetric normal distribution. The mean is located at the center of the distribution, and due to its symmetric nature, it coincides with the median, which is also the point of highest data density.\n",
    "\n",
    "Median: As mentioned earlier, the median of a normal distribution is equal to the mean. The median represents the middle value in a sorted dataset, and in a perfectly symmetric normal distribution, half of the data lies on each side of the median. This property holds true for any normal distribution, regardless of its mean or standard deviation.\n",
    "\n",
    "Mode: For a normal distribution, the mode is also equal to the mean and median. Since the normal distribution is symmetric, the peak (mode) is at the same point as the center of the distribution (mean and median).\n",
    "\n",
    "In a normal distribution, the mean, median, and mode are all equal, forming a symmetrical bell-shaped curve."
   ]
  },
  {
   "cell_type": "markdown",
   "id": "064dd672-f903-493b-91e1-856e47eaad2f",
   "metadata": {},
   "source": [
    "Ques 13"
   ]
  },
  {
   "cell_type": "markdown",
   "id": "6afb2cf4-25a3-4061-98cb-64ff02c3044d",
   "metadata": {},
   "source": [
    "covariance and correlation are both statistical measures used to assess the relationship between two variables, but they differ in their interpretation and standardization. Covariance measures the degree to which two variables change together and indicates the direction of their linear relationship, but its magnitude lacks standardization and is influenced by the units of the variables. On the other hand, correlation provides a standardized measure that ranges between -1 and 1, making it easier to interpret and compare relationships between different pairs of variables. A correlation of +1 or -1 represents a perfect linear relationship, while a value closer to 0 indicates a weaker or no linear relationship. Due to its standardized nature, correlation is widely used in various statistical analyses, data visualization, and scientific research, whereas covariance is less commonly used due to its lack of standardized interpretation. Both measures are valuable in understanding the association between variables, but correlation's standardized and intuitive representation makes it a more preferred and widely utilized tool in statistical analysis."
   ]
  },
  {
   "cell_type": "markdown",
   "id": "a7e3ddee-a517-4d34-93dc-3c734d274ee8",
   "metadata": {},
   "source": [
    "Ques 14"
   ]
  },
  {
   "cell_type": "markdown",
   "id": "2058ebfa-8036-4fc5-8cd8-1cc235120083",
   "metadata": {},
   "source": [
    "Outliers can have a significant impact on measures of central tendency and dispersion in a dataset. Central tendency measures, such as the mean, median, and mode, are particularly sensitive to extreme values, while measures of dispersion, such as range, variance, and standard deviation, can be influenced as well.\n",
    "\n",
    "Example:\n",
    "Consider the following dataset of exam scores:\n",
    "\n",
    "{85, 88, 90, 92, 94, 96, 98, 100, 102, 104, 106}\n",
    "\n",
    "Now, let's introduce an outlier in the dataset:\n",
    "\n",
    "{85, 88, 90, 92, 94, 96, 98, 100, 102, 104, 106, 1000}\n",
    "\n",
    "The outlier in this case is the value \"1000.\"\n",
    "\n",
    "Effects on Measures of Central Tendency:\n",
    "\n",
    "Mean: The mean is highly affected by outliers because it considers all data points equally. When we add the outlier \"1000,\" the mean will increase significantly compared to the original dataset, shifting the average towards the extreme value.\n",
    "\n",
    "Median: The median is more robust to outliers because it represents the middle value in the sorted dataset. Since the dataset is ordered, the median will remain relatively unaffected by the outlier.\n",
    "\n",
    "Mode: The mode, which represents the most frequent value in the dataset, remains unchanged regardless of the presence of outliers. In this example, the mode is still the value \"100.\"\n",
    "\n",
    "Effects on Measures of Dispersion:\n",
    "\n",
    "Range: The range, which is the difference between the maximum and minimum values in the dataset, will increase when an outlier is introduced. In this example, the range will increase significantly due to the outlier \"1000.\"\n",
    "\n",
    "Variance and Standard Deviation: Both variance and standard deviation are influenced by outliers. Since these measures consider the squared differences between data points and the mean, the presence of an outlier can lead to a significant increase in their values, indicating greater variability."
   ]
  },
  {
   "cell_type": "code",
   "execution_count": 17,
   "id": "88120024-e458-4b3c-81ef-b6a83b1c762c",
   "metadata": {},
   "outputs": [
    {
     "name": "stdout",
     "output_type": "stream",
     "text": [
      "Original Dataset:\n",
      "Mean: 95.9090909090909\n",
      "Median: 96.0\n",
      "Mode: 85\n",
      "Range: 21\n",
      "Variance: 41.90082644628099\n",
      "Standard Deviation: 6.473084770515599\n",
      "\n",
      "Dataset with Outlier:\n",
      "Mean: 171.25\n",
      "Median: 97.0\n",
      "Mode: 85\n",
      "Range: 915\n",
      "Variance: 62477.1875\n",
      "Standard Deviation: 249.95437083595877\n"
     ]
    },
    {
     "data": {
      "image/png": "[encoded data removed]",
      "text/plain": [
       "<Figure size 1200x600 with 2 Axes>"
      ]
     },
     "metadata": {},
     "output_type": "display_data"
    }
   ],
   "source": [
    "import numpy as np\n",
    "\n",
    "data_original=np.array([85, 88, 90, 92, 94, 96, 98, 100, 102, 104, 106])\n",
    "data_outlier=np.array([85, 88, 90, 92, 94, 96, 98, 100, 102, 104, 106, 1000])\n",
    "\n",
    "def calculate_stat(data):\n",
    "    mean=np.mean(data)\n",
    "    median=np.median(data)\n",
    "    mode=np.argmax(np.bincount(data))\n",
    "    data_range=np.max(data)-np.min(data)\n",
    "    variance=np.var(data)\n",
    "    std=np.std(data)\n",
    "    return mean,median,mode,data_range,variance,std\n",
    "\n",
    "# statistics  for original dataset\n",
    "mean_or, median_or, mode_or, range_or, var_or, std_or = list(map(calculate_stat, [data_original]))[0]\n",
    "# statistics for data with outlier\n",
    "mean_out,median_out,mode_out,range_out,var_out,std_out=list(map(calculate_stat,[data_outlier]))[0]\n",
    "print(\"Original Dataset:\")\n",
    "print(\"Mean:\", mean_or)\n",
    "print(\"Median:\", median_or)\n",
    "print(\"Mode:\", mode_or)\n",
    "print(\"Range:\", range_or)\n",
    "print(\"Variance:\", var_or)\n",
    "print(\"Standard Deviation:\", std_or)\n",
    "print()\n",
    "\n",
    "print(\"Dataset with Outlier:\")\n",
    "print(\"Mean:\", mean_out)\n",
    "print(\"Median:\", median_out)\n",
    "print(\"Mode:\", mode_out)\n",
    "print(\"Range:\", range_out)\n",
    "print(\"Variance:\", var_out)\n",
    "print(\"Standard Deviation:\", std_out)\n",
    "\n",
    "plt.figure(figsize=(12, 6))\n",
    "\n",
    "plt.subplot(1, 2, 1)\n",
    "plt.hist(data_original, bins=10, color='blue', alpha=0.6)\n",
    "plt.axvline(mean_or, color='red', linestyle='dashed', linewidth=2, label='Mean')\n",
    "plt.axvline(median_or, color='green', linestyle='dashed', linewidth=2, label='Median')\n",
    "plt.legend()\n",
    "plt.title('Original Dataset')\n",
    "\n",
    "plt.subplot(1, 2, 2)\n",
    "plt.hist(data_outlier, bins=10, color='orange', alpha=0.6)\n",
    "plt.axvline(mean_out, color='red', linestyle='dashed', linewidth=2, label='Mean')\n",
    "plt.axvline(median_out, color='green', linestyle='dashed', linewidth=2, label='Median')\n",
    "plt.legend()\n",
    "plt.title('Dataset with Outlier')\n",
    "\n",
    "plt.tight_layout()\n",
    "plt.show()\n",
    "\n"
   ]
  },
  {
   "cell_type": "code",
   "execution_count": null,
   "id": "f4038a53-05df-4c2c-a6e2-1b62e66ec75f",
   "metadata": {},
   "outputs": [],
   "source": []
  }
 ],
 "metadata": {
  "kernelspec": {
   "display_name": "Python 3 (ipykernel)",
   "language": "python",
   "name": "python3"
  },
  "language_info": {
   "codemirror_mode": {
    "name": "ipython",
    "version": 3
   },
   "file_extension": ".py",
   "mimetype": "text/x-python",
   "name": "python",
   "nbconvert_exporter": "python",
   "pygments_lexer": "ipython3",
   "version": "3.10.8"
  }
 },
 "nbformat": 4,
 "nbformat_minor": 5
}
