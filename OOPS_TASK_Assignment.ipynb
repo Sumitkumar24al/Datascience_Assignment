{
 "cells": [
  {
   "cell_type": "code",
   "execution_count": 1,
   "id": "25e994ed-7f2f-4397-b48f-47871e8e68cb",
   "metadata": {},
   "outputs": [],
   "source": [
    "# ques1"
   ]
  },
  {
   "cell_type": "code",
   "execution_count": 2,
   "id": "31256c80-2bdb-46cc-b525-dd03003ae46e",
   "metadata": {},
   "outputs": [],
   "source": [
    "class vehicle:\n",
    "    \n",
    "    def __init__(self,name_of_vehicle,max_speed,average_of_vehicle):\n",
    "        self.name_of_vehicle=name_of_vehicle\n",
    "        self.max_speed=max_speed\n",
    "        self.average_of_vehicle=average_of_vehicle"
   ]
  },
  {
   "cell_type": "code",
   "execution_count": 6,
   "id": "f7d04451-4cf5-4250-a836-ae742ff33db7",
   "metadata": {},
   "outputs": [],
   "source": [
    "obj_vehicle=vehicle('TATA',120,200)"
   ]
  },
  {
   "cell_type": "code",
   "execution_count": 8,
   "id": "fd5e57a2-a619-40cd-9b1c-f198949cd482",
   "metadata": {},
   "outputs": [
    {
     "data": {
      "text/plain": [
       "200"
      ]
     },
     "execution_count": 8,
     "metadata": {},
     "output_type": "execute_result"
    }
   ],
   "source": [
    "obj_vehicle.average_of_vehicle"
   ]
  },
  {
   "cell_type": "code",
   "execution_count": 9,
   "id": "c98dd959-53d9-4428-bf7b-0926ab72b680",
   "metadata": {},
   "outputs": [
    {
     "data": {
      "text/plain": [
       "120"
      ]
     },
     "execution_count": 9,
     "metadata": {},
     "output_type": "execute_result"
    }
   ],
   "source": [
    "obj_vehicle.max_speed"
   ]
  },
  {
   "cell_type": "code",
   "execution_count": 10,
   "id": "9dd1a391-2f71-46da-89d7-474a64418765",
   "metadata": {},
   "outputs": [
    {
     "data": {
      "text/plain": [
       "'TATA'"
      ]
     },
     "execution_count": 10,
     "metadata": {},
     "output_type": "execute_result"
    }
   ],
   "source": [
    "obj_vehicle.name_of_vehicle"
   ]
  },
  {
   "cell_type": "code",
   "execution_count": 11,
   "id": "6b1dccbc-fd21-4a47-8b10-1cbef95342e6",
   "metadata": {},
   "outputs": [],
   "source": [
    "# Ques2"
   ]
  },
  {
   "cell_type": "code",
   "execution_count": 12,
   "id": "1879e751-eb8a-4193-851c-048c5b392f9c",
   "metadata": {},
   "outputs": [],
   "source": [
    "class car(vehicle):\n",
    "    def seating_capacity(self,capacity):\n",
    "        self.capacity=capacity\n",
    "        return f'The vehicle is { self.name_of_vehicle} and its seating capacity is { self.capacity}'\n",
    "        "
   ]
  },
  {
   "cell_type": "code",
   "execution_count": 14,
   "id": "ebe37ce0-ec33-45ad-875e-00a8a8d7d677",
   "metadata": {},
   "outputs": [],
   "source": [
    "obj_car=car('TATA',120,300)"
   ]
  },
  {
   "cell_type": "code",
   "execution_count": 16,
   "id": "782e5377-6021-4e26-a811-a2d412a6fad5",
   "metadata": {},
   "outputs": [
    {
     "data": {
      "text/plain": [
       "'The vehicle is TATA and its seating capacity is 6'"
      ]
     },
     "execution_count": 16,
     "metadata": {},
     "output_type": "execute_result"
    }
   ],
   "source": [
    "obj_car.seating_capacity(6)"
   ]
  },
  {
   "cell_type": "code",
   "execution_count": 18,
   "id": "d66654fd-2dd8-45c7-9f67-bcc139bf673e",
   "metadata": {},
   "outputs": [],
   "source": [
    "# ques 3"
   ]
  },
  {
   "cell_type": "code",
   "execution_count": 19,
   "id": "f535e21c-699c-495b-8b3b-2b6de8f292a7",
   "metadata": {},
   "outputs": [],
   "source": [
    "#mutilple inheritance is where a class can inherit from more than one classes"
   ]
  },
  {
   "cell_type": "code",
   "execution_count": 41,
   "id": "4c9b0ca1-1386-4021-87a0-4ce7c18b73f2",
   "metadata": {},
   "outputs": [],
   "source": [
    "# parent class 1\n",
    "class Student:\n",
    "    def __init__(self,name):\n",
    "        self.name=name\n",
    "    def display(self):\n",
    "        print(\"Student name :\", self.name)\n",
    "\n",
    "#c parent class 2\n",
    "class Class:\n",
    "    def class_info(self):\n",
    "        print('Data Science class')\n",
    "    \n",
    "# Inherited class\n",
    "class student_details(Student,Class):\n",
    "    def __init__(self,name,class_name):\n",
    "        Student.__init__(self,name)\n",
    "       \n",
    "        self.Class=Class\n",
    "        \n",
    "    def display_info(self):\n",
    "        print('Student name:',self.name)\n",
    "        print('Class:',self.Class)\n",
    "        "
   ]
  },
  {
   "cell_type": "code",
   "execution_count": 42,
   "id": "10f89a5c-979c-4b58-b990-ca36906e5c92",
   "metadata": {},
   "outputs": [],
   "source": [
    "Student_obj=student_details('Sumit','Data Science')"
   ]
  },
  {
   "cell_type": "code",
   "execution_count": 43,
   "id": "a6051d80-5f2d-4a99-812c-b423f1b8d240",
   "metadata": {},
   "outputs": [
    {
     "name": "stdout",
     "output_type": "stream",
     "text": [
      "Student name: Sumit\n",
      "Class: <class '__main__.Class'>\n"
     ]
    }
   ],
   "source": [
    "Student_obj.display_info()"
   ]
  },
  {
   "cell_type": "code",
   "execution_count": 45,
   "id": "8a2babe1-b399-4c1c-8120-99c9c7f4c87f",
   "metadata": {},
   "outputs": [
    {
     "name": "stdout",
     "output_type": "stream",
     "text": [
      "Data Science class\n"
     ]
    }
   ],
   "source": [
    "Student_obj.class_info()"
   ]
  },
  {
   "cell_type": "code",
   "execution_count": 46,
   "id": "783ff111-12e0-4dc5-ba1f-d34b6bacae7c",
   "metadata": {},
   "outputs": [],
   "source": [
    "# ques 4"
   ]
  },
  {
   "cell_type": "code",
   "execution_count": 47,
   "id": "6ef5aba7-58d2-4e8a-a085-8ba1d819e34b",
   "metadata": {},
   "outputs": [],
   "source": [
    "# getters used to access the values of class attributes and setters used to modify the values of class attributes."
   ]
  },
  {
   "cell_type": "code",
   "execution_count": 67,
   "id": "842c778c-de25-4bb2-bb8c-3dd681def2b9",
   "metadata": {},
   "outputs": [],
   "source": [
    "class person:\n",
    "    def __init__(self,name,age,year_birth):\n",
    "        self.__name=name\n",
    "        self.__age=age\n",
    "        self.__year_birth=year_birth\n",
    "    \n",
    "   \n",
    "    # Getter\n",
    "    def set_age(self,age):\n",
    "        self.age=age\n",
    "         # Setter\n",
    "    def get_age(self):\n",
    "        return self.__age\n",
    "    "
   ]
  },
  {
   "cell_type": "code",
   "execution_count": 68,
   "id": "6ffc160f-d864-431f-bb35-cb88e0f0e55d",
   "metadata": {},
   "outputs": [],
   "source": [
    "Person=person('Sumit',25,1998)"
   ]
  },
  {
   "cell_type": "code",
   "execution_count": 69,
   "id": "e13a75dd-e4ca-4dd8-a8d8-a6dd2a559f47",
   "metadata": {},
   "outputs": [],
   "source": [
    "Person.set_age(32)"
   ]
  },
  {
   "cell_type": "code",
   "execution_count": 70,
   "id": "3567c94c-6b8f-4185-ae76-26a1ffff07d0",
   "metadata": {},
   "outputs": [
    {
     "data": {
      "text/plain": [
       "25"
      ]
     },
     "execution_count": 70,
     "metadata": {},
     "output_type": "execute_result"
    }
   ],
   "source": [
    "Person.get_age()"
   ]
  },
  {
   "cell_type": "code",
   "execution_count": 71,
   "id": "9b43afde-70ce-41f5-9c3c-e34dfd80c7fb",
   "metadata": {},
   "outputs": [],
   "source": [
    "# ques 5"
   ]
  },
  {
   "cell_type": "code",
   "execution_count": 72,
   "id": "68e54a17-d870-4fbc-b3c8-ea04001bb775",
   "metadata": {},
   "outputs": [
    {
     "data": {
      "text/plain": [
       "'Method overriding is an ability of any object-oriented programming language that allows a subclass or child class to provide a specific implementation of a method that is already provided by one of its super-classes or parent classes.'"
      ]
     },
     "execution_count": 72,
     "metadata": {},
     "output_type": "execute_result"
    }
   ],
   "source": [
    "'''Method overriding is an ability of any object-oriented programming language that allows a subclass or child class to provide a specific implementation of a method that is already provided by one of its super-classes or parent classes.'''"
   ]
  },
  {
   "cell_type": "code",
   "execution_count": 86,
   "id": "7eff9ebc-185c-4555-beb0-ea4c94876389",
   "metadata": {},
   "outputs": [],
   "source": [
    "# Parent class\n",
    "class Animal:\n",
    "    \n",
    "    # constructor\n",
    "    def __init__(self):\n",
    "        self.value=\"Animal\"\n",
    "        \n",
    "    def show(self):\n",
    "        print(self.value)\n",
    "        \n",
    "# child class\n",
    "class Dog(Animal):\n",
    "    \n",
    "    def __init__(self,Gender):\n",
    "        self.value=Dog\n",
    "        self.Gender='Male'\n",
    "        \n",
    "    def show(self):\n",
    "        return self.Gender\n",
    "        print(self.value)"
   ]
  },
  {
   "cell_type": "code",
   "execution_count": 87,
   "id": "48926888-56d9-48fb-b66d-583bfb5a6445",
   "metadata": {},
   "outputs": [],
   "source": [
    "obj_animal=Animal()"
   ]
  },
  {
   "cell_type": "code",
   "execution_count": 88,
   "id": "f11b17af-914c-4772-9c21-ae3e22886c2b",
   "metadata": {},
   "outputs": [],
   "source": [
    "obj_Dog=Dog('Male')"
   ]
  },
  {
   "cell_type": "code",
   "execution_count": 89,
   "id": "26d79cb0-e87f-4cde-acc5-67cfa13f9418",
   "metadata": {},
   "outputs": [
    {
     "name": "stdout",
     "output_type": "stream",
     "text": [
      "Animal\n"
     ]
    }
   ],
   "source": [
    "obj_animal.show()"
   ]
  },
  {
   "cell_type": "code",
   "execution_count": 90,
   "id": "aa4f1df9-42a3-4e9e-9a0e-0aac8364afaf",
   "metadata": {},
   "outputs": [
    {
     "data": {
      "text/plain": [
       "'Male'"
      ]
     },
     "execution_count": 90,
     "metadata": {},
     "output_type": "execute_result"
    }
   ],
   "source": [
    "obj_Dog.show()"
   ]
  },
  {
   "cell_type": "code",
   "execution_count": null,
   "id": "c6dd4558-5aa7-4d04-9e30-d40c862a5083",
   "metadata": {},
   "outputs": [],
   "source": []
  },
  {
   "cell_type": "code",
   "execution_count": null,
   "id": "4401d22b-2e09-4f08-a646-0ee68406070e",
   "metadata": {},
   "outputs": [],
   "source": []
  }
 ],
 "metadata": {
  "kernelspec": {
   "display_name": "Python 3 (ipykernel)",
   "language": "python",
   "name": "python3"
  },
  "language_info": {
   "codemirror_mode": {
    "name": "ipython",
    "version": 3
   },
   "file_extension": ".py",
   "mimetype": "text/x-python",
   "name": "python",
   "nbconvert_exporter": "python",
   "pygments_lexer": "ipython3",
   "version": "3.10.8"
  }
 },
 "nbformat": 4,
 "nbformat_minor": 5
}
