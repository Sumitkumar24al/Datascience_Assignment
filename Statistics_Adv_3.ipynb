{
 "cells": [
  {
   "cell_type": "markdown",
   "id": "5dbb80df-93f8-484d-9fa6-86ac46d4648e",
   "metadata": {},
   "source": [
    "Ques 1"
   ]
  },
  {
   "cell_type": "markdown",
   "id": "9025adcb-836f-42f0-81ec-a769d918c040",
   "metadata": {},
   "source": [
    "Estimation in statistics is a process of making predictions about the characteristics of a population based on sample data. Estimation involves using sample statistics to infer or estimate population parameters, which are often unknown.\n",
    "\n",
    "1. Point Estimate:\n",
    "A point estimate is a single value calculated from the sample data that is used to estimate the value of a population parameter. It provides a specific and best guess for the unknown population parameter. The point estimate is typically derived from a sample mean, sample proportion, or sample standard deviation.\n",
    "\n",
    "For example, if we want to estimate the average height of all students in a school, we can take a random sample of students, calculate their average height, and use that value as the point estimate for the average height of the entire student population.\n",
    "\n",
    "2. Interval Estimate (Confidence Interval):\n",
    "An interval estimate, also known as a confidence interval, provides a range of values within which the population parameter is likely to fall, along with a degree of confidence or probability. It accounts for the uncertainty in the estimation process and provides a more informative result than a point estimate.\n",
    "\n",
    "Confidence intervals are typically expressed as a lower and upper bound, and they represent a range of values where the true population parameter is likely to lie. The level of confidence, often expressed as a percentage (e.g., 95% confidence interval), indicates how confident we are that the population parameter is within the given range.\n",
    "\n",
    "For example, if we calculate a 95% confidence interval for the average income of a city's residents. This means that we are 95% confident that the true average income of the city's residents falls between that range\n"
   ]
  },
  {
   "cell_type": "markdown",
   "id": "b692541e-a5b2-46e8-8505-f85362f0cb3e",
   "metadata": {},
   "source": [
    "Ques 2"
   ]
  },
  {
   "cell_type": "code",
   "execution_count": 1,
   "id": "3b40ffcc-dcb6-470b-90c7-716abde372e5",
   "metadata": {},
   "outputs": [],
   "source": [
    "def estimate_pop_mean(sample_mean,sample_std,sample_size,confidance_level):\n",
    "    import math\n",
    "    standard_error=sample_std/math.sqrt(sample_size)\n",
    "    if confidance_level==0.90:\n",
    "        z_critical=1.645\n",
    "    elif confidance_level==0.95:\n",
    "        z_critical=1.96\n",
    "    elif confidance_level==0.99:\n",
    "        z_critical=2.576\n",
    "    else:\n",
    "        print('Provide common confidence level (.9,.95,.99)')\n",
    "    \n",
    "    margin_error=z_critical*standard_error\n",
    "    \n",
    "    lower_bound = sample_mean - margin_error\n",
    "    upper_bound = sample_mean + margin_error\n",
    "    \n",
    "    return sample_mean, (lower_bound, upper_bound)\n",
    "  "
   ]
  },
  {
   "cell_type": "markdown",
   "id": "00afae4b-68c4-4946-8072-e138b2efbe69",
   "metadata": {},
   "source": [
    "sample_mean = 50.0\n",
    "sample_std = 10.0\n",
    "sample_size = 100\n",
    "confidance_level=0.9\n",
    "estimated_mean,confidence_interval= estimate_pop_mean(sample_mean,sample_std,sample_size,confidance_level)\n",
    "print(\"Estimated Population Mean:\", estimated_mean)\n",
    "print(\"95% Confidence Interval:\", confidence_interval)"
   ]
  },
  {
   "cell_type": "markdown",
   "id": "fbb83fa8-6035-4743-8bd7-d2708319cfcc",
   "metadata": {},
   "source": [
    "Ques 3"
   ]
  },
  {
   "cell_type": "markdown",
   "id": "5d83a4cd-003f-48be-8aa6-47c7f033321f",
   "metadata": {},
   "source": [
    "Hypothesis testing is a statistical method used to make inferences and draw conclusions about a population based on a sample of data. It involves formulating two competing hypotheses, the null hypothesis (H0) and the alternative hypothesis (Ha), and then using sample data to assess the evidence against the null hypothesis.\n",
    "\n",
    "The null hypothesis (H0) typically represents the status quo or the assumption that there is no effect or no difference between groups. The alternative hypothesis (Ha) represents the claim or assertion we are testing, suggesting that there is a significant effect or difference.\n",
    "\n",
    "Hypothesis testing is used for evidence-based decision making, scientific validation, and making inferences about populations from sample data. It provides an objective analysis, controls errors, validates claims, and ensures compliance in certain industries. Hypothesis testing quantifies confidence in conclusions, leading to more reliable outcomes across various fields.\n",
    "\n",
    "Importance of Hypothesis Testing:\n",
    "\n",
    "1. Decision-Making:\n",
    "Hypothesis testing provides a systematic approach to decision-making based on data and evidence. It allows researchers and decision-makers to test theories, make predictions, and draw conclusions about the population.\n",
    "\n",
    "2. Scientific Research:\n",
    "Hypothesis testing is fundamental to scientific research, as it helps validate or invalidate research hypotheses. It allows researchers to determine whether the observed results are due to chance or a real effect.\n",
    "\n",
    "3. Statistical Inference: \n",
    "Hypothesis testing is a core tool for statistical inference, where we draw conclusions about a population based on sample data. It provides a way to make generalizations from a sample to a larger population.\n",
    "\n",
    "4. Objectivity: \n",
    "Hypothesis testing provides an objective and systematic approach to analyzing data, reducing the influence of personal biases and subjective interpretations.\n",
    "\n",
    "5. Control of Errors: \n",
    "Hypothesis testing allows us to control the risks of making incorrect conclusions. By setting a significance level (alpha), we can limit the probability of making Type I errors (false positives) and Type II errors (false negatives).\n"
   ]
  },
  {
   "cell_type": "markdown",
   "id": "60dddbec-8a51-4256-9440-4f94be9682d8",
   "metadata": {},
   "source": [
    "Ques 4"
   ]
  },
  {
   "cell_type": "markdown",
   "id": "43435d13-503f-4247-818c-d2510d9abaf2",
   "metadata": {},
   "source": [
    "Null Hypothesis (H0): The average weight of male college students is equal to or less than the average weight of female college students.\n",
    "\n",
    "Alternative Hypothesis (Ha): The average weight of male college students is greater than the average weight of female college students."
   ]
  },
  {
   "cell_type": "markdown",
   "id": "a5df7925-e02b-4426-a862-39d10033e121",
   "metadata": {},
   "source": [
    "Ques 5"
   ]
  },
  {
   "cell_type": "code",
   "execution_count": 2,
   "id": "ea6ec814-f3ce-4c34-864f-f098d86f8ed7",
   "metadata": {},
   "outputs": [
    {
     "name": "stdout",
     "output_type": "stream",
     "text": [
      "Sample 1 Mean: 86.8\n",
      "Sample 2 Mean: 73.3\n",
      "T-Statistic: 6.281523819605507\n",
      "P-Value: 6.364565657055204e-06\n",
      "Degrees of Freedom: 18\n",
      "Critical T-Value: 2.10092204024096\n",
      "Reject the null hypothesis. There is a significant difference between the population means.\n"
     ]
    }
   ],
   "source": [
    "import numpy as np\n",
    "from scipy import stats\n",
    "\n",
    "# Sample data from two populations\n",
    "sample1 = np.array([85, 90, 78, 88, 92, 95, 82, 80, 88, 90])\n",
    "sample2 = np.array([70, 75, 68, 72, 78, 80, 74, 68, 72, 76])\n",
    "\n",
    "# Define significance level (alpha)\n",
    "alpha = 0.05\n",
    "\n",
    "# Perform two-sample t-test\n",
    "t_statistic, p_value = stats.ttest_ind(sample1, sample2)\n",
    "\n",
    "# Calculate degrees of freedom\n",
    "df = len(sample1) + len(sample2) - 2\n",
    "\n",
    "# Determine critical t-value for two-tailed test\n",
    "critical_t = stats.t.ppf(1 - alpha / 2, df)\n",
    "\n",
    "# Print results\n",
    "print(\"Sample 1 Mean:\", np.mean(sample1))\n",
    "print(\"Sample 2 Mean:\", np.mean(sample2))\n",
    "print(\"T-Statistic:\", t_statistic)\n",
    "print(\"P-Value:\", p_value)\n",
    "print(\"Degrees of Freedom:\", df)\n",
    "print(\"Critical T-Value:\", critical_t)\n",
    "\n",
    "# Compare p-value with significance level to make a decision\n",
    "if p_value < alpha:\n",
    "    print(\"Reject the null hypothesis. There is a significant difference between the population means.\")\n",
    "else:\n",
    "    print(\"Fail to reject the null hypothesis. There is no significant difference between the population means.\")\n"
   ]
  },
  {
   "cell_type": "markdown",
   "id": "3865aa9c-e4f0-4f3b-930b-23cf70512312",
   "metadata": {},
   "source": [
    "### Ques 6"
   ]
  },
  {
   "cell_type": "markdown",
   "id": "b649684e-3267-4cc5-acee-aed4029ea82d",
   "metadata": {},
   "source": [
    "1. Null hypothesis represent the claim which is well-established or true justified belief. In addition to well-established beliefs, it represents the default state of the claim in the real world.\n",
    "For example, null hypothesis can be that a 1-KG packet of salt consists of 1 KG of salt. \n",
    "There is no relationship between pranayama and LDL cholesterol .\n",
    "Null hypothesis is typically denoted by H0.\n",
    "2. Alternate hypothesis represents the new claim that needs to be established. \n",
    "For example, a 1-KG packet of salt consists of 900 gm of salt. Or, there is an impact of pranayama on reducing LDL cholesterol.\n",
    "Alternate hypothesis is denoted by H1."
   ]
  },
  {
   "cell_type": "markdown",
   "id": "6bae348d-3fdd-4b03-9b3a-586704e5abe7",
   "metadata": {},
   "source": [
    "### Ques 7"
   ]
  },
  {
   "cell_type": "markdown",
   "id": "34cf316b-e552-456b-8467-38fe143be92a",
   "metadata": {},
   "source": [
    "## Steps involved in Hypothesis Testing\n",
    "\n",
    "1. **State the Null Hypothesis:** Define the default assumption that you want to test.\n",
    "   - Example: H0: The mean weight of Product A is equal to the mean weight of Product B.\n",
    "\n",
    "2. **State the Alternative Hypothesis:** Define the specific effect or difference you're investigating.\n",
    "   - Example: Ha: The mean weight of Product A is not equal to the mean weight of Product B.\n",
    "\n",
    "3. **Set Significance Level (Alpha):** Choose the level of significance to determine the threshold for decision-making.\n",
    "   - Example: α = 0.05\n",
    "\n",
    "4. **Collect Data:** Gather relevant data in a way that allows you to test the hypothesis.\n",
    "\n",
    "5. **Perform Statistical Test:** Use an appropriate statistical test based on the data type and hypothesis type.\n",
    "   - Example: Two-sample t-test for comparing means.\n",
    "\n",
    "6. **Construct Acceptance / Rejection Regions:** Determine the critical values or p-value threshold based on the chosen significance level.\n",
    "   - Example: For α = 0.05, critical region is outside ±1.96 for a two-tailed test.\n",
    "\n",
    "7. **Draw Conclusion about H0:** Compare the test statistic or p-value with the critical value(s) to make a decision.\n",
    "   - If test statistic is in the rejection region or p-value < α, reject the null hypothesis.\n",
    "   - If test statistic is in the acceptance region or p-value ≥ α, fail to reject the null hypothesis.\n",
    "\n"
   ]
  },
  {
   "cell_type": "markdown",
   "id": "ba4ccb7b-fed1-4e47-b915-3d2be2aba295",
   "metadata": {},
   "source": [
    "### Ques 8"
   ]
  },
  {
   "cell_type": "markdown",
   "id": "aa13a160-44d2-45e9-b683-ddacc8a64c93",
   "metadata": {},
   "source": [
    "The p-value is a statistical measure that helps us assess the strength of evidence against the null hypothesis in a hypothesis test. It quantifies the probability of obtaining results as extreme as the observed data, assuming that the null hypothesis is true. In other words, the p-value indicates how likely it is to observe the data we have collected if the null hypothesis were true.\n",
    "\n",
    "Significance of the p-value in Hypothesis Testing:\n",
    "\n",
    "1.  Small p-value (p < α): When the p-value is very small (typically smaller than the chosen significance level α), it suggests that the observed data is unlikely to have occurred under the assumption of the null hypothesis. This leads to the rejection of the null hypothesis. A small p-value indicates strong evidence against the null hypothesis and supports the alternative hypothesis.\n",
    "\n",
    "2. Large p-value (p ≥ α): When the p-value is large, it suggests that the observed data is reasonably consistent with the null hypothesis. This leads to the failure to reject the null hypothesis. A large p-value indicates weak evidence against the null hypothesis and does not support the alternative hypothesis."
   ]
  },
  {
   "cell_type": "markdown",
   "id": "eeac8470-18de-4584-9ee0-288462275bc0",
   "metadata": {},
   "source": [
    "### Ques 9"
   ]
  },
  {
   "cell_type": "code",
   "execution_count": 3,
   "id": "775c374f-d1de-42ab-bd26-834128e0109e",
   "metadata": {},
   "outputs": [
    {
     "data": {
      "image/png": "[encoded data removed]",
      "text/plain": [
       "<Figure size 800x600 with 1 Axes>"
      ]
     },
     "metadata": {},
     "output_type": "display_data"
    }
   ],
   "source": [
    "import numpy as np\n",
    "import matplotlib.pyplot as plt\n",
    "from scipy import stats\n",
    "\n",
    "# Degree of freedom\n",
    "df=10\n",
    "\n",
    "x=np.linspace(-4,4,400)\n",
    "\n",
    "pdf_values=stats.t.pdf(x,df)\n",
    "\n",
    "plt.figure(figsize=(8,6))\n",
    "plt.plot(x,pdf_values,label=f'df = {df}')\n",
    "plt.title('Student t-Distribution')\n",
    "plt.xlabel('X')\n",
    "plt.ylabel('PDF')\n",
    "plt.legend()\n",
    "plt.grid(True)\n",
    "plt.show()"
   ]
  },
  {
   "cell_type": "markdown",
   "id": "41b25376-b269-48a2-8913-65922a1a4889",
   "metadata": {},
   "source": [
    "### Ques 10"
   ]
  },
  {
   "cell_type": "code",
   "execution_count": 4,
   "id": "5d54c034-cd62-4159-942c-c59a77b5af30",
   "metadata": {},
   "outputs": [
    {
     "name": "stdout",
     "output_type": "stream",
     "text": [
      "T-Statistic: -1.4142135623730963\n",
      "Critical T-Value: 2.0106347546964454\n",
      "Result: fail to reject the null hypothesis\n"
     ]
    }
   ],
   "source": [
    "import scipy.stats as stats\n",
    "import numpy as np\n",
    "\n",
    "# Given data for the two samples\n",
    "sample_mean1 = 4.8\n",
    "sample_std1 = 0.5\n",
    "sample_size1 = 25\n",
    "\n",
    "sample_mean2 = 5.0  # Assume the means are equal for null hypothesis\n",
    "sample_std2 = 0.5\n",
    "sample_size2 = 25\n",
    "\n",
    "significance_level = 0.05\n",
    "dof = sample_size1 + sample_size2 - 2\n",
    "\n",
    "# Calculate the pooled standard deviation\n",
    "pooled_std = np.sqrt(((sample_size1 - 1) * sample_std1**2 + (sample_size2 - 1) * sample_std2**2) / dof)\n",
    "\n",
    "# Calculate the t-statistic\n",
    "t_test_stat = (sample_mean1 - sample_mean2) / (pooled_std * np.sqrt(1/sample_size1 + 1/sample_size2))\n",
    "\n",
    "# Get the critical t-value from the t-distribution table for a two-tailed test\n",
    "critical_t_value = stats.t.ppf(1 - significance_level / 2, df=dof)\n",
    "\n",
    "# Determine if the absolute value of the t-statistic is greater than the critical t-value\n",
    "if abs(t_test_stat) > critical_t_value:\n",
    "    result = \"reject the null hypothesis\"\n",
    "else:\n",
    "    result = \"fail to reject the null hypothesis\"\n",
    "\n",
    "print(\"T-Statistic:\", t_test_stat)\n",
    "print(\"Critical T-Value:\", critical_t_value)\n",
    "print(\"Result:\", result)\n"
   ]
  },
  {
   "cell_type": "markdown",
   "id": "80612b29-17a3-4c24-9baf-3d8fe43f7f1b",
   "metadata": {},
   "source": [
    "### Ques 11"
   ]
  },
  {
   "cell_type": "markdown",
   "id": "c80dac84-5bd3-46fd-9481-5bc2b24ef634",
   "metadata": {},
   "source": [
    "The t-distribution is a type of normal distribution that is used for smaller sample sizes. Normally-distributed data form a bell shape when plotted on a graph, with more observations near the mean and fewer observations in the tails.\n",
    "\n",
    "The t-distribution is used when data are approximately normally distributed, which means the data follow a bell shape but the population variance is unknown. The variance in a t-distribution is estimated based on the degrees of freedom of the data set (total number of observations minus 1)."
   ]
  },
  {
   "cell_type": "markdown",
   "id": "53958042-c77f-4e28-bc63-fbd730edf529",
   "metadata": {},
   "source": [
    "### Ques 12"
   ]
  },
  {
   "cell_type": "markdown",
   "id": "36c83574-5bd1-4e48-bc42-a3fdf2e5acb1",
   "metadata": {},
   "source": [
    "The t-statistic is a measure used in hypothesis testing to determine if the difference between sample means is statistically significant. It quantifies the difference between sample means in terms of standard errors and provides a way to assess whether the observed difference is likely to have occurred by chance or if it's a meaningful difference between populations. The formula for the t-statistic is: \n",
    "\n",
    "t=sample mean difference/standard error of the difference\n",
    " \n",
    " where the standard error of the difference considers both the sample sizes and the variability in the data. A larger absolute t-statistic indicates a more significant difference between sample means, while a smaller t-statistic suggests that the observed difference could have happened due to random variation."
   ]
  },
  {
   "cell_type": "markdown",
   "id": "8445ecd4-ecdb-4266-9d03-d17ff2bc1071",
   "metadata": {},
   "source": [
    "### Ques 13"
   ]
  },
  {
   "cell_type": "code",
   "execution_count": 5,
   "id": "4857b419-fe5f-4a6c-984c-c42f4e3f208c",
   "metadata": {},
   "outputs": [
    {
     "name": "stdout",
     "output_type": "stream",
     "text": [
      "Estimated population mean revenue 95% confidence interval:\n",
      "Lower bound: 485.79015724388137\n",
      "Upper bound: 514.2098427561186\n"
     ]
    }
   ],
   "source": [
    "import numpy as np\n",
    "from scipy import stats\n",
    "\n",
    "sample_mean=500\n",
    "sample_std=50\n",
    "sample_size=50\n",
    "confidence_level=0.95\n",
    "dof=sample_size-1\n",
    "\n",
    "t_score = stats.t.ppf((1 - (1 - confidence_level) / 2), df=dof)\n",
    "\n",
    "# Calculate the standard error of the mean\n",
    "standard_error = sample_std / (sample_size ** 0.5)\n",
    "\n",
    "# Calculate the confidence interval\n",
    "lower_bound = sample_mean - t_score * standard_error\n",
    "upper_bound = sample_mean + t_score * standard_error\n",
    "\n",
    "# Print the confidence interval\n",
    "print(\"Estimated population mean revenue 95% confidence interval:\")\n",
    "print(\"Lower bound:\", lower_bound)\n",
    "print(\"Upper bound:\", upper_bound)"
   ]
  },
  {
   "cell_type": "markdown",
   "id": "7f0b84ff-dd15-4432-b8d0-656b14efd529",
   "metadata": {},
   "source": [
    "### Ques 14"
   ]
  },
  {
   "cell_type": "code",
   "execution_count": 6,
   "id": "8d25001f-6a2e-4917-bba1-d1afbd4d7427",
   "metadata": {},
   "outputs": [
    {
     "name": "stdout",
     "output_type": "stream",
     "text": [
      "T-Statistic: 23.333333333333336\n",
      "Critical T-Value: 1.9842169515086827\n",
      "Result: fail to reject the null hypothesis\n"
     ]
    }
   ],
   "source": [
    "import scipy.stats as stats\n",
    "import numpy as np\n",
    "\n",
    "pop_mean=10\n",
    "sample_mean=8\n",
    "sample_std=3\n",
    "sample_size=100\n",
    "significance_level=0.05\n",
    "CI=1-alpha\n",
    "dof=sample_size-1\n",
    "\n",
    "t_test_stats=(pop_mean-sample_std)/(sample_std/np.sqrt(sample_size))\n",
    "\n",
    "# Get the critical t-value from the t-distribution table for a two-tailed test\n",
    "critical_t_value = stats.t.ppf(1 - significance_level / 2, df=dof)\n",
    "\n",
    "# Determine if the absolute value of the t-statistic is greater than the critical t-value\n",
    "if abs(t_test_stats) > critical_t_value and t_test_stats<-critical_t_value:\n",
    "    result = \"reject the null hypothesis\"\n",
    "else:\n",
    "    result = \"fail to reject the null hypothesis\"\n",
    "\n",
    "print(\"T-Statistic:\", t_test_stats)\n",
    "print(\"Critical T-Value:\", critical_t_value)\n",
    "print(\"Result:\", result)"
   ]
  },
  {
   "cell_type": "markdown",
   "id": "b80497fe-d1f0-4dcc-b6bf-91d373e127c1",
   "metadata": {},
   "source": [
    "### Ques 15"
   ]
  },
  {
   "cell_type": "code",
   "execution_count": 7,
   "id": "d64153e8-e82a-4721-97ad-7f2fcb13a409",
   "metadata": {},
   "outputs": [
    {
     "name": "stdout",
     "output_type": "stream",
     "text": [
      "T-Statistic: 45.0\n",
      "Critical T-Value: 2.0638985616280205\n",
      "Result: fail to reject the null hypothesis\n"
     ]
    }
   ],
   "source": [
    "import scipy.stats as stats\n",
    "import numpy as np\n",
    "\n",
    "pop_mean=5\n",
    "sample_mean=4.8\n",
    "sample_std=0.5\n",
    "sample_size=25\n",
    "significance_level=0.05\n",
    "CI=1-alpha\n",
    "dof=sample_size-1\n",
    "\n",
    "t_test_stats=(pop_mean-sample_std)/(sample_std/np.sqrt(sample_size))\n",
    "\n",
    "# Get the critical t-value from the t-distribution table for a two-tailed test\n",
    "critical_t_value = stats.t.ppf(1 - significance_level / 2, df=dof)\n",
    "\n",
    "# Determine if the absolute value of the t-statistic is greater than the critical t-value\n",
    "if abs(t_test_stats) > critical_t_value and t_test_stats<-critical_t_value:\n",
    "    result = \"reject the null hypothesis\"\n",
    "else:\n",
    "    result = \"fail to reject the null hypothesis\"\n",
    "\n",
    "print(\"T-Statistic:\", t_test_stats)\n",
    "print(\"Critical T-Value:\", critical_t_value)\n",
    "print(\"Result:\", result)"
   ]
  },
  {
   "cell_type": "markdown",
   "id": "a7613251-6709-4894-bc84-b308ec979cdf",
   "metadata": {},
   "source": [
    "### Ques 16"
   ]
  },
  {
   "cell_type": "code",
   "execution_count": 8,
   "id": "c53668a5-0a8e-47d0-b155-fc14e332b142",
   "metadata": {},
   "outputs": [
    {
     "name": "stdout",
     "output_type": "stream",
     "text": [
      "T-Statistic: 2.3239677296992913\n",
      "Critical T-Value: 2.6500812928169553\n",
      "Result: fail to reject the null hypothesis\n"
     ]
    }
   ],
   "source": [
    "import scipy.stats as stats\n",
    "\n",
    "# Given data for Group 1\n",
    "n1 = 30\n",
    "mean1 = 80\n",
    "std_dev1 = 10\n",
    "\n",
    "# Given data for Group 2\n",
    "n2 = 40\n",
    "mean2 = 75\n",
    "std_dev2 = 8\n",
    "\n",
    "significance_level = 0.01\n",
    "\n",
    "# Calculate the pooled standard deviation\n",
    "pooled_std_dev = ((std_dev1**2 * (n1 - 1)) + (std_dev2**2 * (n2 - 1))) / (n1 + n2 - 2)\n",
    "pooled_std_dev = pooled_std_dev ** 0.5\n",
    "\n",
    "# Calculate the t-statistic\n",
    "t_test_stat = (mean1 - mean2) / (pooled_std_dev * (1/n1 + 1/n2) ** 0.5)\n",
    "\n",
    "# Calculate the degrees of freedom\n",
    "dof = n1 + n2 - 2\n",
    "\n",
    "# Get the critical t-value from the t-distribution table for a two-tailed test\n",
    "critical_t_value = stats.t.ppf(1 - significance_level / 2, df=dof)\n",
    "\n",
    "# Determine if the absolute value of the t-statistic is greater than the critical t-value\n",
    "if abs(t_test_stat) > critical_t_value:\n",
    "    result = \"reject the null hypothesis\"\n",
    "else:\n",
    "    result = \"fail to reject the null hypothesis\"\n",
    "\n",
    "print(\"T-Statistic:\", t_test_stat)\n",
    "print(\"Critical T-Value:\", critical_t_value)\n",
    "print(\"Result:\", result)\n"
   ]
  },
  {
   "cell_type": "markdown",
   "id": "f2315672-64c5-4141-aa42-e4ebd86b7650",
   "metadata": {},
   "source": [
    "### Ques 17"
   ]
  },
  {
   "cell_type": "code",
   "execution_count": 9,
   "id": "003fca61-de2d-456b-a312-f8a7c224d0be",
   "metadata": {},
   "outputs": [
    {
     "name": "stdout",
     "output_type": "stream",
     "text": [
      "99% Confidence Interval for Population Mean (Using Z-Score):\n",
      "Lower Bound: 4.546415910315535\n",
      "Upper Bound: 3.4535840896844654\n"
     ]
    }
   ],
   "source": [
    "import scipy.stats as stats\n",
    "import math\n",
    "\n",
    "\n",
    "sample_mean = 4  \n",
    "sample_std_dev = 1.5  \n",
    "sample_size = 50  \n",
    "confidence_level = 0.99  \n",
    "\n",
    "# Calculate the Z-score for the desired confidence level\n",
    "z_score = stats.norm.ppf((1 - confidence_level) / 2)\n",
    "\n",
    "# Calculate the margin of error using the Z-score\n",
    "margin_of_error = z_score * (sample_std_dev / math.sqrt(sample_size))\n",
    "\n",
    "# Calculate the confidence interval\n",
    "lower_bound = sample_mean - margin_of_error\n",
    "upper_bound = sample_mean + margin_of_error\n",
    "\n",
    "print(\"99% Confidence Interval for Population Mean (Using Z-Score):\")\n",
    "print(\"Lower Bound:\", lower_bound)\n",
    "print(\"Upper Bound:\", upper_bound)\n"
   ]
  },
  {
   "cell_type": "code",
   "execution_count": null,
   "id": "5bb9234b-0ead-413c-94de-e5a5e3d6da0b",
   "metadata": {},
   "outputs": [],
   "source": []
  }
 ],
 "metadata": {
  "kernelspec": {
   "display_name": "Python 3 (ipykernel)",
   "language": "python",
   "name": "python3"
  },
  "language_info": {
   "codemirror_mode": {
    "name": "ipython",
    "version": 3
   },
   "file_extension": ".py",
   "mimetype": "text/x-python",
   "name": "python",
   "nbconvert_exporter": "python",
   "pygments_lexer": "ipython3",
   "version": "3.10.8"
  }
 },
 "nbformat": 4,
 "nbformat_minor": 5
}
