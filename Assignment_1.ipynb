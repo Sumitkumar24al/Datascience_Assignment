{
 "cells": [
  {
   "cell_type": "code",
   "execution_count": 1,
   "id": "d80c6a0d-7642-428e-a2c7-f9984a263fad",
   "metadata": {},
   "outputs": [],
   "source": [
    "# ques 1"
   ]
  },
  {
   "cell_type": "code",
   "execution_count": 5,
   "id": "d0eb716c-fc46-40b8-9d7c-3aaf1b1e10f3",
   "metadata": {},
   "outputs": [],
   "source": [
    "a='sumit' # string\n",
    "b=[1,2 ,3 ,'sumit','pwskills',23.45,True]  # list\n",
    "c=23.45 # float\n",
    "d=(2, 3,[3,4,'sumit'],['kumar',4,67.8,True],False) # tuple"
   ]
  },
  {
   "cell_type": "code",
   "execution_count": 6,
   "id": "a743e3a0-6ef3-4dd5-bad5-eec932bfe0f3",
   "metadata": {},
   "outputs": [],
   "source": [
    "# ques 2"
   ]
  },
  {
   "cell_type": "code",
   "execution_count": 10,
   "id": "6dd2c7da-b55d-426f-9d24-7a8152458bdc",
   "metadata": {},
   "outputs": [],
   "source": [
    "var1 = ''\n",
    "var2 = '[ DS , ML , Python]'\n",
    "var3 = [ 'DS' , 'ML' , 'Python' ]\n",
    "var4 = 1."
   ]
  },
  {
   "cell_type": "code",
   "execution_count": 11,
   "id": "87b09815-dac3-44e1-93ae-f7de53ce251a",
   "metadata": {},
   "outputs": [
    {
     "data": {
      "text/plain": [
       "str"
      ]
     },
     "execution_count": 11,
     "metadata": {},
     "output_type": "execute_result"
    }
   ],
   "source": [
    "type(var1)"
   ]
  },
  {
   "cell_type": "code",
   "execution_count": 12,
   "id": "305793b3-83f2-46e9-bf9e-18cfa940aacd",
   "metadata": {},
   "outputs": [
    {
     "data": {
      "text/plain": [
       "str"
      ]
     },
     "execution_count": 12,
     "metadata": {},
     "output_type": "execute_result"
    }
   ],
   "source": [
    "type(var2)"
   ]
  },
  {
   "cell_type": "code",
   "execution_count": 13,
   "id": "c8bd610d-fc22-445b-a348-aa3adbf35e34",
   "metadata": {},
   "outputs": [
    {
     "data": {
      "text/plain": [
       "list"
      ]
     },
     "execution_count": 13,
     "metadata": {},
     "output_type": "execute_result"
    }
   ],
   "source": [
    "type(var3)"
   ]
  },
  {
   "cell_type": "code",
   "execution_count": 14,
   "id": "a20d34e0-402d-4fde-8460-1add11fa806f",
   "metadata": {},
   "outputs": [
    {
     "data": {
      "text/plain": [
       "float"
      ]
     },
     "execution_count": 14,
     "metadata": {},
     "output_type": "execute_result"
    }
   ],
   "source": [
    "type(var4)"
   ]
  },
  {
   "cell_type": "code",
   "execution_count": 15,
   "id": "9049aa44-af4b-4c5e-a384-56351d251888",
   "metadata": {},
   "outputs": [],
   "source": [
    "# ques 3"
   ]
  },
  {
   "cell_type": "code",
   "execution_count": 28,
   "id": "f9c31700-b5bb-4954-bfba-e0be53f3cca7",
   "metadata": {},
   "outputs": [],
   "source": [
    "b=2/3  # divide answer will 0.666"
   ]
  },
  {
   "cell_type": "code",
   "execution_count": 25,
   "id": "091b4033-8d6d-4bb9-9e89-7df02c100a32",
   "metadata": {},
   "outputs": [],
   "source": [
    "c=6%4  # modulus operator answer will 2 as remainder is 2"
   ]
  },
  {
   "cell_type": "code",
   "execution_count": 21,
   "id": "3501d258-5d4c-4499-bc97-5822ed1fdcd5",
   "metadata": {},
   "outputs": [],
   "source": [
    "d=5//4 #divison floor answer will be 1"
   ]
  },
  {
   "cell_type": "code",
   "execution_count": 29,
   "id": "10c400bc-d3ec-46de-b1ce-cdc7e74b4ad4",
   "metadata": {},
   "outputs": [],
   "source": [
    "e=2**4  # power answer will be 16"
   ]
  },
  {
   "cell_type": "code",
   "execution_count": null,
   "id": "77194c11-7031-497c-824b-3ee92bbfd967",
   "metadata": {},
   "outputs": [],
   "source": [
    "# ques 4"
   ]
  },
  {
   "cell_type": "code",
   "execution_count": 30,
   "id": "b71c53ac-28dc-4825-b435-8b65f8a98479",
   "metadata": {},
   "outputs": [
    {
     "name": "stdout",
     "output_type": "stream",
     "text": [
      "1\n",
      "<class 'int'>\n",
      "2\n",
      "<class 'int'>\n",
      "3\n",
      "<class 'int'>\n",
      "sumit\n",
      "<class 'str'>\n",
      "Kumar\n",
      "<class 'str'>\n",
      "True\n",
      "<class 'bool'>\n",
      "24.6\n",
      "<class 'float'>\n",
      "pwskills\n",
      "<class 'str'>\n",
      "False\n",
      "<class 'bool'>\n",
      "10\n",
      "<class 'int'>\n"
     ]
    }
   ],
   "source": [
    "l=[1,2 ,3,'sumit','Kumar',True,24.6,\"pwskills\",False,10]\n",
    "for i in l:\n",
    "    print(i)\n",
    "    print(type(i))"
   ]
  },
  {
   "cell_type": "code",
   "execution_count": null,
   "id": "27a2d692-4eb1-4523-8b83-f7c5d423a5d4",
   "metadata": {},
   "outputs": [],
   "source": [
    "# ques 5"
   ]
  },
  {
   "cell_type": "code",
   "execution_count": null,
   "id": "7399d81b-3296-418e-bd87-557575889e67",
   "metadata": {},
   "outputs": [],
   "source": [
    "a=int(input())\n",
    "b=int(input())\n",
    "count = 0\n",
    "\n",
    "while a% b == 0:\n",
    "    count += 1\n",
    "    c=a/b\n",
    "    a = a / b\n",
    "\n",
    "if count > 0:\n",
    "    print(\"Number a is purely divisible by b \", c, \" times.\")\n",
    "else:\n",
    "    print(\"Number a is not purely divisible by b.\")"
   ]
  },
  {
   "cell_type": "code",
   "execution_count": null,
   "id": "1be23b89-c494-4e02-bd3b-7b8f4866dfae",
   "metadata": {},
   "outputs": [],
   "source": [
    "# ques 6"
   ]
  },
  {
   "cell_type": "code",
   "execution_count": null,
   "id": "194a3653-8a5d-418d-9915-9319ef66a74f",
   "metadata": {},
   "outputs": [],
   "source": [
    "l=[1,2 ,3 ,4,5 ,6,7,8,9,10,11,12,13,14,15,16,17,18,19,20,21,22,23,24,25]\n",
    "for i in l:\n",
    "    if i%3==0:\n",
    "        print(i, 'is divisible by', 3)\n",
    "    else:\n",
    "        print(i, ' is not divisible by',3)"
   ]
  },
  {
   "cell_type": "code",
   "execution_count": null,
   "id": "2f7333a3-6f6e-4870-aa2d-fdb2d73e82e1",
   "metadata": {},
   "outputs": [],
   "source": [
    "# ques 7"
   ]
  },
  {
   "cell_type": "code",
   "execution_count": null,
   "id": "f3222a96-7a10-4e45-8c05-0aea9b183acd",
   "metadata": {},
   "outputs": [],
   "source": [
    "l=[1,2,3,'sumit',76.5,True]  # mutable \n",
    "p='sumit' # immutable"
   ]
  }
 ],
 "metadata": {
  "kernelspec": {
   "display_name": "Python 3 (ipykernel)",
   "language": "python",
   "name": "python3"
  },
  "language_info": {
   "codemirror_mode": {
    "name": "ipython",
    "version": 3
   },
   "file_extension": ".py",
   "mimetype": "text/x-python",
   "name": "python",
   "nbconvert_exporter": "python",
   "pygments_lexer": "ipython3",
   "version": "3.10.8"
  }
 },
 "nbformat": 4,
 "nbformat_minor": 5
}
