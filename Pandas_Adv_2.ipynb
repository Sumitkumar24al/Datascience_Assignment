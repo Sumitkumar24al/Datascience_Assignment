{
 "cells": [
  {
   "cell_type": "code",
   "execution_count": 1,
   "id": "fbbde472-5102-438f-9468-a0a358192bf0",
   "metadata": {},
   "outputs": [
    {
     "name": "stdout",
     "output_type": "stream",
     "text": [
      "Requirement already satisfied: pandas in /opt/conda/lib/python3.10/site-packages (1.5.2)\n",
      "Requirement already satisfied: python-dateutil>=2.8.1 in /opt/conda/lib/python3.10/site-packages (from pandas) (2.8.2)\n",
      "Requirement already satisfied: pytz>=2020.1 in /opt/conda/lib/python3.10/site-packages (from pandas) (2022.6)\n",
      "Requirement already satisfied: numpy>=1.21.0 in /opt/conda/lib/python3.10/site-packages (from pandas) (1.23.5)\n",
      "Requirement already satisfied: six>=1.5 in /opt/conda/lib/python3.10/site-packages (from python-dateutil>=2.8.1->pandas) (1.16.0)\n",
      "Note: you may need to restart the kernel to use updated packages.\n"
     ]
    }
   ],
   "source": [
    "pip install pandas"
   ]
  },
  {
   "cell_type": "markdown",
   "id": "322f9007-f55f-4eb6-8148-f6e37474aab1",
   "metadata": {},
   "source": [
    "Ques 1"
   ]
  },
  {
   "cell_type": "code",
   "execution_count": 2,
   "id": "e30f9564-8a42-49d0-b27c-4786bfcd4b66",
   "metadata": {},
   "outputs": [],
   "source": [
    "import pandas as pd\n",
    "course_name = ['Data Science', 'Machine Learning', 'Big Data', 'Data Engineer']\n",
    "duration = [2,3,6,4]\n",
    "df = pd.DataFrame(data = {'course_name' : course_name,\n",
    "                          'duration' : duration})"
   ]
  },
  {
   "cell_type": "code",
   "execution_count": 3,
   "id": "645871fc-438f-4e21-8a3b-957768f0f9cb",
   "metadata": {},
   "outputs": [
    {
     "data": {
      "text/html": [
       "<div>\n",
       "<style scoped>\n",
       "    .dataframe tbody tr th:only-of-type {\n",
       "        vertical-align: middle;\n",
       "    }\n",
       "\n",
       "    .dataframe tbody tr th {\n",
       "        vertical-align: top;\n",
       "    }\n",
       "\n",
       "    .dataframe thead th {\n",
       "        text-align: right;\n",
       "    }\n",
       "</style>\n",
       "<table border=\"1\" class=\"dataframe\">\n",
       "  <thead>\n",
       "    <tr style=\"text-align: right;\">\n",
       "      <th></th>\n",
       "      <th>course_name</th>\n",
       "      <th>duration</th>\n",
       "    </tr>\n",
       "  </thead>\n",
       "  <tbody>\n",
       "    <tr>\n",
       "      <th>0</th>\n",
       "      <td>Data Science</td>\n",
       "      <td>2</td>\n",
       "    </tr>\n",
       "    <tr>\n",
       "      <th>1</th>\n",
       "      <td>Machine Learning</td>\n",
       "      <td>3</td>\n",
       "    </tr>\n",
       "    <tr>\n",
       "      <th>2</th>\n",
       "      <td>Big Data</td>\n",
       "      <td>6</td>\n",
       "    </tr>\n",
       "    <tr>\n",
       "      <th>3</th>\n",
       "      <td>Data Engineer</td>\n",
       "      <td>4</td>\n",
       "    </tr>\n",
       "  </tbody>\n",
       "</table>\n",
       "</div>"
      ],
      "text/plain": [
       "        course_name  duration\n",
       "0      Data Science         2\n",
       "1  Machine Learning         3\n",
       "2          Big Data         6\n",
       "3     Data Engineer         4"
      ]
     },
     "execution_count": 3,
     "metadata": {},
     "output_type": "execute_result"
    }
   ],
   "source": [
    "df"
   ]
  },
  {
   "cell_type": "code",
   "execution_count": 4,
   "id": "64919fe2-8ebe-468b-b4f8-ea0a6f2c6f82",
   "metadata": {},
   "outputs": [],
   "source": [
    "sec_row=df.iloc[1]"
   ]
  },
  {
   "cell_type": "code",
   "execution_count": 5,
   "id": "e1ed32dd-ab47-48bc-8ef4-34a4b9473448",
   "metadata": {},
   "outputs": [
    {
     "name": "stdout",
     "output_type": "stream",
     "text": [
      "course_name    Machine Learning\n",
      "duration                      3\n",
      "Name: 1, dtype: object\n"
     ]
    }
   ],
   "source": [
    "print(sec_row)"
   ]
  },
  {
   "cell_type": "markdown",
   "id": "002ca909-12a7-4a18-bfe3-cde42b5c25af",
   "metadata": {},
   "source": [
    "Ques 2"
   ]
  },
  {
   "cell_type": "markdown",
   "id": "91c994b2-ce91-4fb3-b2fb-45d983449e39",
   "metadata": {},
   "source": [
    "The loc and iloc functions in pandas.DataFrame are used for indexing and selecting data from a DataFrame, but they have some differences in their behavior.\n",
    "\n",
    "loc: The loc function is primarily label-based and is used for selection by label or by a boolean array. It accepts the row and column labels as arguments and returns a subset of the DataFrame based on those labels.\n",
    "\n",
    "When using loc, the labels are inclusive, meaning both the start and end labels are included in the selection.\n",
    "\n",
    "iloc: The iloc function is primarily integer-based and is used for selection by position. It accepts the row and column positions as arguments and returns a subset of the DataFrame based on those positions.\n",
    "\n",
    "When using iloc, the positions are exclusive, meaning the start position is included, but the end position is excluded from the selection.\n"
   ]
  },
  {
   "cell_type": "markdown",
   "id": "4a839a66-a451-4b6a-a732-cc295d73821c",
   "metadata": {},
   "source": [
    "Ques 3"
   ]
  },
  {
   "cell_type": "code",
   "execution_count": 6,
   "id": "e6c722e3-30fa-4348-bc12-41b62a86d08e",
   "metadata": {},
   "outputs": [],
   "source": [
    "new_df=df.reindex([3,0,1,2])"
   ]
  },
  {
   "cell_type": "code",
   "execution_count": 7,
   "id": "79bb1758-0e15-42d8-b5bc-1534a670c9d6",
   "metadata": {},
   "outputs": [
    {
     "data": {
      "text/plain": [
       "course_name    Big Data\n",
       "duration              6\n",
       "Name: 2, dtype: object"
      ]
     },
     "execution_count": 7,
     "metadata": {},
     "output_type": "execute_result"
    }
   ],
   "source": [
    "new_df.loc[2]"
   ]
  },
  {
   "cell_type": "code",
   "execution_count": 8,
   "id": "4a81a052-4b47-49c0-b134-73421a5c57e8",
   "metadata": {},
   "outputs": [
    {
     "data": {
      "text/plain": [
       "course_name    Machine Learning\n",
       "duration                      3\n",
       "Name: 1, dtype: object"
      ]
     },
     "execution_count": 8,
     "metadata": {},
     "output_type": "execute_result"
    }
   ],
   "source": [
    "new_df.iloc[2]"
   ]
  },
  {
   "cell_type": "markdown",
   "id": "b522e2df-b944-44e4-9642-e624cc4584b6",
   "metadata": {},
   "source": [
    "Yes, there is a difference between the outputs of new_df.loc[2] and new_df.iloc[2].\n",
    "\n",
    "new_df.loc[2] refers to accessing the row with the label/index value of 2 in the DataFrame new_df. Since we reindexed df using the reindex list, new_df now has a different order of rows. In this case, the label/index value of 2 corresponds to the third row in new_df after reindexing.\n",
    "\n",
    "On the other hand, new_df.iloc[2] refers to accessing the row at the integer position of 2 in new_df. In this case, since the reindexing changed the order of rows, the third row in new_df (at position 2) after reindexing may not correspond to the original third row in df."
   ]
  },
  {
   "cell_type": "markdown",
   "id": "ccc6b535-7de7-4789-9a00-6228f19b541d",
   "metadata": {},
   "source": [
    "Ques 4"
   ]
  },
  {
   "cell_type": "code",
   "execution_count": 9,
   "id": "e131862d-92ac-4810-84b7-315eb01b6209",
   "metadata": {},
   "outputs": [],
   "source": [
    "import pandas as pd\n",
    "import numpy as np\n",
    "columns=['column_1','column_2','column_3','column_4','column_5','column_6']\n",
    "indices=[1,2,3,4,5,6]\n",
    "df1=pd.DataFrame(np.random.rand(6,6),columns=columns,index=indices)"
   ]
  },
  {
   "cell_type": "code",
   "execution_count": 10,
   "id": "fdcb8847-293c-4741-a1ca-00f1b8805a14",
   "metadata": {},
   "outputs": [
    {
     "data": {
      "text/html": [
       "<div>\n",
       "<style scoped>\n",
       "    .dataframe tbody tr th:only-of-type {\n",
       "        vertical-align: middle;\n",
       "    }\n",
       "\n",
       "    .dataframe tbody tr th {\n",
       "        vertical-align: top;\n",
       "    }\n",
       "\n",
       "    .dataframe thead th {\n",
       "        text-align: right;\n",
       "    }\n",
       "</style>\n",
       "<table border=\"1\" class=\"dataframe\">\n",
       "  <thead>\n",
       "    <tr style=\"text-align: right;\">\n",
       "      <th></th>\n",
       "      <th>column_1</th>\n",
       "      <th>column_2</th>\n",
       "      <th>column_3</th>\n",
       "      <th>column_4</th>\n",
       "      <th>column_5</th>\n",
       "      <th>column_6</th>\n",
       "    </tr>\n",
       "  </thead>\n",
       "  <tbody>\n",
       "    <tr>\n",
       "      <th>1</th>\n",
       "      <td>0.368554</td>\n",
       "      <td>0.290820</td>\n",
       "      <td>0.060439</td>\n",
       "      <td>0.442547</td>\n",
       "      <td>0.861108</td>\n",
       "      <td>0.706814</td>\n",
       "    </tr>\n",
       "    <tr>\n",
       "      <th>2</th>\n",
       "      <td>0.888563</td>\n",
       "      <td>0.577861</td>\n",
       "      <td>0.619771</td>\n",
       "      <td>0.207692</td>\n",
       "      <td>0.293981</td>\n",
       "      <td>0.322465</td>\n",
       "    </tr>\n",
       "    <tr>\n",
       "      <th>3</th>\n",
       "      <td>0.776253</td>\n",
       "      <td>0.726441</td>\n",
       "      <td>0.622281</td>\n",
       "      <td>0.446687</td>\n",
       "      <td>0.715082</td>\n",
       "      <td>0.912172</td>\n",
       "    </tr>\n",
       "    <tr>\n",
       "      <th>4</th>\n",
       "      <td>0.258831</td>\n",
       "      <td>0.368723</td>\n",
       "      <td>0.352603</td>\n",
       "      <td>0.849452</td>\n",
       "      <td>0.623151</td>\n",
       "      <td>0.705738</td>\n",
       "    </tr>\n",
       "    <tr>\n",
       "      <th>5</th>\n",
       "      <td>0.183307</td>\n",
       "      <td>0.793424</td>\n",
       "      <td>0.280495</td>\n",
       "      <td>0.065900</td>\n",
       "      <td>0.555801</td>\n",
       "      <td>0.034094</td>\n",
       "    </tr>\n",
       "    <tr>\n",
       "      <th>6</th>\n",
       "      <td>0.597525</td>\n",
       "      <td>0.214739</td>\n",
       "      <td>0.338576</td>\n",
       "      <td>0.724010</td>\n",
       "      <td>0.315258</td>\n",
       "      <td>0.400973</td>\n",
       "    </tr>\n",
       "  </tbody>\n",
       "</table>\n",
       "</div>"
      ],
      "text/plain": [
       "   column_1  column_2  column_3  column_4  column_5  column_6\n",
       "1  0.368554  0.290820  0.060439  0.442547  0.861108  0.706814\n",
       "2  0.888563  0.577861  0.619771  0.207692  0.293981  0.322465\n",
       "3  0.776253  0.726441  0.622281  0.446687  0.715082  0.912172\n",
       "4  0.258831  0.368723  0.352603  0.849452  0.623151  0.705738\n",
       "5  0.183307  0.793424  0.280495  0.065900  0.555801  0.034094\n",
       "6  0.597525  0.214739  0.338576  0.724010  0.315258  0.400973"
      ]
     },
     "execution_count": 10,
     "metadata": {},
     "output_type": "execute_result"
    }
   ],
   "source": [
    "df1"
   ]
  },
  {
   "cell_type": "code",
   "execution_count": 11,
   "id": "e15220d4-1e71-4747-a1e3-2b187216dc81",
   "metadata": {},
   "outputs": [
    {
     "name": "stdout",
     "output_type": "stream",
     "text": [
      "Mean of each column:\n"
     ]
    },
    {
     "data": {
      "text/plain": [
       "column_1    0.512172\n",
       "column_2    0.495335\n",
       "column_3    0.379028\n",
       "column_4    0.456048\n",
       "column_5    0.560730\n",
       "column_6    0.513709\n",
       "dtype: float64"
      ]
     },
     "execution_count": 11,
     "metadata": {},
     "output_type": "execute_result"
    }
   ],
   "source": [
    "print(\"Mean of each column:\")\n",
    "df1.mean()"
   ]
  },
  {
   "cell_type": "code",
   "execution_count": 12,
   "id": "a7e60119-b8af-48da-9e50-4ffd24014347",
   "metadata": {},
   "outputs": [
    {
     "name": "stdout",
     "output_type": "stream",
     "text": [
      "Standard deviation of 'column_1' and 'column_2':\n"
     ]
    },
    {
     "data": {
      "text/plain": [
       "column_1    0.286934\n",
       "column_2    0.239027\n",
       "dtype: float64"
      ]
     },
     "execution_count": 12,
     "metadata": {},
     "output_type": "execute_result"
    }
   ],
   "source": [
    "print(\"Standard deviation of 'column_1' and 'column_2':\")\n",
    "df1[['column_1','column_2']].std()"
   ]
  },
  {
   "cell_type": "markdown",
   "id": "bc9a0f7a-dd0d-4ec9-b5a4-908e9ec89702",
   "metadata": {},
   "source": [
    "Ques 5"
   ]
  },
  {
   "cell_type": "code",
   "execution_count": 13,
   "id": "8bd78e3b-dd69-4065-a7e3-e71f936b1275",
   "metadata": {},
   "outputs": [],
   "source": [
    "df1.loc[2, 'column_2'] = 'Sumit Kumar'"
   ]
  },
  {
   "cell_type": "markdown",
   "id": "ac66ca4d-c323-4446-b760-18e9b425012a",
   "metadata": {},
   "source": [
    "column2_mean = df1['column_2'].mean()"
   ]
  },
  {
   "cell_type": "markdown",
   "id": "01701616-3e5a-49f1-94fb-5c35ce52830c",
   "metadata": {},
   "source": [
    "Replacing numeric data with a string can cause issues when calculating the mean. In this case, if 'column_2' contains a mix of numeric and string values, the mean calculation will result in an error due to the inability to perform mathematical operations on string values."
   ]
  },
  {
   "cell_type": "markdown",
   "id": "17e4ef8e-dfde-4d8c-be71-bd76a84b84ac",
   "metadata": {},
   "source": [
    "Ques 6"
   ]
  },
  {
   "cell_type": "markdown",
   "id": "1e9294b0-0484-4114-bb9b-b6118cd6f7dc",
   "metadata": {},
   "source": [
    "In pandas, a window function, also known as a rolling or moving function, refers to applying a calculation or function to a rolling window of data. It allows you to perform operations on a specified window size or an expanding range of values. Window functions are commonly used for time series analysis, data smoothing, and feature engineering."
   ]
  },
  {
   "cell_type": "code",
   "execution_count": 14,
   "id": "44a46596-7aa8-49a7-95f3-e6a058b08a18",
   "metadata": {},
   "outputs": [],
   "source": [
    "df=pd.DataFrame({'a':[5,6,7,8,9]})"
   ]
  },
  {
   "cell_type": "code",
   "execution_count": 15,
   "id": "5d936654-d76e-47d8-9c69-a8c82e83a7bf",
   "metadata": {},
   "outputs": [
    {
     "data": {
      "text/html": [
       "<div>\n",
       "<style scoped>\n",
       "    .dataframe tbody tr th:only-of-type {\n",
       "        vertical-align: middle;\n",
       "    }\n",
       "\n",
       "    .dataframe tbody tr th {\n",
       "        vertical-align: top;\n",
       "    }\n",
       "\n",
       "    .dataframe thead th {\n",
       "        text-align: right;\n",
       "    }\n",
       "</style>\n",
       "<table border=\"1\" class=\"dataframe\">\n",
       "  <thead>\n",
       "    <tr style=\"text-align: right;\">\n",
       "      <th></th>\n",
       "      <th>a</th>\n",
       "    </tr>\n",
       "  </thead>\n",
       "  <tbody>\n",
       "    <tr>\n",
       "      <th>0</th>\n",
       "      <td>NaN</td>\n",
       "    </tr>\n",
       "    <tr>\n",
       "      <th>1</th>\n",
       "      <td>5.5</td>\n",
       "    </tr>\n",
       "    <tr>\n",
       "      <th>2</th>\n",
       "      <td>6.5</td>\n",
       "    </tr>\n",
       "    <tr>\n",
       "      <th>3</th>\n",
       "      <td>7.5</td>\n",
       "    </tr>\n",
       "    <tr>\n",
       "      <th>4</th>\n",
       "      <td>8.5</td>\n",
       "    </tr>\n",
       "  </tbody>\n",
       "</table>\n",
       "</div>"
      ],
      "text/plain": [
       "     a\n",
       "0  NaN\n",
       "1  5.5\n",
       "2  6.5\n",
       "3  7.5\n",
       "4  8.5"
      ]
     },
     "execution_count": 15,
     "metadata": {},
     "output_type": "execute_result"
    }
   ],
   "source": [
    "df.rolling(window=2).mean()"
   ]
  },
  {
   "cell_type": "code",
   "execution_count": 16,
   "id": "dce88709-4feb-44a6-806a-50b102e5f319",
   "metadata": {},
   "outputs": [
    {
     "data": {
      "text/html": [
       "<div>\n",
       "<style scoped>\n",
       "    .dataframe tbody tr th:only-of-type {\n",
       "        vertical-align: middle;\n",
       "    }\n",
       "\n",
       "    .dataframe tbody tr th {\n",
       "        vertical-align: top;\n",
       "    }\n",
       "\n",
       "    .dataframe thead th {\n",
       "        text-align: right;\n",
       "    }\n",
       "</style>\n",
       "<table border=\"1\" class=\"dataframe\">\n",
       "  <thead>\n",
       "    <tr style=\"text-align: right;\">\n",
       "      <th></th>\n",
       "      <th>a</th>\n",
       "    </tr>\n",
       "  </thead>\n",
       "  <tbody>\n",
       "    <tr>\n",
       "      <th>0</th>\n",
       "      <td>NaN</td>\n",
       "    </tr>\n",
       "    <tr>\n",
       "      <th>1</th>\n",
       "      <td>NaN</td>\n",
       "    </tr>\n",
       "    <tr>\n",
       "      <th>2</th>\n",
       "      <td>6.0</td>\n",
       "    </tr>\n",
       "    <tr>\n",
       "      <th>3</th>\n",
       "      <td>7.0</td>\n",
       "    </tr>\n",
       "    <tr>\n",
       "      <th>4</th>\n",
       "      <td>8.0</td>\n",
       "    </tr>\n",
       "  </tbody>\n",
       "</table>\n",
       "</div>"
      ],
      "text/plain": [
       "     a\n",
       "0  NaN\n",
       "1  NaN\n",
       "2  6.0\n",
       "3  7.0\n",
       "4  8.0"
      ]
     },
     "execution_count": 16,
     "metadata": {},
     "output_type": "execute_result"
    }
   ],
   "source": [
    "df.rolling(window=3).mean()"
   ]
  },
  {
   "cell_type": "code",
   "execution_count": 17,
   "id": "5aaf4014-361b-4799-a95d-5e610df11b65",
   "metadata": {},
   "outputs": [
    {
     "data": {
      "text/html": [
       "<div>\n",
       "<style scoped>\n",
       "    .dataframe tbody tr th:only-of-type {\n",
       "        vertical-align: middle;\n",
       "    }\n",
       "\n",
       "    .dataframe tbody tr th {\n",
       "        vertical-align: top;\n",
       "    }\n",
       "\n",
       "    .dataframe thead th {\n",
       "        text-align: right;\n",
       "    }\n",
       "</style>\n",
       "<table border=\"1\" class=\"dataframe\">\n",
       "  <thead>\n",
       "    <tr style=\"text-align: right;\">\n",
       "      <th></th>\n",
       "      <th>a</th>\n",
       "    </tr>\n",
       "  </thead>\n",
       "  <tbody>\n",
       "    <tr>\n",
       "      <th>0</th>\n",
       "      <td>NaN</td>\n",
       "    </tr>\n",
       "    <tr>\n",
       "      <th>1</th>\n",
       "      <td>NaN</td>\n",
       "    </tr>\n",
       "    <tr>\n",
       "      <th>2</th>\n",
       "      <td>18.0</td>\n",
       "    </tr>\n",
       "    <tr>\n",
       "      <th>3</th>\n",
       "      <td>21.0</td>\n",
       "    </tr>\n",
       "    <tr>\n",
       "      <th>4</th>\n",
       "      <td>24.0</td>\n",
       "    </tr>\n",
       "  </tbody>\n",
       "</table>\n",
       "</div>"
      ],
      "text/plain": [
       "      a\n",
       "0   NaN\n",
       "1   NaN\n",
       "2  18.0\n",
       "3  21.0\n",
       "4  24.0"
      ]
     },
     "execution_count": 17,
     "metadata": {},
     "output_type": "execute_result"
    }
   ],
   "source": [
    "df.rolling(window=3).sum()"
   ]
  },
  {
   "cell_type": "code",
   "execution_count": 18,
   "id": "c94e2647-f1cf-4b08-9f73-bf8400573acb",
   "metadata": {},
   "outputs": [
    {
     "data": {
      "text/html": [
       "<div>\n",
       "<style scoped>\n",
       "    .dataframe tbody tr th:only-of-type {\n",
       "        vertical-align: middle;\n",
       "    }\n",
       "\n",
       "    .dataframe tbody tr th {\n",
       "        vertical-align: top;\n",
       "    }\n",
       "\n",
       "    .dataframe thead th {\n",
       "        text-align: right;\n",
       "    }\n",
       "</style>\n",
       "<table border=\"1\" class=\"dataframe\">\n",
       "  <thead>\n",
       "    <tr style=\"text-align: right;\">\n",
       "      <th></th>\n",
       "      <th>a</th>\n",
       "    </tr>\n",
       "  </thead>\n",
       "  <tbody>\n",
       "    <tr>\n",
       "      <th>0</th>\n",
       "      <td>NaN</td>\n",
       "    </tr>\n",
       "    <tr>\n",
       "      <th>1</th>\n",
       "      <td>NaN</td>\n",
       "    </tr>\n",
       "    <tr>\n",
       "      <th>2</th>\n",
       "      <td>1.0</td>\n",
       "    </tr>\n",
       "    <tr>\n",
       "      <th>3</th>\n",
       "      <td>1.0</td>\n",
       "    </tr>\n",
       "    <tr>\n",
       "      <th>4</th>\n",
       "      <td>1.0</td>\n",
       "    </tr>\n",
       "  </tbody>\n",
       "</table>\n",
       "</div>"
      ],
      "text/plain": [
       "     a\n",
       "0  NaN\n",
       "1  NaN\n",
       "2  1.0\n",
       "3  1.0\n",
       "4  1.0"
      ]
     },
     "execution_count": 18,
     "metadata": {},
     "output_type": "execute_result"
    }
   ],
   "source": [
    "df.rolling(window=3).std()"
   ]
  },
  {
   "cell_type": "code",
   "execution_count": 19,
   "id": "2f8630d2-338f-40f6-bcf6-3d3278fc6808",
   "metadata": {},
   "outputs": [
    {
     "data": {
      "text/html": [
       "<div>\n",
       "<style scoped>\n",
       "    .dataframe tbody tr th:only-of-type {\n",
       "        vertical-align: middle;\n",
       "    }\n",
       "\n",
       "    .dataframe tbody tr th {\n",
       "        vertical-align: top;\n",
       "    }\n",
       "\n",
       "    .dataframe thead th {\n",
       "        text-align: right;\n",
       "    }\n",
       "</style>\n",
       "<table border=\"1\" class=\"dataframe\">\n",
       "  <thead>\n",
       "    <tr style=\"text-align: right;\">\n",
       "      <th></th>\n",
       "      <th>a</th>\n",
       "    </tr>\n",
       "  </thead>\n",
       "  <tbody>\n",
       "    <tr>\n",
       "      <th>0</th>\n",
       "      <td>NaN</td>\n",
       "    </tr>\n",
       "    <tr>\n",
       "      <th>1</th>\n",
       "      <td>5.0</td>\n",
       "    </tr>\n",
       "    <tr>\n",
       "      <th>2</th>\n",
       "      <td>6.0</td>\n",
       "    </tr>\n",
       "    <tr>\n",
       "      <th>3</th>\n",
       "      <td>7.0</td>\n",
       "    </tr>\n",
       "    <tr>\n",
       "      <th>4</th>\n",
       "      <td>8.0</td>\n",
       "    </tr>\n",
       "  </tbody>\n",
       "</table>\n",
       "</div>"
      ],
      "text/plain": [
       "     a\n",
       "0  NaN\n",
       "1  5.0\n",
       "2  6.0\n",
       "3  7.0\n",
       "4  8.0"
      ]
     },
     "execution_count": 19,
     "metadata": {},
     "output_type": "execute_result"
    }
   ],
   "source": [
    "df.rolling(window=2).min()"
   ]
  },
  {
   "cell_type": "code",
   "execution_count": 20,
   "id": "98e6a309-208f-4e5d-81be-a8364b381563",
   "metadata": {},
   "outputs": [
    {
     "data": {
      "text/html": [
       "<div>\n",
       "<style scoped>\n",
       "    .dataframe tbody tr th:only-of-type {\n",
       "        vertical-align: middle;\n",
       "    }\n",
       "\n",
       "    .dataframe tbody tr th {\n",
       "        vertical-align: top;\n",
       "    }\n",
       "\n",
       "    .dataframe thead th {\n",
       "        text-align: right;\n",
       "    }\n",
       "</style>\n",
       "<table border=\"1\" class=\"dataframe\">\n",
       "  <thead>\n",
       "    <tr style=\"text-align: right;\">\n",
       "      <th></th>\n",
       "      <th>a</th>\n",
       "    </tr>\n",
       "  </thead>\n",
       "  <tbody>\n",
       "    <tr>\n",
       "      <th>0</th>\n",
       "      <td>NaN</td>\n",
       "    </tr>\n",
       "    <tr>\n",
       "      <th>1</th>\n",
       "      <td>6.0</td>\n",
       "    </tr>\n",
       "    <tr>\n",
       "      <th>2</th>\n",
       "      <td>7.0</td>\n",
       "    </tr>\n",
       "    <tr>\n",
       "      <th>3</th>\n",
       "      <td>8.0</td>\n",
       "    </tr>\n",
       "    <tr>\n",
       "      <th>4</th>\n",
       "      <td>9.0</td>\n",
       "    </tr>\n",
       "  </tbody>\n",
       "</table>\n",
       "</div>"
      ],
      "text/plain": [
       "     a\n",
       "0  NaN\n",
       "1  6.0\n",
       "2  7.0\n",
       "3  8.0\n",
       "4  9.0"
      ]
     },
     "execution_count": 20,
     "metadata": {},
     "output_type": "execute_result"
    }
   ],
   "source": [
    "df.rolling(window=2).max()"
   ]
  },
  {
   "cell_type": "code",
   "execution_count": 21,
   "id": "d4524262-8619-4eb4-93ca-a73dae2bdff9",
   "metadata": {},
   "outputs": [
    {
     "name": "stderr",
     "output_type": "stream",
     "text": [
      "/tmp/ipykernel_1604/1660882593.py:1: FutureWarning: min_periods=None will default to the size of window consistent with other methods in a future version. Specify min_periods=0 instead.\n",
      "  df.rolling(window=2).count()\n"
     ]
    },
    {
     "data": {
      "text/html": [
       "<div>\n",
       "<style scoped>\n",
       "    .dataframe tbody tr th:only-of-type {\n",
       "        vertical-align: middle;\n",
       "    }\n",
       "\n",
       "    .dataframe tbody tr th {\n",
       "        vertical-align: top;\n",
       "    }\n",
       "\n",
       "    .dataframe thead th {\n",
       "        text-align: right;\n",
       "    }\n",
       "</style>\n",
       "<table border=\"1\" class=\"dataframe\">\n",
       "  <thead>\n",
       "    <tr style=\"text-align: right;\">\n",
       "      <th></th>\n",
       "      <th>a</th>\n",
       "    </tr>\n",
       "  </thead>\n",
       "  <tbody>\n",
       "    <tr>\n",
       "      <th>0</th>\n",
       "      <td>1.0</td>\n",
       "    </tr>\n",
       "    <tr>\n",
       "      <th>1</th>\n",
       "      <td>2.0</td>\n",
       "    </tr>\n",
       "    <tr>\n",
       "      <th>2</th>\n",
       "      <td>2.0</td>\n",
       "    </tr>\n",
       "    <tr>\n",
       "      <th>3</th>\n",
       "      <td>2.0</td>\n",
       "    </tr>\n",
       "    <tr>\n",
       "      <th>4</th>\n",
       "      <td>2.0</td>\n",
       "    </tr>\n",
       "  </tbody>\n",
       "</table>\n",
       "</div>"
      ],
      "text/plain": [
       "     a\n",
       "0  1.0\n",
       "1  2.0\n",
       "2  2.0\n",
       "3  2.0\n",
       "4  2.0"
      ]
     },
     "execution_count": 21,
     "metadata": {},
     "output_type": "execute_result"
    }
   ],
   "source": [
    "df.rolling(window=2).count()"
   ]
  },
  {
   "cell_type": "code",
   "execution_count": 22,
   "id": "b2288d0f-c7ca-479b-b174-5cd11e61befa",
   "metadata": {},
   "outputs": [
    {
     "data": {
      "text/html": [
       "<div>\n",
       "<style scoped>\n",
       "    .dataframe tbody tr th:only-of-type {\n",
       "        vertical-align: middle;\n",
       "    }\n",
       "\n",
       "    .dataframe tbody tr th {\n",
       "        vertical-align: top;\n",
       "    }\n",
       "\n",
       "    .dataframe thead th {\n",
       "        text-align: right;\n",
       "    }\n",
       "</style>\n",
       "<table border=\"1\" class=\"dataframe\">\n",
       "  <thead>\n",
       "    <tr style=\"text-align: right;\">\n",
       "      <th></th>\n",
       "      <th>a</th>\n",
       "    </tr>\n",
       "  </thead>\n",
       "  <tbody>\n",
       "    <tr>\n",
       "      <th>0</th>\n",
       "      <td>NaN</td>\n",
       "    </tr>\n",
       "    <tr>\n",
       "      <th>1</th>\n",
       "      <td>5.5</td>\n",
       "    </tr>\n",
       "    <tr>\n",
       "      <th>2</th>\n",
       "      <td>6.5</td>\n",
       "    </tr>\n",
       "    <tr>\n",
       "      <th>3</th>\n",
       "      <td>7.5</td>\n",
       "    </tr>\n",
       "    <tr>\n",
       "      <th>4</th>\n",
       "      <td>8.5</td>\n",
       "    </tr>\n",
       "  </tbody>\n",
       "</table>\n",
       "</div>"
      ],
      "text/plain": [
       "     a\n",
       "0  NaN\n",
       "1  5.5\n",
       "2  6.5\n",
       "3  7.5\n",
       "4  8.5"
      ]
     },
     "execution_count": 22,
     "metadata": {},
     "output_type": "execute_result"
    }
   ],
   "source": [
    "df.rolling(window=2).median()"
   ]
  },
  {
   "cell_type": "code",
   "execution_count": 23,
   "id": "4e7a4d23-3ad9-41f1-ab47-e678b365ef8e",
   "metadata": {},
   "outputs": [
    {
     "data": {
      "text/html": [
       "<div>\n",
       "<style scoped>\n",
       "    .dataframe tbody tr th:only-of-type {\n",
       "        vertical-align: middle;\n",
       "    }\n",
       "\n",
       "    .dataframe tbody tr th {\n",
       "        vertical-align: top;\n",
       "    }\n",
       "\n",
       "    .dataframe thead th {\n",
       "        text-align: right;\n",
       "    }\n",
       "</style>\n",
       "<table border=\"1\" class=\"dataframe\">\n",
       "  <thead>\n",
       "    <tr style=\"text-align: right;\">\n",
       "      <th></th>\n",
       "      <th></th>\n",
       "      <th>a</th>\n",
       "    </tr>\n",
       "  </thead>\n",
       "  <tbody>\n",
       "    <tr>\n",
       "      <th>0</th>\n",
       "      <th>a</th>\n",
       "      <td>NaN</td>\n",
       "    </tr>\n",
       "    <tr>\n",
       "      <th>1</th>\n",
       "      <th>a</th>\n",
       "      <td>1.0</td>\n",
       "    </tr>\n",
       "    <tr>\n",
       "      <th>2</th>\n",
       "      <th>a</th>\n",
       "      <td>1.0</td>\n",
       "    </tr>\n",
       "    <tr>\n",
       "      <th>3</th>\n",
       "      <th>a</th>\n",
       "      <td>1.0</td>\n",
       "    </tr>\n",
       "    <tr>\n",
       "      <th>4</th>\n",
       "      <th>a</th>\n",
       "      <td>1.0</td>\n",
       "    </tr>\n",
       "  </tbody>\n",
       "</table>\n",
       "</div>"
      ],
      "text/plain": [
       "       a\n",
       "0 a  NaN\n",
       "1 a  1.0\n",
       "2 a  1.0\n",
       "3 a  1.0\n",
       "4 a  1.0"
      ]
     },
     "execution_count": 23,
     "metadata": {},
     "output_type": "execute_result"
    }
   ],
   "source": [
    "df.rolling(window=2).corr()"
   ]
  },
  {
   "cell_type": "code",
   "execution_count": 24,
   "id": "2ac8d2c3-32f8-4e31-88ad-7fba1bd68c8b",
   "metadata": {},
   "outputs": [
    {
     "data": {
      "text/html": [
       "<div>\n",
       "<style scoped>\n",
       "    .dataframe tbody tr th:only-of-type {\n",
       "        vertical-align: middle;\n",
       "    }\n",
       "\n",
       "    .dataframe tbody tr th {\n",
       "        vertical-align: top;\n",
       "    }\n",
       "\n",
       "    .dataframe thead th {\n",
       "        text-align: right;\n",
       "    }\n",
       "</style>\n",
       "<table border=\"1\" class=\"dataframe\">\n",
       "  <thead>\n",
       "    <tr style=\"text-align: right;\">\n",
       "      <th></th>\n",
       "      <th></th>\n",
       "      <th>a</th>\n",
       "    </tr>\n",
       "  </thead>\n",
       "  <tbody>\n",
       "    <tr>\n",
       "      <th>0</th>\n",
       "      <th>a</th>\n",
       "      <td>NaN</td>\n",
       "    </tr>\n",
       "    <tr>\n",
       "      <th>1</th>\n",
       "      <th>a</th>\n",
       "      <td>0.5</td>\n",
       "    </tr>\n",
       "    <tr>\n",
       "      <th>2</th>\n",
       "      <th>a</th>\n",
       "      <td>0.5</td>\n",
       "    </tr>\n",
       "    <tr>\n",
       "      <th>3</th>\n",
       "      <th>a</th>\n",
       "      <td>0.5</td>\n",
       "    </tr>\n",
       "    <tr>\n",
       "      <th>4</th>\n",
       "      <th>a</th>\n",
       "      <td>0.5</td>\n",
       "    </tr>\n",
       "  </tbody>\n",
       "</table>\n",
       "</div>"
      ],
      "text/plain": [
       "       a\n",
       "0 a  NaN\n",
       "1 a  0.5\n",
       "2 a  0.5\n",
       "3 a  0.5\n",
       "4 a  0.5"
      ]
     },
     "execution_count": 24,
     "metadata": {},
     "output_type": "execute_result"
    }
   ],
   "source": [
    "df.rolling(window=2).cov()"
   ]
  },
  {
   "cell_type": "code",
   "execution_count": 25,
   "id": "d858ab18-84e1-4a73-b4cc-e417e233e9c9",
   "metadata": {},
   "outputs": [
    {
     "data": {
      "text/html": [
       "<div>\n",
       "<style scoped>\n",
       "    .dataframe tbody tr th:only-of-type {\n",
       "        vertical-align: middle;\n",
       "    }\n",
       "\n",
       "    .dataframe tbody tr th {\n",
       "        vertical-align: top;\n",
       "    }\n",
       "\n",
       "    .dataframe thead th {\n",
       "        text-align: right;\n",
       "    }\n",
       "</style>\n",
       "<table border=\"1\" class=\"dataframe\">\n",
       "  <thead>\n",
       "    <tr style=\"text-align: right;\">\n",
       "      <th></th>\n",
       "      <th>a</th>\n",
       "    </tr>\n",
       "  </thead>\n",
       "  <tbody>\n",
       "    <tr>\n",
       "      <th>0</th>\n",
       "      <td>NaN</td>\n",
       "    </tr>\n",
       "    <tr>\n",
       "      <th>1</th>\n",
       "      <td>5.5</td>\n",
       "    </tr>\n",
       "    <tr>\n",
       "      <th>2</th>\n",
       "      <td>6.0</td>\n",
       "    </tr>\n",
       "    <tr>\n",
       "      <th>3</th>\n",
       "      <td>6.5</td>\n",
       "    </tr>\n",
       "    <tr>\n",
       "      <th>4</th>\n",
       "      <td>7.0</td>\n",
       "    </tr>\n",
       "  </tbody>\n",
       "</table>\n",
       "</div>"
      ],
      "text/plain": [
       "     a\n",
       "0  NaN\n",
       "1  5.5\n",
       "2  6.0\n",
       "3  6.5\n",
       "4  7.0"
      ]
     },
     "execution_count": 25,
     "metadata": {},
     "output_type": "execute_result"
    }
   ],
   "source": [
    "df.expanding(min_periods=2).mean()"
   ]
  },
  {
   "cell_type": "code",
   "execution_count": 26,
   "id": "736e935b-c736-45c1-a6a8-bfa250348b32",
   "metadata": {},
   "outputs": [
    {
     "data": {
      "text/html": [
       "<div>\n",
       "<style scoped>\n",
       "    .dataframe tbody tr th:only-of-type {\n",
       "        vertical-align: middle;\n",
       "    }\n",
       "\n",
       "    .dataframe tbody tr th {\n",
       "        vertical-align: top;\n",
       "    }\n",
       "\n",
       "    .dataframe thead th {\n",
       "        text-align: right;\n",
       "    }\n",
       "</style>\n",
       "<table border=\"1\" class=\"dataframe\">\n",
       "  <thead>\n",
       "    <tr style=\"text-align: right;\">\n",
       "      <th></th>\n",
       "      <th>a</th>\n",
       "    </tr>\n",
       "  </thead>\n",
       "  <tbody>\n",
       "    <tr>\n",
       "      <th>0</th>\n",
       "      <td>NaN</td>\n",
       "    </tr>\n",
       "    <tr>\n",
       "      <th>1</th>\n",
       "      <td>0.707107</td>\n",
       "    </tr>\n",
       "    <tr>\n",
       "      <th>2</th>\n",
       "      <td>1.000000</td>\n",
       "    </tr>\n",
       "    <tr>\n",
       "      <th>3</th>\n",
       "      <td>1.290994</td>\n",
       "    </tr>\n",
       "    <tr>\n",
       "      <th>4</th>\n",
       "      <td>1.581139</td>\n",
       "    </tr>\n",
       "  </tbody>\n",
       "</table>\n",
       "</div>"
      ],
      "text/plain": [
       "          a\n",
       "0       NaN\n",
       "1  0.707107\n",
       "2  1.000000\n",
       "3  1.290994\n",
       "4  1.581139"
      ]
     },
     "execution_count": 26,
     "metadata": {},
     "output_type": "execute_result"
    }
   ],
   "source": [
    "df.expanding(min_periods=2).std()"
   ]
  },
  {
   "cell_type": "code",
   "execution_count": 27,
   "id": "e8b021d3-60b1-4c58-8a17-cc4f7dbb946b",
   "metadata": {},
   "outputs": [
    {
     "data": {
      "text/html": [
       "<div>\n",
       "<style scoped>\n",
       "    .dataframe tbody tr th:only-of-type {\n",
       "        vertical-align: middle;\n",
       "    }\n",
       "\n",
       "    .dataframe tbody tr th {\n",
       "        vertical-align: top;\n",
       "    }\n",
       "\n",
       "    .dataframe thead th {\n",
       "        text-align: right;\n",
       "    }\n",
       "</style>\n",
       "<table border=\"1\" class=\"dataframe\">\n",
       "  <thead>\n",
       "    <tr style=\"text-align: right;\">\n",
       "      <th></th>\n",
       "      <th>a</th>\n",
       "    </tr>\n",
       "  </thead>\n",
       "  <tbody>\n",
       "    <tr>\n",
       "      <th>0</th>\n",
       "      <td>1.0</td>\n",
       "    </tr>\n",
       "    <tr>\n",
       "      <th>1</th>\n",
       "      <td>2.0</td>\n",
       "    </tr>\n",
       "    <tr>\n",
       "      <th>2</th>\n",
       "      <td>3.0</td>\n",
       "    </tr>\n",
       "    <tr>\n",
       "      <th>3</th>\n",
       "      <td>4.0</td>\n",
       "    </tr>\n",
       "    <tr>\n",
       "      <th>4</th>\n",
       "      <td>5.0</td>\n",
       "    </tr>\n",
       "  </tbody>\n",
       "</table>\n",
       "</div>"
      ],
      "text/plain": [
       "     a\n",
       "0  1.0\n",
       "1  2.0\n",
       "2  3.0\n",
       "3  4.0\n",
       "4  5.0"
      ]
     },
     "execution_count": 27,
     "metadata": {},
     "output_type": "execute_result"
    }
   ],
   "source": [
    "df.expanding(min_periods=1).count()"
   ]
  },
  {
   "cell_type": "markdown",
   "id": "34260ba6-dd69-455f-8f2a-8279513154bd",
   "metadata": {},
   "source": [
    "Ques 7"
   ]
  },
  {
   "cell_type": "code",
   "execution_count": 28,
   "id": "07e82981-c705-409c-bbbb-7ec69a9f2fac",
   "metadata": {},
   "outputs": [
    {
     "name": "stdout",
     "output_type": "stream",
     "text": [
      "   current_month  current_year\n",
      "0              7          2023\n"
     ]
    }
   ],
   "source": [
    "import datetime\n",
    "\n",
    "date = datetime.datetime.now()\n",
    "current_month = date.month\n",
    "current_year = date.year\n",
    "\n",
    "date = pd.DataFrame({'current_month': [current_month], 'current_year': [current_year]})\n",
    "print(date)"
   ]
  },
  {
   "cell_type": "markdown",
   "id": "9ec583aa-ffc7-46f0-bb50-03475399a3e8",
   "metadata": {},
   "source": [
    "Ques 8"
   ]
  },
  {
   "cell_type": "code",
   "execution_count": 40,
   "id": "b16906ac-bb4c-4836-ba95-5fff77fd3509",
   "metadata": {},
   "outputs": [
    {
     "name": "stdin",
     "output_type": "stream",
     "text": [
      "Enter the date 1 in the format YYYY-MM-DD:  2023-04-30\n",
      "Enter the date 2 in the format YYYY-MM-DD:  2022-03-13\n"
     ]
    },
    {
     "name": "stdout",
     "output_type": "stream",
     "text": [
      "Time difference: 413 days 00:00:00\n"
     ]
    }
   ],
   "source": [
    "date1 = pd.to_datetime(input('Enter the date 1 in the format YYYY-MM-DD: '))\n",
    "date2 = pd.to_datetime(input('Enter the date 2 in the format YYYY-MM-DD: '))\n",
    "\n",
    "time_diff = pd.Timedelta(date1 - date2)\n",
    "\n",
    "print(\"Time difference:\", time_diff)"
   ]
  },
  {
   "cell_type": "markdown",
   "id": "7d2737bc-591b-462b-9832-1b3b51a29b1c",
   "metadata": {},
   "source": [
    "Ques 9"
   ]
  },
  {
   "cell_type": "code",
   "execution_count": 5,
   "id": "4f6e7963-43a0-4dd6-aa1a-302d8a1ebbe4",
   "metadata": {},
   "outputs": [
    {
     "name": "stdin",
     "output_type": "stream",
     "text": [
      "Enter the CSV file path:  organizations-100.csv\n",
      "Enter the column name to convert to categorical: Country\n",
      "Enter the category order separated by commas: Papua,New,Guinea\n"
     ]
    },
    {
     "name": "stdout",
     "output_type": "stream",
     "text": [
      "\n",
      "Sorted Data:\n",
      "    Index  Organization Id                     Name  \\\n",
      "0       1  FAB0d41d5b5d22c              Ferrell LLC   \n",
      "1       2  6A7EdDEA9FaDC52  Mckinney, Riley and Day   \n",
      "2       3  0bFED1ADAE4bcC1               Hester Ltd   \n",
      "3       4  2bFC1Be8a4ce42f           Holder-Sellers   \n",
      "4       5  9eE8A6a4Eb96C24              Mayer Group   \n",
      "..    ...              ...                      ...   \n",
      "95     96  0a0bfFbBbB8eC7c             Holmes Group   \n",
      "96     97  BA6Cd9Dae2Efd62                 Good Ltd   \n",
      "97     98  E7df80C60Abd7f9        Clements-Espinoza   \n",
      "98     99  AFc285dbE2fEd24               Mendez Inc   \n",
      "99    100  e9eB5A60Cef8354           Watkins-Kaiser   \n",
      "\n",
      "                           Website Country  \\\n",
      "0               https://price.net/     NaN   \n",
      "1   http://www.hall-buchanan.info/     NaN   \n",
      "2        http://sullivan-reed.com/     NaN   \n",
      "3              https://becker.com/     NaN   \n",
      "4           http://www.brewer.com/     NaN   \n",
      "..                             ...     ...   \n",
      "95           https://mcdowell.org/     NaN   \n",
      "96               http://duffy.com/     NaN   \n",
      "97         http://www.flowers.net/     NaN   \n",
      "98          https://www.burke.net/     NaN   \n",
      "99         http://www.herring.com/     NaN   \n",
      "\n",
      "                                       Description  Founded  \\\n",
      "0              Horizontal empowering knowledgebase     1990   \n",
      "1              User-centric system-worthy leverage     2015   \n",
      "2                   Switchable scalable moratorium     1971   \n",
      "3   De-engineered systemic artificial intelligence     2004   \n",
      "4               Synchronized needs-based challenge     1991   \n",
      "..                                             ...      ...   \n",
      "95          Right-sized zero tolerance focus group     1975   \n",
      "96         Reverse-engineered composite moratorium     1971   \n",
      "97                         Progressive modular hub     1991   \n",
      "98                 User-friendly exuding migration     1993   \n",
      "99                   Synergistic background access     2009   \n",
      "\n",
      "                       Industry  Number of employees  \n",
      "0                      Plastics                 3498  \n",
      "1   Glass / Ceramics / Concrete                 4952  \n",
      "2                 Public Safety                 5287  \n",
      "3                    Automotive                  921  \n",
      "4                Transportation                 7870  \n",
      "..                          ...                  ...  \n",
      "95                  Photography                 2988  \n",
      "96            Consumer Services                 4292  \n",
      "97              Broadcast Media                  236  \n",
      "98         Education Management                  339  \n",
      "99           Financial Services                 2785  \n",
      "\n",
      "[100 rows x 9 columns]\n"
     ]
    }
   ],
   "source": [
    "import pandas as pd\n",
    "\n",
    "def main():\n",
    "    file_path=input('Enter the CSV file path: ')\n",
    "    try:\n",
    "        df=pd.read_csv(file_path)\n",
    "    except FileNotFoundError:\n",
    "        print('File not found. Please provide a valid file path')\n",
    "        return\n",
    "    column_name=input('Enter the column name to convert to categorical:')\n",
    "    if column_name not in df.columns:\n",
    "        print(f'Column \"{column_name}\" not found in the CSV file.')\n",
    "        return\n",
    "    \n",
    "    category_order=input('Enter the category order separated by commas:')\n",
    "    category_order_list = category_order.split(',')\n",
    "        \n",
    "    df[column_name] = pd.Categorical(df[column_name], categories=category_order_list, ordered=True)\n",
    "\n",
    "       \n",
    "    sorted_df = df.sort_values(by=column_name)\n",
    "    # Display the sorted data\n",
    "    print(\"\\nSorted Data:\")\n",
    "    print(sorted_df)\n",
    "    \n",
    "if __name__ == \"__main__\":\n",
    "    main()\n",
    "\n",
    "    \n",
    "    \n",
    "    "
   ]
  },
  {
   "cell_type": "markdown",
   "id": "69d6a308-51cb-4a38-a4ad-61c5106a5702",
   "metadata": {},
   "source": [
    "Ques 10"
   ]
  },
  {
   "cell_type": "code",
   "execution_count": 11,
   "id": "c7d3490e-83c1-4eec-a12f-cfe32b5e95ac",
   "metadata": {},
   "outputs": [
    {
     "name": "stdin",
     "output_type": "stream",
     "text": [
      "Enter the CSV file path:  data.csv\n"
     ]
    },
    {
     "data": {
      "image/png": "[encoded data removed]",
      "text/plain": [
       "<Figure size 1000x600 with 1 Axes>"
      ]
     },
     "metadata": {},
     "output_type": "display_data"
    }
   ],
   "source": [
    "import pandas as pd\n",
    "\n",
    "def main():\n",
    "    \n",
    "    file_path = input(\"Enter the CSV file path: \")\n",
    "\n",
    "    \n",
    "    try:\n",
    "        df = pd.read_csv(file_path)\n",
    "    except FileNotFoundError:\n",
    "        print(\"File not found. Please provide a valid file path.\")\n",
    "        return\n",
    "\n",
    "    if 'Product Category' not in df.columns or 'Time' not in df.columns:\n",
    "        print(\"The CSV file must contain 'Product Category' and 'Time' columns.\")\n",
    "        return\n",
    "\n",
    "    pivot_table = df.pivot_table(index='Time', columns='Product Category', values='Sales', aggfunc='sum', fill_value=0)\n",
    "\n",
    "   \n",
    "    ax = pivot_table.plot(kind='bar', stacked=True, figsize=(10, 6))\n",
    "    df_categories = df['Product Category'].unique()\n",
    "    ax.set_title('Sales of Each Product Category Over Time')\n",
    "    ax.set_xlabel('Time')\n",
    "    ax.set_ylabel('Sales')\n",
    "    ax.legend(title='Product Category', labels=df_categories)\n",
    "    ax.set_xticklabels(ax.get_xticklabels(), rotation=45, ha='right')\n",
    "   \n",
    "\n",
    "if __name__ == \"__main__\":\n",
    "    main()\n"
   ]
  },
  {
   "cell_type": "markdown",
   "id": "03669fe8-6b5c-4d7a-8aba-22520208a02e",
   "metadata": {},
   "source": [
    "Ques 11"
   ]
  },
  {
   "cell_type": "code",
   "execution_count": 12,
   "id": "af64e8ba-5a4c-4ad8-8126-09dfee62ed26",
   "metadata": {},
   "outputs": [
    {
     "name": "stdin",
     "output_type": "stream",
     "text": [
      "Enter the file path of the CSV file containing the student data:  data_1.csv\n"
     ]
    },
    {
     "name": "stdout",
     "output_type": "stream",
     "text": [
      "+-----------+--------+\n",
      "| Statistic | Value  |\n",
      "+-----------+--------+\n",
      "| Mean      | 83.5   |\n",
      "| Median    | 85   |\n",
      "| Mode      | 85  |\n",
      "+-----------+--------+\n"
     ]
    }
   ],
   "source": [
    "import pandas as pd\n",
    "\n",
    "def main():\n",
    "    \n",
    "    file_path = input(\"Enter the file path of the CSV file containing the student data: \")\n",
    "\n",
    "    try:\n",
    "        df = pd.read_csv(file_path)\n",
    "    except FileNotFoundError:\n",
    "        print(\"File not found. Please provide a valid file path.\")\n",
    "        return\n",
    "\n",
    "    mean_score = df['Test Score'].mean()\n",
    "    median_score = df['Test Score'].median()\n",
    "    mode_scores = df['Test Score'].mode()\n",
    "\n",
    "\n",
    "    print(\"+-----------+--------+\")\n",
    "    print(\"| Statistic | Value  |\")\n",
    "    print(\"+-----------+--------+\")\n",
    "    print(f\"| Mean      | {mean_score:.1f}   |\")\n",
    "    print(f\"| Median    | {median_score:.0f}   |\")\n",
    "    print(f\"| Mode      | {', '.join(map(str, mode_scores))}  |\")\n",
    "    print(\"+-----------+--------+\")\n",
    "\n",
    "if __name__ == \"__main__\":\n",
    "    main()\n"
   ]
  },
  {
   "cell_type": "code",
   "execution_count": null,
   "id": "dfd0f9d1-ac3b-407d-97b5-f40eaadfaa0b",
   "metadata": {},
   "outputs": [],
   "source": []
  }
 ],
 "metadata": {
  "kernelspec": {
   "display_name": "Python 3 (ipykernel)",
   "language": "python",
   "name": "python3"
  },
  "language_info": {
   "codemirror_mode": {
    "name": "ipython",
    "version": 3
   },
   "file_extension": ".py",
   "mimetype": "text/x-python",
   "name": "python",
   "nbconvert_exporter": "python",
   "pygments_lexer": "ipython3",
   "version": "3.10.8"
  }
 },
 "nbformat": 4,
 "nbformat_minor": 5
}
