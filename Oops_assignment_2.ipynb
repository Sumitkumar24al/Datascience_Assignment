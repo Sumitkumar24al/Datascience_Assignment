{
 "cells": [
  {
   "cell_type": "code",
   "execution_count": 1,
   "id": "920b19db-4680-4c6f-a213-13b54e3cfb02",
   "metadata": {},
   "outputs": [],
   "source": [
    "#ques 1"
   ]
  },
  {
   "cell_type": "code",
   "execution_count": 1,
   "id": "317ad974-a5d8-4c38-91a5-b6985723593e",
   "metadata": {},
   "outputs": [
    {
     "data": {
      "text/plain": [
       "'Abstraction is the process of simplifying complex systems by breaking them down into more manageable and understandable components.\\nIt involves identifying the essential features and behaviors of an object or a group of objects while hiding the irrelevant or implementation details.'"
      ]
     },
     "execution_count": 1,
     "metadata": {},
     "output_type": "execute_result"
    }
   ],
   "source": [
    "'''Abstraction is the process of simplifying complex systems by breaking them down into more manageable and understandable components.\n",
    "It involves identifying the essential features and behaviors of an object or a group of objects while hiding the irrelevant or implementation details.'''"
   ]
  },
  {
   "cell_type": "code",
   "execution_count": 16,
   "id": "fba5a637-4d77-4f2b-b490-47af7bce5582",
   "metadata": {},
   "outputs": [],
   "source": [
    "from abc import ABC, abstractmethod\n",
    "class Structure(ABC):\n",
    "    # abstract class with common functionality shared by all structures\n",
    "    @abstractmethod\n",
    "    def calculate_loads(self):\n",
    "        pass\n",
    "    @abstractmethod\n",
    "    def analyze_structure(self):\n",
    "        pass\n",
    "    @abstractmethod\n",
    "    def design_elements(self):\n",
    "        pass\n",
    "    \n",
    "# class which inherit from \"Structure\" abstract class\n",
    "class Building(Structure):\n",
    "    def calculate_loads(self):\n",
    "        return ('Calculate loads specific to buildings')\n",
    "    def analyze_structure(self):\n",
    "        return('Analyze structure for buildings')\n",
    "    def design_elements(self):\n",
    "        return('Design structural elements for buildings')\n",
    "    \n",
    "class Bridge(Structure):\n",
    "    def calculate_loads(self):\n",
    "        return ('Calculate loads specific to bridges')\n",
    "    def analyze_structure(self):\n",
    "        return('Analyze structure for bridges')\n",
    "    def design_elements(self):\n",
    "        return('DEsign structural elements for bridges')\n",
    "    \n",
    "    \n",
    "    "
   ]
  },
  {
   "cell_type": "code",
   "execution_count": 17,
   "id": "61a9648f-3ced-475b-bd6b-9c670679846a",
   "metadata": {},
   "outputs": [],
   "source": [
    "building=Building()"
   ]
  },
  {
   "cell_type": "code",
   "execution_count": 18,
   "id": "1a4d0a1a-ca5b-4bb3-8d96-0694f4b1214f",
   "metadata": {},
   "outputs": [
    {
     "data": {
      "text/plain": [
       "'Analyze structure for buildings'"
      ]
     },
     "execution_count": 18,
     "metadata": {},
     "output_type": "execute_result"
    }
   ],
   "source": [
    "building.analyze_structure()"
   ]
  },
  {
   "cell_type": "code",
   "execution_count": 19,
   "id": "c7835f78-48ee-4b5a-9fd0-8ce45f98d660",
   "metadata": {},
   "outputs": [
    {
     "data": {
      "text/plain": [
       "'Calculate loads specific to buildings'"
      ]
     },
     "execution_count": 19,
     "metadata": {},
     "output_type": "execute_result"
    }
   ],
   "source": [
    "building.calculate_loads()"
   ]
  },
  {
   "cell_type": "code",
   "execution_count": 20,
   "id": "bee8ae8b-3a83-4c76-9a24-c047e592c0d6",
   "metadata": {},
   "outputs": [
    {
     "data": {
      "text/plain": [
       "'Design structural elements for buildings'"
      ]
     },
     "execution_count": 20,
     "metadata": {},
     "output_type": "execute_result"
    }
   ],
   "source": [
    "building.design_elements()"
   ]
  },
  {
   "cell_type": "code",
   "execution_count": 21,
   "id": "07da73ea-0c80-4adb-a28f-5943ec49bd5c",
   "metadata": {},
   "outputs": [],
   "source": [
    "bridge=Bridge()"
   ]
  },
  {
   "cell_type": "code",
   "execution_count": 22,
   "id": "ccb696a9-347d-4f20-8a3e-e8470fbe3d88",
   "metadata": {},
   "outputs": [
    {
     "data": {
      "text/plain": [
       "'Analyze structure for bridges'"
      ]
     },
     "execution_count": 22,
     "metadata": {},
     "output_type": "execute_result"
    }
   ],
   "source": [
    "bridge.analyze_structure()"
   ]
  },
  {
   "cell_type": "code",
   "execution_count": 23,
   "id": "39ca1ba8-2887-4470-8d47-337b77d4958d",
   "metadata": {},
   "outputs": [],
   "source": [
    "#ques 2"
   ]
  },
  {
   "cell_type": "code",
   "execution_count": 24,
   "id": "7cfda663-2319-4575-b13d-d57e00b21a46",
   "metadata": {},
   "outputs": [
    {
     "data": {
      "text/plain": [
       "\"Abstraction is a process of simplifying complex systems by emphasizing essential features while hiding unnecessary details.\\nIt helps in creating abstract classes or interfaces that define common behaviors and characteristics, which can be inherited or implemented by derived classes.\\nIt allows for the creation of generalized models or concepts that represent a group of objects with similar properties or behaviors.\\n       whereas encapsulation is a mechanism of bundling data and methods together within a class, hiding the internal details and providing controlled access to the class members.\\n It helps in achieving data abstraction and data hiding, preventing direct access to the internal state of an object. It allows for better control over data integrity and prevents unauthorized access or modification of the object's state. \\n IT is is about bundling data and methods together, hiding the internal details and providing controlled access.\""
      ]
     },
     "execution_count": 24,
     "metadata": {},
     "output_type": "execute_result"
    }
   ],
   "source": [
    "'''Abstraction is a process of simplifying complex systems by emphasizing essential features while hiding unnecessary details.\n",
    "It helps in creating abstract classes or interfaces that define common behaviors and characteristics, which can be inherited or implemented by derived classes.\n",
    "It allows for the creation of generalized models or concepts that represent a group of objects with similar properties or behaviors.\n",
    "       whereas encapsulation is a mechanism of bundling data and methods together within a class, hiding the internal details and providing controlled access to the class members.\n",
    " It helps in achieving data abstraction and data hiding, preventing direct access to the internal state of an object. It allows for better control over data integrity and prevents unauthorized access or modification of the object's state. \n",
    " IT is is about bundling data and methods together, hiding the internal details and providing controlled access.'''"
   ]
  },
  {
   "cell_type": "code",
   "execution_count": 25,
   "id": "4e36a21c-11cd-4307-bfb6-96f8b5cc2961",
   "metadata": {},
   "outputs": [],
   "source": [
    "# abstraction example"
   ]
  },
  {
   "cell_type": "code",
   "execution_count": 32,
   "id": "7f0b729e-7b0b-4e00-ace4-c43db327144d",
   "metadata": {},
   "outputs": [],
   "source": [
    "import time\n",
    "from abc import ABC, abstractmethod\n",
    "\n",
    "class Libraryitem(ABC):\n",
    "    \n",
    "    @abstractmethod\n",
    "    def checkout(self):\n",
    "        pass\n",
    "    @abstractmethod\n",
    "    def returnitem(self):\n",
    "        pass\n",
    "    @abstractmethod\n",
    "    def displayDetails(self):\n",
    "        pass\n",
    "    \n",
    "class Book(Libraryitem):\n",
    "    def checkout(self,Book_name,Author_name):\n",
    "        self.Book_name=Book_name\n",
    "        self.Author_name=Author_name\n",
    "        print(f'{self.Author_name} is the author of Book {self.Book_name}')\n",
    "    def returnitem(self):\n",
    "        print(f'Kindly return the book {self.Book_name} by {time.time()}')\n",
    "    def displayDetails(self):\n",
    "        print( f'The book name {self.Book_name} and author is {self.Author_name}')\n",
    "        \n",
    "class DVD(Libraryitem):\n",
    "    def checkout(self,DVD_name,DVD_size):\n",
    "        self.DVD_name=DVD_name\n",
    "        self.DVD_size=DVD_size\n",
    "        print(f'{self.DVD_name} DVD is size {self.DVD_size}')\n",
    "    def returnitem(self):\n",
    "        print(f'Kindly return the DVD {self.DVD_name} by {time.time()}')\n",
    "    def displayDetails(self):\n",
    "        print( f'The DVD name {self.DVD_name} and size is {self.DVD_size}')"
   ]
  },
  {
   "cell_type": "code",
   "execution_count": 33,
   "id": "f07131aa-f929-4548-9d0a-6c176f7bd06e",
   "metadata": {},
   "outputs": [],
   "source": [
    "book=Book()"
   ]
  },
  {
   "cell_type": "code",
   "execution_count": 34,
   "id": "2cef0135-7937-4e5a-aef0-8dec7a82b31d",
   "metadata": {},
   "outputs": [
    {
     "name": "stdout",
     "output_type": "stream",
     "text": [
      "Sumit is the author of Book RRC\n"
     ]
    }
   ],
   "source": [
    "book.checkout('RRC','Sumit')"
   ]
  },
  {
   "cell_type": "code",
   "execution_count": 35,
   "id": "5f06d8ba-dd65-4223-99e6-c48e6fd6ef15",
   "metadata": {},
   "outputs": [
    {
     "name": "stdout",
     "output_type": "stream",
     "text": [
      "Kindly return the book RRC by 1686731079.0540035\n"
     ]
    }
   ],
   "source": [
    "book.returnitem()"
   ]
  },
  {
   "cell_type": "code",
   "execution_count": 36,
   "id": "6fa2eb62-70b7-4e19-a438-60fabe1cef97",
   "metadata": {},
   "outputs": [],
   "source": [
    "dvd=DVD()"
   ]
  },
  {
   "cell_type": "code",
   "execution_count": 40,
   "id": "f361c051-7fa9-4985-a8d2-95486507127c",
   "metadata": {},
   "outputs": [
    {
     "name": "stdout",
     "output_type": "stream",
     "text": [
      "Science DVD is size 25\n"
     ]
    }
   ],
   "source": [
    "dvd.checkout('Science',25)"
   ]
  },
  {
   "cell_type": "code",
   "execution_count": 41,
   "id": "3962e3ec-9273-4a92-a9a9-15784003bf63",
   "metadata": {},
   "outputs": [
    {
     "name": "stdout",
     "output_type": "stream",
     "text": [
      "Kindly return the DVD Science by 1686731161.8505526\n"
     ]
    }
   ],
   "source": [
    "dvd.returnitem()"
   ]
  },
  {
   "cell_type": "code",
   "execution_count": 42,
   "id": "1d49dbed-1e67-44fd-bdbf-1eeb8de41c74",
   "metadata": {},
   "outputs": [],
   "source": [
    "# Encapsulation"
   ]
  },
  {
   "cell_type": "code",
   "execution_count": 44,
   "id": "844ce9d1-631b-4481-8f95-0edf42adad5d",
   "metadata": {},
   "outputs": [],
   "source": [
    "class libraryitem:\n",
    "    def __init__(self,title,author):  # pribvate attribute\n",
    "        self.__title=title\n",
    "        self.__author=author\n",
    "        self.__availability=True\n",
    "        \n",
    "    #public attribute\n",
    "    def gettitle(self):\n",
    "        return self.__title\n",
    "    def getauthor(self):\n",
    "        return self.__author\n",
    "    def checkout(self):\n",
    "        if self.__availability:\n",
    "            self.__availability=False\n",
    "            print('Item checked out sucessfully')\n",
    "        else:\n",
    "            print('Item is already checked out')\n",
    "    \n",
    "    def returnitem(self):\n",
    "        if not self.__availability:\n",
    "            self.__availability=True\n",
    "            print('Item return sucessfully')\n",
    "        else:\n",
    "            print('Item is already available')\n",
    "            \n",
    "        "
   ]
  },
  {
   "cell_type": "code",
   "execution_count": 54,
   "id": "b05ddf71-92ca-48d1-a3ec-9afe19c194ed",
   "metadata": {},
   "outputs": [],
   "source": [
    "lib=libraryitem('RCC','SK')"
   ]
  },
  {
   "cell_type": "code",
   "execution_count": 50,
   "id": "3fe4852a-7a9f-4011-995d-354f801dbe7d",
   "metadata": {},
   "outputs": [
    {
     "data": {
      "text/plain": [
       "'SK'"
      ]
     },
     "execution_count": 50,
     "metadata": {},
     "output_type": "execute_result"
    }
   ],
   "source": [
    "lib.getauthor()"
   ]
  },
  {
   "cell_type": "code",
   "execution_count": 51,
   "id": "37831f9b-35df-4fe7-b957-94f57cce5c5d",
   "metadata": {},
   "outputs": [
    {
     "data": {
      "text/plain": [
       "'RCC'"
      ]
     },
     "execution_count": 51,
     "metadata": {},
     "output_type": "execute_result"
    }
   ],
   "source": [
    "lib.gettitle()"
   ]
  },
  {
   "cell_type": "code",
   "execution_count": 52,
   "id": "5a742ea0-0216-498c-b890-71dc23c087e7",
   "metadata": {},
   "outputs": [
    {
     "name": "stdout",
     "output_type": "stream",
     "text": [
      "Item checked out sucessfully\n"
     ]
    }
   ],
   "source": [
    "lib.checkout()"
   ]
  },
  {
   "cell_type": "code",
   "execution_count": 55,
   "id": "f72919d5-c367-4a49-966c-1ffc6134d435",
   "metadata": {},
   "outputs": [],
   "source": [
    "# ques 3"
   ]
  },
  {
   "cell_type": "code",
   "execution_count": 56,
   "id": "bc771ac6-372f-45a7-be7c-6c259c98a0cf",
   "metadata": {},
   "outputs": [
    {
     "data": {
      "text/plain": [
       "'The abc module in Python stands for Abstract Base Classes.\\nIt is a built-in module that provides mechanisms for defining abstract base classes in Python.\\nAbstract base classes are classes that cannot be instantiated directly but serve as a blueprint for creating derived classes.\\nThey are used to define common interfaces and establish a hierarchy of classes.'"
      ]
     },
     "execution_count": 56,
     "metadata": {},
     "output_type": "execute_result"
    }
   ],
   "source": [
    "'''The abc module in Python stands for Abstract Base Classes.\n",
    "It is a built-in module that provides mechanisms for defining abstract base classes in Python.\n",
    "Abstract base classes are classes that cannot be instantiated directly but serve as a blueprint for creating derived classes.\n",
    "They are used to define common interfaces and establish a hierarchy of classes.'''"
   ]
  },
  {
   "cell_type": "code",
   "execution_count": 57,
   "id": "e731f517-7c5d-42d0-94d7-a53bd149becb",
   "metadata": {},
   "outputs": [
    {
     "data": {
      "text/plain": [
       "'Abstract base classes serve as a way to define interfaces or contracts that specify a set of methods that must be implemented by derived classes.\\nabc allow for the creation of a class hierarchy.The abc module provides tools for runtime type checking.'"
      ]
     },
     "execution_count": 57,
     "metadata": {},
     "output_type": "execute_result"
    }
   ],
   "source": [
    "'''Abstract base classes serve as a way to define interfaces or contracts that specify a set of methods that must be implemented by derived classes.\n",
    "abc allow for the creation of a class hierarchy.The abc module provides tools for runtime type checking.'''\n"
   ]
  },
  {
   "cell_type": "code",
   "execution_count": 58,
   "id": "869747fe-a3ae-4eda-9938-e409eb87c569",
   "metadata": {},
   "outputs": [],
   "source": [
    "# example"
   ]
  },
  {
   "cell_type": "code",
   "execution_count": 70,
   "id": "80b83651-2b8d-40ae-8ee7-fe084b234866",
   "metadata": {},
   "outputs": [],
   "source": [
    "from abc import ABC, abstractmethod\n",
    "\n",
    "class Family(ABC):\n",
    "    @abstractmethod\n",
    "    def Family_size(self, size):\n",
    "        pass\n",
    "    \n",
    "    @abstractmethod\n",
    "    def Family_type(self, type):\n",
    "        pass\n",
    "        \n",
    "class Sumit_family(Family):\n",
    "    def Family_size(self, size):\n",
    "        self.size = size\n",
    "        print(f\"Sumit's family size is {self.size}\")\n",
    "    \n",
    "    def Family_type(self, type):\n",
    "        self.type = type\n",
    "        print(f\"Sumit's family type is {self.type}\")\n",
    "\n"
   ]
  },
  {
   "cell_type": "code",
   "execution_count": 71,
   "id": "ab9c9952-8689-4e93-aca6-d699bdfcc5f4",
   "metadata": {},
   "outputs": [],
   "source": [
    "sumit = Sumit_family()\n",
    "\n"
   ]
  },
  {
   "cell_type": "code",
   "execution_count": 72,
   "id": "0c3331d6-afcf-4a7e-86ff-e0cb5b1847b2",
   "metadata": {},
   "outputs": [
    {
     "name": "stdout",
     "output_type": "stream",
     "text": [
      "Sumit's family size is 5\n"
     ]
    }
   ],
   "source": [
    "sumit.Family_size(5)  "
   ]
  },
  {
   "cell_type": "code",
   "execution_count": 73,
   "id": "0c10dac2-c402-451a-bed9-1feef73047d8",
   "metadata": {},
   "outputs": [
    {
     "name": "stdout",
     "output_type": "stream",
     "text": [
      "Sumit's family type is Nuclear\n"
     ]
    }
   ],
   "source": [
    "sumit.Family_type(\"Nuclear\") "
   ]
  },
  {
   "cell_type": "code",
   "execution_count": 74,
   "id": "869ebb30-0e82-402c-aac8-b6b41a60f094",
   "metadata": {},
   "outputs": [],
   "source": [
    "# ques 4"
   ]
  },
  {
   "cell_type": "code",
   "execution_count": 75,
   "id": "439d6745-6982-45ee-904f-2c702823ced9",
   "metadata": {},
   "outputs": [
    {
     "data": {
      "text/plain": [
       "'Data abstraction in Python can be achieved using various techniques. Here are a few common approaches:\\n\\nEncapsulation: It combines data and methods into a single unit, known as a class. By encapsulating data within a class, can hide the internal implementation details and provide controlled access to the data through methods. It also ensures that the data is accessed and modified only through defined methods, maintaining data integrity and providing abstraction.\\n\\nGetters and Setters: It used to access and modify the attributes of an object. It can control the access to the internal data of an object. Getters allow you to retrieve the values of attributes, while setters enable you to set or modify the values. It can encapsulate the data and provide an abstraction layer to interact with it.\\n\\nProperty Decorators: It define special methods, known as getter, setter, and deleter methods, for accessing, modifying, and deleting attribute values, respectively. It helps to achieve encapsulation and abstraction of data. It can define computed attributes or perform additional logic when accessing or modifying an attribute, providing abstraction over the underlying data.'"
      ]
     },
     "execution_count": 75,
     "metadata": {},
     "output_type": "execute_result"
    }
   ],
   "source": [
    "'''Data abstraction in Python can be achieved using various techniques. Here are a few common approaches:\n",
    "\n",
    "Encapsulation: It combines data and methods into a single unit, known as a class. By encapsulating data within a class, can hide the internal implementation details and provide controlled access to the data through methods. It also ensures that the data is accessed and modified only through defined methods, maintaining data integrity and providing abstraction.\n",
    "\n",
    "Getters and Setters: It used to access and modify the attributes of an object. It can control the access to the internal data of an object. Getters allow you to retrieve the values of attributes, while setters enable you to set or modify the values. It can encapsulate the data and provide an abstraction layer to interact with it.\n",
    "\n",
    "Property Decorators: It define special methods, known as getter, setter, and deleter methods, for accessing, modifying, and deleting attribute values, respectively. It helps to achieve encapsulation and abstraction of data. It can define computed attributes or perform additional logic when accessing or modifying an attribute, providing abstraction over the underlying data.'''\n"
   ]
  },
  {
   "cell_type": "code",
   "execution_count": 76,
   "id": "beec493f-8573-4a27-a542-be777e26c76b",
   "metadata": {},
   "outputs": [],
   "source": [
    "# ques 5"
   ]
  },
  {
   "cell_type": "code",
   "execution_count": 77,
   "id": "f99b0af5-5176-492e-ab52-817c5191320d",
   "metadata": {},
   "outputs": [
    {
     "data": {
      "text/plain": [
       "'No, we cannot create an instance of an abstract class in Python. An abstract class is meant to be a blueprint for other classes to inherit from and is not meant to be instantiated directly. The purpose of an abstract class is to define a common interface or behavior that derived classes should implement.'"
      ]
     },
     "execution_count": 77,
     "metadata": {},
     "output_type": "execute_result"
    }
   ],
   "source": [
    "'''No, we cannot create an instance of an abstract class in Python. An abstract class is meant to be a blueprint for other classes to inherit from and is not meant to be instantiated directly. The purpose of an abstract class is to define a common interface or behavior that derived classes should implement.'''\n"
   ]
  },
  {
   "cell_type": "code",
   "execution_count": 78,
   "id": "78667b6b-259e-4022-977a-a39e2c191c64",
   "metadata": {},
   "outputs": [],
   "source": [
    "# explained with the help of example"
   ]
  },
  {
   "cell_type": "code",
   "execution_count": 79,
   "id": "a3e1f685-9937-412e-bced-6863e2f3e7d9",
   "metadata": {},
   "outputs": [],
   "source": [
    "from abc import ABC, abstractmethod\n",
    "\n",
    "class Animal(ABC):\n",
    "    @abstractmethod\n",
    "    def sound(self):\n",
    "        pass\n",
    "\n",
    "class Dog(Animal):\n",
    "    def sound(self):\n",
    "        print(\"Woof!\")\n",
    "\n",
    "class Cat(Animal):\n",
    "    def sound(self):\n",
    "        print(\"Meow!\")\n"
   ]
  },
  {
   "cell_type": "code",
   "execution_count": 80,
   "id": "1ac4f935-32bc-46d3-a070-f4ee12272d44",
   "metadata": {},
   "outputs": [
    {
     "ename": "TypeError",
     "evalue": "Can't instantiate abstract class Animal with abstract method sound",
     "output_type": "error",
     "traceback": [
      "\u001b[0;31m---------------------------------------------------------------------------\u001b[0m",
      "\u001b[0;31mTypeError\u001b[0m                                 Traceback (most recent call last)",
      "Cell \u001b[0;32mIn[80], line 2\u001b[0m\n\u001b[1;32m      1\u001b[0m \u001b[38;5;66;03m# create an instance of the abstract class \u001b[39;00m\n\u001b[0;32m----> 2\u001b[0m animal \u001b[38;5;241m=\u001b[39m \u001b[43mAnimal\u001b[49m\u001b[43m(\u001b[49m\u001b[43m)\u001b[49m  \u001b[38;5;66;03m# Raises TypeError\u001b[39;00m\n",
      "\u001b[0;31mTypeError\u001b[0m: Can't instantiate abstract class Animal with abstract method sound"
     ]
    }
   ],
   "source": [
    "# create an instance of the abstract class \n",
    "animal = Animal()  # Raises TypeError\n",
    "\n",
    "\n"
   ]
  },
  {
   "cell_type": "code",
   "execution_count": null,
   "id": "6c1c4e26-0f1d-4156-a2bb-9e4edfa3717b",
   "metadata": {},
   "outputs": [],
   "source": []
  }
 ],
 "metadata": {
  "kernelspec": {
   "display_name": "Python 3 (ipykernel)",
   "language": "python",
   "name": "python3"
  },
  "language_info": {
   "codemirror_mode": {
    "name": "ipython",
    "version": 3
   },
   "file_extension": ".py",
   "mimetype": "text/x-python",
   "name": "python",
   "nbconvert_exporter": "python",
   "pygments_lexer": "ipython3",
   "version": "3.10.8"
  }
 },
 "nbformat": 4,
 "nbformat_minor": 5
}
