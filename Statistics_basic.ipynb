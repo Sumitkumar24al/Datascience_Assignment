{
 "cells": [
  {
   "cell_type": "markdown",
   "id": "99ade518-5683-42fc-8d68-823d5076c9bb",
   "metadata": {},
   "source": [
    "Ques 1"
   ]
  },
  {
   "cell_type": "markdown",
   "id": "51f392d3-4b8e-4438-a5eb-214a5bb26339",
   "metadata": {},
   "source": [
    "Statistics is the study of collection, analysis, interpretation, presentation, and organization of data. It deals with the scientific process of extracting valuable information from data to make informed decision, draw conclusion, and make predictions about various phenomena.\n",
    "\n",
    "The primary objectives of statistics include:\n",
    "1. Data collection\n",
    "2. Data oraganization\n",
    "3. Data analysis\n",
    "4. Data interpretation\n",
    "5. Presentation\n",
    "\n",
    "There are two main branches of statistics: descriptive statistics and inferential statistics.\n",
    "\n"
   ]
  },
  {
   "cell_type": "markdown",
   "id": "77e92a53-b529-4a17-904c-2a5d580f3957",
   "metadata": {},
   "source": [
    "Ques 2"
   ]
  },
  {
   "cell_type": "markdown",
   "id": "a77c16f0-c12d-4f29-a3b5-3b3368fe6a96",
   "metadata": {},
   "source": [
    "Statistics can be broadly categorized into two main types: descriptive and inferential statistics.\n",
    "1. Descriptive statistics : It  involves the summary and presentation of data in a meaningful and understandable way. It provides a concise description of the main features of a dataset without making any inferences or generalizations to a larger population. Descriptive statistics are useful for gaining insights into the characteristics of a dataset, identifying patterns, and understanding its distribution.\n",
    "Example : Suppose a company wants to analyze the sales performance of its products over the past year. They can use descriptive statistics to calculate the average monthly sales, the total revenue generated, the highest and lowest selling products, and visualize this information using charts and graphs. This analysis will help the company understand how their products are performing and which ones are the most popular.\n",
    "\n",
    "2. Inferential statistics: Inferential statistics involves drawing conclusions or making predictions about a population based on a sample of data. It is used when researchers want to extend their findings beyond the data they have collected and make statements about a larger group. Inferential statistics use probability theory and hypothesis testing to make inferences about population parameters.\n",
    "Example:\n",
    "A political pollster wants to determine the voting intentions of the entire population in a particular country. Instead of surveying every eligible voter (which would be time-consuming and costly), they take a random sample of voters. By using inferential statistics, they can estimate the proportion of voters who support each candidate with a certain level of confidence and margin of error. This allows the pollster to make predictions about the election outcome without surveying every single voter.\n",
    "\n"
   ]
  },
  {
   "cell_type": "markdown",
   "id": "0f3f2351-fa83-4646-aaa2-23ee629604f1",
   "metadata": {},
   "source": [
    "Ques 3"
   ]
  },
  {
   "cell_type": "markdown",
   "id": "5675d6ec-8f71-4158-8a9d-1aef040b65c9",
   "metadata": {},
   "source": [
    "In statistics, there are four main types of data: nominal, ordinal, interval, and ratio. These types of data are used to describe the nature of the data being collected or analyzed, and they help determine the appropriate statistical tests to use. \n",
    "1. Nominal Data: \n",
    "Nominal data are categorical data that consist of names, labels, or categories without any inherent order. In nominal data, the values are used to classify items into distinct groups, but there is no numerical meaning or relationship between the categories.\n",
    "Example:\n",
    "Colors of cars in a parking lot: Red, Blue, Green, Black, White, etc. These categories are distinct, and there is no natural ordering among them.\n",
    "2. Ordinal Data:\n",
    "Ordinal data also involve categories, but they have a meaningful order or ranking among them. The intervals between the categories might not be uniform, but there is a clear relative ordering.\n",
    "Example:\n",
    "Ranks in a race: 1st place, 2nd place, 3rd place, and so on. The ranks have a meaningful order, but the difference between the first and second place might not be the same as the difference between the second and third place.\n",
    "3. Interval Data:\n",
    "Interval data have a meaningful order, and the intervals between the values are consistent and uniform. However, there is no true zero point, meaning that zero doesn't represent the absence of the quantity being measured.\n",
    "Example:\n",
    "Temperature measured in degrees Celsius or Fahrenheit. The difference between 20°C and 30°C is the same as the difference between 30°C and 40°C. However, zero degrees Celsius does not mean the absence of temperature; it is just an arbitrary reference point.\n",
    "4. Ratio Data:\n",
    "Ratio data have a meaningful order, consistent intervals, and a true zero point, which indicates the absence of the quantity being measured. Ratios between values are meaningful and can be compared.\n",
    "Example:\n",
    "Height in centimeters. A person who is 180 cm tall is twice as tall as someone who is 90 cm tall. Additionally, a height of 0 cm indicates the absence of height.\n"
   ]
  },
  {
   "cell_type": "markdown",
   "id": "fa919609-37b8-473d-b1a6-cc1b3e3141fa",
   "metadata": {},
   "source": [
    "Ques 4"
   ]
  },
  {
   "cell_type": "markdown",
   "id": "1f3ffd12-3ff4-445b-b2dd-abe6ea74f819",
   "metadata": {},
   "source": [
    "(i) Data Type: Qualitative data (also known as categorical or ordinal data)\n",
    "(ii) Data Type: Qualitative data (also known as categorical or nominal data)\n",
    "(iii) Data Type: Quantitative data (continuous data)\n",
    "(iv) Data Type: Quantitative data (discrete data)\n"
   ]
  },
  {
   "cell_type": "markdown",
   "id": "10633e7e-cc48-4361-97d0-ef9893af05d1",
   "metadata": {},
   "source": [
    "Ques 5"
   ]
  },
  {
   "cell_type": "markdown",
   "id": "0b5f18dc-6fe7-4332-b6d0-ae546a8dc7e0",
   "metadata": {},
   "source": [
    "Levels of measurement, also known as scales of measurement or types of data, refer to the different ways data can be categorized based on the properties of the data and the operations that can be performed on it. There are four main levels of measurement: nominal, ordinal, interval, and ratio.\n",
    "1. Nominal Level of Measurement:\n",
    "Data are categorized into distinct, non-overlapping categories or labels. The values are used to differentiate and identify different groups, but there is no inherent order or ranking among the categories. Nominal data can only be described in terms of frequencies or proportions.\n",
    "Example: Eye Color can be categorised into  blue, brown, green, hazel, black.\n",
    "\n",
    "2. Ordinal Level of Measurement:\n",
    "Ordinal data involve categories that have a meaningful order or ranking. The intervals between the categories might not be uniform or measurable, but the data can be arranged in a ranked order.\n",
    "Example: Education level of any person can be categorised into High School Diploma, Bachelor's Degree, Master's Degree, Ph.D.\n",
    "\n",
    "3. Interval Level of Measurement:\n",
    "Interval data have a meaningful order, and the intervals between the values are consistent and measurable. However, there is no true zero point, meaning that zero does not represent the absence of the quantity being measured.\n",
    "Example: Temperature is an interval variable since the differences between each temperature value are consistent (20°C, 25°C, 30°C, 35°C). However, there is no true absence of temperature at 0°C.\n",
    "\n",
    "4. Ratio Level of Measurement:\n",
    "Ratio data have a meaningful order, consistent intervals, and a true zero point, which indicates the absence of the quantity being measured. Ratios between values are meaningful and can be compared.\n",
    "Example: weight is a ratio variable since there is a true zero point (0 kg represents the absence of weight), and ratios between weights are meaningful (e.g., 15 kg is three times the weight of 5 kg).\n"
   ]
  },
  {
   "cell_type": "markdown",
   "id": "a11af97c-63e0-4809-b98d-0b046b2e4e6e",
   "metadata": {},
   "source": [
    "Ques 6"
   ]
  },
  {
   "cell_type": "markdown",
   "id": "efb32659-979d-425a-8088-4eb0efb044ef",
   "metadata": {},
   "source": [
    "Understanding the level of measurement when analyzing data is crucial because it determines the appropriate statistical methods, operations, and measures that can be applied to the data. Different levels of measurement have different properties and limitations, and using the wrong statistical techniques can lead to incorrect conclusions or interpretations. \n",
    "\n",
    "Example:\n",
    "Suppose a market researcher is studying customer preferences for different smartphone brands. The researcher collects data from customers and asks them to rank their preferences for the following brands:\n",
    "\n",
    "Brand A\n",
    "Brand B\n",
    "Brand C\n",
    "Brand D\n",
    "The customers are asked to rank their preferences from 1 (most preferred) to 4 (least preferred).\n",
    "\n",
    "Now, let's consider two scenarios:\n",
    "\n",
    "Scenario 1: Treating Brand Preferences as Interval Data\n",
    "If the researcher mistakenly treats the brand preference data as interval, they might calculate the mean of the ranks for each brand to determine the average preference. This conclusion would be misleading and invalid since calculating the mean rank for ordinal data is not meaningful. The ordinal nature of the data does not allow for meaningful numerical operations like averaging.\n",
    "\n",
    "Scenario 2: Treating Brand Preferences as Ordinal Data\n",
    "If the researcher correctly recognizes the brand preference data as ordinal,  because the ranks have a meaningful order, but the intervals between the ranks are not necessarily uniform or quantifiable. Treating the brand preference data as interval (Scenario 1) would be inappropriate because interval data assume equal intervals between values, which is not the case for ordinal data."
   ]
  },
  {
   "cell_type": "markdown",
   "id": "994d5b09-116c-41ce-a6ac-b75708a9c87d",
   "metadata": {},
   "source": [
    "Ques 7"
   ]
  },
  {
   "cell_type": "markdown",
   "id": "110c19ea-8b4f-4283-a9b2-751fd1ef5955",
   "metadata": {},
   "source": [
    "Nominal data type and ordinal data type are both categories of qualitative data, but they differ in the level of measurement and the properties they possess. \n",
    "\n",
    "Nominal data can’t be quantified, neither they have any intrinsic ordering. It is qualitative data or categorical data. They don’t provide any quantitative value, neither can we perform any arithmetical operation. It cannot be used to compare with one another.\n",
    "\n",
    "Examples: Eye color, housing style, gender, hair color, religion, marital status, ethnicity, etc.\n",
    "                   Whereas ordinal data gives some kind of sequential order by their position on the scale and it is said to be “in-between” qualitative data and quantitative data. They provide sequence and can assign numbers to ordinal data but cannot perform the arithmetical operation.Ordinal data can help to compare one item with another by ranking or ordering. Examples: Economic status, customer satisfaction, education level, letter grades, etc\n"
   ]
  },
  {
   "cell_type": "markdown",
   "id": "31465ff3-fdaf-49e7-94dd-6bc281cc3889",
   "metadata": {},
   "source": [
    "Ques 8"
   ]
  },
  {
   "cell_type": "markdown",
   "id": "2eed75d3-21c9-4701-85a1-acd8429fb35a",
   "metadata": {},
   "source": [
    "A box plot can be used to display data in terms of range, showing the median, quartiles, outliers, and spread of the dataset in a concise and effective manner. Box plots are particularly effective for comparing the range and spread of multiple datasets side by side. They provide a concise summary of the data's distribution and help identify the presence of outliers or extreme values."
   ]
  },
  {
   "cell_type": "markdown",
   "id": "48eda8e5-87f5-441a-8fab-b7e63bf3d52a",
   "metadata": {},
   "source": [
    "Ques 9"
   ]
  },
  {
   "cell_type": "markdown",
   "id": "7dd94629-ae42-4a5f-9261-9931f06c9dea",
   "metadata": {},
   "source": [
    "Descriptive statistics and inferential statistics are two branches of statistical analysis that serve distinct purposes. Descriptive statistics primarily deal with describing and summarizing the features of populations and/or samples. It involves organizing and presenting data in a purely factual manner, often using tables, charts, or graphs to visually represent the information. The conclusions drawn from descriptive statistics are based solely on the known data and do not extend beyond the analyzed dataset. Measures like central tendency (e.g., mean, median), distribution (e.g., histograms), and variance (e.g., standard deviation) are used to provide a comprehensive understanding of the dataset's characteristics.\n",
    "Example:\n",
    "Suppose a researcher collects data on the ages of a group of individuals. Descriptive statistics would be used to calculate measures like the mean (average), median (middle value), and standard deviation (measure of variability) of the ages. \n",
    "\n",
    "In contrast, inferential statistics aim to make generalizations about larger populations based on information obtained from samples. It allows researchers to make estimates and predictions about future outcomes. The results in inferential statistics are often presented in the form of probabilities, indicating the level of confidence in the conclusions. Inferential statistics go beyond the available data and involve drawing conclusions and making inferences about the entire population based on the data collected from a representative sample. Techniques like hypothesis testing, confidence intervals, and regression and correlation analysis are employed to assess relationships, test hypotheses, and make predictions beyond the immediate dataset.\n",
    "Example:\n",
    "Suppose a political pollster conducts a survey by randomly sampling 1,000 voters and asks them about their voting preferences. Inferential statistics would be used to make predictions about the voting preferences of the entire voting population based on the responses from the sample. The pollster may estimate the percentage of voters likely to support a particular candidate, along with a margin of error to account for the uncertainty in the prediction.\n"
   ]
  },
  {
   "cell_type": "markdown",
   "id": "09bb53c9-21da-4a6d-821a-fe29d122b5c8",
   "metadata": {},
   "source": [
    "Ques 10"
   ]
  },
  {
   "cell_type": "markdown",
   "id": "4ba51303-2847-4dcd-8927-fb34e00539d5",
   "metadata": {},
   "source": [
    "Measures of Central Tendency:\n",
    "\n",
    "1. Mean: \n",
    "The mean is the most common measure of central tendency. It is calculated by summing all the values in a dataset and dividing by the number of data points. The mean represents the \"average\" value of the dataset. It is sensitive to outliers, as extreme values can significantly affect its value.\n",
    "\n",
    "2. Median: \n",
    "The median is the middle value in a dataset when the values are arranged in ascending or descending order. If the dataset has an even number of values, the median is the average of the two middle values. The median is a robust measure and less affected by extreme values compared to the mean. It represents the \"middle\" value in the dataset.\n",
    "\n",
    "3. Mode: \n",
    "The mode is the value that appears most frequently in the dataset. A dataset can have one mode (unimodal), two modes (bimodal), or more (multimodal). The mode is useful for categorical data or discrete data with clear peaks.\n",
    "\n",
    "Measures of Variability (Dispersion):\n",
    "\n",
    "1. Range: \n",
    "The range is the simplest measure of variability and is calculated as the difference between the maximum and minimum values in the dataset. It indicates the spread of the data from the minimum to the maximum value.\n",
    "\n",
    "2. Variance: \n",
    "The variance measures the average squared deviation of each data point from the mean. A higher variance implies more significant variability in the data points. However, the variance is in squared units, making it difficult to interpret directly.\n",
    "\n",
    "3. Standard Deviation: \n",
    "The standard deviation is the square root of the variance and is one of the most widely used measures of dispersion. It represents the average deviation of data points from the mean. It is in the same units as the original data, making it easier to interpret than variance.\n",
    "\n",
    "4. Interquartile Range (IQR): \n",
    "The IQR is the range of the middle 50% of the data, spanning from the first quartile (Q1) to the third quartile (Q3). It provides a robust measure of variability, less influenced by extreme values.\n",
    "\n",
    "Measures is Used to Describe a Dataset:\n",
    "Mean: The mean provides an overall sense of the central value of the dataset. It is used to understand the average or typical value of the data. However, the mean can be influenced by extreme values, leading to potential distortions in the representation of the dataset.\n",
    "\n",
    "Median: The median is used when the dataset contains outliers or is not normally distributed. It provides a more robust measure of central tendency, as it is less affected by extreme values.\n",
    "\n",
    "Mode: The mode is used for categorical or discrete data to identify the most common value or category. It is useful when describing the most prevalent response in a dataset.\n",
    "\n",
    "Range: The range helps to understand the spread of data from the minimum to the maximum value. It provides a quick indication of the dataset's overall variability.\n",
    "\n",
    "Variance and Standard Deviation: These measures quantify the dispersion of data points around the mean. Larger values indicate greater variability, while smaller values suggest more data points are close to the mean.\n",
    "\n",
    "Interquartile Range (IQR): The IQR provides a measure of variability while being less sensitive to extreme values. It gives an idea of the range within which the middle 50% of the data lies."
   ]
  },
  {
   "cell_type": "code",
   "execution_count": null,
   "id": "632e70f0-7055-44bc-82e5-0b9edc49ce36",
   "metadata": {},
   "outputs": [],
   "source": []
  }
 ],
 "metadata": {
  "kernelspec": {
   "display_name": "Python 3 (ipykernel)",
   "language": "python",
   "name": "python3"
  },
  "language_info": {
   "codemirror_mode": {
    "name": "ipython",
    "version": 3
   },
   "file_extension": ".py",
   "mimetype": "text/x-python",
   "name": "python",
   "nbconvert_exporter": "python",
   "pygments_lexer": "ipython3",
   "version": "3.10.8"
  }
 },
 "nbformat": 4,
 "nbformat_minor": 5
}
