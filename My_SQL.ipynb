{
 "cells": [
  {
   "cell_type": "code",
   "execution_count": 1,
   "id": "6ee47c05-0f4e-4cd6-8323-e76f592aa854",
   "metadata": {},
   "outputs": [],
   "source": [
    "# ques 1"
   ]
  },
  {
   "cell_type": "code",
   "execution_count": 2,
   "id": "4aa2e31b-95d9-44b4-a49c-972f13a40e74",
   "metadata": {},
   "outputs": [
    {
     "data": {
      "text/plain": [
       "' A database is an organized collection of structured data that is stored and managed in a computer system. It is designed to efficiently store, retrieve, and manage large amounts of information.\\nDatabases provide a way to organize data into tables, rows, and columns, and allow users to perform operations like querying, updating, and deleting data.'"
      ]
     },
     "execution_count": 2,
     "metadata": {},
     "output_type": "execute_result"
    }
   ],
   "source": [
    "''' A database is an organized collection of structured data that is stored and managed in a computer system. It is designed to efficiently store, retrieve, and manage large amounts of information.\n",
    "Databases provide a way to organize data into tables, rows, and columns, and allow users to perform operations like querying, updating, and deleting data.'''"
   ]
  },
  {
   "cell_type": "code",
   "execution_count": 3,
   "id": "35c7b0ee-a459-4f92-a5e1-b7c454fc0993",
   "metadata": {},
   "outputs": [
    {
     "data": {
      "text/plain": [
       "'SQL(Structured Query Language) databases are based on the relational model and use SQL as the standard language for interacting with the data.\\nThey are known as structured databases because they define a schema upfront, which describes the structure of the data, including tables, columns, and relationships between tables.\\nSQL databases ensure data integrity through the use of constraints, such as primary keys, foreign keys, and unique keys.\\nExamples of SQL databases include MySQL, PostgreSQL, Oracle Database, and Microsoft SQL Server.\\nSQL databases are suitable for applications that require complex queries, transactions, and strict data consistency, such as banking systems, e-commerce platforms, and financial applications.\\n                Whereas NoSQL (Not Only SQL) databases are non-relational databases that provide flexible schemas and do not rely on SQL as the primary query language.\\nThey are designed to handle large volumes of unstructured, semi-structured, and structured data, making them highly scalable and horizontally distributable.\\nNoSQL databases offer different data models, such as key-value stores, document stores, columnar databases, and graph databases, allowing developers to choose the most suitable model for their specific use case.\\nNoSQL databases prioritize scalability, performance, and availability over strict consistency.\\nThey often use eventual consistency models, where data may be temporarily inconsistent across distributed systems but eventually converges to a consistent state.\\nNoSQL databases are commonly used in web applications, real-time analytics, content management systems, and applications dealing with large-scale data, such as social media platforms and IoT (Internet of Things) systems.\\nExamples of NoSQL databases include MongoDB, Cassandra, Couchbase, and Redis.'"
      ]
     },
     "execution_count": 3,
     "metadata": {},
     "output_type": "execute_result"
    }
   ],
   "source": [
    "'''SQL(Structured Query Language) databases are based on the relational model and use SQL as the standard language for interacting with the data.\n",
    "They are known as structured databases because they define a schema upfront, which describes the structure of the data, including tables, columns, and relationships between tables.\n",
    "SQL databases ensure data integrity through the use of constraints, such as primary keys, foreign keys, and unique keys.\n",
    "Examples of SQL databases include MySQL, PostgreSQL, Oracle Database, and Microsoft SQL Server.\n",
    "SQL databases are suitable for applications that require complex queries, transactions, and strict data consistency, such as banking systems, e-commerce platforms, and financial applications.\n",
    "                Whereas NoSQL (Not Only SQL) databases are non-relational databases that provide flexible schemas and do not rely on SQL as the primary query language.\n",
    "They are designed to handle large volumes of unstructured, semi-structured, and structured data, making them highly scalable and horizontally distributable.\n",
    "NoSQL databases offer different data models, such as key-value stores, document stores, columnar databases, and graph databases, allowing developers to choose the most suitable model for their specific use case.\n",
    "NoSQL databases prioritize scalability, performance, and availability over strict consistency.\n",
    "They often use eventual consistency models, where data may be temporarily inconsistent across distributed systems but eventually converges to a consistent state.\n",
    "NoSQL databases are commonly used in web applications, real-time analytics, content management systems, and applications dealing with large-scale data, such as social media platforms and IoT (Internet of Things) systems.\n",
    "Examples of NoSQL databases include MongoDB, Cassandra, Couchbase, and Redis.'''"
   ]
  },
  {
   "cell_type": "code",
   "execution_count": 4,
   "id": "418f3973-9235-4087-8690-23998a46e2b7",
   "metadata": {},
   "outputs": [],
   "source": [
    "#ques 2"
   ]
  },
  {
   "cell_type": "code",
   "execution_count": 5,
   "id": "581df027-6154-40aa-a38e-cf0f7661b0fb",
   "metadata": {},
   "outputs": [
    {
     "data": {
      "text/plain": [
       "'DDL stands for Data Definition Language, which is a subset of SQL (Structured Query Language) used to define and manipulate the structure of a database and its objects.\\nDDL statements are responsible for creating, altering, and deleting database objects such as tables, indexes, views, and constraints.'"
      ]
     },
     "execution_count": 5,
     "metadata": {},
     "output_type": "execute_result"
    }
   ],
   "source": [
    "'''DDL stands for Data Definition Language, which is a subset of SQL (Structured Query Language) used to define and manipulate the structure of a database and its objects.\n",
    "DDL statements are responsible for creating, altering, and deleting database objects such as tables, indexes, views, and constraints.'''"
   ]
  },
  {
   "cell_type": "code",
   "execution_count": 6,
   "id": "ba3daced-5699-4f40-9be5-2c18645026f2",
   "metadata": {},
   "outputs": [
    {
     "data": {
      "text/plain": [
       "'CREATE: The CREATE statement is used to create new database objects, such as tables, views, indexes, or procedures. It specifies the object\\'s name, structure, and any associated attributes.\\nFor example, the following CREATE statement creates a new table named \"Customers\" with columns for customer ID, name, and email:'"
      ]
     },
     "execution_count": 6,
     "metadata": {},
     "output_type": "execute_result"
    }
   ],
   "source": [
    "'''CREATE: The CREATE statement is used to create new database objects, such as tables, views, indexes, or procedures. It specifies the object's name, structure, and any associated attributes.\n",
    "For example, the following CREATE statement creates a new table named \"Customers\" with columns for customer ID, name, and email:'''"
   ]
  },
  {
   "cell_type": "code",
   "execution_count": 7,
   "id": "e4d5ef83-6d6d-43e2-873d-accc732a7e85",
   "metadata": {},
   "outputs": [
    {
     "name": "stdout",
     "output_type": "stream",
     "text": [
      "Requirement already satisfied: mysql-connector-python in /opt/conda/lib/python3.10/site-packages (8.0.33)\n",
      "Requirement already satisfied: protobuf<=3.20.3,>=3.11.0 in /opt/conda/lib/python3.10/site-packages (from mysql-connector-python) (3.20.3)\n",
      "Note: you may need to restart the kernel to use updated packages.\n"
     ]
    }
   ],
   "source": [
    "pip install mysql-connector-python"
   ]
  },
  {
   "cell_type": "code",
   "execution_count": 8,
   "id": "6d551372-bade-4b5c-9f69-5d22a781ed06",
   "metadata": {},
   "outputs": [
    {
     "data": {
      "text/plain": [
       "'\\nimport mysql.connector\\nmydb = mysql.connector.connect(\\n  host=\"localhost\",\\n  user=\"abc\",\\n  password=\"password\"\\n)\\nmycursor = mydb.cursor()\\nmycursor.execute(\"CREATE TABLE Customers (ID INT, PRIMARY KEY,Name VARCHAR(50),Email VARCHAR(100))\")\\nmydb.close()\\n'"
      ]
     },
     "execution_count": 8,
     "metadata": {},
     "output_type": "execute_result"
    }
   ],
   "source": [
    "'''\n",
    "import mysql.connector\n",
    "mydb = mysql.connector.connect(\n",
    "  host=\"localhost\",\n",
    "  user=\"abc\",\n",
    "  password=\"password\"\n",
    ")\n",
    "mycursor = mydb.cursor()\n",
    "mycursor.execute(\"CREATE TABLE Customers (ID INT, PRIMARY KEY,Name VARCHAR(50),Email VARCHAR(100))\")\n",
    "mydb.close()\n",
    "'''\n"
   ]
  },
  {
   "cell_type": "code",
   "execution_count": 9,
   "id": "da1fed8d-f9d3-4cf6-9847-c30787370a61",
   "metadata": {},
   "outputs": [
    {
     "data": {
      "text/plain": [
       "'DROP: The DROP statement is used to remove an existing database object, such as a table, view, index, or procedure.\\nIt permanently deletes the object and its associated data. For example, the following DROP statement removes the \"Customers\" table '"
      ]
     },
     "execution_count": 9,
     "metadata": {},
     "output_type": "execute_result"
    }
   ],
   "source": [
    "'''DROP: The DROP statement is used to remove an existing database object, such as a table, view, index, or procedure.\n",
    "It permanently deletes the object and its associated data. For example, the following DROP statement removes the \"Customers\" table '''"
   ]
  },
  {
   "cell_type": "code",
   "execution_count": 10,
   "id": "f9f4b627-3daa-4a0e-9481-56fcd6160625",
   "metadata": {},
   "outputs": [
    {
     "data": {
      "text/plain": [
       "'\\nimport mysql.connector\\nmydb = mysql.connector.connect(\\n  host=\"localhost\",\\n  user=\"abc\",\\n  password=\"password\"\\n)\\nmycursor = mydb.cursor()\\nmycursor.execute(\"DROP TABLE Customers\")\\nmydb.close()\\n'"
      ]
     },
     "execution_count": 10,
     "metadata": {},
     "output_type": "execute_result"
    }
   ],
   "source": [
    "'''\n",
    "import mysql.connector\n",
    "mydb = mysql.connector.connect(\n",
    "  host=\"localhost\",\n",
    "  user=\"abc\",\n",
    "  password=\"password\"\n",
    ")\n",
    "mycursor = mydb.cursor()\n",
    "mycursor.execute(\"DROP TABLE Customers\")\n",
    "mydb.close()\n",
    "'''"
   ]
  },
  {
   "cell_type": "code",
   "execution_count": 11,
   "id": "1eb0b94a-e57a-47bf-9b31-1d5b7cedf409",
   "metadata": {},
   "outputs": [
    {
     "data": {
      "text/plain": [
       "'ALTER: The ALTER statement is used to modify the structure of an existing database object.\\nIt allows you to add, modify, or drop columns, constraints, or other attributes of a table. For example, to add a new column named \"Phone\" to the \"Customers\" table, we can use the ALTER statement'"
      ]
     },
     "execution_count": 11,
     "metadata": {},
     "output_type": "execute_result"
    }
   ],
   "source": [
    "'''ALTER: The ALTER statement is used to modify the structure of an existing database object.\n",
    "It allows you to add, modify, or drop columns, constraints, or other attributes of a table. For example, to add a new column named \"Phone\" to the \"Customers\" table, we can use the ALTER statement'''"
   ]
  },
  {
   "cell_type": "code",
   "execution_count": 12,
   "id": "0a9a8def-c871-4fed-b58d-f56a70da3512",
   "metadata": {},
   "outputs": [
    {
     "data": {
      "text/plain": [
       "'\\nimport mysql.connector\\nmydb = mysql.connector.connect(\\n  host=\"localhost\",\\n  user=\"abc\",\\n  password=\"password\"\\n)\\nmycursor = mydb.cursor()\\nmycursor.execute(\"ALTER TABLE Customers ADD Phone VARCHAR(20)\")\\nmydb.close()\\n'"
      ]
     },
     "execution_count": 12,
     "metadata": {},
     "output_type": "execute_result"
    }
   ],
   "source": [
    "'''\n",
    "import mysql.connector\n",
    "mydb = mysql.connector.connect(\n",
    "  host=\"localhost\",\n",
    "  user=\"abc\",\n",
    "  password=\"password\"\n",
    ")\n",
    "mycursor = mydb.cursor()\n",
    "mycursor.execute(\"ALTER TABLE Customers ADD Phone VARCHAR(20)\")\n",
    "mydb.close()\n",
    "'''"
   ]
  },
  {
   "cell_type": "code",
   "execution_count": 13,
   "id": "23a5bb61-d734-48cd-a572-803630cccc01",
   "metadata": {},
   "outputs": [
    {
     "data": {
      "text/plain": [
       "'TRUNCATE: The TRUNCATE statement is used to remove all data from a table, but unlike the DROP statement, it keeps the table structure intact.\\nTRUNCATE is faster than deleting rows one by one using the DELETE statement because it removes all data in a single operation.\\nFor example, to delete all data from the \"Customers\" table, you can use the TRUNCATE statement'"
      ]
     },
     "execution_count": 13,
     "metadata": {},
     "output_type": "execute_result"
    }
   ],
   "source": [
    "'''TRUNCATE: The TRUNCATE statement is used to remove all data from a table, but unlike the DROP statement, it keeps the table structure intact.\n",
    "TRUNCATE is faster than deleting rows one by one using the DELETE statement because it removes all data in a single operation.\n",
    "For example, to delete all data from the \"Customers\" table, you can use the TRUNCATE statement'''"
   ]
  },
  {
   "cell_type": "code",
   "execution_count": 14,
   "id": "5a8e92c4-ef14-4ca8-9cf9-e5b0c44b1ec1",
   "metadata": {},
   "outputs": [
    {
     "data": {
      "text/plain": [
       "'\\nimport mysql.connector\\nmydb = mysql.connector.connect(\\n  host=\"localhost\",\\n  user=\"abc\",\\n  password=\"password\"\\n)\\nmycursor = mydb.cursor()\\nmycursor.execute(\"TRUNCATE TABLE Customers\")\\nmydb.close()\\n'"
      ]
     },
     "execution_count": 14,
     "metadata": {},
     "output_type": "execute_result"
    }
   ],
   "source": [
    "'''\n",
    "import mysql.connector\n",
    "mydb = mysql.connector.connect(\n",
    "  host=\"localhost\",\n",
    "  user=\"abc\",\n",
    "  password=\"password\"\n",
    ")\n",
    "mycursor = mydb.cursor()\n",
    "mycursor.execute(\"TRUNCATE TABLE Customers\")\n",
    "mydb.close()\n",
    "'''"
   ]
  },
  {
   "cell_type": "code",
   "execution_count": 15,
   "id": "fb3e4480-ddc3-4c3b-90ad-b66343a0f80f",
   "metadata": {},
   "outputs": [],
   "source": [
    "#ques 3"
   ]
  },
  {
   "cell_type": "code",
   "execution_count": 16,
   "id": "36241f63-2015-410b-a2b6-30828a021c79",
   "metadata": {},
   "outputs": [
    {
     "data": {
      "text/plain": [
       "'DML stands for Data Manipulation Language, which is a subset of SQL used to manipulate and modify data within a database. \\nDML statements are used to insert, update, and delete data from database tables. '"
      ]
     },
     "execution_count": 16,
     "metadata": {},
     "output_type": "execute_result"
    }
   ],
   "source": [
    "'''DML stands for Data Manipulation Language, which is a subset of SQL used to manipulate and modify data within a database. \n",
    "DML statements are used to insert, update, and delete data from database tables. '''"
   ]
  },
  {
   "cell_type": "code",
   "execution_count": 17,
   "id": "7f1b9992-44ed-4803-a1b6-84353238b737",
   "metadata": {},
   "outputs": [
    {
     "data": {
      "text/plain": [
       "'INSERT: The INSERT statement is used to insert new records into a table. \\nIt specifies the table name and the values to be inserted into the respective columns.\\nFor example, consider a table named \"Customers\" with columns for customer ID, name, and email. To insert a new customer into the table, we can use the INSERT statement.'"
      ]
     },
     "execution_count": 17,
     "metadata": {},
     "output_type": "execute_result"
    }
   ],
   "source": [
    "'''INSERT: The INSERT statement is used to insert new records into a table. \n",
    "It specifies the table name and the values to be inserted into the respective columns.\n",
    "For example, consider a table named \"Customers\" with columns for customer ID, name, and email. To insert a new customer into the table, we can use the INSERT statement.'''"
   ]
  },
  {
   "cell_type": "code",
   "execution_count": 18,
   "id": "107cf773-3320-4d13-b5f0-b947085e322d",
   "metadata": {},
   "outputs": [
    {
     "data": {
      "text/plain": [
       "'import mysql.connector\\n\\nmydb = mysql.connector.connect(\\n  host=\"localhost\",\\n  user=\"abc\",\\n  password=\"password\"\\n)\\n\\nmycursor = mydb.cursor()\\n\\nmycursor.execute(\"INSERT INTO Customers (ID, Name, Email) VALUES (1, \\'John Doe\\', \\'john@example.com\\')\")\\n\\nmydb.commit()\\n\\nmydb.close()'"
      ]
     },
     "execution_count": 18,
     "metadata": {},
     "output_type": "execute_result"
    }
   ],
   "source": [
    "'''import mysql.connector\n",
    "\n",
    "mydb = mysql.connector.connect(\n",
    "  host=\"localhost\",\n",
    "  user=\"abc\",\n",
    "  password=\"password\"\n",
    ")\n",
    "\n",
    "mycursor = mydb.cursor()\n",
    "\n",
    "mycursor.execute(\"INSERT INTO Customers (ID, Name, Email) VALUES (1, 'John Doe', 'john@example.com')\")\n",
    "\n",
    "mydb.commit()\n",
    "\n",
    "mydb.close()'''"
   ]
  },
  {
   "cell_type": "code",
   "execution_count": 19,
   "id": "cc95c4ed-05c6-4489-bfd4-a88ba197268e",
   "metadata": {},
   "outputs": [],
   "source": [
    "#This statement will insert a new record into the \"Customers\" table with the specified values."
   ]
  },
  {
   "cell_type": "code",
   "execution_count": 20,
   "id": "f2f05094-eadf-4d99-9c21-da0ad9f4d569",
   "metadata": {},
   "outputs": [
    {
     "data": {
      "text/plain": [
       "'UPDATE: The UPDATE statement is used to modify existing records in a table. It allows you to change the values of one or more columns based on specified conditions.\\nFor example, suppose you want to update the email address of a customer with ID 1 in the \"Customers\" table. we can use the UPDATE statement as follows.'"
      ]
     },
     "execution_count": 20,
     "metadata": {},
     "output_type": "execute_result"
    }
   ],
   "source": [
    "'''UPDATE: The UPDATE statement is used to modify existing records in a table. It allows you to change the values of one or more columns based on specified conditions.\n",
    "For example, suppose you want to update the email address of a customer with ID 1 in the \"Customers\" table. we can use the UPDATE statement as follows.'''\n"
   ]
  },
  {
   "cell_type": "code",
   "execution_count": 21,
   "id": "8adda4f5-d53b-41c2-a3fc-886fdd091388",
   "metadata": {},
   "outputs": [
    {
     "data": {
      "text/plain": [
       "'import mysql.connector\\n\\nmydb = mysql.connector.connect(\\n  host=\"localhost\",\\n  user=\"abc\",\\n  password=\"password\"\\n)\\n\\nmycursor = mydb.cursor()\\n\\nmycursor.execute(\"UPDATE Customers SET Email = \\'newemail@example.com\\' WHERE ID = 1\")\\n\\nmydb.commit()\\n\\nmydb.close()'"
      ]
     },
     "execution_count": 21,
     "metadata": {},
     "output_type": "execute_result"
    }
   ],
   "source": [
    "'''import mysql.connector\n",
    "\n",
    "mydb = mysql.connector.connect(\n",
    "  host=\"localhost\",\n",
    "  user=\"abc\",\n",
    "  password=\"password\"\n",
    ")\n",
    "\n",
    "mycursor = mydb.cursor()\n",
    "\n",
    "mycursor.execute(\"UPDATE Customers SET Email = 'newemail@example.com' WHERE ID = 1\")\n",
    "\n",
    "mydb.commit()\n",
    "\n",
    "mydb.close()'''"
   ]
  },
  {
   "cell_type": "code",
   "execution_count": 22,
   "id": "037fe2f2-0d84-481f-ae36-0e3eb52e7db7",
   "metadata": {},
   "outputs": [],
   "source": [
    "#This statement will update the email address of the customer with ID 1 to the new value specified."
   ]
  },
  {
   "cell_type": "code",
   "execution_count": 23,
   "id": "41f45d82-0655-4f70-8d2f-88f1454a169b",
   "metadata": {},
   "outputs": [
    {
     "data": {
      "text/plain": [
       "' DELETE: The DELETE statement is used to remove records from a table based on specified conditions.\\nIt allows you to selectively delete one or more rows from a table.\\nFor example, if you want to delete a customer with ID 1 from the \"Customers\" table, we can use the DELETE statement'"
      ]
     },
     "execution_count": 23,
     "metadata": {},
     "output_type": "execute_result"
    }
   ],
   "source": [
    "''' DELETE: The DELETE statement is used to remove records from a table based on specified conditions.\n",
    "It allows you to selectively delete one or more rows from a table.\n",
    "For example, if you want to delete a customer with ID 1 from the \"Customers\" table, we can use the DELETE statement'''"
   ]
  },
  {
   "cell_type": "code",
   "execution_count": 24,
   "id": "e99f3db7-0fbb-43f7-8557-2516eef14126",
   "metadata": {},
   "outputs": [
    {
     "data": {
      "text/plain": [
       "'import mysql.connector\\n\\nmydb = mysql.connector.connect(\\n  host=\"localhost\",\\n  user=\"abc\",\\n  password=\"password\"\\n)\\n\\nmycursor = mydb.cursor()\\n\\nmycursor.execute(\"DELETE FROM Customers WHERE ID = 1\")\\n\\nmydb.commit()\\n\\nmydb.close()'"
      ]
     },
     "execution_count": 24,
     "metadata": {},
     "output_type": "execute_result"
    }
   ],
   "source": [
    "'''import mysql.connector\n",
    "\n",
    "mydb = mysql.connector.connect(\n",
    "  host=\"localhost\",\n",
    "  user=\"abc\",\n",
    "  password=\"password\"\n",
    ")\n",
    "\n",
    "mycursor = mydb.cursor()\n",
    "\n",
    "mycursor.execute(\"DELETE FROM Customers WHERE ID = 1\")\n",
    "\n",
    "mydb.commit()\n",
    "\n",
    "mydb.close()'''"
   ]
  },
  {
   "cell_type": "code",
   "execution_count": 25,
   "id": "187982eb-4dc3-4ab5-b2c9-6ba9cee9b2e6",
   "metadata": {},
   "outputs": [],
   "source": [
    "#This statement will delete the customer record with ID 1 from the \"Customers\" table."
   ]
  },
  {
   "cell_type": "code",
   "execution_count": 26,
   "id": "13aa8dcb-a029-4ad5-8db5-34114335e24c",
   "metadata": {},
   "outputs": [],
   "source": [
    "#ques 4"
   ]
  },
  {
   "cell_type": "code",
   "execution_count": 27,
   "id": "dab9dd46-59b4-40ff-9254-e111ddd437d7",
   "metadata": {},
   "outputs": [
    {
     "data": {
      "text/plain": [
       "\"DQL stands for Data Query Language, which is a subset of SQL used to query and retrieve data from a database. \\nDQL statements are primarily focused on retrieving data from one or more tables based on specified conditions.\\nThe most common DQL statement is SELECT, which allows us to retrieve data from a database table.\\nLet's explain the SELECT statement with an example\""
      ]
     },
     "execution_count": 27,
     "metadata": {},
     "output_type": "execute_result"
    }
   ],
   "source": [
    "'''DQL stands for Data Query Language, which is a subset of SQL used to query and retrieve data from a database. \n",
    "DQL statements are primarily focused on retrieving data from one or more tables based on specified conditions.\n",
    "The most common DQL statement is SELECT, which allows us to retrieve data from a database table.\n",
    "Let's explain the SELECT statement with an example'''"
   ]
  },
  {
   "cell_type": "code",
   "execution_count": 28,
   "id": "7791bcce-23b7-4ab6-b46c-8ee3fcc4ce99",
   "metadata": {},
   "outputs": [
    {
     "data": {
      "text/plain": [
       "'import mysql.connector\\n\\nmydb = mysql.connector.connect(\\n  host=\"localhost\",\\n  user=\"abc\",\\n  password=\"password\",\\n  database=\"database1\"\\n)\\n\\nmycursor = mydb.cursor()\\n\\nquery = \"SELECT column1, column2, ... FROM table_name WHERE condition\"\\n\\nmycursor.execute(query)\\n\\nresult = mycursor.fetchall() \\n\\nfor row in result:\\n   \\n    column1_value = row[0]\\n    column2_value = row[1]\\n   \\n\\nmydb.close()'"
      ]
     },
     "execution_count": 28,
     "metadata": {},
     "output_type": "execute_result"
    }
   ],
   "source": [
    "'''import mysql.connector\n",
    "\n",
    "mydb = mysql.connector.connect(\n",
    "  host=\"localhost\",\n",
    "  user=\"abc\",\n",
    "  password=\"password\",\n",
    "  database=\"database1\"\n",
    ")\n",
    "\n",
    "mycursor = mydb.cursor()\n",
    "\n",
    "query = \"SELECT column1, column2, ... FROM table_name WHERE condition\"\n",
    "\n",
    "mycursor.execute(query)\n",
    "\n",
    "result = mycursor.fetchall() \n",
    "\n",
    "for row in result:\n",
    "   \n",
    "    column1_value = row[0]\n",
    "    column2_value = row[1]\n",
    "   \n",
    "\n",
    "mydb.close()'''"
   ]
  },
  {
   "cell_type": "code",
   "execution_count": 29,
   "id": "75414804-3a41-4b83-a980-c4a2ec4d16dc",
   "metadata": {},
   "outputs": [],
   "source": [
    "#ques 5"
   ]
  },
  {
   "cell_type": "code",
   "execution_count": 30,
   "id": "34aaafc4-175a-43a7-b476-9d4a25470b85",
   "metadata": {},
   "outputs": [
    {
     "data": {
      "text/plain": [
       "'A primary key is a column or a combination of columns in a database table that uniquely identifies each row. It serves as a unique identifier for the records in the table.\\nThe primary key ensures data integrity by preventing duplicate or null values in the key column(s). It is typically used to identify and access specific rows in the table quickly.\\n\\nA foreign key is a column or a combination of columns in a database table that refers to the primary key of another table.\\nIt establishes a relationship between two tables, where the values in the foreign key column(s) in one table match the values in the primary key column(s) of the referenced table.\\nForeign keys are used to maintain referential integrity, enforce relationships between tables, and enable cascading actions such as updates and deletions across related tables.\\nThey help ensure data consistency and integrity within the database.'"
      ]
     },
     "execution_count": 30,
     "metadata": {},
     "output_type": "execute_result"
    }
   ],
   "source": [
    "'''A primary key is a column or a combination of columns in a database table that uniquely identifies each row. It serves as a unique identifier for the records in the table.\n",
    "The primary key ensures data integrity by preventing duplicate or null values in the key column(s). It is typically used to identify and access specific rows in the table quickly.\n",
    "\n",
    "A foreign key is a column or a combination of columns in a database table that refers to the primary key of another table.\n",
    "It establishes a relationship between two tables, where the values in the foreign key column(s) in one table match the values in the primary key column(s) of the referenced table.\n",
    "Foreign keys are used to maintain referential integrity, enforce relationships between tables, and enable cascading actions such as updates and deletions across related tables.\n",
    "They help ensure data consistency and integrity within the database.'''"
   ]
  },
  {
   "cell_type": "code",
   "execution_count": 31,
   "id": "ecfa2e09-c33c-41b5-9bfc-b49daee60aaf",
   "metadata": {},
   "outputs": [],
   "source": [
    "# ques 6"
   ]
  },
  {
   "cell_type": "code",
   "execution_count": 32,
   "id": "8973a886-e63a-4a58-96aa-ded111a46aa0",
   "metadata": {},
   "outputs": [
    {
     "data": {
      "text/plain": [
       "'import mysql.connector\\n\\n\\nmydb = mysql.connector.connect(\\n  host=\"localhost\",\\n  user=\"abc\",\\n  password=\"password\",\\n  database=\"database_2\"\\n)\\nmycursor = mydb.cursor()\\n\\n\\ncreate_table_query = \"\"\"CREATE TABLE Customers (ID INT, PRIMARY KEY, Name VARCHAR(50),Email VARCHAR(100))\"\"\"\\n\\n# Execute the CREATE TABLE query\\nmycursor.execute(create_table_query)\\n\\n# Commit the changes to the database\\nmydb.commit()\\n\\n# Close the database connection\\nmydb.close()'"
      ]
     },
     "execution_count": 32,
     "metadata": {},
     "output_type": "execute_result"
    }
   ],
   "source": [
    "'''import mysql.connector\n",
    "\n",
    "\n",
    "mydb = mysql.connector.connect(\n",
    "  host=\"localhost\",\n",
    "  user=\"abc\",\n",
    "  password=\"password\",\n",
    "  database=\"database_2\"\n",
    ")\n",
    "mycursor = mydb.cursor()\n",
    "\n",
    "\n",
    "create_table_query = \"\"\"CREATE TABLE Customers (ID INT, PRIMARY KEY, Name VARCHAR(50),Email VARCHAR(100))\"\"\"\n",
    "\n",
    "# Execute the CREATE TABLE query\n",
    "mycursor.execute(create_table_query)\n",
    "\n",
    "# Commit the changes to the database\n",
    "mydb.commit()\n",
    "\n",
    "# Close the database connection\n",
    "mydb.close()'''\n"
   ]
  },
  {
   "cell_type": "code",
   "execution_count": 33,
   "id": "ca934526-055a-4840-bef7-4bca7c47c45b",
   "metadata": {},
   "outputs": [
    {
     "data": {
      "text/plain": [
       "'cursor(): The cursor() method creates a cursor object that allows you to execute SQL queries and fetch the results.\\nThe cursor acts as a handle or pointer to the result set returned by the query.\\nIt provides various methods to interact with the database, such as execute(), fetchall(), fetchone(), etc.\\n\\nexecute(): The execute() method is used to execute SQL queries or statements.\\nIt takes the SQL query as a parameter and sends it to the MySQL server for execution.\\nThe query can be a Data Manipulation Language (DML) statement like SELECT, INSERT, UPDATE, DELETE, or any other valid SQL statement.'"
      ]
     },
     "execution_count": 33,
     "metadata": {},
     "output_type": "execute_result"
    }
   ],
   "source": [
    "'''cursor(): The cursor() method creates a cursor object that allows you to execute SQL queries and fetch the results.\n",
    "The cursor acts as a handle or pointer to the result set returned by the query.\n",
    "It provides various methods to interact with the database, such as execute(), fetchall(), fetchone(), etc.\n",
    "\n",
    "execute(): The execute() method is used to execute SQL queries or statements.\n",
    "It takes the SQL query as a parameter and sends it to the MySQL server for execution.\n",
    "The query can be a Data Manipulation Language (DML) statement like SELECT, INSERT, UPDATE, DELETE, or any other valid SQL statement.'''"
   ]
  },
  {
   "cell_type": "code",
   "execution_count": 34,
   "id": "6885fb12-0351-40e2-bb57-04064887f52e",
   "metadata": {},
   "outputs": [],
   "source": [
    "# ques 7"
   ]
  },
  {
   "cell_type": "code",
   "execution_count": 35,
   "id": "a23b5790-2486-41e9-b8ec-ee4ec308bd88",
   "metadata": {},
   "outputs": [
    {
     "data": {
      "text/plain": [
       "'The order of execution of SQL clauses in a query generally follows the logical sequence described below:\\n\\nFROM: The FROM clause specifies the table(s) from which the data will be retrieved.\\n\\nJOIN: If the query involves joining multiple tables, the JOIN clause is used to define the relationships between the tables.\\n\\nWHERE: The WHERE clause filters the rows based on specified conditions. It is used to retrieve only the rows that satisfy the specified criteria.\\n\\nGROUP BY: The GROUP BY clause is used to group rows based on one or more columns. It is often used in conjunction with aggregate functions like SUM, COUNT, AVG, etc.\\n\\nHAVING: The HAVING clause filters the grouped rows based on specified conditions. It is similar to the WHERE clause but operates on the grouped data.\\n\\nSELECT: The SELECT clause specifies the columns to be retrieved from the table(s). It is generally placed after the FROM, JOIN, WHERE, GROUP BY, and HAVING clauses.\\n\\nDISTINCT: The DISTINCT keyword is used to remove duplicate rows from the result set, considering all the selected columns.\\n\\nORDER BY: The ORDER BY clause sorts the result set based on one or more columns, either in ascending (ASC) or descending (DESC) order.\\n\\nLIMIT: The LIMIT clause is used to limit the number of rows returned by the query.'"
      ]
     },
     "execution_count": 35,
     "metadata": {},
     "output_type": "execute_result"
    }
   ],
   "source": [
    "'''The order of execution of SQL clauses in a query generally follows the logical sequence described below:\n",
    "\n",
    "FROM: The FROM clause specifies the table(s) from which the data will be retrieved.\n",
    "\n",
    "JOIN: If the query involves joining multiple tables, the JOIN clause is used to define the relationships between the tables.\n",
    "\n",
    "WHERE: The WHERE clause filters the rows based on specified conditions. It is used to retrieve only the rows that satisfy the specified criteria.\n",
    "\n",
    "GROUP BY: The GROUP BY clause is used to group rows based on one or more columns. It is often used in conjunction with aggregate functions like SUM, COUNT, AVG, etc.\n",
    "\n",
    "HAVING: The HAVING clause filters the grouped rows based on specified conditions. It is similar to the WHERE clause but operates on the grouped data.\n",
    "\n",
    "SELECT: The SELECT clause specifies the columns to be retrieved from the table(s). It is generally placed after the FROM, JOIN, WHERE, GROUP BY, and HAVING clauses.\n",
    "\n",
    "DISTINCT: The DISTINCT keyword is used to remove duplicate rows from the result set, considering all the selected columns.\n",
    "\n",
    "ORDER BY: The ORDER BY clause sorts the result set based on one or more columns, either in ascending (ASC) or descending (DESC) order.\n",
    "\n",
    "LIMIT: The LIMIT clause is used to limit the number of rows returned by the query.'''"
   ]
  }
 ],
 "metadata": {
  "kernelspec": {
   "display_name": "Python 3 (ipykernel)",
   "language": "python",
   "name": "python3"
  },
  "language_info": {
   "codemirror_mode": {
    "name": "ipython",
    "version": 3
   },
   "file_extension": ".py",
   "mimetype": "text/x-python",
   "name": "python",
   "nbconvert_exporter": "python",
   "pygments_lexer": "ipython3",
   "version": "3.10.8"
  }
 },
 "nbformat": 4,
 "nbformat_minor": 5
}
