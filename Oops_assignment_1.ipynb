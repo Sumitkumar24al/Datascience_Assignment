{
 "cells": [
  {
   "cell_type": "code",
   "execution_count": null,
   "id": "8939101d-359b-4a39-b327-a5835900a30e",
   "metadata": {},
   "outputs": [],
   "source": [
    "#ques 1"
   ]
  },
  {
   "cell_type": "code",
   "execution_count": 1,
   "id": "723fb1f8-ac8b-4bd4-b146-e0c6c3e08c58",
   "metadata": {},
   "outputs": [
    {
     "data": {
      "text/plain": [
       "' class are user defined data types that are skeleton/ blueprint or a template that\\ndefines the structure and behaviour of objects,attributes and methods.\\nA class encapsulates data in the form of attributes and behaviour in form of methods into single entity.\\n\\nAn object, also known as an instance, is a specific occurrence of a class.\\nIt is created from a class and represents a real-world entity.\\nEach object has its own unique set of attribute values, independent of other objects created from the same class.\\nObjects can access the attributes and methods defined in their class.'"
      ]
     },
     "execution_count": 1,
     "metadata": {},
     "output_type": "execute_result"
    }
   ],
   "source": [
    "''' class are user defined data types that are skeleton/ blueprint or a template that\n",
    "defines the structure and behaviour of objects,attributes and methods.\n",
    "A class encapsulates data in the form of attributes and behaviour in form of methods into single entity.\n",
    "\n",
    "An object, also known as an instance, is a specific occurrence of a class.\n",
    "It is created from a class and represents a real-world entity.\n",
    "Each object has its own unique set of attribute values, independent of other objects created from the same class.\n",
    "Objects can access the attributes and methods defined in their class.'''"
   ]
  },
  {
   "cell_type": "code",
   "execution_count": 14,
   "id": "8a910dfa-5c69-407d-87ca-cc7d9a5aa67a",
   "metadata": {},
   "outputs": [],
   "source": [
    "class car:\n",
    "    \n",
    "    def __init__(self,brand,model,price):\n",
    "        self.brand=brand\n",
    "        self.model=model\n",
    "        self.price=price\n",
    "        \n",
    "        \n",
    "    def start_engine(self):\n",
    "        print('engine started')\n",
    "        \n",
    "    def car_details(self):\n",
    "        return self.brand,self.model,self.price\n",
    "        \n",
    "        "
   ]
  },
  {
   "cell_type": "code",
   "execution_count": 15,
   "id": "a9c03229-5678-4f46-aff3-ddd117c4317d",
   "metadata": {},
   "outputs": [],
   "source": [
    "car_det=car('Toyota','Innova',2000000)  # object"
   ]
  },
  {
   "cell_type": "code",
   "execution_count": 16,
   "id": "da3d1ccd-78a3-4d12-84bb-f984c4631988",
   "metadata": {},
   "outputs": [
    {
     "data": {
      "text/plain": [
       "'Toyota'"
      ]
     },
     "execution_count": 16,
     "metadata": {},
     "output_type": "execute_result"
    }
   ],
   "source": [
    "car_det.brand"
   ]
  },
  {
   "cell_type": "code",
   "execution_count": 17,
   "id": "99fa6f14-4615-4541-94ea-d3842a72e65d",
   "metadata": {},
   "outputs": [
    {
     "data": {
      "text/plain": [
       "'Innova'"
      ]
     },
     "execution_count": 17,
     "metadata": {},
     "output_type": "execute_result"
    }
   ],
   "source": [
    "car_det.model"
   ]
  },
  {
   "cell_type": "code",
   "execution_count": 18,
   "id": "886aacd4-72ef-4b1e-ac88-b888c69e0eb1",
   "metadata": {},
   "outputs": [
    {
     "data": {
      "text/plain": [
       "2000000"
      ]
     },
     "execution_count": 18,
     "metadata": {},
     "output_type": "execute_result"
    }
   ],
   "source": [
    "car_det.price"
   ]
  },
  {
   "cell_type": "code",
   "execution_count": 19,
   "id": "3bf6d9d2-4530-4a05-a763-f8ad78c13d5a",
   "metadata": {},
   "outputs": [
    {
     "name": "stdout",
     "output_type": "stream",
     "text": [
      "engine started\n"
     ]
    }
   ],
   "source": [
    "car_det.start_engine()"
   ]
  },
  {
   "cell_type": "code",
   "execution_count": 20,
   "id": "5c75bb5e-2e49-43ab-a5de-228fb1b0cb3e",
   "metadata": {},
   "outputs": [
    {
     "data": {
      "text/plain": [
       "('Toyota', 'Innova', 2000000)"
      ]
     },
     "execution_count": 20,
     "metadata": {},
     "output_type": "execute_result"
    }
   ],
   "source": [
    "car_det.car_details()"
   ]
  },
  {
   "cell_type": "code",
   "execution_count": 22,
   "id": "2ac2a44d-c4e0-4c55-9a2a-fd0d6b5c9700",
   "metadata": {},
   "outputs": [
    {
     "name": "stdout",
     "output_type": "stream",
     "text": [
      "('Toyota', 'Innova', 2000000)\n"
     ]
    }
   ],
   "source": [
    "print(car_det.car_details())"
   ]
  },
  {
   "cell_type": "code",
   "execution_count": 23,
   "id": "cb7e92d4-954b-472d-9b6c-5bb61136ea98",
   "metadata": {},
   "outputs": [],
   "source": [
    "# ques 2\n"
   ]
  },
  {
   "cell_type": "code",
   "execution_count": 27,
   "id": "3e4f498c-c34c-472a-ace7-26d8ad210929",
   "metadata": {},
   "outputs": [
    {
     "data": {
      "text/plain": [
       "' 4 pillars of Oops are \\n1. Encapsulation : It is mechanism of bundling data and methods  together\\n   into a single unit called a class.\\n   \\n2. Inheritance : It is the process of creating new child class from existing b\\n   parent class. The child class inherit the attributes and methods of \\n   parent class allows reusability and hierarchical structures.\\n   \\n3. Polymorphism : It refers to the ability of objects of different class\\n   to respond differently to the same method or function. Polymorphism enables\\n   code to be written in a more generic and flexible manner.\\n   \\n4. Abstraction : It is the process of simplifying complex systems by representing \\nonly the essential featuers and hiding unneccesary details.'"
      ]
     },
     "execution_count": 27,
     "metadata": {},
     "output_type": "execute_result"
    }
   ],
   "source": [
    "''' 4 pillars of Oops are \n",
    "1. Encapsulation : It is mechanism of bundling data and methods  together\n",
    "   into a single unit called a class.\n",
    "   \n",
    "2. Inheritance : It is the process of creating new child class from existing b\n",
    "   parent class. The child class inherit the attributes and methods of \n",
    "   parent class allows reusability and hierarchical structures.\n",
    "   \n",
    "3. Polymorphism : It refers to the ability of objects of different class\n",
    "   to respond differently to the same method or function. Polymorphism enables\n",
    "   code to be written in a more generic and flexible manner.\n",
    "   \n",
    "4. Abstraction : It is the process of simplifying complex systems by representing \n",
    "only the essential featuers and hiding unneccesary details.'''\n",
    "   "
   ]
  },
  {
   "cell_type": "code",
   "execution_count": 36,
   "id": "67b7592c-c764-477d-ba8a-ae34a744f708",
   "metadata": {},
   "outputs": [],
   "source": [
    "# Encapsulation\n",
    "class BankAccount:\n",
    "    def __init__(self,account_number,account_holder_name):  # attributes\n",
    "        self.account_number=account_number\n",
    "        self.account_holder_name=account_holder_name\n",
    "        self.balance=0.0\n",
    "          \n",
    "    def  deposit(self,amount):  # methods\n",
    "        self.balance += amount\n",
    "        print(f'Deposited {amount} into acoount number {self.account_number} and current balance is {self.balance}')\n",
    "        \n",
    "    def withdraw(self,amount):\n",
    "        if self.balance>=amount:\n",
    "            self.balance-=amount\n",
    "            print(f'Withdrawn {amount} from account number {self.account_number} and current balance is {self.balance}')\n",
    "            \n",
    "        else:\n",
    "            print(f' Inssufficient balance and current balance is {self.balance}. Kindly withdraw less amount than {self.balance}') \n",
    "            \n",
    "    def check_balance(self):\n",
    "        print(f'Account number {self.account_number} and current balance is {self.balance}')\n",
    "        "
   ]
  },
  {
   "cell_type": "code",
   "execution_count": 37,
   "id": "8bd6f10c-f690-4d57-9953-160f0e352435",
   "metadata": {},
   "outputs": [],
   "source": [
    "account1=BankAccount(123,'Sumit')"
   ]
  },
  {
   "cell_type": "code",
   "execution_count": 38,
   "id": "4047499d-41b0-438f-aba9-6311ee120fd9",
   "metadata": {},
   "outputs": [
    {
     "data": {
      "text/plain": [
       "0.0"
      ]
     },
     "execution_count": 38,
     "metadata": {},
     "output_type": "execute_result"
    }
   ],
   "source": [
    "account1.balance"
   ]
  },
  {
   "cell_type": "code",
   "execution_count": 39,
   "id": "47e13e78-bc40-4d16-b968-f99760f6b1ed",
   "metadata": {},
   "outputs": [
    {
     "name": "stdout",
     "output_type": "stream",
     "text": [
      "Deposited 5000 into acoount number 123 and current balance is 5000.0\n"
     ]
    }
   ],
   "source": [
    "account1.deposit(5000)"
   ]
  },
  {
   "cell_type": "code",
   "execution_count": 40,
   "id": "634e0f77-7c6f-48bf-bb67-ae2be8ee25dc",
   "metadata": {},
   "outputs": [
    {
     "name": "stdout",
     "output_type": "stream",
     "text": [
      " Inssufficient balance and current balance is 5000.0. Kindly withdraw less amount than 5000.0\n"
     ]
    }
   ],
   "source": [
    "account1.withdraw(7000)"
   ]
  },
  {
   "cell_type": "code",
   "execution_count": 41,
   "id": "965ab764-9fdc-4cd6-a0e3-99faa99b8e5c",
   "metadata": {},
   "outputs": [
    {
     "name": "stdout",
     "output_type": "stream",
     "text": [
      "Withdrawn 3000 from account number 123 and current balance is 2000.0\n"
     ]
    }
   ],
   "source": [
    "account1.withdraw(3000)"
   ]
  },
  {
   "cell_type": "code",
   "execution_count": 42,
   "id": "f4887ff1-117d-4df9-9571-7781704de8ed",
   "metadata": {},
   "outputs": [
    {
     "name": "stdout",
     "output_type": "stream",
     "text": [
      "Account number 123 and current balance is 2000.0\n"
     ]
    }
   ],
   "source": [
    "account1.check_balance()"
   ]
  },
  {
   "cell_type": "code",
   "execution_count": 43,
   "id": "3ddb421b-d15b-427a-a363-9e3d0a9d2a20",
   "metadata": {},
   "outputs": [],
   "source": [
    "# Inheritance"
   ]
  },
  {
   "cell_type": "code",
   "execution_count": 93,
   "id": "50ab5706-3138-4dba-9dd7-138bea367d3b",
   "metadata": {},
   "outputs": [],
   "source": [
    "class university_details:  # parent class\n",
    "    def __init__(self,name,age):\n",
    "        self.name=name\n",
    "        self.age=age\n",
    "        \n",
    "    def display_details(self):\n",
    "        return self.name,self.age\n",
    "    \n",
    "class Student(university_details):  # child class\n",
    "    def __init__(self,name,age,student_id):\n",
    "        super().__init__(name,age)\n",
    "        self.student_id=student_id\n",
    "        \n",
    "    def display_details1(self):\n",
    "        return super().display_details()\n",
    "        print(f'student id :{self.student_id}')\n",
    "              \n",
    "class Professor(university_details):  # child class\n",
    "    def __init__(self,name,age,employee_id):\n",
    "        super().__init__(name,age)\n",
    "        self.employee_id=employee_id\n",
    "        \n",
    "    def display_details2(self):\n",
    "        return super().display_details()\n",
    "        print(f'employee id :{self.employee_id}')    "
   ]
  },
  {
   "cell_type": "code",
   "execution_count": 94,
   "id": "a63b690b-5cb6-41cd-9958-9a614945f48b",
   "metadata": {},
   "outputs": [],
   "source": [
    "person1=university_details('Sumit',25) # objects for parent classs"
   ]
  },
  {
   "cell_type": "code",
   "execution_count": 95,
   "id": "5a6b6b77-0874-4dca-95b3-25ea689ee939",
   "metadata": {},
   "outputs": [
    {
     "data": {
      "text/plain": [
       "('Sumit', 25)"
      ]
     },
     "execution_count": 95,
     "metadata": {},
     "output_type": "execute_result"
    }
   ],
   "source": [
    "person1.display_details()"
   ]
  },
  {
   "cell_type": "code",
   "execution_count": 96,
   "id": "6777b952-d258-4968-9f7f-a88e77a24a97",
   "metadata": {},
   "outputs": [],
   "source": [
    "student=Student('Sumit',25,12)  # object for child class"
   ]
  },
  {
   "cell_type": "code",
   "execution_count": 92,
   "id": "4f4c9372-b390-4238-9e0b-99f2f17ca28f",
   "metadata": {},
   "outputs": [
    {
     "data": {
      "text/plain": [
       "('Sumit', 25)"
      ]
     },
     "execution_count": 92,
     "metadata": {},
     "output_type": "execute_result"
    }
   ],
   "source": [
    "student.display_details1()"
   ]
  },
  {
   "cell_type": "code",
   "execution_count": 98,
   "id": "73628f84-5fd6-46a3-81d8-efc34c576a12",
   "metadata": {},
   "outputs": [],
   "source": [
    "professor=Professor('Arpan',40,12)"
   ]
  },
  {
   "cell_type": "code",
   "execution_count": 99,
   "id": "815a2d17-d9ae-48e1-b4cd-8e24c465dfd3",
   "metadata": {},
   "outputs": [
    {
     "data": {
      "text/plain": [
       "('Arpan', 40)"
      ]
     },
     "execution_count": 99,
     "metadata": {},
     "output_type": "execute_result"
    }
   ],
   "source": [
    "professor.display_details2()"
   ]
  },
  {
   "cell_type": "code",
   "execution_count": 100,
   "id": "3a66dcff-0d6e-4d38-a2ac-e7407a57ade3",
   "metadata": {},
   "outputs": [],
   "source": [
    "# Polymorphism"
   ]
  },
  {
   "cell_type": "code",
   "execution_count": 117,
   "id": "a9be0862-c503-4a78-90ef-a2056f905e11",
   "metadata": {},
   "outputs": [],
   "source": [
    "import math\n",
    "\n",
    "# parent class\n",
    "class shape:\n",
    "    def area(self):\n",
    "        pass\n",
    "    \n",
    "# child 1 class\n",
    "class circle(shape):\n",
    "    def __init__(self,radius):\n",
    "        self.radius=radius\n",
    "        \n",
    "    def area(self):\n",
    "        return math.pi*self.radius**2\n",
    "    \n",
    "# child 2 class\n",
    "\n",
    "class square(shape):\n",
    "    def __init__(self,side):\n",
    "        self.side=side\n",
    "    \n",
    "    def area(self):\n",
    "        return self.side**2\n",
    "# calculate total area of all shape\n",
    "def cal_total_area(shapes):\n",
    "    total_area=0\n",
    "    for shape in shapes:\n",
    "        total_area+=shape.area()\n",
    "        \n",
    "    return total_area\n",
    "    "
   ]
  },
  {
   "cell_type": "code",
   "execution_count": 118,
   "id": "5eef88a5-ceed-4ca7-a90e-0b33602ae1a0",
   "metadata": {},
   "outputs": [],
   "source": [
    "circle_r=circle(5)"
   ]
  },
  {
   "cell_type": "code",
   "execution_count": 119,
   "id": "13eab75d-594e-4020-8d68-1acf02729178",
   "metadata": {},
   "outputs": [
    {
     "data": {
      "text/plain": [
       "78.53981633974483"
      ]
     },
     "execution_count": 119,
     "metadata": {},
     "output_type": "execute_result"
    }
   ],
   "source": [
    "circle_r.area()"
   ]
  },
  {
   "cell_type": "code",
   "execution_count": 123,
   "id": "351d88c4-b464-4d9e-89bb-e2ba2cc70aec",
   "metadata": {},
   "outputs": [],
   "source": [
    "square_s=square(4)"
   ]
  },
  {
   "cell_type": "code",
   "execution_count": 124,
   "id": "5507fce3-651e-4f9d-ae55-ec639af4775d",
   "metadata": {},
   "outputs": [],
   "source": [
    "shapes=[circle_r, square_s]"
   ]
  },
  {
   "cell_type": "code",
   "execution_count": 125,
   "id": "8e4a3962-243b-4459-9582-6104ca6fc281",
   "metadata": {},
   "outputs": [],
   "source": [
    "t_a=cal_total_area(shapes)"
   ]
  },
  {
   "cell_type": "code",
   "execution_count": 126,
   "id": "f6ddd734-c402-404d-a474-91e90d71d08d",
   "metadata": {},
   "outputs": [
    {
     "name": "stdout",
     "output_type": "stream",
     "text": [
      "94.53981633974483\n"
     ]
    }
   ],
   "source": [
    "print(t_a)"
   ]
  },
  {
   "cell_type": "code",
   "execution_count": 127,
   "id": "afb52191-e7b4-49fe-b178-e34c7dc91d06",
   "metadata": {},
   "outputs": [],
   "source": [
    "# Abstraction"
   ]
  },
  {
   "cell_type": "code",
   "execution_count": 129,
   "id": "449fa979-5a3d-4c48-b233-04ee70039713",
   "metadata": {},
   "outputs": [],
   "source": [
    "import abc\n",
    "class animal:\n",
    "    \n",
    "    def __init__(self,name):\n",
    "        self.name=name\n",
    "        \n",
    "    @abc.abstractmethod\n",
    "    def sound(self):\n",
    "        pass\n",
    "\n",
    "    @abc.abstractmethod\n",
    "    def move(self):\n",
    "        pass\n",
    "    \n",
    "# Child class 1: Dog\n",
    "class Dog(animal):\n",
    "    def __init__(self, name):\n",
    "        super().__init__(name)\n",
    "\n",
    "    def sound(self):\n",
    "        print(f\"{self.name} barks\")\n",
    "\n",
    "    def move(self):\n",
    "        print(f\"{self.name} runs\")\n",
    "        \n",
    "# Child class 1: Dog\n",
    "class Cat(animal):\n",
    "    def __init__(self, name):\n",
    "        super().__init__(name)\n",
    "\n",
    "    def sound(self):\n",
    "        print(f\"{self.name} meows\")\n",
    "\n",
    "    def move(self):\n",
    "        print(f\"{self.name} jumps\")\n",
    "        \n",
    "        "
   ]
  },
  {
   "cell_type": "code",
   "execution_count": 130,
   "id": "dc7340ef-0bd6-4f75-8890-c48cfe6346eb",
   "metadata": {},
   "outputs": [],
   "source": [
    "dog=Dog('Tommy')"
   ]
  },
  {
   "cell_type": "code",
   "execution_count": 135,
   "id": "32af0b50-68af-4c36-aea9-213b8e06ef4c",
   "metadata": {},
   "outputs": [],
   "source": [
    "cat=Cat('Pussy')"
   ]
  },
  {
   "cell_type": "code",
   "execution_count": 136,
   "id": "84d1db5b-41c9-4fef-9290-24852a5760a6",
   "metadata": {},
   "outputs": [
    {
     "data": {
      "text/plain": [
       "'Buddy'"
      ]
     },
     "execution_count": 136,
     "metadata": {},
     "output_type": "execute_result"
    }
   ],
   "source": [
    "dog.name"
   ]
  },
  {
   "cell_type": "code",
   "execution_count": 137,
   "id": "6de2465f-11cc-42e4-a3dd-18f4965b5eef",
   "metadata": {},
   "outputs": [
    {
     "name": "stdout",
     "output_type": "stream",
     "text": [
      "Buddy barks\n"
     ]
    }
   ],
   "source": [
    "dog.sound()"
   ]
  },
  {
   "cell_type": "code",
   "execution_count": 138,
   "id": "1d6d4768-a574-47ef-9acc-ea459f102cdf",
   "metadata": {},
   "outputs": [],
   "source": [
    "# Ques 3"
   ]
  },
  {
   "cell_type": "code",
   "execution_count": 139,
   "id": "b7e548c9-9a54-4bca-bfb5-341b540f56f3",
   "metadata": {},
   "outputs": [
    {
     "data": {
      "text/plain": [
       "'The __init__ function is called a constructor, or initializer, and is automatically called\\nwhen you create a new instance of a class. Within that function, the newly created object is\\nassigned to the parameter self. The notation self.legs is an attribute called legs of the object\\nin the variable self. Attributes are kind of like variables, but they describe the state of an object,\\nor particular actions (functions) available to the object.'"
      ]
     },
     "execution_count": 139,
     "metadata": {},
     "output_type": "execute_result"
    }
   ],
   "source": [
    "'''The __init__ function is called a constructor, or initializer, and is automatically called\n",
    "when you create a new instance of a class. Within that function, the newly created object is\n",
    "assigned to the parameter self. The notation self.legs is an attribute called legs of the object\n",
    "in the variable self. Attributes are kind of like variables, but they describe the state of an object,\n",
    "or particular actions (functions) available to the object.'''"
   ]
  },
  {
   "cell_type": "code",
   "execution_count": 140,
   "id": "e7e5a374-e542-4db2-9663-3d066a4ce266",
   "metadata": {},
   "outputs": [],
   "source": [
    "# example"
   ]
  },
  {
   "cell_type": "code",
   "execution_count": 142,
   "id": "740c355a-1fc9-48df-bbb3-4d96e7386eb2",
   "metadata": {},
   "outputs": [],
   "source": [
    "class person:\n",
    "    def __init__(self,name,age,gender):  # attributes\n",
    "        self.name=name\n",
    "        self.age=age\n",
    "        self.gender=gender\n",
    "        \n",
    "    def introduce(self):  # methods\n",
    "        print(f'Hello, my name is {self.name}. My age is {self.age} and gender is {self.gender}')\n",
    "    "
   ]
  },
  {
   "cell_type": "code",
   "execution_count": 144,
   "id": "974269c9-447e-4a4c-b147-760c1ded4d7b",
   "metadata": {},
   "outputs": [],
   "source": [
    "personal_details=person('Sumit Kumar',25,'Male')"
   ]
  },
  {
   "cell_type": "code",
   "execution_count": 145,
   "id": "15f98f43-701d-4c49-9c8f-d5558195c548",
   "metadata": {},
   "outputs": [
    {
     "name": "stdout",
     "output_type": "stream",
     "text": [
      "Hello, my name is Sumit Kumar. My age is 25 and gender is Male\n"
     ]
    }
   ],
   "source": [
    "personal_details.introduce()"
   ]
  },
  {
   "cell_type": "code",
   "execution_count": 146,
   "id": "fca2496d-1993-427c-8d93-a95459b1b4d6",
   "metadata": {},
   "outputs": [],
   "source": [
    "# ques 4"
   ]
  },
  {
   "cell_type": "code",
   "execution_count": 147,
   "id": "36cbc771-4beb-40e6-af56-750324d2cb87",
   "metadata": {},
   "outputs": [
    {
     "data": {
      "text/plain": [
       "\"self is a convention used to refer to the instance of a class within the class's methods.\\nIt represents the current object or instance on which a method is being called.\\nHere's why self is used in OOPs.\\nIt is a convention used to refer to the instance of a class within the class's methods. \\nIt represents the current object or instance on which a method is being called. \\nWithin a class method, self is used to access the instance attributes.\\nIt also allows multiple instances of a class to coexist independently.\""
      ]
     },
     "execution_count": 147,
     "metadata": {},
     "output_type": "execute_result"
    }
   ],
   "source": [
    "'''self is a convention used to refer to the instance of a class within the class's methods.\n",
    "It represents the current object or instance on which a method is being called.\n",
    "Here's why self is used in OOPs.\n",
    "It is a convention used to refer to the instance of a class within the class's methods. \n",
    "It represents the current object or instance on which a method is being called. \n",
    "Within a class method, self is used to access the instance attributes.\n",
    "It also allows multiple instances of a class to coexist independently.'''"
   ]
  },
  {
   "cell_type": "code",
   "execution_count": 148,
   "id": "37e17d54-5cc1-4803-b892-ca35d2be5aa2",
   "metadata": {},
   "outputs": [],
   "source": [
    "# ques 5"
   ]
  },
  {
   "cell_type": "code",
   "execution_count": 149,
   "id": "e2a13aa7-5a0f-4043-b252-40b2d542b9f6",
   "metadata": {},
   "outputs": [
    {
     "data": {
      "text/plain": [
       "'Inheritance allows a class to inherit properties and behaviors from another class. \\nIt enables the creation of a hierarchy of classes where a derived class (subclass) can inherit \\nattributes and methods from a base class (superclass).Inheritance promotes code reusability and\\nallows for the creation of more specialized classes based on existing classes.\\nThe subclass inherits the characteristics of the superclass, and it can extend or modify them as needed.\\nThis helps in organizing and structuring code in a hierarchical manner.'"
      ]
     },
     "execution_count": 149,
     "metadata": {},
     "output_type": "execute_result"
    }
   ],
   "source": [
    "'''Inheritance allows a class to inherit properties and behaviors from another class. \n",
    "It enables the creation of a hierarchy of classes where a derived class (subclass) can inherit \n",
    "attributes and methods from a base class (superclass).Inheritance promotes code reusability and\n",
    "allows for the creation of more specialized classes based on existing classes.\n",
    "The subclass inherits the characteristics of the superclass, and it can extend or modify them as needed.\n",
    "This helps in organizing and structuring code in a hierarchical manner.'''"
   ]
  },
  {
   "cell_type": "code",
   "execution_count": 150,
   "id": "ca717e3d-87e0-4ab1-828c-52352925e30a",
   "metadata": {},
   "outputs": [],
   "source": [
    "# single inheritance"
   ]
  },
  {
   "cell_type": "code",
   "execution_count": 153,
   "id": "264e1ed6-a344-432c-bb06-a722a62e9a5f",
   "metadata": {},
   "outputs": [],
   "source": [
    "class Animal:\n",
    "    def eat(self):\n",
    "        print('Animal is eating')\n",
    "              \n",
    "class Dog(Animal):\n",
    "    def bark(self):\n",
    "        print('Dog is barking')"
   ]
  },
  {
   "cell_type": "code",
   "execution_count": 155,
   "id": "5ea1fff8-91ff-4833-b615-ba682d36dcd7",
   "metadata": {},
   "outputs": [],
   "source": [
    "dog=Dog()"
   ]
  },
  {
   "cell_type": "code",
   "execution_count": 158,
   "id": "c20ba28a-950b-4ad3-b62c-fabdaced1b30",
   "metadata": {},
   "outputs": [
    {
     "name": "stdout",
     "output_type": "stream",
     "text": [
      "Animal is eating\n"
     ]
    }
   ],
   "source": [
    "dog.eat()  # inherited from Animal"
   ]
  },
  {
   "cell_type": "code",
   "execution_count": 161,
   "id": "a6c18a53-390e-413a-aab4-57cd8d3c1f94",
   "metadata": {},
   "outputs": [
    {
     "name": "stdout",
     "output_type": "stream",
     "text": [
      "Dog is barking\n"
     ]
    }
   ],
   "source": [
    "dog.bark()  # from Dog"
   ]
  },
  {
   "cell_type": "code",
   "execution_count": 162,
   "id": "a68911e0-1d9b-458b-a24e-13d7a31de0d3",
   "metadata": {},
   "outputs": [],
   "source": [
    "# Mutiple inehritance"
   ]
  },
  {
   "cell_type": "code",
   "execution_count": 163,
   "id": "9a8de99e-b4dc-447a-8a36-1c70003ff0d5",
   "metadata": {},
   "outputs": [],
   "source": [
    "class India: # class 1\n",
    "    def capital_india(self):\n",
    "        print('Delhi is capital of India')\n",
    "class Bihar:  # class 2\n",
    "    def capital_bihar(self):\n",
    "        print('Patna is capital of Bihar')\n",
    "        \n",
    "class Capital(India,Bihar):\n",
    "    def state(self):\n",
    "        print('Bihar is a state of India')\n",
    "        \n",
    "    \n",
    "              "
   ]
  },
  {
   "cell_type": "code",
   "execution_count": 164,
   "id": "10b44360-8e5e-45ee-8611-1a3a0803c8f1",
   "metadata": {},
   "outputs": [],
   "source": [
    "capitals=Capital()"
   ]
  },
  {
   "cell_type": "code",
   "execution_count": 166,
   "id": "bd5b8f44-e0af-41f1-abfd-ba0b6df8f478",
   "metadata": {},
   "outputs": [
    {
     "name": "stdout",
     "output_type": "stream",
     "text": [
      "Patna is capital of Bihar\n"
     ]
    }
   ],
   "source": [
    "capitals.capital_bihar()"
   ]
  },
  {
   "cell_type": "code",
   "execution_count": 167,
   "id": "697b8447-a7d4-4223-aed3-0313257dee45",
   "metadata": {},
   "outputs": [
    {
     "name": "stdout",
     "output_type": "stream",
     "text": [
      "Delhi is capital of India\n"
     ]
    }
   ],
   "source": [
    "capitals.capital_india()"
   ]
  },
  {
   "cell_type": "code",
   "execution_count": 168,
   "id": "e170a7ad-b287-4070-8fe9-0bf4d0b1aa48",
   "metadata": {},
   "outputs": [
    {
     "name": "stdout",
     "output_type": "stream",
     "text": [
      "Bihar is a state of India\n"
     ]
    }
   ],
   "source": [
    "capitals.state()"
   ]
  },
  {
   "cell_type": "code",
   "execution_count": 169,
   "id": "8c6cf3c6-669f-4121-8178-e28bb6de03c9",
   "metadata": {},
   "outputs": [],
   "source": [
    "# Multilevel inheritance"
   ]
  },
  {
   "cell_type": "code",
   "execution_count": 171,
   "id": "0a554479-4e1e-424f-9712-a87263ccafa8",
   "metadata": {},
   "outputs": [],
   "source": [
    "class family:  # class 1\n",
    "    def member(self,no_member):\n",
    "        self.no_member=no_member\n",
    "    def display_no_mem(self):\n",
    "        return self.no_member\n",
    "class male(family):  # subclass\n",
    "    def jobs(self,status):\n",
    "        self.status=status\n",
    "    def display_job(self):\n",
    "        return self.status\n",
    "class salary(male):\n",
    "    def salary_in_hand(self,ctc):\n",
    "        self.ctc=ctc\n",
    "    def display_salary(self):\n",
    "        print(f' The family has {self.no_member} member and has {self.status} job with current ctc{self.ctc}.')\n",
    "    "
   ]
  },
  {
   "cell_type": "code",
   "execution_count": 177,
   "id": "7a8cb9df-7da9-4d17-8055-14f62e94659a",
   "metadata": {},
   "outputs": [],
   "source": [
    "my_fam=salary()"
   ]
  },
  {
   "cell_type": "code",
   "execution_count": 180,
   "id": "1a8397a5-54d6-4afa-a9ed-b52f84c76545",
   "metadata": {},
   "outputs": [],
   "source": [
    "my_fam.jobs('employed')"
   ]
  },
  {
   "cell_type": "code",
   "execution_count": 181,
   "id": "a8a360fd-f8d7-4c42-881e-4826d29de291",
   "metadata": {},
   "outputs": [],
   "source": [
    "my_fam.member(5)"
   ]
  },
  {
   "cell_type": "code",
   "execution_count": null,
   "id": "429f7940-7ca5-441a-9ac0-d4298cf2ca38",
   "metadata": {},
   "outputs": [],
   "source": []
  }
 ],
 "metadata": {
  "kernelspec": {
   "display_name": "Python 3 (ipykernel)",
   "language": "python",
   "name": "python3"
  },
  "language_info": {
   "codemirror_mode": {
    "name": "ipython",
    "version": 3
   },
   "file_extension": ".py",
   "mimetype": "text/x-python",
   "name": "python",
   "nbconvert_exporter": "python",
   "pygments_lexer": "ipython3",
   "version": "3.10.8"
  }
 },
 "nbformat": 4,
 "nbformat_minor": 5
}
