{
 "cells": [
  {
   "cell_type": "code",
   "execution_count": 1,
   "id": "6eb830d0-2c28-486f-9953-71938f84fdb5",
   "metadata": {},
   "outputs": [],
   "source": [
    "#ques 1"
   ]
  },
  {
   "cell_type": "code",
   "execution_count": 2,
   "id": "0f09a6c1-0218-4f2b-b769-871a3e9d79b1",
   "metadata": {},
   "outputs": [
    {
     "data": {
      "text/plain": [
       "'Flask is a web framework for Python that allows us to build web applications quickly and easily.\\nIt is a lightweight and flexible framework that follows the Web Server Gateway Interface specification and is designed to be simple and easy to understand.\\n\\nAdvantages of Flask Framework:\\n\\nLightweight and Minimalistic: Flask is a lightweight framework with a small core and minimal dependencies.\\nIt does not impose any specific project structure or dependencies, allowing developers to have more flexibility and control over their projects.\\n\\nEasy to Get Started: Flask provides a simple and intuitive API that makes it easy for developers, especially beginners, to get started with web development.\\nThe framework has a clear and concise syntax, making it easier to understand and write code.\\n\\nFlexible and Extensible: Flask allows developers to choose and integrate various third-party libraries and extensions based on their specific needs.\\nThis flexibility enables developers to add functionalities like database integration, authentication, and more, without being tied to a specific set of tools or technologies.\\n\\nModular Design: Flask follows a modular design philosophy, allowing developers to break their applications into smaller, reusable components called \"blueprints\".\\nThis modular approach promotes code organization and code reusability.\\n\\nIntegrated Development Server: Flask comes with a built-in development server, which makes it easy to run and test your applications locally during the development phase.\\nThis eliminates the need for additional server setup and configuration.'"
      ]
     },
     "execution_count": 2,
     "metadata": {},
     "output_type": "execute_result"
    }
   ],
   "source": [
    "'''Flask is a web framework for Python that allows us to build web applications quickly and easily.\n",
    "It is a lightweight and flexible framework that follows the Web Server Gateway Interface specification and is designed to be simple and easy to understand.\n",
    "\n",
    "Advantages of Flask Framework:\n",
    "\n",
    "Lightweight and Minimalistic: Flask is a lightweight framework with a small core and minimal dependencies.\n",
    "It does not impose any specific project structure or dependencies, allowing developers to have more flexibility and control over their projects.\n",
    "\n",
    "Easy to Get Started: Flask provides a simple and intuitive API that makes it easy for developers, especially beginners, to get started with web development.\n",
    "The framework has a clear and concise syntax, making it easier to understand and write code.\n",
    "\n",
    "Flexible and Extensible: Flask allows developers to choose and integrate various third-party libraries and extensions based on their specific needs.\n",
    "This flexibility enables developers to add functionalities like database integration, authentication, and more, without being tied to a specific set of tools or technologies.\n",
    "\n",
    "Modular Design: Flask follows a modular design philosophy, allowing developers to break their applications into smaller, reusable components called \"blueprints\".\n",
    "This modular approach promotes code organization and code reusability.\n",
    "\n",
    "Integrated Development Server: Flask comes with a built-in development server, which makes it easy to run and test your applications locally during the development phase.\n",
    "This eliminates the need for additional server setup and configuration.'''\n",
    "\n"
   ]
  },
  {
   "cell_type": "code",
   "execution_count": 3,
   "id": "0cabf636-df38-4fc3-81a1-f6a126d7115d",
   "metadata": {},
   "outputs": [],
   "source": [
    "#ques 2"
   ]
  },
  {
   "cell_type": "markdown",
   "id": "2885e7e0-826e-4025-9216-e76779287e36",
   "metadata": {},
   "source": [
    "![](flask_webpage.png)"
   ]
  },
  {
   "cell_type": "code",
   "execution_count": 5,
   "id": "fee67041-5459-46f8-87bf-e9f4a17e155d",
   "metadata": {},
   "outputs": [],
   "source": [
    "#ques 3"
   ]
  },
  {
   "cell_type": "code",
   "execution_count": 7,
   "id": "0be56418-31a2-4d8a-a10b-e242a50d5419",
   "metadata": {},
   "outputs": [
    {
     "data": {
      "text/plain": [
       "'In Flask, app routing refers to the process of mapping URLs to specific functions in your Flask application.\\nIt allows us to define different routes or URLs that users can access and specify the corresponding function or view that should be executed when a particular URL is requested.\\n\\nApp routing is implemented using the @app.route() decorator in Flask.\\nThe @app.route() decorator is used to define a route or URL pattern and associate it with a specific function.\\nThis function is typically responsible for processing the request and returning a response.\\n\\nWe use app routes in Flask for several reasons:\\n\\nHandling different URLs: App routes allow us to define different URLs or routes that users can access within our application.\\nEach route can be associated with a specific function or view that handles the corresponding request.\\n\\nImplementing RESTful APIs: App routes are commonly used in Flask to implement RESTful APIs.\\nEach route corresponds to a specific API endpoint, and the associated function defines the logic for handling requests made to that endpoint.\\n\\nSeparating application logic: App routes help in separating the application logic by associating specific functions with specific routes.\\nThis promotes modular code organization and makes it easier to understand and maintain the application.\\n\\nSupporting different HTTP methods: App routes can be used to handle different HTTP methods such as GET, POST, PUT, DELETE, etc.\\nThis allows us to define different routes for different types of requests and handle them accordingly.'"
      ]
     },
     "execution_count": 7,
     "metadata": {},
     "output_type": "execute_result"
    }
   ],
   "source": [
    "'''In Flask, app routing refers to the process of mapping URLs to specific functions in your Flask application.\n",
    "It allows us to define different routes or URLs that users can access and specify the corresponding function or view that should be executed when a particular URL is requested.\n",
    "\n",
    "App routing is implemented using the @app.route() decorator in Flask.\n",
    "The @app.route() decorator is used to define a route or URL pattern and associate it with a specific function.\n",
    "This function is typically responsible for processing the request and returning a response.\n",
    "\n",
    "We use app routes in Flask for several reasons:\n",
    "\n",
    "Handling different URLs: App routes allow us to define different URLs or routes that users can access within our application.\n",
    "Each route can be associated with a specific function or view that handles the corresponding request.\n",
    "\n",
    "Implementing RESTful APIs: App routes are commonly used in Flask to implement RESTful APIs.\n",
    "Each route corresponds to a specific API endpoint, and the associated function defines the logic for handling requests made to that endpoint.\n",
    "\n",
    "Separating application logic: App routes help in separating the application logic by associating specific functions with specific routes.\n",
    "This promotes modular code organization and makes it easier to understand and maintain the application.\n",
    "\n",
    "Supporting different HTTP methods: App routes can be used to handle different HTTP methods such as GET, POST, PUT, DELETE, etc.\n",
    "This allows us to define different routes for different types of requests and handle them accordingly.'''"
   ]
  },
  {
   "cell_type": "code",
   "execution_count": 8,
   "id": "77cd9096-6420-4628-8ea8-ed8e157b5db4",
   "metadata": {},
   "outputs": [],
   "source": [
    "#ques 4"
   ]
  },
  {
   "cell_type": "code",
   "execution_count": null,
   "id": "6881dad9-6547-45ba-adae-e647f9f6f882",
   "metadata": {},
   "outputs": [],
   "source": []
  },
  {
   "cell_type": "code",
   "execution_count": null,
   "id": "f9501d04-151c-4c1e-b74c-f7a4f83cf68b",
   "metadata": {},
   "outputs": [],
   "source": []
  },
  {
   "cell_type": "code",
   "execution_count": 9,
   "id": "5ec34669-270e-47be-b37a-5d14778ee8b9",
   "metadata": {},
   "outputs": [],
   "source": [
    "#ques 5"
   ]
  },
  {
   "cell_type": "code",
   "execution_count": 12,
   "id": "c2f23492-ce80-4dd4-95b6-a1132c591906",
   "metadata": {},
   "outputs": [
    {
     "name": "stdout",
     "output_type": "stream",
     "text": [
      "Collecting flask\n",
      "  Downloading Flask-2.3.2-py3-none-any.whl (96 kB)\n",
      "\u001b[2K     \u001b[90m━━━━━━━━━━━━━━━━━━━━━━━━━━━━━━━━━━━━━━━━\u001b[0m \u001b[32m96.9/96.9 kB\u001b[0m \u001b[31m4.9 MB/s\u001b[0m eta \u001b[36m0:00:00\u001b[0m\n",
      "\u001b[?25hCollecting Werkzeug>=2.3.3\n",
      "  Downloading Werkzeug-2.3.6-py3-none-any.whl (242 kB)\n",
      "\u001b[2K     \u001b[90m━━━━━━━━━━━━━━━━━━━━━━━━━━━━━━━━━━━━━━\u001b[0m \u001b[32m242.5/242.5 kB\u001b[0m \u001b[31m16.6 MB/s\u001b[0m eta \u001b[36m0:00:00\u001b[0m\n",
      "\u001b[?25hRequirement already satisfied: click>=8.1.3 in /opt/conda/lib/python3.10/site-packages (from flask) (8.1.3)\n",
      "Collecting blinker>=1.6.2\n",
      "  Downloading blinker-1.6.2-py3-none-any.whl (13 kB)\n",
      "Requirement already satisfied: Jinja2>=3.1.2 in /opt/conda/lib/python3.10/site-packages (from flask) (3.1.2)\n",
      "Collecting itsdangerous>=2.1.2\n",
      "  Downloading itsdangerous-2.1.2-py3-none-any.whl (15 kB)\n",
      "Requirement already satisfied: MarkupSafe>=2.0 in /opt/conda/lib/python3.10/site-packages (from Jinja2>=3.1.2->flask) (2.1.1)\n",
      "Installing collected packages: Werkzeug, itsdangerous, blinker, flask\n",
      "  Attempting uninstall: blinker\n",
      "    Found existing installation: blinker 1.5\n",
      "    Uninstalling blinker-1.5:\n",
      "      Successfully uninstalled blinker-1.5\n",
      "Successfully installed Werkzeug-2.3.6 blinker-1.6.2 flask-2.3.2 itsdangerous-2.1.2\n",
      "Note: you may need to restart the kernel to use updated packages.\n"
     ]
    }
   ],
   "source": [
    "pip install flask"
   ]
  },
  {
   "cell_type": "code",
   "execution_count": null,
   "id": "6aa22b92-f741-4160-92a5-6c042bec7c72",
   "metadata": {},
   "outputs": [
    {
     "name": "stdout",
     "output_type": "stream",
     "text": [
      "/\n",
      "/user/Sumit%20Kumar\n",
      "/product/123\n",
      "/category/electronics\n",
      " * Serving Flask app '__main__'\n",
      " * Debug mode: off\n"
     ]
    },
    {
     "name": "stderr",
     "output_type": "stream",
     "text": [
      "WARNING: This is a development server. Do not use it in a production deployment. Use a production WSGI server instead.\n",
      " * Running on all addresses (0.0.0.0)\n",
      " * Running on http://127.0.0.1:5000\n",
      " * Running on http://172.18.0.9:5000\n",
      "Press CTRL+C to quit\n"
     ]
    }
   ],
   "source": [
    "\n",
    "from flask import Flask, url_for\n",
    "\n",
    "app = Flask(__name__)\n",
    "\n",
    "@app.route(\"/\")\n",
    "def home():\n",
    "    return \"<h1>Welcome to the home page</h1>\"\n",
    "\n",
    "@app.route('/user/<username>')\n",
    "def profile(username):\n",
    "    return f'Hello, {username}'\n",
    "\n",
    "@app.route('/product/<int:product_id>')\n",
    "def product_details(product_id):\n",
    "    return f'Product ID: {product_id}'\n",
    "\n",
    "@app.route('/category/<category_name>')\n",
    "def category(category_name):\n",
    "    return f'Category: {category_name}'\n",
    "\n",
    "if __name__ == \"__main__\":\n",
    "    with app.test_request_context():\n",
    "        print(url_for('home'))\n",
    "        print(url_for('profile', username='Sumit Kumar'))\n",
    "        print(url_for('product_details', product_id=123))\n",
    "        print(url_for('category', category_name='electronics'))\n",
    "\n",
    "    app.run(host=\"0.0.0.0\")"
   ]
  },
  {
   "cell_type": "code",
   "execution_count": null,
   "id": "a57f5854-e009-4999-84a0-044da32ddef2",
   "metadata": {},
   "outputs": [],
   "source": []
  }
 ],
 "metadata": {
  "kernelspec": {
   "display_name": "Python 3 (ipykernel)",
   "language": "python",
   "name": "python3"
  },
  "language_info": {
   "codemirror_mode": {
    "name": "ipython",
    "version": 3
   },
   "file_extension": ".py",
   "mimetype": "text/x-python",
   "name": "python",
   "nbconvert_exporter": "python",
   "pygments_lexer": "ipython3",
   "version": "3.10.8"
  }
 },
 "nbformat": 4,
 "nbformat_minor": 5
}
