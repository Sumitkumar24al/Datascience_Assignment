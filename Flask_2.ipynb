{
 "cells": [
  {
   "cell_type": "code",
   "execution_count": 1,
   "id": "6993c0fe-cac7-456f-b5d7-f1aa675d1afb",
   "metadata": {},
   "outputs": [],
   "source": [
    "#ques 1"
   ]
  },
  {
   "cell_type": "code",
   "execution_count": 2,
   "id": "119b0b53-e257-4329-82c1-4adbfd460694",
   "metadata": {},
   "outputs": [
    {
     "data": {
      "text/plain": [
       "'GET and POST are two commonly used HTTP methods with the following purposes:\\n\\nGET:\\n\\nUsed to retrieve data from a server.\\nParameters can be included in the URL to provide additional information to the server.\\nGET requests are typically used for read-only operations.\\nGET requests can be cached, bookmarked, and shared.\\nDoes not modify data on the server.\\n\\nPOST:\\n\\nUsed to submit data to be processed or stored by a server.\\nData is included in the request body.\\nPOST requests are typically used for write or update operations.\\nPOST requests are not cached, bookmarked, or shared.\\nCan have side effects on the server by modifying data.'"
      ]
     },
     "execution_count": 2,
     "metadata": {},
     "output_type": "execute_result"
    }
   ],
   "source": [
    "'''GET and POST are two commonly used HTTP methods with the following purposes:\n",
    "\n",
    "GET:\n",
    "\n",
    "Used to retrieve data from a server.\n",
    "Parameters can be included in the URL to provide additional information to the server.\n",
    "GET requests are typically used for read-only operations.\n",
    "GET requests can be cached, bookmarked, and shared.\n",
    "Does not modify data on the server.\n",
    "\n",
    "POST:\n",
    "\n",
    "Used to submit data to be processed or stored by a server.\n",
    "Data is included in the request body.\n",
    "POST requests are typically used for write or update operations.\n",
    "POST requests are not cached, bookmarked, or shared.\n",
    "Can have side effects on the server by modifying data.'''"
   ]
  },
  {
   "cell_type": "code",
   "execution_count": 3,
   "id": "daf6f433-b717-4140-9306-89f4fc553ae1",
   "metadata": {},
   "outputs": [],
   "source": [
    "#ques 2"
   ]
  },
  {
   "cell_type": "code",
   "execution_count": 4,
   "id": "af571746-a8a5-4ceb-a714-df5c737b8ae7",
   "metadata": {},
   "outputs": [
    {
     "data": {
      "text/plain": [
       "'In Flask, the request object is used to access incoming request data from the client.\\nIt provides access to the data sent by the client as part of the HTTP request, such as form data, query parameters, headers, and more.\\nThe request object allows you to extract and utilize this data within your Flask application.'"
      ]
     },
     "execution_count": 4,
     "metadata": {},
     "output_type": "execute_result"
    }
   ],
   "source": [
    "'''In Flask, the request object is used to access incoming request data from the client.\n",
    "It provides access to the data sent by the client as part of the HTTP request, such as form data, query parameters, headers, and more.\n",
    "The request object allows you to extract and utilize this data within your Flask application.'''"
   ]
  },
  {
   "cell_type": "code",
   "execution_count": 5,
   "id": "e32c9410-343a-499b-9188-e02b5ff2245a",
   "metadata": {},
   "outputs": [
    {
     "name": "stdout",
     "output_type": "stream",
     "text": [
      "Requirement already satisfied: flask in /opt/conda/lib/python3.10/site-packages (2.3.2)\n",
      "Requirement already satisfied: blinker>=1.6.2 in /opt/conda/lib/python3.10/site-packages (from flask) (1.6.2)\n",
      "Requirement already satisfied: Werkzeug>=2.3.3 in /opt/conda/lib/python3.10/site-packages (from flask) (2.3.6)\n",
      "Requirement already satisfied: itsdangerous>=2.1.2 in /opt/conda/lib/python3.10/site-packages (from flask) (2.1.2)\n",
      "Requirement already satisfied: click>=8.1.3 in /opt/conda/lib/python3.10/site-packages (from flask) (8.1.3)\n",
      "Requirement already satisfied: Jinja2>=3.1.2 in /opt/conda/lib/python3.10/site-packages (from flask) (3.1.2)\n",
      "Requirement already satisfied: MarkupSafe>=2.0 in /opt/conda/lib/python3.10/site-packages (from Jinja2>=3.1.2->flask) (2.1.1)\n",
      "Note: you may need to restart the kernel to use updated packages.\n"
     ]
    }
   ],
   "source": [
    "pip install flask"
   ]
  },
  {
   "cell_type": "code",
   "execution_count": 9,
   "id": "bdb24adf-026a-4207-98ae-b71badce4e15",
   "metadata": {},
   "outputs": [
    {
     "data": {
      "text/plain": [
       "'from flask import Flask\\napp=Flask(__name__)\\n\\n@app.route(\\'/login\\',methods=[\\'POST\\'])\\ndef login():\\n    username=request.form.get(\\'username\\')\\n    password=request.form.get(\\'password\\')\\n    \\n    if username == \\'admin\\' and password ==\\'password\\':\\n        return \\'Login Successful\\'\\n    else:\\n        return \\'Invalid credentials\\'\\n    \\nif __name__ == \\'__main__\\':\\n    app.run(host=\"0.0.0.0\")'"
      ]
     },
     "execution_count": 9,
     "metadata": {},
     "output_type": "execute_result"
    }
   ],
   "source": [
    "from flask import Flask,request\n",
    "app=Flask(__name__)\n",
    "\n",
    "@app.route('/login',methods=['POST'])\n",
    "def login():\n",
    "    username=request.form.get('username')\n",
    "    password=request.form.get('password')\n",
    "    \n",
    "    if username == 'admin' and password =='password':\n",
    "        return 'Login Successful'\n",
    "    else:\n",
    "        return 'Invalid credentials'\n",
    "    \n",
    "if __name__ == '__main__':\n",
    "    app.run(host=\"0.0.0.0\")"
   ]
  },
  {
   "cell_type": "code",
   "execution_count": 10,
   "id": "2828722b-1f95-4ae2-b686-d2915f9d5aac",
   "metadata": {},
   "outputs": [],
   "source": [
    "#ques 3"
   ]
  },
  {
   "cell_type": "code",
   "execution_count": 11,
   "id": "ab29174b-6b57-40ba-a61a-da86806d806d",
   "metadata": {},
   "outputs": [
    {
     "data": {
      "text/plain": [
       "\"In Flask, the redirect() function is used to redirect the user's browser to a different route or URL.\\nIt is commonly used when you want to redirect the user to a different page after performing a certain action or handling a specific request.\\n\\nThe redirect() function helps in maintaining the flow of the application by directing the user to a different route or URL.\""
      ]
     },
     "execution_count": 11,
     "metadata": {},
     "output_type": "execute_result"
    }
   ],
   "source": [
    "'''In Flask, the redirect() function is used to redirect the user's browser to a different route or URL.\n",
    "It is commonly used when you want to redirect the user to a different page after performing a certain action or handling a specific request.\n",
    "\n",
    "The redirect() function helps in maintaining the flow of the application by directing the user to a different route or URL.'''"
   ]
  },
  {
   "cell_type": "code",
   "execution_count": 16,
   "id": "be515bf3-4a6d-400c-8fbb-900989ab8672",
   "metadata": {},
   "outputs": [
    {
     "data": {
      "text/plain": [
       "'from flask import Flask, redirect, url_for\\n\\napp = Flask(__name__)\\n\\n@app.route(\\'/\\')\\ndef home():\\n    return redirect(\\'/about\\')\\n\\n@app.route(\\'/about\\')\\ndef about():\\n    return \\'<h1>This is the about page</h1>\\'\\n\\n@app.route(\\'/login\\')\\ndef login():\\n    return redirect(url_for(\\'home\\'))\\n\\nif __name__ == \\'__main__\\':\\n    app.run(host=\"0.0.0.0\")'"
      ]
     },
     "execution_count": 16,
     "metadata": {},
     "output_type": "execute_result"
    }
   ],
   "source": [
    "from flask import Flask, redirect, url_for\n",
    "\n",
    "app = Flask(__name__)\n",
    "\n",
    "@app.route('/')\n",
    "def home():\n",
    "    return redirect('/about')\n",
    "\n",
    "@app.route('/about')\n",
    "def about():\n",
    "    return '<h1>This is the about page</h1>'\n",
    "\n",
    "@app.route('/login')\n",
    "def login():\n",
    "    return redirect(url_for('home'))\n",
    "\n",
    "if __name__ == '__main__':\n",
    "    app.run(host=\"0.0.0.0\")\n",
    "\n",
    "                     "
   ]
  },
  {
   "cell_type": "code",
   "execution_count": 17,
   "id": "d51ea99f-7af8-4dcb-b975-e6dbdbcc0044",
   "metadata": {},
   "outputs": [],
   "source": [
    "#ques 4"
   ]
  },
  {
   "cell_type": "code",
   "execution_count": 18,
   "id": "89982207-e8eb-4482-b9a0-47c69776ea2b",
   "metadata": {},
   "outputs": [
    {
     "data": {
      "text/plain": [
       "'Templates in Flask are files that contain HTML markup along with dynamic placeholders (variables, loops, conditionals) that can be populated with data.\\nThey provide a way to separate the presentation logic from the application logic in a Flask web application.'"
      ]
     },
     "execution_count": 18,
     "metadata": {},
     "output_type": "execute_result"
    }
   ],
   "source": [
    "'''Templates in Flask are files that contain HTML markup along with dynamic placeholders (variables, loops, conditionals) that can be populated with data.\n",
    "They provide a way to separate the presentation logic from the application logic in a Flask web application.'''"
   ]
  },
  {
   "cell_type": "code",
   "execution_count": 19,
   "id": "6f0f7ad4-e08f-492d-8293-56b5a6aa7896",
   "metadata": {},
   "outputs": [
    {
     "data": {
      "text/plain": [
       "'The render_template() function is used to render and display these templates in Flask.\\nIt takes the name of the template file as an argument and returns the rendered HTML content.\\nThe function searches for the template file in a specified directory and processes it, replacing the dynamic placeholders with actual values.\\n\\nThe render_template() function allows us to pass additional parameters as keyword arguments, which can be used within the template to provide dynamic data or control the rendering process.\\nThese parameters can include variables, lists, dictionaries, and other objects.'"
      ]
     },
     "execution_count": 19,
     "metadata": {},
     "output_type": "execute_result"
    }
   ],
   "source": [
    "'''The render_template() function is used to render and display these templates in Flask.\n",
    "It takes the name of the template file as an argument and returns the rendered HTML content.\n",
    "The function searches for the template file in a specified directory and processes it, replacing the dynamic placeholders with actual values.\n",
    "\n",
    "The render_template() function allows us to pass additional parameters as keyword arguments, which can be used within the template to provide dynamic data or control the rendering process.\n",
    "These parameters can include variables, lists, dictionaries, and other objects.'''"
   ]
  },
  {
   "cell_type": "code",
   "execution_count": 20,
   "id": "256df16e-26c0-477d-8898-4acc15630d5c",
   "metadata": {},
   "outputs": [],
   "source": [
    "#ques 5"
   ]
  },
  {
   "cell_type": "code",
   "execution_count": null,
   "id": "82466394-40d8-4d8f-bfc0-e8006f133da6",
   "metadata": {},
   "outputs": [],
   "source": []
  }
 ],
 "metadata": {
  "kernelspec": {
   "display_name": "Python 3 (ipykernel)",
   "language": "python",
   "name": "python3"
  },
  "language_info": {
   "codemirror_mode": {
    "name": "ipython",
    "version": 3
   },
   "file_extension": ".py",
   "mimetype": "text/x-python",
   "name": "python",
   "nbconvert_exporter": "python",
   "pygments_lexer": "ipython3",
   "version": "3.10.8"
  }
 },
 "nbformat": 4,
 "nbformat_minor": 5
}
