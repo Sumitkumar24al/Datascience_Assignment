{
 "cells": [
  {
   "cell_type": "code",
   "execution_count": 1,
   "id": "f5615feb-57af-4d00-9c7a-f9a5aa5d7f66",
   "metadata": {},
   "outputs": [],
   "source": [
    "#ques 1"
   ]
  },
  {
   "cell_type": "code",
   "execution_count": 2,
   "id": "1db95f0c-9b25-4f9f-94b3-ed7c45a34641",
   "metadata": {},
   "outputs": [
    {
     "data": {
      "text/plain": [
       "'Multiprocessing refers to the ability of a system to support more than one processor at the same time.\\nApplications in a multiprocessing system are broken to smaller routines that run independently.\\nThe operating system allocates these threads to the processors improving performance of the system.\\nIt is useful because it has several advantages such as:\\nImproved Performance: By utilizing multiple CPU cores, multiprocessing can significantly enhance the execution speed of CPU-intensive tasks.\\nConcurrent Execution: Multiprocessing enables the execution of multiple tasks simultaneously. \\nResource Utilization: With multiprocessing, you can utilize the full potential of modern CPUs that typically come with multiple cores.\\nEnhanced Responsiveness: Multiprocessing can help improve the responsiveness of your application, especially in scenarios where you have to perform multiple independent operations concurrently.\\nFault Isolation: Running tasks in separate processes provides a level of fault isolation. If one process encounters an error or crashes, it typically does not affect other processes. '"
      ]
     },
     "execution_count": 2,
     "metadata": {},
     "output_type": "execute_result"
    }
   ],
   "source": [
    "'''Multiprocessing refers to the ability of a system to support more than one processor at the same time.\n",
    "Applications in a multiprocessing system are broken to smaller routines that run independently.\n",
    "The operating system allocates these threads to the processors improving performance of the system.\n",
    "It is useful because it has several advantages such as:\n",
    "Improved Performance: By utilizing multiple CPU cores, multiprocessing can significantly enhance the execution speed of CPU-intensive tasks.\n",
    "Concurrent Execution: Multiprocessing enables the execution of multiple tasks simultaneously. \n",
    "Resource Utilization: With multiprocessing, you can utilize the full potential of modern CPUs that typically come with multiple cores.\n",
    "Enhanced Responsiveness: Multiprocessing can help improve the responsiveness of your application, especially in scenarios where you have to perform multiple independent operations concurrently.\n",
    "Fault Isolation: Running tasks in separate processes provides a level of fault isolation. If one process encounters an error or crashes, it typically does not affect other processes. '''\n"
   ]
  },
  {
   "cell_type": "code",
   "execution_count": 3,
   "id": "3fbf41fe-bf94-4c39-80ef-d9774d8134ec",
   "metadata": {},
   "outputs": [],
   "source": [
    "# ques 2"
   ]
  },
  {
   "cell_type": "code",
   "execution_count": 4,
   "id": "9e3dc4e9-1682-4240-a836-2036bc3f8904",
   "metadata": {},
   "outputs": [
    {
     "data": {
      "text/plain": [
       "\"Multiprocessing:\\n1. It runs multiple processes, each with its own memory space.\\n2. Enables true parallelism by utilizing multiple CPUs or CPU cores.\\n3. Consumes more system resources due to separate memory spaces and process management overhead.\\n4. Requires explicit inter-process communication mechanisms like pipes or queues.\\n5.Provides better fault isolation as errors in one process usually don't affect others.\\n\\nMultithreading:\\n\\n1. Runs multiple threads within a single process, sharing the same memory space.\\n2. Achieves concurrency but not true parallelism since threads share a single CPU core.\\n3. Consumes fewer resources compared to multiprocessing.\\n4. Allows for direct data sharing but requires careful synchronization to avoid race conditions.\\n5. Limited by the Global Interpreter Lock (GIL) in CPython, affecting CPU-bound tasks in terms of parallelism.\""
      ]
     },
     "execution_count": 4,
     "metadata": {},
     "output_type": "execute_result"
    }
   ],
   "source": [
    "'''Multiprocessing:\n",
    "1. It runs multiple processes, each with its own memory space.\n",
    "2. Enables true parallelism by utilizing multiple CPUs or CPU cores.\n",
    "3. Consumes more system resources due to separate memory spaces and process management overhead.\n",
    "4. Requires explicit inter-process communication mechanisms like pipes or queues.\n",
    "5.Provides better fault isolation as errors in one process usually don't affect others.\n",
    "\n",
    "Multithreading:\n",
    "\n",
    "1. Runs multiple threads within a single process, sharing the same memory space.\n",
    "2. Achieves concurrency but not true parallelism since threads share a single CPU core.\n",
    "3. Consumes fewer resources compared to multiprocessing.\n",
    "4. Allows for direct data sharing but requires careful synchronization to avoid race conditions.\n",
    "5. Limited by the Global Interpreter Lock (GIL) in CPython, affecting CPU-bound tasks in terms of parallelism.'''"
   ]
  },
  {
   "cell_type": "code",
   "execution_count": 5,
   "id": "b6391e73-f03f-432f-ad2b-4c5979a05ce0",
   "metadata": {},
   "outputs": [],
   "source": [
    "# ques3"
   ]
  },
  {
   "cell_type": "code",
   "execution_count": 6,
   "id": "dda6c9c3-84d2-4cb6-8ed6-00df1b63702b",
   "metadata": {},
   "outputs": [],
   "source": [
    "import multiprocessing\n",
    "import logging\n",
    "\n",
    "logging.basicConfig(filename='ques3.txt', level=logging.INFO)\n",
    "\n",
    "def transact(transaction):\n",
    "    try:\n",
    "        logging.info(f\"Processing transaction: {transaction}\")\n",
    "    except Exception as e:\n",
    "        logging.error(f'Error processing transcation:{transaction}')\n",
    "    finally:\n",
    "        logging.info(f' Transaction completed : {transaction}')\n",
    "\n",
    "if __name__ == '__main__':\n",
    "    transactions = ['Withdraw 100', 'Deposit 200', 'Transfer 50']\n",
    "\n",
    "    processes = []\n",
    "    for transaction in transactions:\n",
    "        p = multiprocessing.Process(target=transact, args=(transaction,))\n",
    "        processes.append(p)\n",
    "        p.start()\n",
    "\n",
    "    for p in processes:\n",
    "        p.join()\n",
    "\n",
    "    logging.info(\"All transactions processed\")\n",
    "logging.shutdown()\n"
   ]
  },
  {
   "cell_type": "code",
   "execution_count": 7,
   "id": "a8446e41-4bbc-4a79-8f22-25cf794f4923",
   "metadata": {},
   "outputs": [],
   "source": [
    "# ques 4"
   ]
  },
  {
   "cell_type": "code",
   "execution_count": 8,
   "id": "7d22e4e7-ed36-4e1f-afda-10134e878334",
   "metadata": {},
   "outputs": [
    {
     "data": {
      "text/plain": [
       "'\\nIn Python, a multiprocessing pool is a feature provided by the multiprocessing module that allows you to create a pool of worker processes to execute tasks in parallel. It provides a convenient way to distribute the workload across multiple CPUs or processor cores, thereby leveraging the full potential of a multi-core system.\\nThe multiprocessing pool typically follows a master-worker model. You create a pool of worker processes, and the master process assigns tasks to them. Each worker process operates independently, executing the assigned tasks concurrently.\\n\\nThe main advantages of using a multiprocessing pool are:\\nParallel Execution: By utilizing multiple processes, a multiprocessing pool enables parallel execution of tasks.\\nCPU Utilization: With a pool of worker processes, you can fully utilize the available CPU resources. \\nSimplified Programming Model: The multiprocessing pool abstracts the complexity of managing multiple processes and inter-process communication.'"
      ]
     },
     "execution_count": 8,
     "metadata": {},
     "output_type": "execute_result"
    }
   ],
   "source": [
    "'''\n",
    "In Python, a multiprocessing pool is a feature provided by the multiprocessing module that allows you to create a pool of worker processes to execute tasks in parallel. It provides a convenient way to distribute the workload across multiple CPUs or processor cores, thereby leveraging the full potential of a multi-core system.\n",
    "The multiprocessing pool typically follows a master-worker model. You create a pool of worker processes, and the master process assigns tasks to them. Each worker process operates independently, executing the assigned tasks concurrently.\n",
    "\n",
    "The main advantages of using a multiprocessing pool are:\n",
    "Parallel Execution: By utilizing multiple processes, a multiprocessing pool enables parallel execution of tasks.\n",
    "CPU Utilization: With a pool of worker processes, you can fully utilize the available CPU resources. \n",
    "Simplified Programming Model: The multiprocessing pool abstracts the complexity of managing multiple processes and inter-process communication.'''"
   ]
  },
  {
   "cell_type": "code",
   "execution_count": 12,
   "id": "6a41ecaf-adda-479a-97b0-7e6c28c41d6e",
   "metadata": {},
   "outputs": [],
   "source": [
    "# example\n",
    "from multiprocessing import Pool\n",
    "import logging\n",
    "\n",
    "logging.basicConfig(filename='ques4.txt', level=logging.INFO)\n",
    "\n",
    "def process_data(data):\n",
    "    result=data**2\n",
    "    return result\n",
    "\n",
    "if __name__=='__main__':\n",
    "    with Pool(processes=4) as pool:\n",
    "        data=[1,2,3,4,5,6,7]\n",
    "        \n",
    "        results=pool.map(process_data,data)\n",
    "        logging.info(results)\n",
    "\n",
    "logging.shutdown()\n",
    "        \n",
    "\n"
   ]
  },
  {
   "cell_type": "code",
   "execution_count": 13,
   "id": "78a94d94-ad5c-4408-a88d-3afb95bdbd49",
   "metadata": {},
   "outputs": [],
   "source": [
    "# ques 5"
   ]
  },
  {
   "cell_type": "code",
   "execution_count": 14,
   "id": "f7fb7d70-f478-49b5-bc54-0be3ab5dfbad",
   "metadata": {},
   "outputs": [
    {
     "data": {
      "text/plain": [
       "'To create a pool of worker processes in Python using the multiprocessing module, you can use the Pool class. \\nThe Pool class provides a convenient way to manage and distribute tasks across multiple processes. '"
      ]
     },
     "execution_count": 14,
     "metadata": {},
     "output_type": "execute_result"
    }
   ],
   "source": [
    "'''To create a pool of worker processes in Python using the multiprocessing module, you can use the Pool class. \n",
    "The Pool class provides a convenient way to manage and distribute tasks across multiple processes. '''"
   ]
  },
  {
   "cell_type": "code",
   "execution_count": 15,
   "id": "085477a4-9bf7-451c-af6d-2fc117ba3124",
   "metadata": {},
   "outputs": [
    {
     "name": "stdout",
     "output_type": "stream",
     "text": [
      "[2, 4, 6, 8, 10]\n"
     ]
    }
   ],
   "source": [
    "from multiprocessing import Pool #Import the multiprocessing module\n",
    "\n",
    "def process_data(data): #Define a function that represents the task to be executed by the worker processes\n",
    "   \n",
    "    result = data * 2\n",
    "    return result\n",
    "\n",
    "with Pool(processes=4) as pool: #Create an instance of the Pool class with the desired number of worker processes\n",
    "    data = [1, 2, 3, 4, 5]\n",
    "    results = pool.map(process_data, data)  #map() method is used to apply the process_data function to each element of the data list in parallel. The results variable will contain the results returned by the worker processes.\n",
    "    print(results)  "
   ]
  },
  {
   "cell_type": "code",
   "execution_count": 16,
   "id": "5d3fdeea-ed53-4c53-b419-aeb630ed5558",
   "metadata": {},
   "outputs": [],
   "source": [
    "# ques 6"
   ]
  },
  {
   "cell_type": "code",
   "execution_count": 19,
   "id": "d9569d2e-0424-496d-b1a8-ad5294c5862b",
   "metadata": {},
   "outputs": [
    {
     "name": "stdout",
     "output_type": "stream",
     "text": [
      "Number: 1Number:\n",
      " 2\n",
      "Number: 3\n",
      "Number: 4\n"
     ]
    }
   ],
   "source": [
    "from multiprocessing import Process\n",
    "import logging\n",
    "\n",
    "logging.basicConfig(filename='ques6.txt', level=logging.INFO)\n",
    "\n",
    "\n",
    "def print_number(number):\n",
    "    logging.info(\"Number: %s\", number)\n",
    "    print(\"Number:\", number)\n",
    "\n",
    "if __name__ == '__main__':\n",
    "    processes = []\n",
    "    numbers = [1, 2, 3, 4]\n",
    "\n",
    "    for number in numbers:\n",
    "        p = Process(target=print_number, args=(number,))\n",
    "        p.start()\n",
    "        processes.append(p)\n",
    "\n",
    "    # Wait for all processes to finish\n",
    "    for p in processes:\n",
    "        p.join()\n",
    "\n"
   ]
  },
  {
   "cell_type": "code",
   "execution_count": null,
   "id": "1d8286dd-3c63-4b4c-ab0c-f3010cc3f747",
   "metadata": {},
   "outputs": [],
   "source": []
  }
 ],
 "metadata": {
  "kernelspec": {
   "display_name": "Python 3 (ipykernel)",
   "language": "python",
   "name": "python3"
  },
  "language_info": {
   "codemirror_mode": {
    "name": "ipython",
    "version": 3
   },
   "file_extension": ".py",
   "mimetype": "text/x-python",
   "name": "python",
   "nbconvert_exporter": "python",
   "pygments_lexer": "ipython3",
   "version": "3.10.8"
  }
 },
 "nbformat": 4,
 "nbformat_minor": 5
}
