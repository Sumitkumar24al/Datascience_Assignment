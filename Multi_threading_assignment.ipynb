{
 "cells": [
  {
   "cell_type": "code",
   "execution_count": 1,
   "id": "920b19db-4680-4c6f-a213-13b54e3cfb02",
   "metadata": {},
   "outputs": [],
   "source": [
    "#ques 1"
   ]
  },
  {
   "cell_type": "code",
   "execution_count": 2,
   "id": "5e3dff36-99f2-4926-bddf-5adb1309ad15",
   "metadata": {},
   "outputs": [
    {
     "data": {
      "text/plain": [
       "'Multithreading in Python allows you to execute multiple threads concurrently within a single program.\\nEach thread can perform tasks independently, enabling parallel execution and improved performance.\\nIt is useful in scenarios where you have tasks that can run simultaneously, which improve performance and enhance responsiveness.'"
      ]
     },
     "execution_count": 2,
     "metadata": {},
     "output_type": "execute_result"
    }
   ],
   "source": [
    "'''Multithreading in Python allows you to execute multiple threads concurrently within a single program.\n",
    "Each thread can perform tasks independently, enabling parallel execution and improved performance.\n",
    "It is useful in scenarios where you have tasks that can run simultaneously, which improve performance and enhance responsiveness.'''"
   ]
  },
  {
   "cell_type": "code",
   "execution_count": 3,
   "id": "74be7084-91fb-4f51-9ba5-01d48b3b6a42",
   "metadata": {},
   "outputs": [
    {
     "data": {
      "text/plain": [
       "' Multithreading is ude for several reasons:\\n1.Concurrent Execution: It allows for concurrent execution of multiple tasks within a program. \\n2. Responsiveness: It helps to enhance the responsiveness of applications, especially when dealing with time-consuming operations.\\n3. Utilizing Multiple CPU Cores: It allows us  to leverage multiple CPU cores or processors effectively. Each thread can be assigned to a different core, enabling parallel execution and better utilization of available hardware resources.\\n4. Simplified Program Structure: It can simplify the structure of certain programs by allowing tasks to be executed concurrently without complex synchronization mechanisms. '"
      ]
     },
     "execution_count": 3,
     "metadata": {},
     "output_type": "execute_result"
    }
   ],
   "source": [
    "''' Multithreading is ude for several reasons:\n",
    "1.Concurrent Execution: It allows for concurrent execution of multiple tasks within a program. \n",
    "2. Responsiveness: It helps to enhance the responsiveness of applications, especially when dealing with time-consuming operations.\n",
    "3. Utilizing Multiple CPU Cores: It allows us  to leverage multiple CPU cores or processors effectively. Each thread can be assigned to a different core, enabling parallel execution and better utilization of available hardware resources.\n",
    "4. Simplified Program Structure: It can simplify the structure of certain programs by allowing tasks to be executed concurrently without complex synchronization mechanisms. '''"
   ]
  },
  {
   "cell_type": "code",
   "execution_count": 4,
   "id": "b1921df4-0942-4b50-8752-6cb48a4015d5",
   "metadata": {},
   "outputs": [
    {
     "data": {
      "text/plain": [
       "'The module used to handle threads in Python is called threading. The threading module provides a high-level interface for creating and managing threads in Python. \\nIt includes functions and classes to create threads, synchronize their execution, and coordinate communication between threads. \\nThe threading module simplifies the process of working with threads and provides features like thread creation, starting, joining, synchronization primitives and more.'"
      ]
     },
     "execution_count": 4,
     "metadata": {},
     "output_type": "execute_result"
    }
   ],
   "source": [
    "'''The module used to handle threads in Python is called threading. The threading module provides a high-level interface for creating and managing threads in Python. \n",
    "It includes functions and classes to create threads, synchronize their execution, and coordinate communication between threads. \n",
    "The threading module simplifies the process of working with threads and provides features like thread creation, starting, joining, synchronization primitives and more.'''"
   ]
  },
  {
   "cell_type": "code",
   "execution_count": 5,
   "id": "8badb6a4-fa28-40c0-9f3d-39474dd2641c",
   "metadata": {},
   "outputs": [],
   "source": [
    "# ques 2"
   ]
  },
  {
   "cell_type": "code",
   "execution_count": 6,
   "id": "1ff9c3fc-9fab-45a6-b731-c8ae53850d23",
   "metadata": {},
   "outputs": [
    {
     "data": {
      "text/plain": [
       "'The threading module is used to implement multithreading, handle asynchronous operations, achieve parallelism, ensure synchronization, and enable coordination and communication between threads in Python programs. \\nIt provides a convenient and powerful framework for working with threads and maximizing the benefits of concurrent programming.'"
      ]
     },
     "execution_count": 6,
     "metadata": {},
     "output_type": "execute_result"
    }
   ],
   "source": [
    "'''The threading module is used to implement multithreading, handle asynchronous operations, achieve parallelism, ensure synchronization, and enable coordination and communication between threads in Python programs. \n",
    "It provides a convenient and powerful framework for working with threads and maximizing the benefits of concurrent programming.'''"
   ]
  },
  {
   "cell_type": "code",
   "execution_count": 7,
   "id": "0d00a3d1-a687-4849-b801-43b2880434e2",
   "metadata": {},
   "outputs": [
    {
     "data": {
      "text/plain": [
       "'The activeCount() method is a function provided by the threading module in Python.\\nIt returns the number of Thread objects currently alive.'"
      ]
     },
     "execution_count": 7,
     "metadata": {},
     "output_type": "execute_result"
    }
   ],
   "source": [
    "'''The activeCount() method is a function provided by the threading module in Python.\n",
    "It returns the number of Thread objects currently alive.'''"
   ]
  },
  {
   "cell_type": "code",
   "execution_count": 8,
   "id": "73dea330-aeea-4326-b294-8af79d2e9293",
   "metadata": {},
   "outputs": [
    {
     "name": "stdout",
     "output_type": "stream",
     "text": [
      "Thread started\n",
      "Thread started\n",
      "Thread started\n",
      "Thread started\n",
      "Thread started\n",
      "Thread finishedThread finished\n",
      "\n",
      "Thread finished\n",
      "Thread finished\n",
      "Thread finished\n",
      "Active threads:8\n"
     ]
    }
   ],
   "source": [
    "import threading\n",
    "import time\n",
    "\n",
    "def task():\n",
    "    print(\"Thread started\")\n",
    "    time.sleep(2)\n",
    "    print('Thread finished')\n",
    "    \n",
    "threads=[]\n",
    "for i in range(5):\n",
    "    t=threading.Thread(target=task)\n",
    "    threads.append(t)\n",
    "    t.start()\n",
    "\n",
    "t.join()\n",
    "    \n",
    "count=threading.active_count()\n",
    "print(f'Active threads:{count}')\n"
   ]
  },
  {
   "cell_type": "code",
   "execution_count": 9,
   "id": "707013dc-0574-4aaa-a065-04265ccbf6d2",
   "metadata": {},
   "outputs": [
    {
     "data": {
      "text/plain": [
       "\"The current_thread() function is a method provided by the threading module in Python. \\nIt returns the current Thread object corresponding to the caller's thread of execution.\""
      ]
     },
     "execution_count": 9,
     "metadata": {},
     "output_type": "execute_result"
    }
   ],
   "source": [
    "'''The current_thread() function is a method provided by the threading module in Python. \n",
    "It returns the current Thread object corresponding to the caller's thread of execution.'''"
   ]
  },
  {
   "cell_type": "code",
   "execution_count": 10,
   "id": "6c3d0e3b-2d01-4526-8524-2ef076012036",
   "metadata": {},
   "outputs": [],
   "source": [
    "# current thread()"
   ]
  },
  {
   "cell_type": "code",
   "execution_count": 11,
   "id": "28fdf564-a717-4ef9-9790-f5656e4d882e",
   "metadata": {},
   "outputs": [
    {
     "name": "stdout",
     "output_type": "stream",
     "text": [
      "Thread Thread-10 (task) started\n",
      "Thread Thread-10 (task) finished\n",
      "Thread Thread-11 (task) started\n",
      "Thread Thread-11 (task) finished\n",
      "Thread Thread-12 (task) started\n",
      "Thread Thread-12 (task) finished\n"
     ]
    }
   ],
   "source": [
    "import threading\n",
    "\n",
    "def task():\n",
    "    thread = threading.current_thread()\n",
    "    print(f\"Thread {thread.name} started\")\n",
    "    print(f\"Thread {thread.name} finished\")\n",
    "\n",
    "threads = []\n",
    "for i in range(3):\n",
    "    t = threading.Thread(target=task)\n",
    "    threads.append(t)\n",
    "    t.start()\n",
    "\n",
    "for t in threads:\n",
    "    t.join()\n",
    "\n"
   ]
  },
  {
   "cell_type": "code",
   "execution_count": 12,
   "id": "716673ba-67db-41ab-8af8-b7d154970979",
   "metadata": {},
   "outputs": [
    {
     "data": {
      "text/plain": [
       "'The enumerate() function in Python is used to iterate over a sequence while keeping track of the index or position of each item.\\nIt returns an iterator that produces tuples containing the index and the corresponding item from the sequence.'"
      ]
     },
     "execution_count": 12,
     "metadata": {},
     "output_type": "execute_result"
    }
   ],
   "source": [
    "'''The enumerate() function in Python is used to iterate over a sequence while keeping track of the index or position of each item.\n",
    "It returns an iterator that produces tuples containing the index and the corresponding item from the sequence.'''"
   ]
  },
  {
   "cell_type": "code",
   "execution_count": 13,
   "id": "3263fd2e-bf95-4f2e-948a-83654661d3ea",
   "metadata": {},
   "outputs": [
    {
     "name": "stdout",
     "output_type": "stream",
     "text": [
      "Thread started\n",
      "Thread started\n",
      "Thread started\n",
      "Thread started\n",
      "Thread started\n",
      "Thread name: MainThread\n",
      "Thread name: IOPub\n",
      "Thread name: Heartbeat\n",
      "Thread name: Thread-3 (_watch_pipe_fd)\n",
      "Thread name: Thread-4 (_watch_pipe_fd)\n",
      "Thread name: Control\n",
      "Thread name: IPythonHistorySavingThread\n",
      "Thread name: Thread-2\n"
     ]
    }
   ],
   "source": [
    "import threading\n",
    "\n",
    "def task():\n",
    "    print(\"Thread started\")\n",
    "\n",
    "threads = []\n",
    "for i in range(5):\n",
    "    t = threading.Thread(target=task)\n",
    "    threads.append(t)\n",
    "    t.start()\n",
    "\n",
    "# Enumerate active threads\n",
    "active_threads = threading.enumerate()\n",
    "for thread in active_threads:\n",
    "    print(f\"Thread name: {thread.name}\")\n",
    "\n",
    "\n",
    "for t in threads:\n",
    "    t.join()\n"
   ]
  },
  {
   "cell_type": "code",
   "execution_count": 14,
   "id": "3aaf37bf-131a-45fb-b42f-86eba49fb362",
   "metadata": {},
   "outputs": [],
   "source": [
    "# ques 3"
   ]
  },
  {
   "cell_type": "code",
   "execution_count": 15,
   "id": "28f7141a-714c-4cf3-a143-ac15d9e105b9",
   "metadata": {},
   "outputs": [],
   "source": [
    "#run()"
   ]
  },
  {
   "cell_type": "code",
   "execution_count": 16,
   "id": "4008ff82-5e87-41d4-8327-770534cbfd4c",
   "metadata": {},
   "outputs": [
    {
     "data": {
      "text/plain": [
       "\"In multithreading, the run() method is a key method that represents the code to be executed by a thread. It is the entry point for the thread's execution.\\nWhen a thread is started, its run() method is invoked automatically.\""
      ]
     },
     "execution_count": 16,
     "metadata": {},
     "output_type": "execute_result"
    }
   ],
   "source": [
    "'''In multithreading, the run() method is a key method that represents the code to be executed by a thread. It is the entry point for the thread's execution.\n",
    "When a thread is started, its run() method is invoked automatically.'''"
   ]
  },
  {
   "cell_type": "code",
   "execution_count": 17,
   "id": "00cf8364-063d-47d8-bfac-fcf7fbff2b2b",
   "metadata": {},
   "outputs": [],
   "source": [
    "#eample"
   ]
  },
  {
   "cell_type": "code",
   "execution_count": 18,
   "id": "5efbfb69-bdfa-4b3b-a4da-b8ed76cd57ce",
   "metadata": {},
   "outputs": [
    {
     "name": "stdout",
     "output_type": "stream",
     "text": [
      "Thread start\n",
      " My  name is Sumit\n"
     ]
    }
   ],
   "source": [
    "import threading\n",
    "class Mythread(threading.Thread):\n",
    "    def run(self):\n",
    "        print(\"Thread start\")\n",
    "        print(f\" My  name is {self.name}\")\n",
    "thread1=Mythread()\n",
    "thread1.name='Sumit'\n",
    "thread1.start()\n",
    "thread1.join()\n"
   ]
  },
  {
   "cell_type": "code",
   "execution_count": 19,
   "id": "e4994327-01e4-4117-b248-04cbb28991df",
   "metadata": {},
   "outputs": [],
   "source": [
    "#start()"
   ]
  },
  {
   "cell_type": "code",
   "execution_count": 20,
   "id": "dd8030ed-53fe-4a67-a0ae-51ed3d310f34",
   "metadata": {},
   "outputs": [
    {
     "data": {
      "text/plain": [
       "'The start() method in multithreading is used to start the execution of a thread. \\nWhen start() is called on a Thread object, it creates a new thread and calls the run() method of that thread in a separate execution context.'"
      ]
     },
     "execution_count": 20,
     "metadata": {},
     "output_type": "execute_result"
    }
   ],
   "source": [
    "'''The start() method in multithreading is used to start the execution of a thread. \n",
    "When start() is called on a Thread object, it creates a new thread and calls the run() method of that thread in a separate execution context.'''"
   ]
  },
  {
   "cell_type": "code",
   "execution_count": 21,
   "id": "1148ff69-120f-42c9-b9e7-59e0db2c6882",
   "metadata": {},
   "outputs": [
    {
     "name": "stdout",
     "output_type": "stream",
     "text": [
      "Number: 1\n",
      "Number: 2\n",
      "Number: 3\n",
      "Number: 4\n",
      "Number: 5\n",
      "Letter: A\n",
      "Letter: B\n",
      "Letter: C\n",
      "Letter: D\n",
      "Letter: E\n"
     ]
    }
   ],
   "source": [
    "import threading\n",
    "\n",
    "def print_num():\n",
    "    for i in range(1, 6):\n",
    "        print(f\"Number: {i}\")\n",
    " \n",
    "\n",
    "def print_letters():\n",
    "    for i in 'ABCDE':\n",
    "        print(f\"Letter: {i}\")\n",
    "\n",
    "thread1 = threading.Thread(target=print_num)\n",
    "thread2 = threading.Thread(target=print_letters)\n",
    "\n",
    "thread1.start()\n",
    "thread2.start()\n",
    "\n",
    "thread1.join()\n",
    "thread2.join()\n"
   ]
  },
  {
   "cell_type": "code",
   "execution_count": 23,
   "id": "78099940-1432-4da5-ad12-50fe7f58d28b",
   "metadata": {},
   "outputs": [],
   "source": [
    "#join()"
   ]
  },
  {
   "cell_type": "code",
   "execution_count": 24,
   "id": "491a8642-e25b-4c98-b9e6-250e3ac2910c",
   "metadata": {},
   "outputs": [
    {
     "data": {
      "text/plain": [
       "'The join() method in multithreading is used to ensure that a calling thread waits for the completion of a target thread before continuing its execution.\\nIt allows for synchronization between threads and ensures that the main thread (or any other calling thread) waits for the completion of the specified thread.'"
      ]
     },
     "execution_count": 24,
     "metadata": {},
     "output_type": "execute_result"
    }
   ],
   "source": [
    "'''The join() method in multithreading is used to ensure that a calling thread waits for the completion of a target thread before continuing its execution.\n",
    "It allows for synchronization between threads and ensures that the main thread (or any other calling thread) waits for the completion of the specified thread.'''"
   ]
  },
  {
   "cell_type": "code",
   "execution_count": 28,
   "id": "fc541751-46b8-4476-bf92-5441a2eb1cc6",
   "metadata": {},
   "outputs": [
    {
     "name": "stdout",
     "output_type": "stream",
     "text": [
      "Thread start\n",
      "processing: 1\n",
      "processing: 2\n",
      "processing: 3\n",
      "processing: 4\n",
      "processing: 5\n",
      "Main thread is finished\n"
     ]
    }
   ],
   "source": [
    "import threading\n",
    "def task():\n",
    "    print('Thread start')\n",
    "    \n",
    "    for i in range(1,6):\n",
    "          print(f'processing: {i}')\n",
    "    #print('Thread finished')\n",
    "thread=threading.Thread(target=task)\n",
    "thread.start()\n",
    "thread.join()\n",
    "print('Main thread is finished')"
   ]
  },
  {
   "cell_type": "code",
   "execution_count": 29,
   "id": "dee34f4f-d51e-4f42-817f-34fde85b210f",
   "metadata": {},
   "outputs": [],
   "source": [
    "# isAlive()"
   ]
  },
  {
   "cell_type": "code",
   "execution_count": 30,
   "id": "f3d40448-7192-4998-891d-550804c02cf6",
   "metadata": {},
   "outputs": [
    {
     "data": {
      "text/plain": [
       "'The isAlive() method in multithreading is used to check if a thread is currently active or alive.\\nIt returns True if the thread is still running or has not yet completed its execution, and False otherwise.'"
      ]
     },
     "execution_count": 30,
     "metadata": {},
     "output_type": "execute_result"
    }
   ],
   "source": [
    "'''The isAlive() method in multithreading is used to check if a thread is currently active or alive.\n",
    "It returns True if the thread is still running or has not yet completed its execution, and False otherwise.'''"
   ]
  },
  {
   "cell_type": "code",
   "execution_count": 33,
   "id": "b1bc7250-2580-4986-85a2-f0a7c3a867b3",
   "metadata": {},
   "outputs": [
    {
     "name": "stdout",
     "output_type": "stream",
     "text": [
      "Thread started\n",
      "Thread status: True\n",
      "Thread finished\n",
      "Thread status: False\n"
     ]
    }
   ],
   "source": [
    "import threading\n",
    "import time\n",
    "\n",
    "def task():\n",
    "    print(\"Thread started\")\n",
    "    time.sleep(2)\n",
    "    print(\"Thread finished\")\n",
    "\n",
    "thread = threading.Thread(target=task)\n",
    "thread.start()\n",
    "\n",
    "print(\"Thread status:\", thread.is_alive())\n",
    "\n",
    "thread.join()\n",
    "\n",
    "print(\"Thread status:\", thread.is_alive())\n",
    "\n"
   ]
  },
  {
   "cell_type": "code",
   "execution_count": 34,
   "id": "d1976866-be32-49f3-a8ac-42d3386b54b1",
   "metadata": {},
   "outputs": [],
   "source": [
    "# ques 4"
   ]
  },
  {
   "cell_type": "code",
   "execution_count": 49,
   "id": "2cdc4c7e-e019-4274-9fe1-a95797d2b31d",
   "metadata": {},
   "outputs": [
    {
     "name": "stdout",
     "output_type": "stream",
     "text": [
      "Numbers: [1, 8, 27, 64]\n",
      "Numbers: [1, 4, 9, 16]\n"
     ]
    }
   ],
   "source": [
    "import threading\n",
    "import time\n",
    "\n",
    "def squares(n):\n",
    "    list_square = []\n",
    "    for i in n:\n",
    "        list_square.append(i ** 2)\n",
    "        time.sleep(1)\n",
    "    print(f'Numbers: {list_square}')\n",
    "\n",
    "def cubes(n):\n",
    "    list_cubes = []\n",
    "    for i in n:\n",
    "        list_cubes.append(i ** 3)\n",
    "    print(f'Numbers: {list_cubes}')\n",
    "\n",
    "thread1 = threading.Thread(target=squares, args=([1, 2, 3, 4],))\n",
    "thread2 = threading.Thread(target=cubes, args=([1, 2, 3, 4],))\n",
    "\n",
    "thread1.start()  # Start the first thread\n",
    "thread2.start()  # Start the second thread\n",
    "\n",
    "thread1.join()  # Wait for the first thread to finish\n",
    "thread2.join()  # Wait for the second thread to finish\n",
    "\n"
   ]
  },
  {
   "cell_type": "code",
   "execution_count": 50,
   "id": "ecfda852-b16c-4a0e-87e2-a5074d748494",
   "metadata": {},
   "outputs": [],
   "source": [
    "# ques 5"
   ]
  },
  {
   "cell_type": "code",
   "execution_count": 54,
   "id": "443e8a22-0a8a-4c76-ae95-2f7230723f1a",
   "metadata": {},
   "outputs": [
    {
     "data": {
      "text/plain": [
       "'Advantages of Multithreading:\\n\\nIncreased Efficiency: Multithreading allows for better utilization of system resources, such as CPU cores, by executing multiple threads concurrently. \\nResponsiveness: Multithreading enables the creation of responsive user interfaces by separating time-consuming tasks from the main thread. \\nConcurrent Execution: Multithreading allows for parallel execution of multiple tasks, which can significantly reduce the overall execution time of a program. \\nResource Sharing: Threads within the same process can share data and resources efficiently, avoiding the need for costly inter-process communication mechanisms.'"
      ]
     },
     "execution_count": 54,
     "metadata": {},
     "output_type": "execute_result"
    }
   ],
   "source": [
    "'''Advantages of Multithreading:\n",
    "\n",
    "Increased Efficiency: Multithreading allows for better utilization of system resources, such as CPU cores, by executing multiple threads concurrently. \n",
    "Responsiveness: Multithreading enables the creation of responsive user interfaces by separating time-consuming tasks from the main thread. \n",
    "Concurrent Execution: Multithreading allows for parallel execution of multiple tasks, which can significantly reduce the overall execution time of a program. \n",
    "Resource Sharing: Threads within the same process can share data and resources efficiently, avoiding the need for costly inter-process communication mechanisms.'''\n"
   ]
  },
  {
   "cell_type": "code",
   "execution_count": 55,
   "id": "52763bb2-6a8c-469b-82e2-97077bad171a",
   "metadata": {},
   "outputs": [
    {
     "data": {
      "text/plain": [
       "'Disadvantages of Multithreading:\\n\\nComplexity: Multithreading introduces complexity into program design and implementation. Managing the interaction between threads and coordinating their execution can be challenging.\\nDebugging and Testing: Debugging multithreaded programs can be more difficult compared to single-threaded ones. \\nOverhead: Creating and managing threads comes with some overhead in terms of memory and processing resources.\\nScalability Challenges: Not all applications can take full advantage of multithreading due to inherent limitations or dependencies on sequential processing.'"
      ]
     },
     "execution_count": 55,
     "metadata": {},
     "output_type": "execute_result"
    }
   ],
   "source": [
    "'''Disadvantages of Multithreading:\n",
    "\n",
    "Complexity: Multithreading introduces complexity into program design and implementation. Managing the interaction between threads and coordinating their execution can be challenging.\n",
    "Debugging and Testing: Debugging multithreaded programs can be more difficult compared to single-threaded ones. \n",
    "Overhead: Creating and managing threads comes with some overhead in terms of memory and processing resources.\n",
    "Scalability Challenges: Not all applications can take full advantage of multithreading due to inherent limitations or dependencies on sequential processing.'''"
   ]
  },
  {
   "cell_type": "code",
   "execution_count": 56,
   "id": "1721670b-9c33-4a8d-8cc4-dae9f90ade23",
   "metadata": {},
   "outputs": [],
   "source": [
    "# ques 6"
   ]
  },
  {
   "cell_type": "code",
   "execution_count": 57,
   "id": "97138c60-6f42-4505-a56b-abcfbc06ce30",
   "metadata": {},
   "outputs": [
    {
     "data": {
      "text/plain": [
       "'Deadlocks and race conditions are common issues that can occur in concurrent programming when multiple threads or processes access shared resources.'"
      ]
     },
     "execution_count": 57,
     "metadata": {},
     "output_type": "execute_result"
    }
   ],
   "source": [
    "'''Deadlocks and race conditions are common issues that can occur in concurrent programming when multiple threads or processes access shared resources.'''"
   ]
  },
  {
   "cell_type": "code",
   "execution_count": 58,
   "id": "3d70db52-aca8-4ec9-b317-fe160e3b326b",
   "metadata": {},
   "outputs": [
    {
     "data": {
      "text/plain": [
       "'A deadlock occurs when two or more threads are unable to proceed because each is waiting for a resource held by another thread, resulting in a circular dependency.\\nIt involves 4 condition :\\nMutual Exclusion: At least one resource is held in a non-sharable mode, meaning only one thread can access it at a time.\\nHold and Wait: A thread holding a resource requests another resource that is currently held by another thread.\\nNo Preemption: Resources cannot be forcibly taken away from a thread; they must be released voluntarily.\\nCircular Wait: There is a circular chain of two or more threads, each waiting for a resource held by the next thread in the chain.'"
      ]
     },
     "execution_count": 58,
     "metadata": {},
     "output_type": "execute_result"
    }
   ],
   "source": [
    "'''A deadlock occurs when two or more threads are unable to proceed because each is waiting for a resource held by another thread, resulting in a circular dependency.\n",
    "It involves 4 condition :\n",
    "Mutual Exclusion: At least one resource is held in a non-sharable mode, meaning only one thread can access it at a time.\n",
    "Hold and Wait: A thread holding a resource requests another resource that is currently held by another thread.\n",
    "No Preemption: Resources cannot be forcibly taken away from a thread; they must be released voluntarily.\n",
    "Circular Wait: There is a circular chain of two or more threads, each waiting for a resource held by the next thread in the chain.'''"
   ]
  },
  {
   "cell_type": "code",
   "execution_count": null,
   "id": "2cfcc32a-a9cc-402a-a643-2075ba50f8cf",
   "metadata": {},
   "outputs": [],
   "source": [
    "'''"
   ]
  }
 ],
 "metadata": {
  "kernelspec": {
   "display_name": "Python 3 (ipykernel)",
   "language": "python",
   "name": "python3"
  },
  "language_info": {
   "codemirror_mode": {
    "name": "ipython",
    "version": 3
   },
   "file_extension": ".py",
   "mimetype": "text/x-python",
   "name": "python",
   "nbconvert_exporter": "python",
   "pygments_lexer": "ipython3",
   "version": "3.10.8"
  }
 },
 "nbformat": 4,
 "nbformat_minor": 5
}
