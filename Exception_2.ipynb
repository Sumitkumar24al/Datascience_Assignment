{
 "cells": [
  {
   "cell_type": "code",
   "execution_count": 1,
   "id": "75632609-07bd-4252-87a6-6e12a116ae63",
   "metadata": {},
   "outputs": [],
   "source": [
    "# ques 1"
   ]
  },
  {
   "cell_type": "code",
   "execution_count": 2,
   "id": "5d7847ef-ea44-449f-ac3f-77d14fb065b5",
   "metadata": {},
   "outputs": [
    {
     "data": {
      "text/plain": [
       "'When creating custom exceptions in a programming language, it is considered good practice to derive them from the built-in Exception class or its subclasses provided by the language. \\nBy inheriting from the Exception class, we conform to a standard convention that other developers are familiar with. \\nIt is often designed as the root of an exception hierarchy in programming languages. It provides a common base for all types of exceptions.'"
      ]
     },
     "execution_count": 2,
     "metadata": {},
     "output_type": "execute_result"
    }
   ],
   "source": [
    "'''When creating custom exceptions in a programming language, it is considered good practice to derive them from the built-in Exception class or its subclasses provided by the language. \n",
    "By inheriting from the Exception class, we conform to a standard convention that other developers are familiar with. \n",
    "It is often designed as the root of an exception hierarchy in programming languages. It provides a common base for all types of exceptions.'''\n"
   ]
  },
  {
   "cell_type": "code",
   "execution_count": 3,
   "id": "1e956bb8-9c21-47eb-804d-57c135a7081a",
   "metadata": {},
   "outputs": [],
   "source": [
    "# ques 2"
   ]
  },
  {
   "cell_type": "code",
   "execution_count": 4,
   "id": "cbb44faf-b45d-49b5-97bb-96bc9a0d2ad8",
   "metadata": {},
   "outputs": [],
   "source": [
    "def read_file(file_path):\n",
    "    try:\n",
    "        with open(file_path,'r') as file:\n",
    "            data=file.read()\n",
    "        return data\n",
    "    except FileNotFoundError:\n",
    "        print(f\"Error:file '{file_path}' not found.\")\n",
    "        return None\n",
    "    except IOError:\n",
    "        print(f\"Error: Unable to read file '{file-path}'.\")\n",
    "        return None\n",
    "def perform_calculations(data):\n",
    "    try:\n",
    "        result= data*2\n",
    "        return result\n",
    "    except TypeError:\n",
    "        print(\"Error: Invalid data type for calculations.\")\n",
    "        return None\n",
    "    except Exception as e:\n",
    "        print(f\"Error: An unexpected error occurred during calculation:{str(e)}\")\n",
    "        return None"
   ]
  },
  {
   "cell_type": "code",
   "execution_count": 5,
   "id": "635b239a-6554-4029-b8a1-994a5275521c",
   "metadata": {},
   "outputs": [
    {
     "name": "stdout",
     "output_type": "stream",
     "text": [
      "Error:file 'input.txt' not found.\n"
     ]
    }
   ],
   "source": [
    "data=read_file('input.txt')"
   ]
  },
  {
   "cell_type": "code",
   "execution_count": 6,
   "id": "5fdbef57-e050-448e-a0fa-02d4af013643",
   "metadata": {},
   "outputs": [],
   "source": [
    "# ques 3"
   ]
  },
  {
   "cell_type": "code",
   "execution_count": 7,
   "id": "9c7f1291-038c-4beb-8dc8-61653e22c43f",
   "metadata": {},
   "outputs": [
    {
     "data": {
      "text/plain": [
       "\"ArithmeticError class is the base class for exceptions that occur during arithmetic operations in Python.\\nIt is itself a subclass of the built-in Exception class. \\nSome of the errors defined in the 'ArithmeticError' class include:\\n1)OverflowError: Raised when an arithmetic operation exceeds the maximum representable value.\\n2)ZeroDivisionError: Raised when division or modulo operation is performed with zero as the divisor.\\n3)FloatingPointError: Raised when a floating-point operation fails.\\n4)TimeoutError: Raised when an operation times out.\""
      ]
     },
     "execution_count": 7,
     "metadata": {},
     "output_type": "execute_result"
    }
   ],
   "source": [
    "'''ArithmeticError class is the base class for exceptions that occur during arithmetic operations in Python.\n",
    "It is itself a subclass of the built-in Exception class. \n",
    "Some of the errors defined in the 'ArithmeticError' class include:\n",
    "1)OverflowError: Raised when an arithmetic operation exceeds the maximum representable value.\n",
    "2)ZeroDivisionError: Raised when division or modulo operation is performed with zero as the divisor.\n",
    "3)FloatingPointError: Raised when a floating-point operation fails.\n",
    "4)TimeoutError: Raised when an operation times out.'''"
   ]
  },
  {
   "cell_type": "code",
   "execution_count": 8,
   "id": "918e24fc-64cd-44d3-a640-d9b48dc9ca28",
   "metadata": {},
   "outputs": [],
   "source": [
    "# Over flow error"
   ]
  },
  {
   "cell_type": "code",
   "execution_count": 9,
   "id": "c637c42d-928c-4dc7-9beb-19960d1535a3",
   "metadata": {},
   "outputs": [],
   "source": [
    "def multiply_num(a,b):\n",
    "    try:\n",
    "        result=a*b\n",
    "        return result\n",
    "    except OverFlowError:\n",
    "        print(\"Error: Overflow occurred during multiplication\")\n",
    "        return None"
   ]
  },
  {
   "cell_type": "code",
   "execution_count": 10,
   "id": "613e44d8-fb39-4161-b36a-7e20858345ce",
   "metadata": {},
   "outputs": [],
   "source": [
    "# Zero division error"
   ]
  },
  {
   "cell_type": "code",
   "execution_count": 11,
   "id": "352c39fc-cb90-4a28-b81b-b7f2a39bdacf",
   "metadata": {},
   "outputs": [],
   "source": [
    "import logging\n",
    "logging.basicConfig(filename='ques3.txt',level=logging.DEBUG,format='%(levelname)s, %(message)s')\n",
    "\n",
    "def divide_num(a,b):\n",
    "    try:\n",
    "        result=a/b\n",
    "        return result\n",
    "    except ZeroDivisionError:\n",
    "        logging.info('Error : Division by Zero occured')\n",
    "        return None"
   ]
  },
  {
   "cell_type": "code",
   "execution_count": 12,
   "id": "3ff6b5b9-4614-45ed-adf2-e4d1629cfc3a",
   "metadata": {},
   "outputs": [],
   "source": [
    "num=10\n",
    "den=0"
   ]
  },
  {
   "cell_type": "code",
   "execution_count": 13,
   "id": "b7b53bc7-a9ca-4e87-92fb-8c18ab2647bf",
   "metadata": {},
   "outputs": [],
   "source": [
    "divide_num(num,den)"
   ]
  },
  {
   "cell_type": "code",
   "execution_count": 14,
   "id": "69158219-fc39-4181-8034-081bb734ad62",
   "metadata": {},
   "outputs": [],
   "source": [
    "logging.shutdown()"
   ]
  },
  {
   "cell_type": "code",
   "execution_count": 15,
   "id": "64e20e7b-9090-44d3-a482-70fb87ff4b63",
   "metadata": {},
   "outputs": [],
   "source": [
    "# ques 4"
   ]
  },
  {
   "cell_type": "code",
   "execution_count": 16,
   "id": "9be801de-78e4-4792-9617-c72078ec2b31",
   "metadata": {},
   "outputs": [
    {
     "data": {
      "text/plain": [
       "'The LookupError class in Python is a base class for exceptions that occur when a lookup or retrieval operation fails.\\nIt is a subclass of the built-in Exception class. \\nThe primary purpose of the LookupError class is to provide a common base for more specific lookup-related exceptions.\\n Examples of exceptions derived from LookupError include KeyError, IndexError, and NameError.\\n These exceptions help to provide more specific information about the nature of the lookup failure.'"
      ]
     },
     "execution_count": 16,
     "metadata": {},
     "output_type": "execute_result"
    }
   ],
   "source": [
    "'''The LookupError class in Python is a base class for exceptions that occur when a lookup or retrieval operation fails.\n",
    "It is a subclass of the built-in Exception class. \n",
    "The primary purpose of the LookupError class is to provide a common base for more specific lookup-related exceptions.\n",
    " Examples of exceptions derived from LookupError include KeyError, IndexError, and NameError.\n",
    " These exceptions help to provide more specific information about the nature of the lookup failure.'''"
   ]
  },
  {
   "cell_type": "code",
   "execution_count": 17,
   "id": "f6f18d76-f4b0-4c7b-93d4-526794c49a8e",
   "metadata": {},
   "outputs": [],
   "source": [
    "# Key Error"
   ]
  },
  {
   "cell_type": "code",
   "execution_count": 18,
   "id": "a2c7de8a-dc55-4782-bb32-655d0d559448",
   "metadata": {},
   "outputs": [],
   "source": [
    "import logging\n",
    "logging.basicConfig(filename='ques4.txt',level=logging.DEBUG,format='%(name)s %(levelname)s %(message)s')\n",
    "def dict(dictionary,key):\n",
    "    try:\n",
    "        value=dictionary[key]\n",
    "        return value\n",
    "    except KeyError:\n",
    "        logging.info(f\"Error: Key' {key}' not found in the dictionary.\")\n",
    "        return None\n",
    "        "
   ]
  },
  {
   "cell_type": "code",
   "execution_count": 19,
   "id": "e5c7b521-d055-4fc8-8df8-5dabe5b1a300",
   "metadata": {},
   "outputs": [],
   "source": [
    "stud={'SUMIT':95,'AMIT':96,'NIDHI':97}"
   ]
  },
  {
   "cell_type": "code",
   "execution_count": 20,
   "id": "38ba82f9-dc61-42b0-b168-a1578833ca86",
   "metadata": {},
   "outputs": [],
   "source": [
    "stud_name='ALKA'"
   ]
  },
  {
   "cell_type": "code",
   "execution_count": 21,
   "id": "daf51612-7c5b-4beb-8d71-c1a039b51f0e",
   "metadata": {},
   "outputs": [],
   "source": [
    "score = dict(stud, stud_name)\n",
    "if score is None:\n",
    "    exit(1)  # Exit the program if a KeyError occurred during lookup\n",
    "\n",
    "logging.info(f\"Score of {stud_name}: {score}\")"
   ]
  },
  {
   "cell_type": "code",
   "execution_count": 22,
   "id": "55ce735d-6926-44ca-817b-4aee0d2ffbc8",
   "metadata": {},
   "outputs": [],
   "source": [
    "# IndexError"
   ]
  },
  {
   "cell_type": "code",
   "execution_count": 23,
   "id": "f6c0db90-27b1-4bea-a4f7-9f91cd44d609",
   "metadata": {},
   "outputs": [],
   "source": [
    "def ele_from_list(lst,index):\n",
    "    try:\n",
    "        element=lst[index]\n",
    "        return element\n",
    "    except IndexError:\n",
    "        logging.info(f\"Error: Index '{index}' is out of range for the given list.\")\n",
    "        return None"
   ]
  },
  {
   "cell_type": "code",
   "execution_count": 26,
   "id": "80d7d71b-b0c8-4f6c-b72a-a0138d2973cd",
   "metadata": {},
   "outputs": [],
   "source": [
    "num=[10,20,30,40,50]"
   ]
  },
  {
   "cell_type": "code",
   "execution_count": 27,
   "id": "6a027a43-936e-43a5-be72-f2ff34ddeaa5",
   "metadata": {},
   "outputs": [],
   "source": [
    "index=10"
   ]
  },
  {
   "cell_type": "code",
   "execution_count": 40,
   "id": "ca1688d8-7ab3-4ce4-a826-31eeada5cbba",
   "metadata": {},
   "outputs": [
    {
     "name": "stdout",
     "output_type": "stream",
     "text": [
      "Element at index 10: None\n"
     ]
    }
   ],
   "source": [
    "element=ele_from_list(num,index)\n",
    "if element is None:\n",
    "    exit(1)\n",
    "print(f\"Element at index {index}: {element}\")\n",
    "logging.info(f\"Element at index {index}: {element}\")"
   ]
  },
  {
   "cell_type": "code",
   "execution_count": 29,
   "id": "eb165a81-2f6e-40da-a30b-f8b33ec43e98",
   "metadata": {},
   "outputs": [],
   "source": [
    "# Ques 5"
   ]
  },
  {
   "cell_type": "code",
   "execution_count": 30,
   "id": "bafdfecc-bf7e-4a9d-afbf-25322edee194",
   "metadata": {},
   "outputs": [
    {
     "data": {
      "text/plain": [
       "'The ImportError exception is raised when an import statement fails to import a module or a specific attribute from a module.\\nIt typically occurs when the requested module or attribute cannot be found or there is an error in the import process.\\nfew instance where ImportError can occur:\\n1.ModuleNotFound\\n2.CircularImport\\n3.AttributeNotFound'"
      ]
     },
     "execution_count": 30,
     "metadata": {},
     "output_type": "execute_result"
    }
   ],
   "source": [
    "'''The ImportError exception is raised when an import statement fails to import a module or a specific attribute from a module.\n",
    "It typically occurs when the requested module or attribute cannot be found or there is an error in the import process.\n",
    "few instance where ImportError can occur:\n",
    "1.ModuleNotFound\n",
    "2.CircularImport\n",
    "3.AttributeNotFound'''"
   ]
  },
  {
   "cell_type": "code",
   "execution_count": 31,
   "id": "245372ba-7d68-4481-bb39-d599f7f164cd",
   "metadata": {},
   "outputs": [],
   "source": [
    "#example"
   ]
  },
  {
   "cell_type": "code",
   "execution_count": 32,
   "id": "527d9bb4-28a8-42cc-bf3d-644d16b60398",
   "metadata": {},
   "outputs": [
    {
     "name": "stdout",
     "output_type": "stream",
     "text": [
      "Error:Module could not be imported\n"
     ]
    }
   ],
   "source": [
    "try:\n",
    "    import module_name\n",
    "except ImportError:\n",
    "    logging.info('Error:Module could not be imported')\n",
    "    print('Error:Module could not be imported')"
   ]
  },
  {
   "cell_type": "code",
   "execution_count": 33,
   "id": "dd7275b0-d040-4b3d-b9e0-d23813dadfaf",
   "metadata": {},
   "outputs": [
    {
     "data": {
      "text/plain": [
       "' The ModuleNotFoundError is a subclass of the ImportError exception.\\nIt is raised when an import statement fails to locate and import a module.\\nIf you attempt to import a module that does not exist or is not installed, a ModuleNotFoundError will be raised. \\nWhen importing a submodule within a package, if the submodule cannot be found, a ModuleNotFoundError is raised. \\nIf the directory structure of a package is incorrect, with missing __init__.py files or misplaced modules, a ModuleNotFoundError can be raised.'"
      ]
     },
     "execution_count": 33,
     "metadata": {},
     "output_type": "execute_result"
    }
   ],
   "source": [
    "''' The ModuleNotFoundError is a subclass of the ImportError exception.\n",
    "It is raised when an import statement fails to locate and import a module.\n",
    "If you attempt to import a module that does not exist or is not installed, a ModuleNotFoundError will be raised. \n",
    "When importing a submodule within a package, if the submodule cannot be found, a ModuleNotFoundError is raised. \n",
    "If the directory structure of a package is incorrect, with missing __init__.py files or misplaced modules, a ModuleNotFoundError can be raised.'''"
   ]
  },
  {
   "cell_type": "code",
   "execution_count": 34,
   "id": "fc7911f8-324c-469e-a8c4-e01c7eda25e0",
   "metadata": {},
   "outputs": [],
   "source": [
    "#example"
   ]
  },
  {
   "cell_type": "code",
   "execution_count": 35,
   "id": "12e408d7-f06c-487d-a52f-b4af31d6c611",
   "metadata": {},
   "outputs": [
    {
     "name": "stdout",
     "output_type": "stream",
     "text": [
      "Error: The module could not be found.\n"
     ]
    }
   ],
   "source": [
    "try:\n",
    "    import module\n",
    "except ModuleNotFoundError:\n",
    "    print(\"Error: The module could not be found.\")\n",
    "    logging.info(\"Error: The module could not be found.\")"
   ]
  },
  {
   "cell_type": "code",
   "execution_count": 36,
   "id": "3415b3ae-956f-400b-94b1-3414eabd3993",
   "metadata": {},
   "outputs": [],
   "source": [
    "# ques 6"
   ]
  },
  {
   "cell_type": "code",
   "execution_count": 38,
   "id": "e74b36c7-9d4f-43f4-96fc-7e128987c19d",
   "metadata": {},
   "outputs": [
    {
     "data": {
      "text/plain": [
       "'1.Use always a specific exception .'"
      ]
     },
     "execution_count": 38,
     "metadata": {},
     "output_type": "execute_result"
    }
   ],
   "source": [
    "'''1. Use always a specific exception .'''"
   ]
  },
  {
   "cell_type": "code",
   "execution_count": 41,
   "id": "9eb0aef2-33f6-4953-b093-00f980fd8fad",
   "metadata": {},
   "outputs": [
    {
     "name": "stdout",
     "output_type": "stream",
     "text": [
      "division by zero\n"
     ]
    }
   ],
   "source": [
    "#example use ZeroDivisionError instead of Exception\n",
    "try:\n",
    "    10/0\n",
    "except Exception as e:\n",
    "    logging.info(e)\n",
    "    print(e)"
   ]
  },
  {
   "cell_type": "code",
   "execution_count": 43,
   "id": "841b7607-92e1-416f-922c-416c89de2795",
   "metadata": {},
   "outputs": [
    {
     "data": {
      "text/plain": [
       "'2. Print always a proper message.\\n3. Always try to log your error.\\n4.Always avoid to write a multiple exception handling\\n5.Document all error.\\n6.Cleanup all the resources'"
      ]
     },
     "execution_count": 43,
     "metadata": {},
     "output_type": "execute_result"
    }
   ],
   "source": [
    "'''2. Print always a proper message.\n",
    "3. Always try to log your error.\n",
    "4.Always avoid to write a multiple exception handling\n",
    "5.Document all error.\n",
    "6.Cleanup all the resources'''\n"
   ]
  },
  {
   "cell_type": "code",
   "execution_count": 46,
   "id": "92efc958-5e4b-4e9d-b8a4-5040ba459a2a",
   "metadata": {},
   "outputs": [],
   "source": [
    "import logging\n",
    "logging.basicConfig(filename='ques6.txt',levlename=logging.ERROR,format=('%(name)s %(levelname)s %(message)s'))\n",
    "\n",
    "try:\n",
    "    with open('ques6.txt','w') as f:\n",
    "        f.write('This is my ques 6 file')\n",
    "except FileNotFoundError as e:\n",
    "    logging.error('Handling file not found{}'.format())\n",
    "finally:\n",
    "    f.close()"
   ]
  },
  {
   "cell_type": "code",
   "execution_count": null,
   "id": "8291bc5e-622e-4f41-9616-e9ed37ea29b1",
   "metadata": {},
   "outputs": [],
   "source": []
  }
 ],
 "metadata": {
  "kernelspec": {
   "display_name": "Python 3 (ipykernel)",
   "language": "python",
   "name": "python3"
  },
  "language_info": {
   "codemirror_mode": {
    "name": "ipython",
    "version": 3
   },
   "file_extension": ".py",
   "mimetype": "text/x-python",
   "name": "python",
   "nbconvert_exporter": "python",
   "pygments_lexer": "ipython3",
   "version": "3.10.8"
  }
 },
 "nbformat": 4,
 "nbformat_minor": 5
}
