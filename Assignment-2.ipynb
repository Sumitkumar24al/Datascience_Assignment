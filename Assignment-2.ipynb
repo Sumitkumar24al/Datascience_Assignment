{
 "cells": [
  {
   "cell_type": "code",
   "execution_count": 1,
   "id": "c4bacd0f-9528-45d8-a6d5-95e4ee96b160",
   "metadata": {},
   "outputs": [],
   "source": [
    "# ques 1"
   ]
  },
  {
   "cell_type": "code",
   "execution_count": 2,
   "id": "162cf708-f914-48b5-85e2-b25d03f3e06d",
   "metadata": {},
   "outputs": [],
   "source": [
    "# single line comment"
   ]
  },
  {
   "cell_type": "code",
   "execution_count": 3,
   "id": "c5a3c39f-cd48-4f9b-b276-f1ef939289ec",
   "metadata": {},
   "outputs": [],
   "source": [
    "## Mulitple line of comment"
   ]
  },
  {
   "cell_type": "code",
   "execution_count": 6,
   "id": "c0247338-154f-4521-8a0b-360692640680",
   "metadata": {},
   "outputs": [
    {
     "data": {
      "text/plain": [
       "'\\nThis is multi line commment\\n'"
      ]
     },
     "execution_count": 6,
     "metadata": {},
     "output_type": "execute_result"
    }
   ],
   "source": [
    "\"\"\"\n",
    "This is multi line commment\n",
    "\"\"\""
   ]
  },
  {
   "cell_type": "code",
   "execution_count": 7,
   "id": "7650039d-6cc7-45d5-a51f-4b2f20883668",
   "metadata": {},
   "outputs": [],
   "source": [
    "# ques 2"
   ]
  },
  {
   "cell_type": "code",
   "execution_count": 8,
   "id": "481ad0a7-79c7-42bd-a16c-74aa3df4637a",
   "metadata": {},
   "outputs": [],
   "source": [
    "# Variables used to store data. It is a object that allocates memory in system with value contained in it"
   ]
  },
  {
   "cell_type": "code",
   "execution_count": 1,
   "id": "9f1d8120-d323-423c-b4d0-f93f5f77b70e",
   "metadata": {},
   "outputs": [],
   "source": [
    "variable1=12  #integer\n",
    "variable2='Sumit' #character\n",
    "VAriable3=12.3 # float"
   ]
  },
  {
   "cell_type": "code",
   "execution_count": 2,
   "id": "cdc5cbfb-7aa8-434c-afa3-fc4ee81c1bd8",
   "metadata": {},
   "outputs": [],
   "source": [
    "# ques 3"
   ]
  },
  {
   "cell_type": "code",
   "execution_count": 3,
   "id": "62b53df7-3f09-4139-9a7b-1ad300bf6f85",
   "metadata": {},
   "outputs": [],
   "source": [
    "#USing function key we can convert one data type to another data type"
   ]
  },
  {
   "cell_type": "code",
   "execution_count": 4,
   "id": "7d5bf436-a864-4dd7-adc4-fec46a65838c",
   "metadata": {},
   "outputs": [],
   "source": [
    "var1=12  # int type\n",
    "var2=str(var1) # convert integer to string"
   ]
  },
  {
   "cell_type": "code",
   "execution_count": 30,
   "id": "a6a2cee1-bff3-46e5-bb2a-26f1562fce2f",
   "metadata": {},
   "outputs": [],
   "source": [
    "l=[1, 2, 3,'sumit']  # list data type\n",
    "s1=set(l)  # change list into set"
   ]
  },
  {
   "cell_type": "code",
   "execution_count": 31,
   "id": "6a3e8fce-5dff-4701-9060-5b49e9a92c67",
   "metadata": {},
   "outputs": [
    {
     "name": "stdout",
     "output_type": "stream",
     "text": [
      "My name is sumit\n"
     ]
    }
   ],
   "source": [
    "# ques 4\n",
    "print('My name is sumit')"
   ]
  },
  {
   "cell_type": "code",
   "execution_count": 12,
   "id": "f9b51ce0-8a96-4048-a30e-468893644b65",
   "metadata": {},
   "outputs": [],
   "source": [
    "# ques 5"
   ]
  },
  {
   "cell_type": "code",
   "execution_count": 27,
   "id": "55593eda-d931-4b68-a2ec-6f9f34d46a50",
   "metadata": {},
   "outputs": [],
   "source": [
    "my_list=[1,2,3,4,5]"
   ]
  },
  {
   "cell_type": "code",
   "execution_count": 28,
   "id": "7a77e6f1-bc71-4bb1-8f24-18d0a3f3b82d",
   "metadata": {},
   "outputs": [
    {
     "data": {
      "text/plain": [
       "5"
      ]
     },
     "execution_count": 28,
     "metadata": {},
     "output_type": "execute_result"
    }
   ],
   "source": [
    "my_list.pop(0)\n",
    "my_list.pop(2)\n",
    "my_list.pop(2)"
   ]
  },
  {
   "cell_type": "code",
   "execution_count": 29,
   "id": "480c3ce6-a987-4562-8711-b98306b7691a",
   "metadata": {},
   "outputs": [
    {
     "data": {
      "text/plain": [
       "[2, 3]"
      ]
     },
     "execution_count": 29,
     "metadata": {},
     "output_type": "execute_result"
    }
   ],
   "source": [
    "my_list"
   ]
  },
  {
   "cell_type": "code",
   "execution_count": 35,
   "id": "c6354c1a-b084-4ed2-bed5-9b2870f1fbab",
   "metadata": {},
   "outputs": [],
   "source": [
    "# ques 6\n",
    "#complex number contains both real and imaginary part. It extends number system beyond real numbers\n",
    "comp_num1=7+3j\n",
    "comp_num2=5+2j\n",
    "comp_num3=-1j"
   ]
  },
  {
   "cell_type": "code",
   "execution_count": 36,
   "id": "34ea6dd4-bb0d-4cb1-ac84-9d6dd5b448da",
   "metadata": {},
   "outputs": [],
   "source": [
    "#ques 7\n",
    "age=25"
   ]
  },
  {
   "cell_type": "code",
   "execution_count": 37,
   "id": "4b0e1391-6553-4b2c-9391-f94bc68abaad",
   "metadata": {},
   "outputs": [],
   "source": [
    "#ques 8"
   ]
  },
  {
   "cell_type": "code",
   "execution_count": 38,
   "id": "8cba2409-0c32-44d7-8125-a5b836d977ef",
   "metadata": {},
   "outputs": [],
   "source": [
    "price=9.99  #  Float data type"
   ]
  },
  {
   "cell_type": "code",
   "execution_count": 39,
   "id": "125a1a87-8157-4960-a042-32bca3ed429b",
   "metadata": {},
   "outputs": [],
   "source": [
    "# ques 9\n",
    "name='sumit kumar'  # name as string data type"
   ]
  },
  {
   "cell_type": "code",
   "execution_count": 40,
   "id": "b03db696-98b6-4624-bcef-c20bb0b2871d",
   "metadata": {},
   "outputs": [
    {
     "name": "stdout",
     "output_type": "stream",
     "text": [
      "sumit kumar\n"
     ]
    }
   ],
   "source": [
    "print(name)"
   ]
  },
  {
   "cell_type": "code",
   "execution_count": 41,
   "id": "6c033063-0f7a-4bf2-842e-7937c827ec23",
   "metadata": {},
   "outputs": [],
   "source": [
    "# ques 10"
   ]
  },
  {
   "cell_type": "code",
   "execution_count": 42,
   "id": "e7290ffe-d534-42fc-b696-4a01b979cb55",
   "metadata": {},
   "outputs": [
    {
     "data": {
      "text/plain": [
       "'World'"
      ]
     },
     "execution_count": 42,
     "metadata": {},
     "output_type": "execute_result"
    }
   ],
   "source": [
    "string='Hello World!'\n",
    "string[6:11]"
   ]
  },
  {
   "cell_type": "code",
   "execution_count": null,
   "id": "6a81b295-d2c5-4b48-953c-d670f67cc35b",
   "metadata": {},
   "outputs": [],
   "source": []
  }
 ],
 "metadata": {
  "kernelspec": {
   "display_name": "Python 3 (ipykernel)",
   "language": "python",
   "name": "python3"
  },
  "language_info": {
   "codemirror_mode": {
    "name": "ipython",
    "version": 3
   },
   "file_extension": ".py",
   "mimetype": "text/x-python",
   "name": "python",
   "nbconvert_exporter": "python",
   "pygments_lexer": "ipython3",
   "version": "3.10.8"
  }
 },
 "nbformat": 4,
 "nbformat_minor": 5
}
